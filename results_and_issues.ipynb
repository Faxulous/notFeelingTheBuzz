{
 "cells": [
  {
   "cell_type": "markdown",
   "source": [
    "# Results and Issues\n",
    "Covered in this notebook:\n",
    "1. Obtain near-identical results to Ramirez's.\n",
    "2. Highlight key issues impacting presented results.\n",
    "    a. Problematic bet impacting results.\n",
    "    b. Incorrect kelly criterion."
   ],
   "metadata": {
    "collapsed": false
   }
  },
  {
   "cell_type": "code",
   "execution_count": 1,
   "outputs": [],
   "source": [
    "import pandas as pd\n",
    "import seaborn as sns\n",
    "import statsmodels.formula.api as sm\n",
    "import matplotlib.pyplot as plt\n",
    "import econtools.metrics as mt\n",
    "import numpy as np\n",
    "from econtools import read, outreg, table_statrow, write_notes\n",
    "import matplotlib.ticker as mtick\n",
    "import matplotlib.dates as mdates\n",
    "plt.style.use('seaborn-v0_8-deep')"
   ],
   "metadata": {
    "collapsed": false
   }
  },
  {
   "cell_type": "code",
   "execution_count": 2,
   "outputs": [
    {
     "name": "stdout",
     "output_type": "stream",
     "text": [
      "Fit set rows: 15854\n",
      "Test set rows: 5190\n"
     ]
    }
   ],
   "source": [
    "original_df = pd.read_csv(r'C:\\Users\\faxul\\Google Drive\\RamirezRepStudy\\thesisminusdata\\TradeCode\\paper_repstudy\\notFeelingTheBuzz\\Datafiles\\Ramirez_matches_cleaned.csv')\n",
    "fitset = original_df[~(original_df['date'] > '2019-01-00')].copy()\n",
    "testset = original_df[(original_df['date'] > '2019-01-00')].copy()\n",
    "\n",
    "testset.reset_index(inplace=True)\n",
    "print('Fit set rows: '+str(len(fitset)))\n",
    "print('Test set rows: '+str(len(testset)))"
   ],
   "metadata": {
    "collapsed": false
   }
  },
  {
   "cell_type": "code",
   "execution_count": 37,
   "outputs": [],
   "source": [
    "def fit_regression(rankdist: bool = True):\n",
    "    if rankdist:\n",
    "        results = mt.reg(\n",
    "        fitset,                     # DataFrame\n",
    "        'outcome',                      # Dependent var (string)\n",
    "        ['inverse_avg', 'rankdist', 'wikibuzz'],# Independent var(s) (string or list of strings)\n",
    "        #fe_name= \"year\",\n",
    "        cluster='match_id',\n",
    "        addcons=True# Cluster var (string)\n",
    "        )\n",
    "        # Get params for use\n",
    "        params = [results.beta[-1], results.beta[0], results.beta[1], results.beta[2]]\n",
    "        #params= [constant        , inverse_avg    , rankdist       , wikibuzz       ]\n",
    "        print(results)\n",
    "    else:\n",
    "        # No RankDist variable\n",
    "        results = mt.reg(\n",
    "            fitset,                     # DataFrame\n",
    "            'outcome',                      # Dependent var (string)\n",
    "            ['inverse_avg', 'wikibuzz'],# Independent var(s) (string or list of strings)\n",
    "            #fe_name= \"year\",\n",
    "            cluster='match_id',\n",
    "            addcons=True# Cluster var (string)\n",
    "        )\n",
    "        params = [results.beta[-1], results.beta[0], results.beta[1]]\n",
    "        print(results)\n",
    "    return params\n",
    "\n",
    "def estimate_probability(params: pd.Series,\n",
    "                         inverse_odds: float,\n",
    "                         rankdist: float = None,\n",
    "                         wikibuzz: float = None) -> float:\n",
    "    if (rankdist is not None) & (wikibuzz is not None):\n",
    "        y_hat = params[0] + params[-3]*inverse_odds + params[-2]*rankdist + params[-1]*wikibuzz\n",
    "    if (rankdist is not None) & (wikibuzz is None):\n",
    "        y_hat = params[0] + params[-2] * inverse_odds + params[-1] * rankdist\n",
    "    if (wikibuzz is not None) & (rankdist is None):\n",
    "        y_hat = params[0] + params[-2]*inverse_odds + params[-1]*wikibuzz\n",
    "    return y_hat\n",
    "\n",
    "def kelly_criterion(odds_implied_prob, y_hat):\n",
    "    odds = 1/odds_implied_prob\n",
    "    k = max(y_hat - ((1 - y_hat)/(odds - 1)), 0)\n",
    "    return k\n",
    "\n",
    "def profit_loss(kelly, odds_implied_prob, outcome):\n",
    "    odds = 1 / odds_implied_prob\n",
    "    if outcome == 1:\n",
    "        PnL = kelly*odds - kelly\n",
    "    if outcome == 0:\n",
    "        PnL = -kelly\n",
    "    return PnL\n",
    "\n",
    "def show_results(testset, params, odds, rankdist: bool = True): # Odds = \"avg\", \"best\", \"b365\"\n",
    "\n",
    "    # Estimate Probability.\n",
    "    if rankdist:\n",
    "        testset['model_est_prob'] = [estimate_probability(params, row[0], row[1], row[2]) for row in zip(testset['inverse_avg'],\n",
    "                                                                                                         testset['rankdist'],\n",
    "                                                                                                         testset['wikibuzz'])]\n",
    "    else:\n",
    "        testset['model_est_prob'] = [estimate_probability(params, inverse_odds=row[0], wikibuzz=row[1]) for row in zip(testset['inverse_avg'],\n",
    "                                                                                                                       testset['wikibuzz'])]\n",
    "    # Determine kelly bet size.\n",
    "    testset['kelly_betsize'] = [kelly_criterion(row[0], row[1]) for row in zip(testset['inverse_{}'.format(odds)],\n",
    "                                                                               testset['model_est_prob'])]\n",
    "    # Calculate return for the bet.\n",
    "    testset['PnL'] = [profit_loss(row[0], row[1], row[2]) for row in zip(testset['kelly_betsize'],\n",
    "                                                                         testset['inverse_{}'.format(odds)],\n",
    "                                                                         testset['outcome'])]\n",
    "\n",
    "    print('Bets considered (2 * Matches): '+str(len(testset[testset['inverse_{}'.format(odds)].notna()])))\n",
    "    print('Number of bets placed: '+str(len(testset.loc[(testset[\"PnL\"].notna()) & testset[\"PnL\"] != 0])))\n",
    "    print(\"Mean overround (%): \"+str((testset.sort_values(by=\"match_id\")[\"inverse_{}\".format(odds)].rolling(2).sum()[1::2].mean()-1)*100))\n",
    "    print('Absolute return: '+str(testset['PnL'].sum()))\n",
    "    print('Absolute amount bet: '+str(testset['kelly_betsize'].sum()))\n",
    "    print('ROI (%): '+str((((testset['PnL'].sum() + testset['kelly_betsize'].sum())/testset['kelly_betsize'].sum())-1)*100))\n",
    "\n",
    "def plot_results():\n",
    "    testset['Cum_PnL'] = testset['PnL'].cumsum() * 100\n",
    "    plt.rcParams.update({'font.size': 11})\n",
    "    fig, ax = plt.subplots(1, 1, figsize=(6, 6))\n",
    "    testset.plot('date', 'Cum_PnL', ax=ax, linewidth=1.5)\n",
    "    ax.set_ylabel('Cumulative Profit (%)')\n",
    "    ax.set_xlabel('Date')\n",
    "    ax.set_title(\"\")\n",
    "    # ax.set_title('Best Odds')\n",
    "    ax.get_legend().remove()\n",
    "    fig.autofmt_xdate()\n",
    "    plt.show()\n",
    "    \n",
    "def correct_kelly_results(odds, rankdist: bool = True): # Odds = \"avg\", \"best\", \"b365\"\n",
    "    \n",
    "    if rankdist == True:\n",
    "        params = fit_regression(rankdist=True)\n",
    "    else:\n",
    "        params = fit_regression(rankdist=False)\n",
    "    show_results(testset, params, odds, rankdist)\n",
    "    \n",
    "    testset['bankroll_after'] = testset['PnL'] + 1\n",
    "    testset['bankroll_after'] = testset['bankroll_after'].cumprod()\n",
    "    testset['bankroll_before'] = testset.bankroll_after.shift(1)\n",
    "    testset['betsize_of_inital_bankroll'] = testset['kelly_betsize'] * testset['bankroll_before']\n",
    "    testset['pnl_of_initial_bankroll'] = testset['PnL'] * testset['bankroll_before']\n",
    "    print(\"---------------\")\n",
    "    print(\"*Correct Kelly*\")\n",
    "    print('Bets considered (2 * Matches): '+str(len(testset[testset['inverse_{}'.format(odds)].notna()])))\n",
    "    print('Number of bets placed: '+str(len(testset.loc[(testset[\"PnL\"].notna()) & testset[\"PnL\"] != 0])))\n",
    "    print(\"Mean overround (%): \"+str((testset.sort_values(by=\"match_id\")[\"inverse_{}\".format(odds)].rolling(2).sum()[1::2].mean()-1)*100))\n",
    "    print('Absolute return: ' + str(testset['pnl_of_initial_bankroll'].sum()))\n",
    "    print('Absolute amount bet: ' + str(testset['betsize_of_inital_bankroll'].sum()))\n",
    "    print('ROI (%): ' + str(((testset['pnl_of_initial_bankroll'].sum() + testset['betsize_of_inital_bankroll'].sum()) / testset[\n",
    "    'betsize_of_inital_bankroll'].sum()) - 1))"
   ],
   "metadata": {
    "collapsed": false
   }
  },
  {
   "cell_type": "markdown",
   "source": [
    "## 1. Obtain near-identical results to Ramirez."
   ],
   "metadata": {
    "collapsed": false
   }
  },
  {
   "cell_type": "code",
   "execution_count": 42,
   "outputs": [
    {
     "name": "stdout",
     "output_type": "stream",
     "text": [
      "=======================================================\n",
      "Dependent variable:\toutcome\n",
      "N:\t\t\t15854\n",
      "R-squared:\t\t0.1589\n",
      "Estimation method:\tOLS\n",
      "VCE method:\t\tCluster\n",
      "  Cluster variable:\t  match_id\n",
      "  No. of clusters:\t  7927\n",
      "=======================================================\n",
      "             coeff    se      t   p>t CI_low CI_high\n",
      "inverse_avg  1.025 0.028 36.945 0.000  0.971   1.080\n",
      "rankdist     0.055 0.031  1.787 0.074 -0.005   0.115\n",
      "wikibuzz     0.009 0.004  2.117 0.034  0.001   0.017\n",
      "_cons       -0.041 0.015 -2.831 0.005 -0.070  -0.013\n",
      "=======================================================\n",
      "\n",
      "Bets considered (2 * Matches): 5155\n",
      "Number of bets placed: 311\n",
      "Mean overround (%): 6.466222358689877\n",
      "Absolute return: -0.49790830358123944\n",
      "Absolute amount bet: 6.7656707480013925\n",
      "ROI (%): -7.359333939333701\n"
     ]
    }
   ],
   "source": [
    "params = fit_regression(rankdist=True)\n",
    "show_results(testset, params=params, odds=\"b365\", rankdist=True)"
   ],
   "metadata": {
    "collapsed": false
   }
  },
  {
   "cell_type": "code",
   "execution_count": 43,
   "outputs": [
    {
     "data": {
      "text/plain": "<Figure size 432x432 with 1 Axes>",
      "image/png": "[encoded data removed]"
     },
     "metadata": {
      "needs_background": "light"
     },
     "output_type": "display_data"
    }
   ],
   "source": [
    "plot_results()"
   ],
   "metadata": {
    "collapsed": false
   }
  },
  {
   "cell_type": "code",
   "execution_count": 44,
   "outputs": [
    {
     "name": "stdout",
     "output_type": "stream",
     "text": [
      "=======================================================\n",
      "Dependent variable:\toutcome\n",
      "N:\t\t\t15854\n",
      "R-squared:\t\t0.1586\n",
      "Estimation method:\tOLS\n",
      "VCE method:\t\tCluster\n",
      "  Cluster variable:\t  match_id\n",
      "  No. of clusters:\t  7927\n",
      "=======================================================\n",
      "             coeff    se      t   p>t CI_low CI_high\n",
      "inverse_avg  1.005 0.025 39.826 0.000  0.956   1.055\n",
      "wikibuzz     0.010 0.004  2.265 0.024  0.001   0.018\n",
      "_cons       -0.031 0.013 -2.323 0.020 -0.057  -0.005\n",
      "=======================================================\n",
      "\n",
      "Bets considered (2 * Matches): 5155\n",
      "Number of bets placed: 275\n",
      "Mean overround (%): 6.466222358689877\n",
      "Absolute return: -0.2903874179615037\n",
      "Absolute amount bet: 4.603914720144479\n",
      "ROI (%): -6.307402191680711\n"
     ]
    }
   ],
   "source": [
    "params = fit_regression(rankdist=False)\n",
    "show_results(testset, params=params, odds=\"b365\", rankdist=False)"
   ],
   "metadata": {
    "collapsed": false
   }
  },
  {
   "cell_type": "code",
   "execution_count": 9,
   "outputs": [
    {
     "data": {
      "text/plain": "<Figure size 432x432 with 1 Axes>",
      "image/png": "[encoded data removed]"
     },
     "metadata": {
      "needs_background": "light"
     },
     "output_type": "display_data"
    }
   ],
   "source": [
    "plot_results()"
   ],
   "metadata": {
    "collapsed": false
   }
  },
  {
   "cell_type": "code",
   "execution_count": 10,
   "outputs": [
    {
     "name": "stdout",
     "output_type": "stream",
     "text": [
      "=======================================================\n",
      "Dependent variable:\toutcome\n",
      "N:\t\t\t15854\n",
      "R-squared:\t\t0.1589\n",
      "Estimation method:\tOLS\n",
      "VCE method:\t\tCluster\n",
      "  Cluster variable:\t  match_id\n",
      "  No. of clusters:\t  7927\n",
      "=======================================================\n",
      "             coeff    se      t   p>t CI_low CI_high\n",
      "inverse_avg  1.025 0.028 36.945 0.000  0.971   1.080\n",
      "rankdist     0.055 0.031  1.787 0.074 -0.005   0.115\n",
      "wikibuzz     0.009 0.004  2.117 0.034  0.001   0.017\n",
      "_cons       -0.041 0.015 -2.831 0.005 -0.070  -0.013\n",
      "=======================================================\n",
      "\n",
      "Bets considered (2 * Matches): 5189\n",
      "Number of bets placed: 2350\n",
      "Mean overround (%): -0.22770090708685853\n",
      "Absolute return: 2.340716517895823\n",
      "Absolute amount bet: 76.62824688935419\n",
      "ROI (%): 3.0546392654338783\n"
     ]
    }
   ],
   "source": [
    "params = fit_regression(rankdist=True)\n",
    "show_results(testset, params=params, odds=\"best\", rankdist=True)"
   ],
   "metadata": {
    "collapsed": false
   }
  },
  {
   "cell_type": "code",
   "execution_count": 11,
   "outputs": [
    {
     "data": {
      "text/plain": "<Figure size 432x432 with 1 Axes>",
      "image/png": "[encoded data removed]"
     },
     "metadata": {
      "needs_background": "light"
     },
     "output_type": "display_data"
    }
   ],
   "source": [
    "plot_results()"
   ],
   "metadata": {
    "collapsed": false
   }
  },
  {
   "cell_type": "markdown",
   "source": [
    "## 2.  Bet365 results skewed by profitable bet."
   ],
   "metadata": {
    "collapsed": false
   }
  },
  {
   "cell_type": "code",
   "execution_count": 12,
   "outputs": [
    {
     "name": "stdout",
     "output_type": "stream",
     "text": [
      "Bets considered (2 * Matches): 5156\n",
      "Number of bets placed: 312\n",
      "Mean overround (%): 6.456499124919013\n",
      "Absolute return: 1.2360930817859561\n",
      "Absolute amount bet: 7.151004389194103\n",
      "ROI (%): 17.285586954104225\n"
     ]
    },
    {
     "data": {
      "text/plain": "      index  Unnamed: 0  match_id                player        date    year  \\\n1135  16989        5883      5883         Polona Hercog  2019-03-23  2019.0   \n4439  20293       20000     20000  Veronika Kudermetova  2019-10-17  2019.0   \n2482  18336       12033     12033      Yulia Putintseva  2019-06-20  2019.0   \n5104  20958        2540      2540           Sofia Kenin  2020-01-30  2020.0   \n3209  19063       15953     15953           Sofia Kenin  2019-08-06  2019.0   \n\n      rankdist  wikibuzz  inverse_b365  inverse_avg  inverse_best  outcome  \\\n1135 -0.001824 -1.707411      0.181818     0.540541      0.476190        1   \n4439  0.226190  1.707976      0.307692     0.364964      0.307692        1   \n2482  0.976744  1.032863      0.266667     0.279330      0.250000        1   \n5104  0.933333  1.061726      0.266667     0.277778      0.248139        1   \n3209  0.965517  0.797335      0.230947     0.238663      0.217391        1   \n\n      model_est_prob  kelly_betsize       PnL     Cum_PnL  \n1135        0.497091       0.385334  1.734001  205.301298  \n4439        0.360454       0.076212  0.171476  285.009947  \n2482        0.307616       0.055840  0.153559  162.158853  \n5104        0.303912       0.050789  0.139668  236.926039  \n3209        0.263184       0.041918  0.139587  196.871973  ",
      "text/html": "<div>\n<style scoped>\n    .dataframe tbody tr th:only-of-type {\n        vertical-align: middle;\n    }\n\n    .dataframe tbody tr th {\n        vertical-align: top;\n    }\n\n    .dataframe thead th {\n        text-align: right;\n    }\n</style>\n<table border=\"1\" class=\"dataframe\">\n  <thead>\n    <tr style=\"text-align: right;\">\n      <th></th>\n      <th>index</th>\n      <th>Unnamed: 0</th>\n      <th>match_id</th>\n      <th>player</th>\n      <th>date</th>\n      <th>year</th>\n      <th>rankdist</th>\n      <th>wikibuzz</th>\n      <th>inverse_b365</th>\n      <th>inverse_avg</th>\n      <th>inverse_best</th>\n      <th>outcome</th>\n      <th>model_est_prob</th>\n      <th>kelly_betsize</th>\n      <th>PnL</th>\n      <th>Cum_PnL</th>\n    </tr>\n  </thead>\n  <tbody>\n    <tr>\n      <th>1135</th>\n      <td>16989</td>\n      <td>5883</td>\n      <td>5883</td>\n      <td>Polona Hercog</td>\n      <td>2019-03-23</td>\n      <td>2019.0</td>\n      <td>-0.001824</td>\n      <td>-1.707411</td>\n      <td>0.181818</td>\n      <td>0.540541</td>\n      <td>0.476190</td>\n      <td>1</td>\n      <td>0.497091</td>\n      <td>0.385334</td>\n      <td>1.734001</td>\n      <td>205.301298</td>\n    </tr>\n    <tr>\n      <th>4439</th>\n      <td>20293</td>\n      <td>20000</td>\n      <td>20000</td>\n      <td>Veronika Kudermetova</td>\n      <td>2019-10-17</td>\n      <td>2019.0</td>\n      <td>0.226190</td>\n      <td>1.707976</td>\n      <td>0.307692</td>\n      <td>0.364964</td>\n      <td>0.307692</td>\n      <td>1</td>\n      <td>0.360454</td>\n      <td>0.076212</td>\n      <td>0.171476</td>\n      <td>285.009947</td>\n    </tr>\n    <tr>\n      <th>2482</th>\n      <td>18336</td>\n      <td>12033</td>\n      <td>12033</td>\n      <td>Yulia Putintseva</td>\n      <td>2019-06-20</td>\n      <td>2019.0</td>\n      <td>0.976744</td>\n      <td>1.032863</td>\n      <td>0.266667</td>\n      <td>0.279330</td>\n      <td>0.250000</td>\n      <td>1</td>\n      <td>0.307616</td>\n      <td>0.055840</td>\n      <td>0.153559</td>\n      <td>162.158853</td>\n    </tr>\n    <tr>\n      <th>5104</th>\n      <td>20958</td>\n      <td>2540</td>\n      <td>2540</td>\n      <td>Sofia Kenin</td>\n      <td>2020-01-30</td>\n      <td>2020.0</td>\n      <td>0.933333</td>\n      <td>1.061726</td>\n      <td>0.266667</td>\n      <td>0.277778</td>\n      <td>0.248139</td>\n      <td>1</td>\n      <td>0.303912</td>\n      <td>0.050789</td>\n      <td>0.139668</td>\n      <td>236.926039</td>\n    </tr>\n    <tr>\n      <th>3209</th>\n      <td>19063</td>\n      <td>15953</td>\n      <td>15953</td>\n      <td>Sofia Kenin</td>\n      <td>2019-08-06</td>\n      <td>2019.0</td>\n      <td>0.965517</td>\n      <td>0.797335</td>\n      <td>0.230947</td>\n      <td>0.238663</td>\n      <td>0.217391</td>\n      <td>1</td>\n      <td>0.263184</td>\n      <td>0.041918</td>\n      <td>0.139587</td>\n      <td>196.871973</td>\n    </tr>\n  </tbody>\n</table>\n</div>"
     },
     "execution_count": 12,
     "metadata": {},
     "output_type": "execute_result"
    }
   ],
   "source": [
    "show_results(testset, params=params, odds=\"b365\", rankdist=True)\n",
    "testset.sort_values(by=[\"PnL\"], ascending=False).head()"
   ],
   "metadata": {
    "collapsed": false
   }
  },
  {
   "cell_type": "code",
   "execution_count": 41,
   "outputs": [],
   "source": [
    "# Remove bet...\n",
    "testset.drop(index=1135, inplace=True)\n",
    "# Then rerun code above to see changes!"
   ],
   "metadata": {
    "collapsed": false
   }
  },
  {
   "cell_type": "markdown",
   "source": [
    "## 3. Incorrect kelly.\n",
    "A Kelly criterion conventionally determines the bet size in respect to bankroll at the time of the bet, not the bankroll from the start of the test period.\n",
    "\n",
    "\n"
   ],
   "metadata": {
    "collapsed": false
   }
  },
  {
   "cell_type": "code",
   "execution_count": 46,
   "outputs": [
    {
     "name": "stdout",
     "output_type": "stream",
     "text": [
      "=======================================================\n",
      "Dependent variable:\toutcome\n",
      "N:\t\t\t15854\n",
      "R-squared:\t\t0.1586\n",
      "Estimation method:\tOLS\n",
      "VCE method:\t\tCluster\n",
      "  Cluster variable:\t  match_id\n",
      "  No. of clusters:\t  7927\n",
      "=======================================================\n",
      "             coeff    se      t   p>t CI_low CI_high\n",
      "inverse_avg  1.005 0.025 39.826 0.000  0.956   1.055\n",
      "wikibuzz     0.010 0.004  2.265 0.024  0.001   0.018\n",
      "_cons       -0.031 0.013 -2.323 0.020 -0.057  -0.005\n",
      "=======================================================\n",
      "\n",
      "Bets considered (2 * Matches): 5155\n",
      "Number of bets placed: 275\n",
      "Mean overround (%): 6.466222358689877\n",
      "Absolute return: -0.2903874179615037\n",
      "Absolute amount bet: 4.603914720144479\n",
      "ROI (%): -6.307402191680711\n",
      "---------------\n",
      "*Correct Kelly*\n",
      "Bets considered (2 * Matches): 5155\n",
      "Number of bets placed: 275\n",
      "Mean overround (%): 6.466222358689877\n",
      "Absolute return: -0.32302682773779345\n",
      "Absolute amount bet: 3.942731583179953\n",
      "ROI (%): -0.08192970303021763\n"
     ]
    }
   ],
   "source": [
    "#  Run after any of the above show_results to get correct returns for that strategy\n",
    "correct_kelly_results(\"b365\", rankdist=False)"
   ],
   "metadata": {
    "collapsed": false
   }
  },
  {
   "cell_type": "code",
   "execution_count": null,
   "outputs": [],
   "source": [],
   "metadata": {
    "collapsed": false
   }
  },
  {
   "cell_type": "code",
   "execution_count": null,
   "outputs": [],
   "source": [],
   "metadata": {
    "collapsed": false
   }
  },
  {
   "cell_type": "markdown",
   "source": [
    "## 2c. Best odds profit is nothing special.\n",
    "Below is the results from implementing no model at all and simply using the inverse average odds as the estimated probability and the best odds as the odds for returns.\n"
   ],
   "metadata": {
    "collapsed": false
   }
  },
  {
   "cell_type": "code",
   "execution_count": 23,
   "outputs": [],
   "source": [
    "def simple_results(testset, odds):\n",
    "\n",
    "    # Determine kelly bet size.\n",
    "    testset['kelly_betsize'] = [kelly_criterion(row[0], row[1]) for row in zip(testset['inverse_{}'.format(odds)],\n",
    "                                                                               testset['inverse_avg'])]\n",
    "    # Calculate return for the bet.\n",
    "    testset['PnL'] = [profit_loss(row[0], row[1], row[2]) for row in zip(testset['kelly_betsize'],\n",
    "                                                                         testset['inverse_{}'.format(odds)],\n",
    "                                                                         testset['outcome'])]\n",
    "\n",
    "    print('Bets considered (2 * Matches): '+str(len(testset[testset['inverse_{}'.format(odds)].notna()])))\n",
    "    print('Number of bets placed: '+str(len(testset.loc[(testset[\"PnL\"].notna()) & testset[\"PnL\"] != 0])))\n",
    "    print(\"Mean overround (%): \"+str((testset.sort_values(by=\"match_id\")[\"inverse_{}\".format(odds)].rolling(2).sum()[1::2].mean()-1)*100))\n",
    "    print('Absolute return: '+str(testset['PnL'].sum()))\n",
    "    print('Absolute amount bet: '+str(testset['kelly_betsize'].sum()))\n",
    "    print('ROI (%): '+str((((testset['PnL'].sum() + testset['kelly_betsize'].sum())/testset['kelly_betsize'].sum())-1)*100))\n",
    "\n",
    "def simple_plot_results():\n",
    "    testset['Cum_PnL'] = testset['PnL'].cumsum() * 100\n",
    "    plt.rcParams.update({'font.size': 11})\n",
    "    fig, ax = plt.subplots(1, 1, figsize=(6, 6))\n",
    "    testset.plot('date', 'Cum_PnL', ax=ax, linewidth=1.5)\n",
    "    ax.set_ylabel('Cumulative Profit (%)')\n",
    "    ax.set_xlabel('Date')\n",
    "    ax.set_title(\"\")\n",
    "    # ax.set_title('Best Odds')\n",
    "    ax.get_legend().remove()\n",
    "    fig.autofmt_xdate()\n",
    "    plt.show()"
   ],
   "metadata": {
    "collapsed": false
   }
  },
  {
   "cell_type": "code",
   "execution_count": 24,
   "outputs": [
    {
     "name": "stdout",
     "output_type": "stream",
     "text": [
      "Bets considered (2 * Matches): 5189\n",
      "Number of bets placed: 5184\n",
      "Mean overround (%): -0.22770090708685853\n",
      "Absolute return: 2.3255592008353947\n",
      "Absolute amount bet: 356.53105510481555\n",
      "ROI (%): 0.6522739513256992\n"
     ]
    }
   ],
   "source": [
    "simple_results(testset, odds=\"best\")"
   ],
   "metadata": {
    "collapsed": false
   }
  },
  {
   "cell_type": "code",
   "execution_count": 36,
   "outputs": [
    {
     "name": "stdout",
     "output_type": "stream",
     "text": [
      "*Correct Kelly*\n",
      "Bets considered (2 * Matches): 5156\n",
      "Number of bets placed: 276\n",
      "Mean overround (%): 6.456499124919013\n",
      "Absolute return: 0.8465651830211379\n",
      "Absolute amount bet: 9.849669217821374\n",
      "ROI (%): 0.08594859018101997\n"
     ]
    }
   ],
   "source": [
    "correct_kelly_results(\"b365\")"
   ],
   "metadata": {
    "collapsed": false
   }
  },
  {
   "cell_type": "code",
   "execution_count": 13,
   "outputs": [],
   "source": [],
   "metadata": {
    "collapsed": false
   }
  },
  {
   "cell_type": "code",
   "execution_count": 13,
   "outputs": [],
   "source": [],
   "metadata": {
    "collapsed": false
   }
  }
 ],
 "metadata": {
  "kernelspec": {
   "display_name": "Python 3",
   "language": "python",
   "name": "python3"
  },
  "language_info": {
   "codemirror_mode": {
    "name": "ipython",
    "version": 2
   },
   "file_extension": ".py",
   "mimetype": "text/x-python",
   "name": "python",
   "nbconvert_exporter": "python",
   "pygments_lexer": "ipython2",
   "version": "2.7.6"
  }
 },
 "nbformat": 4,
 "nbformat_minor": 0
}
