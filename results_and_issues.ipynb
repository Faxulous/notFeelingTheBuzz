{
 "cells": [
  {
   "cell_type": "markdown",
   "source": [
    "# Results and Issues\n",
    "Covered in this notebook:\n",
    "1. Obtain near-identical results to Ramirez's.\n",
    "2. Highlight key issues impacting presented results.\n",
    "    a.\n",
    "    b.\n",
    "    c."
   ],
   "metadata": {
    "collapsed": false
   }
  },
  {
   "cell_type": "code",
   "execution_count": 1,
   "outputs": [],
   "source": [
    "import pandas as pd\n",
    "import seaborn as sns\n",
    "import statsmodels.formula.api as sm\n",
    "import matplotlib.pyplot as plt\n",
    "import econtools.metrics as mt\n",
    "import numpy as np\n",
    "from econtools import read, outreg, table_statrow, write_notes\n",
    "import matplotlib.ticker as mtick\n",
    "import matplotlib.dates as mdates\n",
    "plt.style.use('seaborn-v0_8-deep')"
   ],
   "metadata": {
    "collapsed": false
   }
  },
  {
   "cell_type": "code",
   "execution_count": 2,
   "outputs": [
    {
     "name": "stdout",
     "output_type": "stream",
     "text": [
      "Fit set rows: 15854\n",
      "Test set rows: 5190\n"
     ]
    }
   ],
   "source": [
    "original_df = pd.read_csv(r'C:\\Users\\faxul\\Google Drive\\RamirezRepStudy\\thesisminusdata\\TradeCode\\paper_repstudy\\notFeelingTheBuzz\\Datafiles\\Ramirez_matches_cleaned.csv')\n",
    "fitset = original_df[~(original_df['date'] > '2019-01-00')].copy()\n",
    "testset = original_df[(original_df['date'] > '2019-01-00')].copy()\n",
    "\n",
    "testset.reset_index(inplace=True)\n",
    "print('Fit set rows: '+str(len(fitset)))\n",
    "print('Test set rows: '+str(len(testset)))"
   ],
   "metadata": {
    "collapsed": false
   }
  },
  {
   "cell_type": "code",
   "execution_count": 13,
   "outputs": [],
   "source": [
    "def fit_regression(rankdist: bool = True):\n",
    "    if rankdist:\n",
    "        results = mt.reg(\n",
    "        fitset,                     # DataFrame\n",
    "        'outcome',                      # Dependent var (string)\n",
    "        ['inverse_avg', 'rankdist', 'wikibuzz'],# Independent var(s) (string or list of strings)\n",
    "        cluster='match_id',\n",
    "        addcons=True# Cluster var (string)\n",
    "        )\n",
    "        # Get params for use\n",
    "        params = [results.beta[-1], results.beta[0], results.beta[1], results.beta[2]]\n",
    "        #params= [constant        , inverse_avg    , rankdist       , wikibuzz       ]\n",
    "        print(results)\n",
    "    else:\n",
    "        # No RankDist variable\n",
    "        results = mt.reg(\n",
    "            fitset,                     # DataFrame\n",
    "            'outcome',                      # Dependent var (string)\n",
    "            ['inverse_avg', 'wikibuzz'],# Independent var(s) (string or list of strings)\n",
    "            cluster='match_id',\n",
    "            addcons=True# Cluster var (string)\n",
    "        )\n",
    "        params = [results.beta[-1], results.beta[0], results.beta[1]]\n",
    "        print(results)\n",
    "    return params\n",
    "\n",
    "def estimate_probability(params: pd.Series,\n",
    "                         inverse_odds: float,\n",
    "                         rankdist: float = None,\n",
    "                         wikibuzz: float = None) -> float:\n",
    "    if (rankdist is not None) & (wikibuzz is not None):\n",
    "        y_hat = params[0] + params[-3]*inverse_odds + params[-2]*rankdist + params[-1]*wikibuzz\n",
    "    if (rankdist is not None) & (wikibuzz is None):\n",
    "        y_hat = params[0] + params[-2] * inverse_odds + params[-1] * rankdist\n",
    "    if (wikibuzz is not None) & (rankdist is None):\n",
    "        y_hat = params[0] + params[-2]*inverse_odds + params[-1]*wikibuzz\n",
    "    return y_hat\n",
    "\n",
    "def kelly_criterion(odds_implied_prob, y_hat):\n",
    "    odds = 1/odds_implied_prob\n",
    "    k = max(y_hat - ((1 - y_hat)/(odds - 1)), 0)\n",
    "    return k\n",
    "\n",
    "def profit_loss(kelly, odds_implied_prob, outcome):\n",
    "    odds = 1 / odds_implied_prob\n",
    "    if outcome == 1:\n",
    "        PnL = kelly*odds - kelly\n",
    "    if outcome == 0:\n",
    "        PnL = -kelly\n",
    "    return PnL\n",
    "\n",
    "def show_results(testset, params, odds, rankdist: bool = True): # Odds = \"avg\", \"best\", \"b365\"\n",
    "\n",
    "    # Estimate Probability.\n",
    "    if rankdist:\n",
    "        testset['model_est_prob'] = [estimate_probability(params, row[0], row[1], row[2]) for row in zip(testset['inverse_avg'],\n",
    "                                                                                                         testset['rankdist'],\n",
    "                                                                                                         testset['wikibuzz'])]\n",
    "    else:\n",
    "        testset['model_est_prob'] = [estimate_probability(params, inverse_odds=row[0], wikibuzz=row[1]) for row in zip(testset['inverse_avg'],\n",
    "                                                                                                                       testset['wikibuzz'])]\n",
    "    # Determine kelly bet size.\n",
    "    testset['kelly_betsize'] = [kelly_criterion(row[0], row[1]) for row in zip(testset['inverse_{}'.format(odds)],\n",
    "                                                                               testset['model_est_prob'])]\n",
    "    # Calculate return for the bet.\n",
    "    testset['PnL'] = [profit_loss(row[0], row[1], row[2]) for row in zip(testset['kelly_betsize'],\n",
    "                                                                         testset['inverse_{}'.format(odds)],\n",
    "                                                                         testset['outcome'])]\n",
    "\n",
    "    print('Bets considered (2 * Matches): '+str(len(testset[testset['inverse_{}'.format(odds)].notna()])))\n",
    "    print('Number of bets placed: '+str(len(testset.loc[(testset[\"PnL\"].notna()) & testset[\"PnL\"] != 0])))\n",
    "    print('Absolute return: '+str(testset['PnL'].sum()))\n",
    "    print('Absolute amount bet: '+str(testset['kelly_betsize'].sum()))\n",
    "    print('ROI (%): '+str((((testset['PnL'].sum() + testset['kelly_betsize'].sum())/testset['kelly_betsize'].sum())-1)*100))\n",
    "\n",
    "def plot_results():\n",
    "    testset['Cum_PnL'] = testset['PnL'].cumsum() * 100\n",
    "    plt.rcParams.update({'font.size': 11})\n",
    "    fig, ax = plt.subplots(1, 1, figsize=(6, 6))\n",
    "    testset.plot('date', 'Cum_PnL', ax=ax, linewidth=1.5)\n",
    "    ax.set_ylabel('Cumulative Profit (%)')\n",
    "    ax.set_xlabel('Date')\n",
    "    ax.set_title(\"\")\n",
    "    # ax.set_title('Best Odds')\n",
    "    ax.get_legend().remove()\n",
    "    fig.autofmt_xdate()\n",
    "    plt.show()"
   ],
   "metadata": {
    "collapsed": false
   }
  },
  {
   "cell_type": "markdown",
   "source": [
    "# Bet365 Models"
   ],
   "metadata": {
    "collapsed": false
   }
  },
  {
   "cell_type": "code",
   "execution_count": 14,
   "outputs": [
    {
     "name": "stdout",
     "output_type": "stream",
     "text": [
      "=======================================================\n",
      "Dependent variable:\toutcome\n",
      "N:\t\t\t15854\n",
      "R-squared:\t\t0.1589\n",
      "Estimation method:\tOLS\n",
      "VCE method:\t\tCluster\n",
      "  Cluster variable:\t  match_id\n",
      "  No. of clusters:\t  7927\n",
      "=======================================================\n",
      "             coeff    se      t   p>t CI_low CI_high\n",
      "inverse_avg  1.025 0.028 36.945 0.000  0.971   1.080\n",
      "rankdist     0.055 0.031  1.787 0.074 -0.005   0.115\n",
      "wikibuzz     0.009 0.004  2.117 0.034  0.001   0.017\n",
      "_cons       -0.041 0.015 -2.831 0.005 -0.070  -0.013\n",
      "=======================================================\n",
      "\n",
      "Bets considered (2 * Matches): 5156\n",
      "Number of bets placed: 312\n",
      "Absolute return: 1.2360930817859561\n",
      "Absolute amount bet: 7.151004389194103\n",
      "ROI (%): 17.285586954104225\n"
     ]
    }
   ],
   "source": [
    "params = fit_regression(rankdist=True)\n",
    "show_results(testset, params=params, odds=\"b365\", rankdist=True)"
   ],
   "metadata": {
    "collapsed": false
   }
  },
  {
   "cell_type": "code",
   "execution_count": 15,
   "outputs": [
    {
     "data": {
      "text/plain": "<Figure size 432x432 with 1 Axes>",
      "image/png": "[encoded data removed]"
     },
     "metadata": {
      "needs_background": "light"
     },
     "output_type": "display_data"
    }
   ],
   "source": [
    "plot_results()"
   ],
   "metadata": {
    "collapsed": false
   }
  },
  {
   "cell_type": "code",
   "execution_count": 16,
   "outputs": [
    {
     "name": "stdout",
     "output_type": "stream",
     "text": [
      "=======================================================\n",
      "Dependent variable:\toutcome\n",
      "N:\t\t\t15854\n",
      "R-squared:\t\t0.1586\n",
      "Estimation method:\tOLS\n",
      "VCE method:\t\tCluster\n",
      "  Cluster variable:\t  match_id\n",
      "  No. of clusters:\t  7927\n",
      "=======================================================\n",
      "             coeff    se      t   p>t CI_low CI_high\n",
      "inverse_avg  1.005 0.025 39.826 0.000  0.956   1.055\n",
      "wikibuzz     0.010 0.004  2.265 0.024  0.001   0.018\n",
      "_cons       -0.031 0.013 -2.323 0.020 -0.057  -0.005\n",
      "=======================================================\n",
      "\n",
      "Bets considered (2 * Matches): 5156\n",
      "Number of bets placed: 276\n",
      "Absolute return: 1.4372911056209992\n",
      "Absolute amount bet: 4.987843280940591\n",
      "ROI (%): 28.81588343228698\n"
     ]
    }
   ],
   "source": [
    "params = fit_regression(rankdist=False)\n",
    "show_results(testset, params=params, odds=\"b365\", rankdist=False)"
   ],
   "metadata": {
    "collapsed": false
   }
  },
  {
   "cell_type": "code",
   "execution_count": 17,
   "outputs": [
    {
     "data": {
      "text/plain": "<Figure size 432x432 with 1 Axes>",
      "image/png": "[encoded data removed]"
     },
     "metadata": {
      "needs_background": "light"
     },
     "output_type": "display_data"
    }
   ],
   "source": [
    "plot_results()"
   ],
   "metadata": {
    "collapsed": false
   }
  },
  {
   "cell_type": "code",
   "execution_count": null,
   "outputs": [],
   "source": [],
   "metadata": {
    "collapsed": false
   }
  },
  {
   "cell_type": "code",
   "execution_count": 21,
   "outputs": [
    {
     "data": {
      "text/plain": "      index  Unnamed: 0  match_id          player        date    year  \\\n1135  16989        5883      5883       Hercog P.  2019-03-23  2019.0   \n4439  20293       20000     20000  Kudermetova V.  2019-10-17  2019.0   \n3174  19028       15940     15940   Di Lorenzo F.  2019-08-05  2019.0   \n2115  17969       10071     10071      Bolsova A.  2019-05-27  2019.0   \n3249  19103       15975     15975    Andreescu B.  2019-08-08  2019.0   \n\n      rankdist  wikibuzz  inverse_b365  inverse_avg  inverse_best  outcome  \\\n1135 -0.001824 -1.707411      0.181818     0.540541      0.476190        1   \n4439  0.226190  1.707976      0.307692     0.364964      0.307692        1   \n3174  0.041040  3.427324      0.230947     0.259740      0.222222        1   \n2115  0.005521  4.553877      0.500000     0.546448      0.487805        1   \n3249  0.162963  3.861998      0.333333     0.353357      0.319489        1   \n\n      model_est_prob  kelly_betsize       PnL     Cum_PnL  \n1135        0.495942       0.383929  1.727679  164.467343  \n4439        0.352341       0.064492  0.145107  158.468550  \n3174        0.263127       0.041844  0.139341  169.087928  \n2115        0.562174       0.124348  0.124348  167.387581  \n3249        0.361416       0.042125  0.084249  172.400442  ",
      "text/html": "<div>\n<style scoped>\n    .dataframe tbody tr th:only-of-type {\n        vertical-align: middle;\n    }\n\n    .dataframe tbody tr th {\n        vertical-align: top;\n    }\n\n    .dataframe thead th {\n        text-align: right;\n    }\n</style>\n<table border=\"1\" class=\"dataframe\">\n  <thead>\n    <tr style=\"text-align: right;\">\n      <th></th>\n      <th>index</th>\n      <th>Unnamed: 0</th>\n      <th>match_id</th>\n      <th>player</th>\n      <th>date</th>\n      <th>year</th>\n      <th>rankdist</th>\n      <th>wikibuzz</th>\n      <th>inverse_b365</th>\n      <th>inverse_avg</th>\n      <th>inverse_best</th>\n      <th>outcome</th>\n      <th>model_est_prob</th>\n      <th>kelly_betsize</th>\n      <th>PnL</th>\n      <th>Cum_PnL</th>\n    </tr>\n  </thead>\n  <tbody>\n    <tr>\n      <th>1135</th>\n      <td>16989</td>\n      <td>5883</td>\n      <td>5883</td>\n      <td>Hercog P.</td>\n      <td>2019-03-23</td>\n      <td>2019.0</td>\n      <td>-0.001824</td>\n      <td>-1.707411</td>\n      <td>0.181818</td>\n      <td>0.540541</td>\n      <td>0.476190</td>\n      <td>1</td>\n      <td>0.495942</td>\n      <td>0.383929</td>\n      <td>1.727679</td>\n      <td>164.467343</td>\n    </tr>\n    <tr>\n      <th>4439</th>\n      <td>20293</td>\n      <td>20000</td>\n      <td>20000</td>\n      <td>Kudermetova V.</td>\n      <td>2019-10-17</td>\n      <td>2019.0</td>\n      <td>0.226190</td>\n      <td>1.707976</td>\n      <td>0.307692</td>\n      <td>0.364964</td>\n      <td>0.307692</td>\n      <td>1</td>\n      <td>0.352341</td>\n      <td>0.064492</td>\n      <td>0.145107</td>\n      <td>158.468550</td>\n    </tr>\n    <tr>\n      <th>3174</th>\n      <td>19028</td>\n      <td>15940</td>\n      <td>15940</td>\n      <td>Di Lorenzo F.</td>\n      <td>2019-08-05</td>\n      <td>2019.0</td>\n      <td>0.041040</td>\n      <td>3.427324</td>\n      <td>0.230947</td>\n      <td>0.259740</td>\n      <td>0.222222</td>\n      <td>1</td>\n      <td>0.263127</td>\n      <td>0.041844</td>\n      <td>0.139341</td>\n      <td>169.087928</td>\n    </tr>\n    <tr>\n      <th>2115</th>\n      <td>17969</td>\n      <td>10071</td>\n      <td>10071</td>\n      <td>Bolsova A.</td>\n      <td>2019-05-27</td>\n      <td>2019.0</td>\n      <td>0.005521</td>\n      <td>4.553877</td>\n      <td>0.500000</td>\n      <td>0.546448</td>\n      <td>0.487805</td>\n      <td>1</td>\n      <td>0.562174</td>\n      <td>0.124348</td>\n      <td>0.124348</td>\n      <td>167.387581</td>\n    </tr>\n    <tr>\n      <th>3249</th>\n      <td>19103</td>\n      <td>15975</td>\n      <td>15975</td>\n      <td>Andreescu B.</td>\n      <td>2019-08-08</td>\n      <td>2019.0</td>\n      <td>0.162963</td>\n      <td>3.861998</td>\n      <td>0.333333</td>\n      <td>0.353357</td>\n      <td>0.319489</td>\n      <td>1</td>\n      <td>0.361416</td>\n      <td>0.042125</td>\n      <td>0.084249</td>\n      <td>172.400442</td>\n    </tr>\n  </tbody>\n</table>\n</div>"
     },
     "execution_count": 21,
     "metadata": {},
     "output_type": "execute_result"
    }
   ],
   "source": [
    "testset.sort_values(by=[\"PnL\"], ascending=False).head()"
   ],
   "metadata": {
    "collapsed": false
   }
  },
  {
   "cell_type": "code",
   "execution_count": null,
   "outputs": [],
   "source": [],
   "metadata": {
    "collapsed": false
   }
  }
 ],
 "metadata": {
  "kernelspec": {
   "display_name": "Python 3",
   "language": "python",
   "name": "python3"
  },
  "language_info": {
   "codemirror_mode": {
    "name": "ipython",
    "version": 2
   },
   "file_extension": ".py",
   "mimetype": "text/x-python",
   "name": "python",
   "nbconvert_exporter": "python",
   "pygments_lexer": "ipython2",
   "version": "2.7.6"
  }
 },
 "nbformat": 4,
 "nbformat_minor": 0
}
