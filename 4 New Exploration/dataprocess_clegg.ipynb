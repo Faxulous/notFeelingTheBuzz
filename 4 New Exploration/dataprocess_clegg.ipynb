{
 "cells": [
  {
   "cell_type": "markdown",
   "source": [
    "# Data Processing (CC)\n",
    "Covered in this notebook:\n",
    "1. Downloading match data from tennis-data.co.uk\n",
    "2. Obtain pageview counts for each player.\n",
    "2. Adding columns for all variables described in paper:\n",
    "    a. RankDist.\n",
    "    b. WikiBuzz.\n",
    "    c. Implied Probability / Inverse Odds.\n",
    "3. Produce a ccsv file ready for further use."
   ],
   "metadata": {
    "collapsed": false
   }
  },
  {
   "cell_type": "code",
   "execution_count": 1,
   "outputs": [],
   "source": [
    "# Imports, Remove Warnings for notebook readability.\n",
    "import pandas as pd\n",
    "from datetime import datetime, timedelta\n",
    "import warnings\n",
    "import requests\n",
    "from statistics import median\n",
    "import numpy as np\n",
    "import json\n",
    "import pandas as pd\n",
    "warnings.filterwarnings(\"ignore\", category=UserWarning)"
   ],
   "metadata": {
    "collapsed": false,
    "ExecuteTime": {
     "end_time": "2023-05-10T13:31:51.883808400Z",
     "start_time": "2023-05-10T13:31:51.750706800Z"
    }
   }
  },
  {
   "cell_type": "code",
   "execution_count": 2,
   "metadata": {
    "collapsed": true,
    "ExecuteTime": {
     "end_time": "2023-05-10T13:32:10.193322100Z",
     "start_time": "2023-05-10T13:31:59.343532900Z"
    }
   },
   "outputs": [],
   "source": [
    "# Load all data.\n",
    "url = 'http://www.tennis-data.co.uk/{year}w/{year}.xlsx'\n",
    "wta_matchess = [(pd.read_excel(url.format(year=str(x)), sheet_name=str(x))) for x in range(2015, 2022 + 1)]\n",
    "wta_matches = pd.concat(wta_matchess, axis=0, ignore_index=True)\n",
    "wta_matches['Date'] = pd.to_datetime(wta_matches['Date'])\n",
    "wta_matches = wta_matches[wta_matches[\"Date\"] > '2015-07-01']\n",
    "wta_matches['match_id'] = wta_matches.index # Index column.\n",
    "wta_matches['Winner'] = wta_matches['Winner'].str.replace(' ', '_')\n",
    "wta_matches['Loser'] = wta_matches['Loser'].str.replace(' ', '_')"
   ]
  },
  {
   "cell_type": "code",
   "execution_count": 3,
   "outputs": [],
   "source": [
    "# Link players to their Wikipedia pages.\n",
    "url = \"https://drive.google.com/file/d/1PP6qoLuh43Fdkj5oVfqTKN4TWe6dcwfd/view?usp=share_link\"\n",
    "path = 'https://drive.google.com/uc?export=download&id='+url.split('/')[-2]\n",
    "players = pd.read_csv(path)\n",
    "\n",
    "player_dict = dict(zip(players.odds_player, players.player))\n",
    "player_dict = {k.replace(' ', '_'): v.replace(' ', '_') for k, v in player_dict.items() if not isinstance(v, float)}\n",
    "new_player_dict = {\n",
    "    'Wang_X.':'Wang_Xiyu',\n",
    "    'Wang_Xiy.':'Wang_Xiyu',\n",
    "    'Stephens_S.':'Sloane_Stephens',\n",
    "    'Pliskova_Ka.':'Karolína_Plíšková',\n",
    "    'Williams_S.':'Serena_Williams',\n",
    "    'Pliskova_Kr.':'Kristýna_Plíšková',\n",
    "    'Alexandra_Krunic':'Aleksandra_Krunić',\n",
    "    'Yingying_Duan':'Duan_Yingying',\n",
    "    'Lin_Zhu':'Zhu_Lin_(tennis)',\n",
    "    'Rodionova_Ar.':'Arina_Rodionova',\n",
    "    'Carina_Witthoeft':'Carina_Witthöft',\n",
    "    'Stefanie_Voegele':'Stefanie_Vögele',\n",
    "    'Sílvia_Soler-Espinosa':'Sílvia_Soler_Espinosa',\n",
    "    'Xinyun_Han':'Han_Xinyun',\n",
    "    'Yafan_Wang':'Wang_Yafan',\n",
    "    'Jana_Cepelova':'Jana_Čepelová',\n",
    "    'Zhang_Shuai':'Zhang_Shuai',\n",
    "    'Catherine_McNally':'Caty_McNally',\n",
    "    'Viktoria_Kuzmova':'Viktória_Kužmová',\n",
    "    'Barbora_Krejcikova':'Barbora_Krejčíková',\n",
    "    'En-Shuo_Liang':'Liang_En-shuo',\n",
    "    'Chloe_Paquet':'Chloé_Paquet',\n",
    "    'Su-Wei_Hsieh':'Hsieh_Su-wei',\n",
    "    'Saisai_Zheng':'Zheng_Saisai',\n",
    "    'Marketa_Vondrousova':'Markéta_Vondroušová',\n",
    "    'Fangzhou_Liu':'Liu_Fangzhou',\n",
    "    'Patricia_Maria_Tig':'Patricia_Maria_Țig',\n",
    "    'Julia_Goerges':'Julia_Görges',\n",
    "    'Lesley_Pattinama_Kerkhove':'Lesley_Pattinama_Kerkhove',\n",
    "    'Tamara_Zidansek':'Tamara_Zidanšek',\n",
    "    'Iga_Swiatek':'Iga_Świątek',\n",
    "    'Anna_Karolina_Schmiedlova':'Anna_Karolína_Schmiedlová',\n",
    "    'Shuai_Peng':'Peng_Shuai',\n",
    "    'Leonie_Kung':'Leonie_Küng',\n",
    "    'Radwanska_U.':'Agnieszka_Radwańska',\n",
    "    'Barbora_Strycova':'Barbora_Strýcová',\n",
    "    'Cagla_Buyukakcay':'Çağla_Büyükakçay',\n",
    "    'Rodionova_An.':'Arina_Rodionova',\n",
    "    'Alexandra_Cadantu':'Alexandra_Cadanțu-Ignatik',\n",
    "    'Marie_Bouzkova':'Marie_Bouzková',\n",
    "    'Denisa_Allertova':'Denisa_Šátralová',\n",
    "    'Lucie_Hradecka':'Lucie_Hradecká',\n",
    "    'Ivana_Jorovic':'Ivana_Jorović',\n",
    "    'Maia_Lumsden':'Maia_Lumsden',\n",
    "    'Mirjana_Lucic':'Mirjana_Lučić-Baroni',\n",
    "    'Hailey_Baptiste':'Hailey_Baptiste',\n",
    "    'Katerina_Siniakova':'Kateřina_Siniaková',\n",
    "    'Mihaela_Buzarnescu':'Mihaela_Buzărnescu',\n",
    "    'Qiang_Wang':'Wang_Qiang_(tennis)',\n",
    "    'Xiaodi_You':'You_Xiaodi',\n",
    "    'Paula_Cristina_Goncalves':'Paula_Cristina_Gonçalves',\n",
    "    'Aliona_Bolsova':'Aliona_Bolsova',\n",
    "    'Tereza_Smitkova':'Tereza_Smitková',\n",
    "    'Xinyu_Wang':'Wang_Xinyu',\n",
    "    'Leylah_Fernandez':'Leylah_Fernandez',\n",
    "    'Magdalena_Rybarikova':'Magdaléna_Rybáriková',\n",
    "    'Johanna_Larsson':'Johanna_Larsson',\n",
    "    'Mirjana_Lucic-Baroni':'Mirjana_Lučić-Baroni',\n",
    "    'Danka_Kovinic':'Danka_Kovinić',\n",
    "    'Tereza_Martincova':'Tereza_Martincová',\n",
    "    'Montserrat_Gonzalez':'Montserrat_González',\n",
    "    'Maria_Herazo_Gonzalez':'María_Herazo_González',\n",
    "    'Ipek_Soylu':'İpek_Soylu',\n",
    "    'Petra_Martic':'Petra_Martić',\n",
    "    'Timea_Babos':'Tímea_Babos',\n",
    "    'Nina_Stojanovic':'Nina_Stojanović',\n",
    "    'Na-Lae_Han':'Han_Na-lae',\n",
    "    'Jia-Jing_Lu':'Lu_Jiajing', #From 2nd iteration, losers column...\n",
    "    'Lesley_Pattinama_Kerkhove':'Lesley_Pattinama_Kerkhove',\n",
    "    'Ya-Hsuan_Lee':'Lee_Ya-hsuan',\n",
    "    'Alexandra_Cadanțu-Ignatik':'Alexandra_Cadanțu-Ignatik',\n",
    "    'Maria_Mateas':'Maria_Mateas',\n",
    "    'Selena_Janicijevic':'Séléna_Janicijevic',\n",
    "    'Jessica_Pieri':'Jessica_Pieri',\n",
    "    'Denisa_Šátralová':'Denisa_Šátralová',\n",
    "    'Kamilla_Rakhimova':'Kamilla_Rakhimova',\n",
    "    'Tess_Sugnaux':'Tess_Sugnaux',\n",
    "    'Maia_Lumsden':'Maia_Lumsden',\n",
    "    'Mirjam_Bjorklund':'Mirjam_Björklund',\n",
    "    'Alyssa_Mayo':'Alyssa_Mayo',\n",
    "    'Komola_Umarova':'Komola_Umarova',\n",
    "    'Ng_Kwan-yau':'Ng_Kwan-yau',\n",
    "    'Cristiana_Ferrando':'Cristiana_Ferrando',\n",
    "    'Martina_Capurro_Taborda':'Martina_Capurro_Taborda',\n",
    "    'Elena-Gabriela_Ruse':'Elena-Gabriela_Ruse',\n",
    "    'Freya_Christie':'Freya_Christie',\n",
    "    'Jovana_Jovic':'Jovana_Jović',\n",
    "    'Mira_Antonitsch':'Mira_Antonitsch',\n",
    "    'Dayana_Yastremska':'Dayana_Yastremska',\n",
    "    'Emiliana_Arango':'Emiliana_Arango',\n",
    "    'Nadia_Echeverria_Alam':'Nadia_Echeverría_Alam',\n",
    "    'Frances_Altick':'Frances_Altick',\n",
    "    'Ayaka_Okuno':'Ayaka_Okuno',\n",
    "    'Anastasiya_Shoshyna':'Anastasiya_Shoshyna',\n",
    "    'Jesika_Maleckova':'Jesika_Malečková',\n",
    "    'Wushuang_Zheng':'Zheng_Wushuang',\n",
    "    'Karolina_Muchova':'Karolína_Muchová',\n",
    "    'Varvara_Gracheva':'Varvara_Gracheva',\n",
    "    'Baindl_K.':'Kateryna_Baindl', # third iteration here\n",
    "    'Uchijima_M.':'Moyuka_Uchijima',\n",
    "    'Kalieva_E.':'Elvina_Kalieva',\n",
    "    'Osorio_M.':'Camila_Osorio',\n",
    "    'Naito_Y.':'Yuki_Naito',\n",
    "    'Lazaro_A.':'Andrea_Lázaro_García',\n",
    "    'Alves_C.':'Carolina_Alves_(tennis)',\n",
    "    'Schunk_N.':'Nastasja_Schunk',\n",
    "    'Saigo_R.':'Rina_Saigo',\n",
    "    'Ioana_Minca':'Ioana_Mincă',\n",
    "    'Zheng_Q.':'Zheng_Qinwen',\n",
    "    'Guth_M.':'Mara_Guth',\n",
    "    'Palicova_B.':'Barbora_Palicová',\n",
    "    'Shibahara_E.':'Ena_Shibahara',\n",
    "    'Pliskova_Ka.':'Karolína_Plíšková',\n",
    "    'Reyngold_E.':'Ekaterina_Reyngold',\n",
    "    'Middendorf_J.':'Julia_Middendorf',\n",
    "    'Cengiz_B.':'Berfu_Cengiz',\n",
    "    'Jeong_B.':'Jeong_Bo-young',\n",
    "    'Szabanin_N.':'Natália_Szabanin',\n",
    "    'Stakusic_M.':'Marina_Stakusic',\n",
    "    'Mandlik_E.':'Elizabeth_Mandlik',\n",
    "    'Contreras_Gomez_F.':'Fernanda_Contreras_Gómez',\n",
    "    'Paoletti_M.':'Matilde_Paoletti',\n",
    "    'Lamens_S.':'Suzan_Lamens',\n",
    "    'Sherif_M.':'Mayar_Sherif',\n",
    "    'Alexandra_Krunic':'Aleksandra_Krunić',\n",
    "    'Bartunkova_N.':'Nikola_Bartůňková',\n",
    "    'Jones_F.':'Francesca_Jones_(tennis)',\n",
    "    'Yashina_E.':'Ekaterina_Yashina',\n",
    "    'Mariana_Duque-Mariño':'Mariana_Duque_Mariño',\n",
    "    'Bassols_Ribera_M.':'Marina_Bassols_Ribera',\n",
    "    'Fruhvirtova_L.':'Linda_Fruhvirtová',\n",
    "    'Laura_Pous-Tio':'Laura_Pous_Tió',\n",
    "    'Williams_S.':'Serena_Williams',\n",
    "    'Serban_R.':'Raluca_Șerban',\n",
    "    'Caregaro_M.':'Martina_Caregaro',\n",
    "    'Gabueva_A.':'Angelina_Gabueva',\n",
    "    'Stearns_P.':'Peyton_Stearns',\n",
    "    'Na-Lae_Han':'Han_Na-lae',\n",
    "    'Scott_K.':'Katrina_Scott',\n",
    "    'Lovric_P.':'Pia_Lovrič',\n",
    "    'Bandecchi_S.':'Susan_Bandecchi',\n",
    "    'Preston_T.':'Taylah_Preston',\n",
    "    'Bronzetti_L.':'Lucia_Bronzetti',\n",
    "    'Berberovic_N.':'Nefisa_Berberović',\n",
    "    'Herazo_M.':'María_Herazo_González',\n",
    "    'Montgomery_R.':'Robin_Montgomery',\n",
    "    'Turati_B.':'Bianca_Turati',\n",
    "    'Hewitt_D.':'Dalayna_Hewitt',\n",
    "    'Hanatani_N.':'Nagi_Hanatani',\n",
    "    'Zueger_J.':'Joanne_Züger',\n",
    "    'Noskova_L.':'Linda_Nosková',\n",
    "    'Marcinko_P.':'Petra_Marčinko',\n",
    "    'Kraus_S.':'Sinja_Kraus',\n",
    "    'Chang_S.':'Sophie_Chang',\n",
    "    'Yu_E.':'Eleana_Yu',\n",
    "    'Krawczyk_D.':'Desirae_Krawczyk',\n",
    "    'Krueger_A.':'Ashlyn_Krueger',\n",
    "    'Prisacariu_A.':'Andreea_Prisăcariu',\n",
    "    'Jimenez_V.':'Victoria_Jiménez_Kasintseva',\n",
    "    'En-Shuo_Liang':'Liang_En-shuo',\n",
    "    'Monnet_C.':'Carole_Monnet',\n",
    "    'Radivojevic_L.':'Lola_Radivojević',\n",
    "    'Ruse_E-G.':'Elena-Gabriela_Ruse',\n",
    "    'Morderger_Y.':'Yana_Morderger',\n",
    "    'Burillo_I.':'Irene_Burillo_Escorihuela',\n",
    "    'Sebov_K.':'Katherine_Sebov',\n",
    "    'Mansouri_Y.':'Yasmine_Mansouri',\n",
    "    'Bejlek_S.':'Sára_Bejlek',\n",
    "    'Jang_S.':'Jang_Su-jeong',\n",
    "    'Wurth_T.':'Tara_Würth',\n",
    "    'Yingying_Duan':'Duan_Yingying',\n",
    "    'Pigato_L.':'Lisa_Pigato',\n",
    "    'Back_D.':'Back_Da-yeon',\n",
    "    'Glushko_L.':'Lina_Glushko',\n",
    "    'Kartal_S.':'Sonay_Kartal',\n",
    "    'Andreeva_E.':'Erika_Andreeva',\n",
    "    'Ignatik_A.':'Alexandra_Cadanțu-Ignatik',\n",
    "    'Bassols_M.':'Marina_Bassols_Ribera',\n",
    "    'Cross_K.':'Kayla_Cross',\n",
    "    'Yifan_Xu':'Xu_Yifan',\n",
    "    'Maria_Camila_Osorio_Serrano':'Camila_Osorio',\n",
    "    'Anderson_R.':'Robin_Anderson_(tennis)',\n",
    "    'Radisic_N.':'Nika_Radišić',\n",
    "    'Parrizas_Diaz_N.':'Nuria_Párrizas_Díaz',\n",
    "    'Sun_L.':'Lulu_Sun',\n",
    "    'Sakatsume_H.':'Himeno_Sakatsume',\n",
    "    'Bucsa_C.':'Cristina_Bucșa',\n",
    "    'Jacquemot_E.':'Elsa_Jacquemot',\n",
    "    'Bektas_E.':'Emina_Bektas',\n",
    "    'María-Teresa_Torró-Flor':'María_Teresa_Torró_Flor',\n",
    "    'Yang_Zha.':'Yang_Zhaoxuan',\n",
    "    'Nuudi_M.':'Maileen_Nuudi',\n",
    "    'Okamura_K.':'Kyōka_Okamura',\n",
    "    'Falkowska_W.':'Weronika_Falkowska',\n",
    "    'Talaba_G.':'Gabriela_Lee',\n",
    "    'Kulambayeva_Z.':'Zhibek_Kulambayeva',\n",
    "    'Fruhvirtova_B.':'Linda_Fruhvirtová',\n",
    "    'Falkner_Z.':'Živa_Falkner',\n",
    "    'Harrison_Ca.':'Catherine_Harrison_(tennis)',\n",
    "    'Brace_C.':'Cadence_Brace',\n",
    "    'Radwanska_U.':'Agnieszka_Radwańska',\n",
    "    'Eala_A.':'Alex_Eala',\n",
    "    'Plazas_J.':'Jessica_Plazas',\n",
    "    'Grey_S.':'Sarah_Beth_Grey',\n",
    "    'Gervais_J.':'Julie_Gervais',\n",
    "    'Raducanu_E.':'Emma_Raducanu',\n",
    "    'Carle_M.':'María_Carlé',\n",
    "    'Tjandramulia_O.':'Olivia_Tjandramulia',\n",
    "    'Di_Sarra_F.':'Federica_Di_Sarra',\n",
    "    'Olyanovskaya_V.':'Valeriia_Olianovskaia',\n",
    "    'Kubka_M.':'Martyna_Kubka',\n",
    "    'McNally_C.':'Caty_McNally',\n",
    "    'Natalija_Kostic':'Natalija_Stevanović',\n",
    "    'Baszak_W.':'Weronika_Baszak',\n",
    "    'Papamichail_D.':'Despina_Papamichail',\n",
    "    'Bhatia_R.':'Riya_Bhatia',\n",
    "    'Chwalinska_M.':'Maja_Chwalińska',\n",
    "    'Havlickova_L.':'Lucie_Havlíčková',\n",
    "    'Hartono_A.':'Arianne_Hartono',\n",
    "    'Hontama_M.':'Mai_Hontama',\n",
    "    'Gleason_Q.':'Quinn_Gleason',\n",
    "    'Burrage_J.':'Jodie_Burrage',\n",
    "    'Hatouka_Y.':'Yuliya_Hatouka',\n",
    "    'Pliskova_Kr.':'Kristýna_Plíšková',\n",
    "    'Lys_E.':'Eva_Lys',\n",
    "    'Gadecki_O.':'Olivia_Gadecki',\n",
    "    'Rodionova_Ar.':'Arina_Rodionova',\n",
    "    'Lee_G.':'Gabriela_Lee',\n",
    "    'Malygina_E.':'Elena_Malõgina',\n",
    "    'Stefanini_L.':'Lucrezia_Stefanini',\n",
    "    'Sutjiadi_A.':'Aldila_Sutjiadi',\n",
    "    'Jeanjean_L.':'Léolia_Jeanjean',\n",
    "    'Miyazaki_Y.':'Yuriko_Miyazaki',\n",
    "    'Maria_Herazo_Gonzalez':'María_Herazo_González',\n",
    "    'Tkacheva_M.':'Mariia_Tkacheva',\n",
    "    'Mendez_S.':'Seone_Mendez',\n",
    "    'Rodionova_An.':'Arina_Rodionova',\n",
    "    'Saville_D.':'Daria_Saville',\n",
    "    'Mishina_D.':'Daria_Mishina',\n",
    "    'Andreea_Rosca':'Andreea_Roșca',\n",
    "    'Babel_O.':'Océane_Babel',\n",
    "    'Ji-Hee_Choi':'Choi_Ji-hee',\n",
    "    'Anshba_A.':'Amina_Anshba',\n",
    "    'Brancaccio_N.':'Nuria_Brancaccio',\n",
    "    'Shymanovich_I.':'Iryna_Shymanovich',\n",
    "    'Mboko_V.':'Victoria_Mboko',\n",
    "    'Zakharova_A.':'Maria_Zakharova',\n",
    "    'Riske-Amritraj_A.':'Alison_Riske-Amritraj',\n",
    "    'Gasanova_A.':'Anastasia_Gasanova',\n",
    "    'Selekhmeteva_O.':'Oksana_Selekhmeteva',\n",
    "    'Wagner_S.':'Stephanie_Wagner',\n",
    "    'Tikhonova_A.':'Anastasia_Tikhonova_(tennis)',\n",
    "    'Da_Silva_Fick_G.':'Gabriella_Da_Silva-Fick',\n",
    "    'Jani_R-L.':'Réka_Luca_Jani',\n",
    "    'Avanesyan_E.':'Elina_Avanesyan',\n",
    "    'Silva_E.':'Eden_Silva',\n",
    "    'Monroy_Y.':'Yuliana_Monroy',\n",
    "    'Raducànu_E.':'Emma_Raducanu',\n",
    "    'Zuger_J.':'Joanne_Züger',\n",
    "    'Andreeva_M.':'Erika_Andreeva',\n",
    "    'Salkova_D.':'Dominika_Šalková',\n",
    "    'Parks_A.':'Alycia_Parks',\n",
    "    'Snigur_D.':'Daria_Snigur',\n",
    "    'Davis_L.':'Lauren_Davis',\n",
    "} # Introduce new player:wikipedia_page dictionary.\n",
    "player_dict = player_dict | new_player_dict\n",
    "\n",
    "wta_matches.replace({'Winner': player_dict}, inplace=True)\n",
    "wta_matches.replace({'Loser': player_dict}, inplace=True)"
   ],
   "metadata": {
    "collapsed": false,
    "ExecuteTime": {
     "end_time": "2023-05-10T13:32:13.729824100Z",
     "start_time": "2023-05-10T13:32:12.159824Z"
    }
   }
  },
  {
   "cell_type": "markdown",
   "source": [
    "## 2. Page view counts."
   ],
   "metadata": {
    "collapsed": false
   }
  },
  {
   "cell_type": "code",
   "execution_count": null,
   "outputs": [],
   "source": [
    "request_url = 'https://wikimedia.org/api/rest_v1/metrics/pageviews/'\\\n",
    "              'per-article/en.wikipedia.org/all-access/all-agents/'\n",
    "headers = {'User-Agent': 'Mozilla/5.0 (Windows NT 10.0; Win64; x64) AppleWebKit/537.36'\n",
    "                         '(KHTML, like Gecko) Chrome/105.0.0.0 Safari/537.36',\n",
    "           'From': 'https://github.com/Faxulous/notFeelingTheBuzz'}\n",
    "all_p_requests = []\n",
    "for player in list(player_dict.values()):\n",
    "    try:\n",
    "        p_request = requests.get(request_url + f'{player}/daily/20150101/20230505', headers=headers).json()[\"items\"]\n",
    "    except:\n",
    "        pass\n",
    "    all_p_requests.extend(p_request)\n",
    "\n",
    "# Convert combined JSON data to a pandas dataframe\n",
    "df = pd.DataFrame(all_p_requests)\n",
    "\n",
    "# Convert 'timestamp' to datetime format and set it as the index\n",
    "df['timestamp'] = pd.to_datetime(df['timestamp'], format='%Y%m%d00')\n",
    "df.set_index('timestamp', inplace=True)\n",
    "# Pivot the dataframe to have 'article' names as columns\n",
    "pivot_df = df.pivot_table(values='views', columns='article', index=df.index)"
   ],
   "metadata": {
    "collapsed": false,
    "is_executing": true,
    "ExecuteTime": {
     "start_time": "2023-05-10T13:34:09.704013900Z"
    }
   }
  },
  {
   "cell_type": "code",
   "execution_count": null,
   "outputs": [],
   "source": [
    "for col in pivot_df.columns:\n",
    "    pivot_df[col] = pivot_df[col].mask(pivot_df[col].notna().cummax().shift(fill_value=False), pivot_df[col].fillna(0))"
   ],
   "metadata": {
    "collapsed": false,
    "is_executing": true
   }
  },
  {
   "cell_type": "code",
   "execution_count": null,
   "outputs": [],
   "source": [
    "# Function to get the day before value and median value\n",
    "def get_values(article, date):\n",
    "    start_date = date - timedelta(days=366)\n",
    "    end_date = date - timedelta(days=1)\n",
    "\n",
    "    try:\n",
    "        past_year_data = pivot_df.loc[start_date:end_date, article]\n",
    "    except KeyError:\n",
    "        failed_articles.append(article)\n",
    "        return (float('nan'), float('nan'))\n",
    "    #print(past_year_data.isna().sum())\n",
    "    if past_year_data.isna().sum() > 0:\n",
    "        return (float('nan'), float('nan'))\n",
    "    \n",
    "    day_before_value = past_year_data.iloc[-1]\n",
    "    median_value = past_year_data.iloc[:-1].median()\n",
    "    return (day_before_value, median_value)\n",
    "\n",
    "failed_articles = []\n",
    "wta_matches['Date'] = pd.to_datetime(wta_matches['Date'])\n",
    "# Apply the get_values function to the winner and loser columns\n",
    "wta_matches['winner_previous_day_views'], wta_matches['winner_median_views'] = zip(*wta_matches.apply(lambda row: get_values(row['Winner'], row['Date']), axis=1))\n",
    "wta_matches['loser_previous_day_views'], wta_matches['loser_median_views'] = zip(*wta_matches.apply(lambda row: get_values(row['Loser'], row['Date']), axis=1))\n",
    "print(\"Failed articles:\", set(failed_articles))"
   ],
   "metadata": {
    "collapsed": false,
    "is_executing": true
   }
  },
  {
   "cell_type": "code",
   "execution_count": 7,
   "outputs": [
    {
     "name": "stdout",
     "output_type": "stream",
     "text": [
      "Total Rows: 14292\n",
      "Total (Usable) Rows: 13613\n"
     ]
    }
   ],
   "source": [
    "wta_matches = wta_matches.copy()\n",
    "print('Total Rows: '+str(len(wta_matches)))\n",
    "wta_matches.dropna(subset=[\"winner_previous_day_views\", 'winner_median_views', \"loser_previous_day_views\", \"loser_median_views\"], inplace=True)\n",
    "print('Total (Usable) Rows: '+str(len(wta_matches)))"
   ],
   "metadata": {
    "collapsed": false
   }
  },
  {
   "cell_type": "markdown",
   "source": [
    "## 3a. RankDist."
   ],
   "metadata": {
    "collapsed": false
   }
  },
  {
   "cell_type": "code",
   "execution_count": 8,
   "outputs": [],
   "source": [
    "def RankDist_ij(winner_rank: int = 0, loser_rank: int = 0) -> float:\n",
    "    \"\"\"\n",
    "    Calculates the RankDist variable.\n",
    "    If no rank available, use 0.\n",
    "    \"\"\"\n",
    "    if np.isnan(winner_rank):\n",
    "        inverse_wr = 0\n",
    "    else:\n",
    "        inverse_wr = 1 / winner_rank\n",
    "\n",
    "    if np.isnan(loser_rank):\n",
    "        inverse_lr = 0\n",
    "    else:\n",
    "        inverse_lr = 1 / loser_rank\n",
    "    rankdist = -(inverse_wr - inverse_lr)\n",
    "    return rankdist"
   ],
   "metadata": {
    "collapsed": false
   }
  },
  {
   "cell_type": "code",
   "execution_count": 9,
   "outputs": [],
   "source": [
    "wta_matches['WRankDist'] = [RankDist_ij(x,y) for x,y in zip(wta_matches['WRank'], wta_matches['LRank'])]\n",
    "wta_matches['LRankDist'] = [RankDist_ij(y, x) for x, y in zip(wta_matches['WRank'], wta_matches['LRank'])]"
   ],
   "metadata": {
    "collapsed": false
   }
  },
  {
   "cell_type": "markdown",
   "source": [
    "## 3b. WikiBuzz."
   ],
   "metadata": {
    "collapsed": false
   }
  },
  {
   "cell_type": "code",
   "execution_count": 10,
   "outputs": [],
   "source": [
    "def WikiBuzz_ij(winner_pageviews, winner_median, loser_pageviews, loser_median) -> float:\n",
    "    \"\"\"\n",
    "    Calculates the WikiBuzz variable.\n",
    "    \"\"\"\n",
    "    w_ij = winner_pageviews\n",
    "    w_dash_ij = loser_pageviews\n",
    "    wcurl_ij = winner_median if winner_median != 0 else 1\n",
    "    wcurl_dash_ij = loser_median if loser_median != 0 else 1\n",
    "    log_ij = np.log(w_ij / wcurl_ij) if w_ij != 0 else 0 \n",
    "    log_dash_ij = np.log(w_dash_ij / wcurl_dash_ij) if w_dash_ij != 0 else 0 \n",
    "    return log_ij - log_dash_ij"
   ],
   "metadata": {
    "collapsed": false
   }
  },
  {
   "cell_type": "code",
   "execution_count": 11,
   "outputs": [],
   "source": [
    "wta_matches['winner_previous_day_views'] = wta_matches['winner_previous_day_views'].astype(str).astype(float)\n",
    "wta_matches['winner_median_views'] = wta_matches['winner_median_views'].astype(str).astype(float)\n",
    "wta_matches['loser_previous_day_views'] = wta_matches['loser_previous_day_views'].astype(str).astype(float)\n",
    "wta_matches['loser_median_views'] = wta_matches['loser_median_views'].astype(str).astype(float)"
   ],
   "metadata": {
    "collapsed": false
   }
  },
  {
   "cell_type": "code",
   "execution_count": 12,
   "outputs": [],
   "source": [
    "# Using the view columns from above.\n",
    "wta_matches['W_WikiBuzz'] = [WikiBuzz_ij(row[0], row[1], row[2], row[3]) for row in\n",
    "                          zip(wta_matches['winner_previous_day_views'], wta_matches['winner_median_views'],\n",
    "                              wta_matches['loser_previous_day_views'], wta_matches['loser_median_views'])]\n",
    "wta_matches['L_WikiBuzz'] = [WikiBuzz_ij(row[0], row[1], row[2], row[3]) for row in\n",
    "                          zip(wta_matches['winner_previous_day_views'], wta_matches['winner_median_views'],\n",
    "                              wta_matches['loser_previous_day_views'], wta_matches['loser_median_views'])]"
   ],
   "metadata": {
    "collapsed": false
   }
  },
  {
   "cell_type": "markdown",
   "source": [
    "## 3. Cleaned CSV File Produced."
   ],
   "metadata": {
    "collapsed": false
   }
  },
  {
   "cell_type": "code",
   "execution_count": 13,
   "outputs": [],
   "source": [
    "wta_matches_winners = wta_matches[['match_id', 'WTA', 'Winner', 'Date', 'WRankDist', 'W_WikiBuzz',\n",
    "                       'B365W', 'MaxW', 'AvgW']].copy()\n",
    "wta_matches_winners['outcome'] = 1\n",
    "wta_matches_losers = wta_matches[['match_id', 'WTA', 'Loser', 'Date', 'LRankDist', 'L_WikiBuzz',\n",
    "                      'B365L', 'MaxL', 'AvgL']].copy()\n",
    "wta_matches_losers['outcome'] = 0\n",
    "wta_matches_winners.rename({'Winner': 'player', 'Date': 'date', 'WRankDist': 'rankdist', 'W_WikiBuzz': 'wikibuzz',\n",
    "                            'B365W':'B365_Odds', 'MaxW':'Max_Odds', 'AvgW':'Avg_Odds'}, axis=1, inplace=True)\n",
    "wta_matches_losers.rename({'Loser': 'player', 'Date': 'date', 'LRankDist': 'rankdist', 'L_WikiBuzz': 'wikibuzz',\n",
    "                           'B365L':'B365_Odds', 'MaxL':'Max_Odds', 'AvgL':'Avg_Odds'}, axis=1, inplace=True)\n",
    "wta_matches = pd.concat([wta_matches_winners, wta_matches_losers], axis=0)"
   ],
   "metadata": {
    "collapsed": false
   }
  },
  {
   "cell_type": "code",
   "execution_count": 14,
   "outputs": [],
   "source": [
    "# Reset the index and keep the old one\n",
    "wta_matches = wta_matches.sort_index().reset_index(drop=True).rename(columns={'index': 'old_index'})"
   ],
   "metadata": {
    "collapsed": false
   }
  },
  {
   "cell_type": "code",
   "execution_count": 16,
   "outputs": [],
   "source": [
    "bet365cleaning_before = len(wta_matches)"
   ],
   "metadata": {
    "collapsed": false
   }
  },
  {
   "cell_type": "code",
   "execution_count": 18,
   "outputs": [
    {
     "data": {
      "text/plain": "27206"
     },
     "execution_count": 18,
     "metadata": {},
     "output_type": "execute_result"
    }
   ],
   "source": [
    "# Get the indexes of rows where B365_Odds is greater than Max_Odds\n",
    "indexes_to_remove = wta_matches[wta_matches['B365_Odds'] > wta_matches['Max_Odds']].index\n",
    "# Remove the rows using the drop method\n",
    "wta_matches.drop(indexes_to_remove, inplace=True)\n",
    "len(wta_matches)"
   ],
   "metadata": {
    "collapsed": false
   }
  },
  {
   "cell_type": "code",
   "execution_count": 17,
   "outputs": [
    {
     "data": {
      "text/plain": "27226"
     },
     "execution_count": 17,
     "metadata": {},
     "output_type": "execute_result"
    }
   ],
   "source": [
    "bet365cleaning_before"
   ],
   "metadata": {
    "collapsed": false
   }
  },
  {
   "cell_type": "markdown",
   "source": [
    "## 4. Implied Probability / Inverse Odds."
   ],
   "metadata": {
    "collapsed": false
   }
  },
  {
   "cell_type": "code",
   "execution_count": 58,
   "outputs": [],
   "source": [
    "def implied_probability(player_odds) -> float:\n",
    "    return 1 / player_odds\n",
    "\n",
    "wta_matches['inverse_best'] = [implied_probability(x) for x in wta_matches['Max_Odds']]\n",
    "wta_matches['inverse_b365'] = [implied_probability(x) for x in wta_matches['B365_Odds']]\n",
    "wta_matches['inverse_avg'] = [implied_probability(x) for x in wta_matches['Avg_Odds']]\n",
    "\n",
    "wta_matches.drop(columns=['B365_Odds', 'Max_Odds', 'Avg_Odds'], inplace=True)"
   ],
   "metadata": {
    "collapsed": false
   }
  },
  {
   "cell_type": "code",
   "execution_count": 59,
   "outputs": [],
   "source": [
    "wta_matches.to_csv(\"clegg_matches_cleaned.csv\")"
   ],
   "metadata": {
    "collapsed": false
   }
  },
  {
   "cell_type": "code",
   "execution_count": null,
   "outputs": [],
   "source": [],
   "metadata": {
    "collapsed": false
   }
  }
 ],
 "metadata": {
  "kernelspec": {
   "display_name": "Python 3",
   "language": "python",
   "name": "python3"
  },
  "language_info": {
   "codemirror_mode": {
    "name": "ipython",
    "version": 2
   },
   "file_extension": ".py",
   "mimetype": "text/x-python",
   "name": "python",
   "nbconvert_exporter": "python",
   "pygments_lexer": "ipython2",
   "version": "2.7.6"
  }
 },
 "nbformat": 4,
 "nbformat_minor": 0
}
