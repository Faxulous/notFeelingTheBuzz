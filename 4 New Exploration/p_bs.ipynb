{
 "cells": [
  {
   "cell_type": "code",
   "execution_count": 1,
   "outputs": [],
   "source": [
    "import pandas as pd"
   ],
   "metadata": {
    "collapsed": false,
    "ExecuteTime": {
     "end_time": "2024-01-23T11:35:13.461542900Z",
     "start_time": "2024-01-23T11:35:13.445527200Z"
    }
   }
  },
  {
   "cell_type": "code",
   "execution_count": 3,
   "outputs": [],
   "source": [
    "dataset = pd.read_csv(r\"G:\\My Drive\\Work\\PhD\\projects\\notFeelingTheBuzz\\DataFiles\\ramirez_matches_cleaned.csv\")"
   ],
   "metadata": {
    "collapsed": false,
    "ExecuteTime": {
     "end_time": "2024-01-23T11:35:30.319919200Z",
     "start_time": "2024-01-23T11:35:30.249855600Z"
    }
   }
  },
  {
   "cell_type": "code",
   "execution_count": 5,
   "outputs": [],
   "source": [
    "dataset['b365'] = 1/dataset['inverse_b365']"
   ],
   "metadata": {
    "collapsed": false,
    "ExecuteTime": {
     "end_time": "2024-01-23T11:36:29.972065900Z",
     "start_time": "2024-01-23T11:36:29.948045400Z"
    }
   }
  },
  {
   "cell_type": "code",
   "execution_count": 36,
   "metadata": {
    "collapsed": true,
    "ExecuteTime": {
     "end_time": "2024-01-23T12:11:38.371499200Z",
     "start_time": "2024-01-23T12:04:25.147686700Z"
    }
   },
   "outputs": [
    {
     "name": "stdout",
     "output_type": "stream",
     "text": [
      "pbs: 0.2184\n"
     ]
    }
   ],
   "source": [
    "def simulate_random_betting(dataset, nbets):\n",
    "    chosen_bets = dataset.sample(n=nbets)\n",
    "    bankroll = nbets\n",
    "    for _, bet in chosen_bets.iterrows():\n",
    "        if bet['outcome'] == 1:\n",
    "            # Win: Add profit (odds - 1)\n",
    "            bankroll += bet['b365'] - 1\n",
    "        else:\n",
    "            # Loss: Subtract the stake (1 unit)\n",
    "            bankroll -= 1\n",
    "    return bankroll / nbets\n",
    "\n",
    "def calculate_pbs(dataset, original_return, nbets, num_simulations=100000):\n",
    "    greater_or_equal_returns = sum(simulate_random_betting(dataset, nbets) >= original_return for _ in range(num_simulations))\n",
    "    return greater_or_equal_returns / num_simulations\n",
    "\n",
    "pbs = calculate_pbs(dataset, 1.0081, 87)\n",
    "\n",
    "print(f\"pbs: {pbs}\")"
   ]
  }
 ],
 "metadata": {
  "kernelspec": {
   "display_name": "Python 3",
   "language": "python",
   "name": "python3"
  },
  "language_info": {
   "codemirror_mode": {
    "name": "ipython",
    "version": 2
   },
   "file_extension": ".py",
   "mimetype": "text/x-python",
   "name": "python",
   "nbconvert_exporter": "python",
   "pygments_lexer": "ipython2",
   "version": "2.7.6"
  }
 },
 "nbformat": 4,
 "nbformat_minor": 0
}
