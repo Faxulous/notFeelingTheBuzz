{
 "cells": [
  {
   "cell_type": "markdown",
   "metadata": {
    "collapsed": false,
    "jupyter": {
     "outputs_hidden": false
    }
   },
   "source": [
    "# Data Processing (CC)\n",
    "Covered in this notebook:\n",
    "1. Download match data from tennis-data.co.uk\n",
    "2. Obtain pageview counts for each player.\n",
    "2. Adding columns for all variables described in paper:\n",
    "    a. RankDist.\n",
    "    b. WikiBuzz.\n",
    "    c. Implied Probability / Inverse Odds.\n",
    "3. Produce a csv file ready for further use."
   ]
  },
  {
   "cell_type": "code",
   "execution_count": 1,
   "metadata": {
    "collapsed": false,
    "jupyter": {
     "outputs_hidden": false
    },
    "ExecuteTime": {
     "end_time": "2024-07-09T13:54:43.596857100Z",
     "start_time": "2024-07-09T13:54:42.401801900Z"
    }
   },
   "outputs": [],
   "source": [
    "# Imports, Remove Warnings for notebook readability.\n",
    "import pandas as pd\n",
    "from datetime import datetime, timedelta\n",
    "import warnings\n",
    "import requests\n",
    "from statistics import median\n",
    "import numpy as np\n",
    "import json\n",
    "import pandas as pd\n",
    "from tqdm.auto import tqdm\n",
    "warnings.filterwarnings(\"ignore\", category=UserWarning)"
   ]
  },
  {
   "cell_type": "code",
   "execution_count": 2,
   "metadata": {
    "ExecuteTime": {
     "end_time": "2024-07-09T13:54:56.714245300Z",
     "start_time": "2024-07-09T13:54:43.598856900Z"
    }
   },
   "outputs": [],
   "source": [
    "# Load all data.\n",
    "url = 'http://www.tennis-data.co.uk/{year}w/{year}.xlsx'\n",
    "wta_matchess = [(pd.read_excel(url.format(year=str(x)), sheet_name=str(x))) for x in range(2015, 2023 + 1)]\n",
    "wta_matches = pd.concat(wta_matchess, axis=0, ignore_index=True)\n",
    "wta_matches['Date'] = pd.to_datetime(wta_matches['Date'])\n",
    "wta_matches = wta_matches[(wta_matches[\"Date\"] > '2015-07-01') & (wta_matches[\"Date\"] <= '2023-08-31')]\n",
    "wta_matches['match_id'] = wta_matches.index # Index column.\n",
    "wta_matches['Winner'] = wta_matches['Winner'].str.replace(' ', '_')\n",
    "wta_matches['Loser'] = wta_matches['Loser'].str.replace(' ', '_')"
   ]
  },
  {
   "cell_type": "code",
   "execution_count": 3,
   "metadata": {
    "collapsed": false,
    "jupyter": {
     "outputs_hidden": false
    },
    "ExecuteTime": {
     "end_time": "2024-07-09T13:54:58.730419200Z",
     "start_time": "2024-07-09T13:54:56.731261Z"
    }
   },
   "outputs": [],
   "source": [
    "# Link players to their Wikipedia pages.\n",
    "url = \"https://drive.google.com/file/d/1PP6qoLuh43Fdkj5oVfqTKN4TWe6dcwfd/view?usp=share_link\"\n",
    "path = 'https://drive.google.com/uc?export=download&id='+url.split('/')[-2]\n",
    "players = pd.read_csv(path)\n",
    "\n",
    "player_dict = dict(zip(players.odds_player, players.player))\n",
    "player_dict = {k.replace(' ', '_'): v.replace(' ', '_') for k, v in player_dict.items() if not isinstance(v, float)}\n",
    "new_player_dict = {\n",
    "    'Wang_X.':'Wang_Xiyu',\n",
    "    'Wang_Xiy.':'Wang_Xiyu',\n",
    "    'Stephens_S.':'Sloane_Stephens',\n",
    "    'Pliskova_Ka.':'Karolína_Plíšková',\n",
    "    'Williams_S.':'Serena_Williams',\n",
    "    'Pliskova_Kr.':'Kristýna_Plíšková',\n",
    "    'Alexandra_Krunic':'Aleksandra_Krunić',\n",
    "    'Yingying_Duan':'Duan_Yingying',\n",
    "    'Lin_Zhu':'Zhu_Lin_(tennis)',\n",
    "    'Rodionova_Ar.':'Arina_Rodionova',\n",
    "    'Carina_Witthoeft':'Carina_Witthöft',\n",
    "    'Stefanie_Voegele':'Stefanie_Vögele',\n",
    "    'Sílvia_Soler-Espinosa':'Sílvia_Soler_Espinosa',\n",
    "    'Xinyun_Han':'Han_Xinyun',\n",
    "    'Yafan_Wang':'Wang_Yafan',\n",
    "    'Jana_Cepelova':'Jana_Čepelová',\n",
    "    'Zhang_Shuai':'Zhang_Shuai',\n",
    "    'Catherine_McNally':'Caty_McNally',\n",
    "    'Viktoria_Kuzmova':'Viktória_Kužmová',\n",
    "    'Barbora_Krejcikova':'Barbora_Krejčíková',\n",
    "    'En-Shuo_Liang':'Liang_En-shuo',\n",
    "    'Chloe_Paquet':'Chloé_Paquet',\n",
    "    'Su-Wei_Hsieh':'Hsieh_Su-wei',\n",
    "    'Saisai_Zheng':'Zheng_Saisai',\n",
    "    'Marketa_Vondrousova':'Markéta_Vondroušová',\n",
    "    'Fangzhou_Liu':'Liu_Fangzhou',\n",
    "    'Patricia_Maria_Tig':'Patricia_Maria_Țig',\n",
    "    'Julia_Goerges':'Julia_Görges',\n",
    "    'Lesley_Pattinama_Kerkhove':'Lesley_Pattinama_Kerkhove',\n",
    "    'Tamara_Zidansek':'Tamara_Zidanšek',\n",
    "    'Iga_Swiatek':'Iga_Świątek',\n",
    "    'Anna_Karolina_Schmiedlova':'Anna_Karolína_Schmiedlová',\n",
    "    'Shuai_Peng':'Peng_Shuai',\n",
    "    'Leonie_Kung':'Leonie_Küng',\n",
    "    'Radwanska_U.':'Agnieszka_Radwańska',\n",
    "    'Barbora_Strycova':'Barbora_Strýcová',\n",
    "    'Cagla_Buyukakcay':'Çağla_Büyükakçay',\n",
    "    'Rodionova_An.':'Arina_Rodionova',\n",
    "    'Alexandra_Cadantu':'Alexandra_Cadanțu-Ignatik',\n",
    "    'Marie_Bouzkova':'Marie_Bouzková',\n",
    "    'Denisa_Allertova':'Denisa_Šátralová',\n",
    "    'Lucie_Hradecka':'Lucie_Hradecká',\n",
    "    'Ivana_Jorovic':'Ivana_Jorović',\n",
    "    'Maia_Lumsden':'Maia_Lumsden',\n",
    "    'Mirjana_Lucic':'Mirjana_Lučić-Baroni',\n",
    "    'Hailey_Baptiste':'Hailey_Baptiste',\n",
    "    'Katerina_Siniakova':'Kateřina_Siniaková',\n",
    "    'Mihaela_Buzarnescu':'Mihaela_Buzărnescu',\n",
    "    'Qiang_Wang':'Wang_Qiang_(tennis)',\n",
    "    'Xiaodi_You':'You_Xiaodi',\n",
    "    'Paula_Cristina_Goncalves':'Paula_Cristina_Gonçalves',\n",
    "    'Aliona_Bolsova':'Aliona_Bolsova',\n",
    "    'Tereza_Smitkova':'Tereza_Smitková',\n",
    "    'Xinyu_Wang':'Wang_Xinyu',\n",
    "    'Leylah_Fernandez':'Leylah_Fernandez',\n",
    "    'Magdalena_Rybarikova':'Magdaléna_Rybáriková',\n",
    "    'Johanna_Larsson':'Johanna_Larsson',\n",
    "    'Mirjana_Lucic-Baroni':'Mirjana_Lučić-Baroni',\n",
    "    'Danka_Kovinic':'Danka_Kovinić',\n",
    "    'Tereza_Martincova':'Tereza_Martincová',\n",
    "    'Montserrat_Gonzalez':'Montserrat_González',\n",
    "    'Maria_Herazo_Gonzalez':'María_Herazo_González',\n",
    "    'Ipek_Soylu':'İpek_Soylu',\n",
    "    'Petra_Martic':'Petra_Martić',\n",
    "    'Timea_Babos':'Tímea_Babos',\n",
    "    'Nina_Stojanovic':'Nina_Stojanović',\n",
    "    'Na-Lae_Han':'Han_Na-lae',\n",
    "    'Jia-Jing_Lu':'Lu_Jiajing', #From 2nd iteration, losers column...\n",
    "    'Lesley_Pattinama_Kerkhove':'Lesley_Pattinama_Kerkhove',\n",
    "    'Ya-Hsuan_Lee':'Lee_Ya-hsuan',\n",
    "    'Alexandra_Cadanțu-Ignatik':'Alexandra_Cadanțu-Ignatik',\n",
    "    'Maria_Mateas':'Maria_Mateas',\n",
    "    'Selena_Janicijevic':'Séléna_Janicijevic',\n",
    "    'Jessica_Pieri':'Jessica_Pieri',\n",
    "    'Denisa_Šátralová':'Denisa_Šátralová',\n",
    "    'Kamilla_Rakhimova':'Kamilla_Rakhimova',\n",
    "    'Tess_Sugnaux':'Tess_Sugnaux',\n",
    "    'Maia_Lumsden':'Maia_Lumsden',\n",
    "    'Mirjam_Bjorklund':'Mirjam_Björklund',\n",
    "    'Alyssa_Mayo':'Alyssa_Mayo',\n",
    "    'Komola_Umarova':'Komola_Umarova',\n",
    "    'Ng_Kwan-yau':'Ng_Kwan-yau',\n",
    "    'Cristiana_Ferrando':'Cristiana_Ferrando',\n",
    "    'Martina_Capurro_Taborda':'Martina_Capurro_Taborda',\n",
    "    'Elena-Gabriela_Ruse':'Elena-Gabriela_Ruse',\n",
    "    'Freya_Christie':'Freya_Christie',\n",
    "    'Jovana_Jovic':'Jovana_Jović',\n",
    "    'Mira_Antonitsch':'Mira_Antonitsch',\n",
    "    'Dayana_Yastremska':'Dayana_Yastremska',\n",
    "    'Emiliana_Arango':'Emiliana_Arango',\n",
    "    'Nadia_Echeverria_Alam':'Nadia_Echeverría_Alam',\n",
    "    'Frances_Altick':'Frances_Altick',\n",
    "    'Ayaka_Okuno':'Ayaka_Okuno',\n",
    "    'Anastasiya_Shoshyna':'Anastasiya_Shoshyna',\n",
    "    'Jesika_Maleckova':'Jesika_Malečková',\n",
    "    'Wushuang_Zheng':'Zheng_Wushuang',\n",
    "    'Karolina_Muchova':'Karolína_Muchová',\n",
    "    'Varvara_Gracheva':'Varvara_Gracheva',\n",
    "    'Baindl_K.':'Kateryna_Baindl', # third iteration here\n",
    "    'Uchijima_M.':'Moyuka_Uchijima',\n",
    "    'Kalieva_E.':'Elvina_Kalieva',\n",
    "    'Osorio_M.':'Camila_Osorio',\n",
    "    'Naito_Y.':'Yuki_Naito',\n",
    "    'Lazaro_A.':'Andrea_Lázaro_García',\n",
    "    'Alves_C.':'Carolina_Alves_(tennis)',\n",
    "    'Schunk_N.':'Nastasja_Schunk',\n",
    "    'Saigo_R.':'Rina_Saigo',\n",
    "    'Ioana_Minca':'Ioana_Mincă',\n",
    "    'Zheng_Q.':'Zheng_Qinwen',\n",
    "    'Guth_M.':'Mara_Guth',\n",
    "    'Palicova_B.':'Barbora_Palicová',\n",
    "    'Shibahara_E.':'Ena_Shibahara',\n",
    "    'Pliskova_Ka.':'Karolína_Plíšková',\n",
    "    'Reyngold_E.':'Ekaterina_Reyngold',\n",
    "    'Middendorf_J.':'Julia_Middendorf',\n",
    "    'Cengiz_B.':'Berfu_Cengiz',\n",
    "    'Jeong_B.':'Jeong_Bo-young',\n",
    "    'Szabanin_N.':'Natália_Szabanin',\n",
    "    'Stakusic_M.':'Marina_Stakusic',\n",
    "    'Mandlik_E.':'Elizabeth_Mandlik',\n",
    "    'Contreras_Gomez_F.':'Fernanda_Contreras_Gómez',\n",
    "    'Paoletti_M.':'Matilde_Paoletti',\n",
    "    'Lamens_S.':'Suzan_Lamens',\n",
    "    'Sherif_M.':'Mayar_Sherif',\n",
    "    'Alexandra_Krunic':'Aleksandra_Krunić',\n",
    "    'Bartunkova_N.':'Nikola_Bartůňková',\n",
    "    'Jones_F.':'Francesca_Jones_(tennis)',\n",
    "    'Yashina_E.':'Ekaterina_Yashina',\n",
    "    'Mariana_Duque-Mariño':'Mariana_Duque_Mariño',\n",
    "    'Bassols_Ribera_M.':'Marina_Bassols_Ribera',\n",
    "    'Fruhvirtova_L.':'Linda_Fruhvirtová',\n",
    "    'Laura_Pous-Tio':'Laura_Pous_Tió',\n",
    "    'Williams_S.':'Serena_Williams',\n",
    "    'Serban_R.':'Raluca_Șerban',\n",
    "    'Caregaro_M.':'Martina_Caregaro',\n",
    "    'Gabueva_A.':'Angelina_Gabueva',\n",
    "    'Stearns_P.':'Peyton_Stearns',\n",
    "    'Na-Lae_Han':'Han_Na-lae',\n",
    "    'Scott_K.':'Katrina_Scott',\n",
    "    'Lovric_P.':'Pia_Lovrič',\n",
    "    'Bandecchi_S.':'Susan_Bandecchi',\n",
    "    'Preston_T.':'Taylah_Preston',\n",
    "    'Bronzetti_L.':'Lucia_Bronzetti',\n",
    "    'Berberovic_N.':'Nefisa_Berberović',\n",
    "    'Herazo_M.':'María_Herazo_González',\n",
    "    'Montgomery_R.':'Robin_Montgomery',\n",
    "    'Turati_B.':'Bianca_Turati',\n",
    "    'Hewitt_D.':'Dalayna_Hewitt',\n",
    "    'Hanatani_N.':'Nagi_Hanatani',\n",
    "    'Zueger_J.':'Joanne_Züger',\n",
    "    'Noskova_L.':'Linda_Nosková',\n",
    "    'Marcinko_P.':'Petra_Marčinko',\n",
    "    'Kraus_S.':'Sinja_Kraus',\n",
    "    'Chang_S.':'Sophie_Chang',\n",
    "    'Yu_E.':'Eleana_Yu',\n",
    "    'Krawczyk_D.':'Desirae_Krawczyk',\n",
    "    'Krueger_A.':'Ashlyn_Krueger',\n",
    "    'Prisacariu_A.':'Andreea_Prisăcariu',\n",
    "    'Jimenez_V.':'Victoria_Jiménez_Kasintseva',\n",
    "    'En-Shuo_Liang':'Liang_En-shuo',\n",
    "    'Monnet_C.':'Carole_Monnet',\n",
    "    'Radivojevic_L.':'Lola_Radivojević',\n",
    "    'Ruse_E-G.':'Elena-Gabriela_Ruse',\n",
    "    'Morderger_Y.':'Yana_Morderger',\n",
    "    'Burillo_I.':'Irene_Burillo_Escorihuela',\n",
    "    'Sebov_K.':'Katherine_Sebov',\n",
    "    'Mansouri_Y.':'Yasmine_Mansouri',\n",
    "    'Bejlek_S.':'Sára_Bejlek',\n",
    "    'Jang_S.':'Jang_Su-jeong',\n",
    "    'Wurth_T.':'Tara_Würth',\n",
    "    'Yingying_Duan':'Duan_Yingying',\n",
    "    'Pigato_L.':'Lisa_Pigato',\n",
    "    'Back_D.':'Back_Da-yeon',\n",
    "    'Glushko_L.':'Lina_Glushko',\n",
    "    'Kartal_S.':'Sonay_Kartal',\n",
    "    'Andreeva_E.':'Erika_Andreeva',\n",
    "    'Ignatik_A.':'Alexandra_Cadanțu-Ignatik',\n",
    "    'Bassols_M.':'Marina_Bassols_Ribera',\n",
    "    'Cross_K.':'Kayla_Cross',\n",
    "    'Yifan_Xu':'Xu_Yifan',\n",
    "    'Maria_Camila_Osorio_Serrano':'Camila_Osorio',\n",
    "    'Anderson_R.':'Robin_Anderson_(tennis)',\n",
    "    'Radisic_N.':'Nika_Radišić',\n",
    "    'Parrizas_Diaz_N.':'Nuria_Párrizas_Díaz',\n",
    "    'Sun_L.':'Lulu_Sun',\n",
    "    'Sakatsume_H.':'Himeno_Sakatsume',\n",
    "    'Bucsa_C.':'Cristina_Bucșa',\n",
    "    'Jacquemot_E.':'Elsa_Jacquemot',\n",
    "    'Bektas_E.':'Emina_Bektas',\n",
    "    'María-Teresa_Torró-Flor':'María_Teresa_Torró_Flor',\n",
    "    'Yang_Zha.':'Yang_Zhaoxuan',\n",
    "    'Nuudi_M.':'Maileen_Nuudi',\n",
    "    'Okamura_K.':'Kyōka_Okamura',\n",
    "    'Falkowska_W.':'Weronika_Falkowska',\n",
    "    'Talaba_G.':'Gabriela_Lee',\n",
    "    'Kulambayeva_Z.':'Zhibek_Kulambayeva',\n",
    "    'Fruhvirtova_B.':'Linda_Fruhvirtová',\n",
    "    'Falkner_Z.':'Živa_Falkner',\n",
    "    'Harrison_Ca.':'Catherine_Harrison_(tennis)',\n",
    "    'Brace_C.':'Cadence_Brace',\n",
    "    'Radwanska_U.':'Agnieszka_Radwańska',\n",
    "    'Eala_A.':'Alex_Eala',\n",
    "    'Plazas_J.':'Jessica_Plazas',\n",
    "    'Grey_S.':'Sarah_Beth_Grey',\n",
    "    'Gervais_J.':'Julie_Gervais',\n",
    "    'Raducanu_E.':'Emma_Raducanu',\n",
    "    'Carle_M.':'María_Carlé',\n",
    "    'Tjandramulia_O.':'Olivia_Tjandramulia',\n",
    "    'Di_Sarra_F.':'Federica_Di_Sarra',\n",
    "    'Olyanovskaya_V.':'Valeriia_Olianovskaia',\n",
    "    'Kubka_M.':'Martyna_Kubka',\n",
    "    'McNally_C.':'Caty_McNally',\n",
    "    'Natalija_Kostic':'Natalija_Stevanović',\n",
    "    'Baszak_W.':'Weronika_Baszak',\n",
    "    'Papamichail_D.':'Despina_Papamichail',\n",
    "    'Bhatia_R.':'Riya_Bhatia',\n",
    "    'Chwalinska_M.':'Maja_Chwalińska',\n",
    "    'Havlickova_L.':'Lucie_Havlíčková',\n",
    "    'Hartono_A.':'Arianne_Hartono',\n",
    "    'Hontama_M.':'Mai_Hontama',\n",
    "    'Gleason_Q.':'Quinn_Gleason',\n",
    "    'Burrage_J.':'Jodie_Burrage',\n",
    "    'Hatouka_Y.':'Yuliya_Hatouka',\n",
    "    'Pliskova_Kr.':'Kristýna_Plíšková',\n",
    "    'Lys_E.':'Eva_Lys',\n",
    "    'Gadecki_O.':'Olivia_Gadecki',\n",
    "    'Rodionova_Ar.':'Arina_Rodionova',\n",
    "    'Lee_G.':'Gabriela_Lee',\n",
    "    'Malygina_E.':'Elena_Malõgina',\n",
    "    'Stefanini_L.':'Lucrezia_Stefanini',\n",
    "    'Sutjiadi_A.':'Aldila_Sutjiadi',\n",
    "    'Jeanjean_L.':'Léolia_Jeanjean',\n",
    "    'Miyazaki_Y.':'Yuriko_Miyazaki',\n",
    "    'Maria_Herazo_Gonzalez':'María_Herazo_González',\n",
    "    'Tkacheva_M.':'Mariia_Tkacheva',\n",
    "    'Mendez_S.':'Seone_Mendez',\n",
    "    'Rodionova_An.':'Arina_Rodionova',\n",
    "    'Saville_D.':'Daria_Saville',\n",
    "    'Mishina_D.':'Daria_Mishina',\n",
    "    'Andreea_Rosca':'Andreea_Roșca',\n",
    "    'Babel_O.':'Océane_Babel',\n",
    "    'Ji-Hee_Choi':'Choi_Ji-hee',\n",
    "    'Anshba_A.':'Amina_Anshba',\n",
    "    'Brancaccio_N.':'Nuria_Brancaccio',\n",
    "    'Shymanovich_I.':'Iryna_Shymanovich',\n",
    "    'Mboko_V.':'Victoria_Mboko',\n",
    "    'Zakharova_A.':'Maria_Zakharova',\n",
    "    'Riske-Amritraj_A.':'Alison_Riske-Amritraj',\n",
    "    'Gasanova_A.':'Anastasia_Gasanova',\n",
    "    'Selekhmeteva_O.':'Oksana_Selekhmeteva',\n",
    "    'Wagner_S.':'Stephanie_Wagner',\n",
    "    'Tikhonova_A.':'Anastasia_Tikhonova_(tennis)',\n",
    "    'Da_Silva_Fick_G.':'Gabriella_Da_Silva-Fick',\n",
    "    'Jani_R-L.':'Réka_Luca_Jani',\n",
    "    'Avanesyan_E.':'Elina_Avanesyan',\n",
    "    'Silva_E.':'Eden_Silva',\n",
    "    'Monroy_Y.':'Yuliana_Monroy',\n",
    "    'Raducànu_E.':'Emma_Raducanu',\n",
    "    'Zuger_J.':'Joanne_Züger',\n",
    "    'Andreeva_M.':'Erika_Andreeva',\n",
    "    'Salkova_D.':'Dominika_Šalková',\n",
    "    'Parks_A.':'Alycia_Parks',\n",
    "    'Snigur_D.':'Daria_Snigur',\n",
    "    'Davis_L.':'Lauren_Davis',\n",
    "    'Jiang_X.':'Jiang_Xinyu',\n",
    "    'Ristic_M.':'Mia_Ristić',\n",
    "    'Semenistaja_D.':'Darja_Semeņistaja',\n",
    "    'Vicens_Mas_R.':'Rosa_Vicens_Mas',\n",
    "    'Appleton_E.':'Emily_Appleton_(tennis)',\n",
    "    'Seidel_E.':'Ella_Seidel',\n",
    "    'Schuurs_D.':'Demi_Schuurs',\n",
    "    'Zantedeschi_A.':'Aurora_Zantedeschi',\n",
    "    'Routliffe_E.':'Erin_Routliffe',\n",
    "    'Toth_A.':'Amarissa_Kiara_Tóth',\n",
    "    'Volodko_K.':'Kateryna_Volodko',\n",
    "    'Ma_Y.':'Ma_Yexin',\n",
    "    'Ghioroaie_I.G':'Ilona_Georgiana_Ghioroaie',\n",
    "    'Fita_Boluda_A.':'Ángela_Fita_Boluda',\n",
    "    'Fung_S.':'Stacey_Fung',\n",
    "    'Gibson_T.':'Talia_Gibson',\n",
    "    'Zhang_Yi.':'Zhang_Shuai',\n",
    "    'Stevanovic_N.':'Natalija_Stevanović',\n",
    "    'Iliev_S.':'Sarah_Iliev',\n",
    "    'Cherubini_D.':'Diletta_Cherubini', \n",
    "    'Bouzas_Maneiro_J.':'Jéssica_Bouzas_Maneiro',\n",
    "    'Hunter_S.':'Storm_Hunter', \n",
    "    'Papadakis_L.':'Lena_Papadakis', \n",
    "    'Ngounoue_C.':'Clervie_Ngounoue', \n",
    "    'Noha_Akugue_N.':'Noma_Noha_Akugue', \n",
    "    'Duerst_J.':'Jenny_Dürst', \n",
    "    'Vedder_E.':'Eva_Vedder', \n",
    "    'Ku_Y.':'Ku_Yeon-woo', \n",
    "    'Bai_Z.':'Bai_Zhuoxuan', \n",
    "    'Samudio_A.':'Antonia_Samudio', \n",
    "    'Riera_J.':'Julia_Riera', \n",
    "    'Timofeeva_M.':'Maria_Timofeeva', \n",
    "    'Tian_F.':'Tian_Fangran', \n",
    "    'Soboleva_A.':'Anastasiya_Soboleva', \n",
    "    'Shnaider_D.':'Diana_Shnaider', \n",
    "    'Yang_Y.':'Yang_Ya-yi', \n",
    "    'Hruncakova_V.':'Viktória_Hrunčáková', \n",
    "    'Knutson_G.':'Gabriela_Knutson', \n",
    "    'Korneeva_A.':'Alina_Korneeva', \n",
    "    'Nahimana_S.':'Sada_Nahimana', \n",
    "    'Sonmez_Z.':'Zeynep_Sönmez', \n",
    "    'Betova_M.':'Margarita_Betova', \n",
    "    'Curmi_F.':'Francesca_Curmi', \n",
    "    'Matoula_M.':'Martha_Matoula', \n",
    "    'Naef_C.':'Céline_Naef', \n",
    "    'Hosogi_S.':'Sakura_Hosogi', \n",
    "    'Tararudee_L.':'Lanlana_Tararudee', \n",
    "    'Spiteri_D.':'Dalila_Spiteri', \n",
    "    'Crawley_F.':'Fiona_Crawley', \n",
    "    'Sorana_Cirstea':'Sorana_Cîrstea', \n",
    "    'Lansere_S.':'Sofya_Lansere', \n",
    "    'Prozorova_T.':'Tatiana_Prozorova', \n",
    "    'Ewald_W.':'Weronika_Ewald', \n",
    "    'Kudermetova_P.':'Polina_Kudermetova', \n",
    "    'Siskova_A.':'Anna_Sisková'\n",
    "} # Introduce new player:wikipedia_page dictionary.\n",
    "player_dict = player_dict | new_player_dict\n",
    "\n",
    "wta_matches.replace({'Winner': player_dict}, inplace=True)\n",
    "wta_matches.replace({'Loser': player_dict}, inplace=True)"
   ]
  },
  {
   "cell_type": "markdown",
   "metadata": {
    "collapsed": false,
    "jupyter": {
     "outputs_hidden": false
    }
   },
   "source": [
    "## 2. Page view counts."
   ]
  },
  {
   "cell_type": "code",
   "execution_count": 4,
   "metadata": {
    "ExecuteTime": {
     "end_time": "2024-07-09T14:04:34.418577600Z",
     "start_time": "2024-07-09T13:54:58.733421400Z"
    }
   },
   "outputs": [
    {
     "data": {
      "text/plain": "Fetching player data:   0%|          | 0/1041 [00:00<?, ?it/s]",
      "application/vnd.jupyter.widget-view+json": {
       "version_major": 2,
       "version_minor": 0,
       "model_id": "12ded88a9a8c4828a890b8b671c137fb"
      }
     },
     "metadata": {},
     "output_type": "display_data"
    },
    {
     "name": "stdout",
     "output_type": "stream",
     "text": [
      "Error fetching data for Jovana_Jovic: 'items'\n",
      "Error fetching data for Ye_Rin_Lee: 'items'\n",
      "Error fetching data for Ilona_Georgiana_Ghioroaie: 'items'\n"
     ]
    }
   ],
   "source": [
    "request_url = 'https://wikimedia.org/api/rest_v1/metrics/pageviews/'\\\n",
    "              'per-article/en.wikipedia.org/all-access/all-agents/'\n",
    "headers = {'User-Agent': 'Github Repository. Contact: Faxulous',\n",
    "           'From': 'https://github.com/Faxulous/notFeelingTheBuzz'}\n",
    "\n",
    "all_p_requests = []\n",
    "# Wrap the loop with tqdm for a progress bar\n",
    "for player in tqdm(list(player_dict.values()), desc=\"Fetching player data\"):\n",
    "    try:\n",
    "        p_request = requests.get(request_url + f'{player}/daily/20150101/20230831', headers=headers).json()[\"items\"]\n",
    "        all_p_requests.extend(p_request)\n",
    "    except Exception as e:\n",
    "        print(f\"Error fetching data for {player}: {str(e)}\")\n",
    "        continue\n",
    "\n",
    "# Convert combined JSON data to a pandas dataframe\n",
    "df = pd.DataFrame(all_p_requests)\n",
    "\n",
    "# Convert 'timestamp' to datetime format and set it as the index\n",
    "df['timestamp'] = pd.to_datetime(df['timestamp'], format='%Y%m%d00')\n",
    "df.set_index('timestamp', inplace=True)\n",
    "\n",
    "# Pivot the dataframe to have 'article' names as columns\n",
    "pivot_df = df.pivot_table(values='views', columns='article', index=df.index)\n",
    "# run time using  Ryzen 5 3600, NVIDIA 3070S, 64GB RAM: 9 min 34 s"
   ]
  },
  {
   "cell_type": "code",
   "execution_count": 5,
   "metadata": {
    "collapsed": false,
    "jupyter": {
     "outputs_hidden": false
    },
    "ExecuteTime": {
     "end_time": "2024-07-09T14:04:34.946710100Z",
     "start_time": "2024-07-09T14:04:34.419579Z"
    }
   },
   "outputs": [],
   "source": [
    "for col in pivot_df.columns:\n",
    "    pivot_df[col] = pivot_df[col].mask(pivot_df[col].notna().cummax().shift(fill_value=False), pivot_df[col].fillna(0))"
   ]
  },
  {
   "cell_type": "code",
   "execution_count": 6,
   "metadata": {
    "collapsed": false,
    "jupyter": {
     "outputs_hidden": false
    },
    "ExecuteTime": {
     "end_time": "2024-07-09T14:04:46.662094500Z",
     "start_time": "2024-07-09T14:04:34.949713700Z"
    }
   },
   "outputs": [
    {
     "name": "stdout",
     "output_type": "stream",
     "text": [
      "Failed articles: {'Jovana_Jovic', 'El_Allami_M.', 'El_Aouni_A.'}\n"
     ]
    }
   ],
   "source": [
    "# Function to get the day before value and median value\n",
    "def get_values(article, date):\n",
    "    start_date = date - timedelta(days=366)\n",
    "    end_date = date - timedelta(days=1)\n",
    "\n",
    "    try:\n",
    "        past_year_data = pivot_df.loc[start_date:end_date, article]\n",
    "    except KeyError:\n",
    "        failed_articles.append(article)\n",
    "        return float('nan'), float('nan')\n",
    "    #print(past_year_data.isna().sum())\n",
    "    if past_year_data.isna().sum() > 0:\n",
    "        return float('nan'), float('nan')\n",
    "    \n",
    "    day_before_value = past_year_data.iloc[-1]\n",
    "    median_value = past_year_data.iloc[:-1].median()\n",
    "    return day_before_value, median_value\n",
    "\n",
    "failed_articles = []\n",
    "wta_matches['Date'] = pd.to_datetime(wta_matches['Date'])\n",
    "# Apply the get_values function to the winner and loser columns\n",
    "wta_matches['winner_previous_day_views'], wta_matches['winner_median_views'] = zip(*wta_matches.apply(lambda row: get_values(row['Winner'], row['Date']), axis=1))\n",
    "wta_matches['loser_previous_day_views'], wta_matches['loser_median_views'] = zip(*wta_matches.apply(lambda row: get_values(row['Loser'], row['Date']), axis=1))\n",
    "print(\"Failed articles:\", set(failed_articles))"
   ]
  },
  {
   "cell_type": "code",
   "execution_count": 7,
   "metadata": {
    "collapsed": false,
    "jupyter": {
     "outputs_hidden": false
    },
    "ExecuteTime": {
     "end_time": "2024-07-09T14:04:46.683940500Z",
     "start_time": "2024-07-09T14:04:46.664096800Z"
    }
   },
   "outputs": [
    {
     "name": "stdout",
     "output_type": "stream",
     "text": [
      "Total players: 688\n",
      "Total Rows: 18850\n",
      "Total (Usable) Rows: 17840\n"
     ]
    }
   ],
   "source": [
    "wta_matches_backup = wta_matches.copy()\n",
    "unique_players = pd.unique(wta_matches[['Winner', 'Loser']].values.ravel('K'))\n",
    "print('Total players: '+str(unique_players.shape[0]))\n",
    "print('Total Rows: '+str(len(wta_matches)))\n",
    "wta_matches.dropna(subset=[\"winner_previous_day_views\", 'winner_median_views', \"loser_previous_day_views\", \"loser_median_views\"], inplace=True)\n",
    "print('Total (Usable) Rows: '+str(len(wta_matches)))"
   ]
  },
  {
   "cell_type": "markdown",
   "metadata": {
    "collapsed": false,
    "jupyter": {
     "outputs_hidden": false
    }
   },
   "source": [
    "## 3a. RankDist."
   ]
  },
  {
   "cell_type": "code",
   "execution_count": 8,
   "metadata": {
    "collapsed": false,
    "jupyter": {
     "outputs_hidden": false
    },
    "ExecuteTime": {
     "end_time": "2024-07-09T14:04:46.716778400Z",
     "start_time": "2024-07-09T14:04:46.686755800Z"
    }
   },
   "outputs": [],
   "source": [
    "def RankDist_ij(winner_rank: int = 0, loser_rank: int = 0) -> float:\n",
    "    \"\"\"\n",
    "    Calculates the RankDist variable.\n",
    "    If no rank available, use 0.\n",
    "    \"\"\"\n",
    "    if np.isnan(winner_rank):\n",
    "        inverse_wr = 0\n",
    "    else:\n",
    "        inverse_wr = 1 / winner_rank\n",
    "\n",
    "    if np.isnan(loser_rank):\n",
    "        inverse_lr = 0\n",
    "    else:\n",
    "        inverse_lr = 1 / loser_rank\n",
    "    rankdist = -(inverse_wr - inverse_lr)\n",
    "    return rankdist"
   ]
  },
  {
   "cell_type": "code",
   "execution_count": 9,
   "metadata": {
    "collapsed": false,
    "jupyter": {
     "outputs_hidden": false
    },
    "ExecuteTime": {
     "end_time": "2024-07-09T14:04:46.792528100Z",
     "start_time": "2024-07-09T14:04:46.689753600Z"
    }
   },
   "outputs": [],
   "source": [
    "wta_matches['WRankDist'] = [RankDist_ij(x,y) for x,y in zip(wta_matches['WRank'], wta_matches['LRank'])]\n",
    "wta_matches['LRankDist'] = [RankDist_ij(y, x) for x, y in zip(wta_matches['WRank'], wta_matches['LRank'])]"
   ]
  },
  {
   "cell_type": "markdown",
   "metadata": {
    "collapsed": false,
    "jupyter": {
     "outputs_hidden": false
    }
   },
   "source": [
    "## 3b. WikiBuzz."
   ]
  },
  {
   "cell_type": "code",
   "execution_count": 10,
   "metadata": {
    "collapsed": false,
    "jupyter": {
     "outputs_hidden": false
    },
    "ExecuteTime": {
     "end_time": "2024-07-09T14:04:46.796216Z",
     "start_time": "2024-07-09T14:04:46.794529300Z"
    }
   },
   "outputs": [],
   "source": [
    "def WikiBuzz_ij(winner_pageviews, winner_median, loser_pageviews, loser_median) -> float:\n",
    "    \"\"\"\n",
    "    Calculates the WikiBuzz variable.\n",
    "    \"\"\"\n",
    "    w_ij = winner_pageviews\n",
    "    w_dash_ij = loser_pageviews\n",
    "    wcurl_ij = winner_median if winner_median != 0 else 1\n",
    "    wcurl_dash_ij = loser_median if loser_median != 0 else 1\n",
    "    log_ij = np.log(w_ij / wcurl_ij) if w_ij != 0 else 0 \n",
    "    log_dash_ij = np.log(w_dash_ij / wcurl_dash_ij) if w_dash_ij != 0 else 0 \n",
    "    return log_ij - log_dash_ij"
   ]
  },
  {
   "cell_type": "code",
   "execution_count": 11,
   "metadata": {
    "collapsed": false,
    "jupyter": {
     "outputs_hidden": false
    },
    "ExecuteTime": {
     "end_time": "2024-07-09T14:04:46.846850100Z",
     "start_time": "2024-07-09T14:04:46.797216700Z"
    }
   },
   "outputs": [],
   "source": [
    "wta_matches['winner_previous_day_views'] = wta_matches['winner_previous_day_views'].astype(str).astype(float)\n",
    "wta_matches['winner_median_views'] = wta_matches['winner_median_views'].astype(str).astype(float)\n",
    "wta_matches['loser_previous_day_views'] = wta_matches['loser_previous_day_views'].astype(str).astype(float)\n",
    "wta_matches['loser_median_views'] = wta_matches['loser_median_views'].astype(str).astype(float)"
   ]
  },
  {
   "cell_type": "code",
   "execution_count": 12,
   "metadata": {
    "collapsed": false,
    "jupyter": {
     "outputs_hidden": false
    },
    "ExecuteTime": {
     "end_time": "2024-07-09T14:04:46.969080500Z",
     "start_time": "2024-07-09T14:04:46.847850300Z"
    }
   },
   "outputs": [],
   "source": [
    "# Using the view columns from above.\n",
    "wta_matches['W_WikiBuzz'] = [WikiBuzz_ij(row[0], row[1], row[2], row[3]) for row in\n",
    "                          zip(wta_matches['winner_previous_day_views'], wta_matches['winner_median_views'],\n",
    "                              wta_matches['loser_previous_day_views'], wta_matches['loser_median_views'])]\n",
    "wta_matches['L_WikiBuzz'] = [WikiBuzz_ij(row[0], row[1], row[2], row[3]) for row in\n",
    "                          zip(wta_matches['loser_previous_day_views'], wta_matches['loser_median_views'],\n",
    "                              wta_matches['winner_previous_day_views'], wta_matches['winner_median_views'])]"
   ]
  },
  {
   "cell_type": "markdown",
   "metadata": {
    "collapsed": false,
    "jupyter": {
     "outputs_hidden": false
    }
   },
   "source": [
    "## 3. Cleaned CSV File Produced."
   ]
  },
  {
   "cell_type": "code",
   "execution_count": 13,
   "metadata": {
    "collapsed": false,
    "jupyter": {
     "outputs_hidden": false
    },
    "ExecuteTime": {
     "end_time": "2024-07-09T14:04:46.982207500Z",
     "start_time": "2024-07-09T14:04:46.972083300Z"
    }
   },
   "outputs": [],
   "source": [
    "wta_matches_winners = wta_matches[['match_id', 'WTA', 'Winner', 'Date', 'WRankDist', 'W_WikiBuzz',\n",
    "                       'B365W', 'MaxW', 'AvgW']].copy()\n",
    "wta_matches_winners['outcome'] = 1\n",
    "wta_matches_losers = wta_matches[['match_id', 'WTA', 'Loser', 'Date', 'LRankDist', 'L_WikiBuzz',\n",
    "                      'B365L', 'MaxL', 'AvgL']].copy()\n",
    "wta_matches_losers['outcome'] = 0\n",
    "wta_matches_winners.rename({'Winner': 'player', 'Date': 'date', 'WRankDist': 'rankdist', 'W_WikiBuzz': 'wikibuzz',\n",
    "                            'B365W':'B365_Odds', 'MaxW':'Max_Odds', 'AvgW':'Avg_Odds'}, axis=1, inplace=True)\n",
    "wta_matches_losers.rename({'Loser': 'player', 'Date': 'date', 'LRankDist': 'rankdist', 'L_WikiBuzz': 'wikibuzz',\n",
    "                           'B365L':'B365_Odds', 'MaxL':'Max_Odds', 'AvgL':'Avg_Odds'}, axis=1, inplace=True)\n",
    "wta_matches = pd.concat([wta_matches_winners, wta_matches_losers], axis=0)"
   ]
  },
  {
   "cell_type": "code",
   "execution_count": 14,
   "metadata": {
    "collapsed": false,
    "jupyter": {
     "outputs_hidden": false
    },
    "ExecuteTime": {
     "end_time": "2024-07-09T14:04:46.990969400Z",
     "start_time": "2024-07-09T14:04:46.983207200Z"
    }
   },
   "outputs": [],
   "source": [
    "# Reset the index and keep the old one\n",
    "wta_matches = wta_matches.sort_index().reset_index(drop=True).rename(columns={'index': 'old_index'})"
   ]
  },
  {
   "cell_type": "code",
   "execution_count": 15,
   "metadata": {
    "collapsed": false,
    "jupyter": {
     "outputs_hidden": false
    },
    "ExecuteTime": {
     "end_time": "2024-07-09T14:04:46.998076600Z",
     "start_time": "2024-07-09T14:04:46.992971Z"
    }
   },
   "outputs": [
    {
     "name": "stdout",
     "output_type": "stream",
     "text": [
      "Rows before b365>max removal: 35680\n",
      "Rows after b365>max removal: 35648\n"
     ]
    }
   ],
   "source": [
    "print(\"Rows before b365>max removal: \"+str(len(wta_matches)))\n",
    "# Get the indexes of rows where B365_Odds is greater than Max_Odds\n",
    "indexes_to_remove = wta_matches[wta_matches['B365_Odds'] > wta_matches['Max_Odds']].index\n",
    "# Remove the rows using the drop method\n",
    "wta_matches.drop(indexes_to_remove, inplace=True)\n",
    "print(\"Rows after b365>max removal: \"+str(len(wta_matches)))"
   ]
  },
  {
   "cell_type": "markdown",
   "metadata": {
    "collapsed": false,
    "jupyter": {
     "outputs_hidden": false
    }
   },
   "source": [
    "## 4. Implied Probability / Inverse Odds."
   ]
  },
  {
   "cell_type": "code",
   "execution_count": 16,
   "metadata": {
    "collapsed": false,
    "jupyter": {
     "outputs_hidden": false
    },
    "ExecuteTime": {
     "end_time": "2024-07-09T14:04:47.042515600Z",
     "start_time": "2024-07-09T14:04:47.002078900Z"
    }
   },
   "outputs": [
    {
     "name": "stdout",
     "output_type": "stream",
     "text": [
      "Row count before missing odds removed:  35648\n",
      "Row count after missing odds removed:  35474\n"
     ]
    }
   ],
   "source": [
    "def implied_probability(player_odds) -> float:\n",
    "    return 1 / player_odds\n",
    "\n",
    "print(\"Row count before missing odds removed: \", wta_matches.shape[0])\n",
    "wta_matches.dropna(subset=['B365_Odds', 'Max_Odds', 'Avg_Odds'],inplace=True)\n",
    "print(\"Row count after missing odds removed: \", wta_matches.shape[0])\n",
    "\n",
    "\n",
    "wta_matches['inverse_best'] = [implied_probability(x) for x in wta_matches['Max_Odds']]\n",
    "wta_matches['inverse_b365'] = [implied_probability(x) for x in wta_matches['B365_Odds']]\n",
    "wta_matches['inverse_avg'] = [implied_probability(x) for x in wta_matches['Avg_Odds']]\n",
    "\n",
    "wta_matches.drop(columns=['B365_Odds', 'Max_Odds', 'Avg_Odds'], inplace=True)"
   ]
  },
  {
   "cell_type": "code",
   "execution_count": 17,
   "metadata": {
    "collapsed": false,
    "jupyter": {
     "outputs_hidden": false
    },
    "ExecuteTime": {
     "end_time": "2024-07-09T14:04:47.051719200Z",
     "start_time": "2024-07-09T14:04:47.044518400Z"
    }
   },
   "outputs": [
    {
     "name": "stdout",
     "output_type": "stream",
     "text": [
      "Row count before abnormal odds removed:  35474\n",
      "Row count after abnormal odds removed:  35274\n"
     ]
    }
   ],
   "source": [
    "# Calculate the differences\n",
    "diff = wta_matches['inverse_best'] - wta_matches['inverse_avg']\n",
    "# Compute mean and standard deviation\n",
    "mean_diff = diff.mean()\n",
    "std_diff = diff.std()\n",
    "# Define the threshold (4 standard deviations)\n",
    "threshold = 4 * std_diff\n",
    "\n",
    "print(\"Row count before abnormal odds removed: \", wta_matches.shape[0])\n",
    "wta_matches = wta_matches[abs(diff - mean_diff) <= threshold]\n",
    "print(\"Row count after abnormal odds removed: \", wta_matches.shape[0])"
   ]
  },
  {
   "cell_type": "code",
   "execution_count": 18,
   "metadata": {
    "collapsed": false,
    "jupyter": {
     "outputs_hidden": false
    },
    "ExecuteTime": {
     "end_time": "2024-07-09T14:04:47.067680500Z",
     "start_time": "2024-07-09T14:04:47.053720900Z"
    }
   },
   "outputs": [
    {
     "data": {
      "text/plain": "       match_id  WTA                    player       date  rankdist  wikibuzz  \\\n0          1503   32     Bethanie_Mattek-Sands 2015-07-03  0.039125 -0.231094   \n1          1503   32            Belinda_Bencic 2015-07-03 -0.039125  0.231094   \n2          1504   32           Coco_Vandeweghe 2015-07-03  0.022202  0.825167   \n3          1504   32           Samantha_Stosur 2015-07-03 -0.022202 -0.825167   \n4          1505   32        Irina-Camelia_Begu 2015-07-03  0.217742  0.241749   \n...         ...  ...                       ...        ...       ...       ...   \n35675     20334   42  Anastasia_Pavlyuchenkova 2023-08-31  0.028257 -0.885206   \n35676     20335   42              Madison_Keys 2023-08-31 -0.047059 -0.375772   \n35677     20335   42          Yanina_Wickmayer 2023-08-31  0.047059  0.375772   \n35678     20336   42          Martina_Trevisan 2023-08-31  0.093870  0.764221   \n35679     20336   42       Marketa_Vondrousova 2023-08-31 -0.093870 -0.764221   \n\n       outcome  inverse_best  inverse_b365  inverse_avg  \n0            0      0.298507      0.333333     0.328947  \n1            1      0.694444      0.714286     0.729927  \n2            1      0.571429      0.621118     0.609756  \n3            0      0.416667      0.434783     0.446429  \n4            0      0.070175      0.090909     0.098717  \n...        ...           ...           ...          ...  \n35675        0      0.301205      0.333333     0.325733  \n35676        1      0.819672      0.833333     0.840336  \n35677        0      0.193424      0.222222     0.212766  \n35678        0      0.100000      0.125000     0.121507  \n35679        1      0.909091      0.925926     0.934579  \n\n[35274 rows x 10 columns]",
      "text/html": "<div>\n<style scoped>\n    .dataframe tbody tr th:only-of-type {\n        vertical-align: middle;\n    }\n\n    .dataframe tbody tr th {\n        vertical-align: top;\n    }\n\n    .dataframe thead th {\n        text-align: right;\n    }\n</style>\n<table border=\"1\" class=\"dataframe\">\n  <thead>\n    <tr style=\"text-align: right;\">\n      <th></th>\n      <th>match_id</th>\n      <th>WTA</th>\n      <th>player</th>\n      <th>date</th>\n      <th>rankdist</th>\n      <th>wikibuzz</th>\n      <th>outcome</th>\n      <th>inverse_best</th>\n      <th>inverse_b365</th>\n      <th>inverse_avg</th>\n    </tr>\n  </thead>\n  <tbody>\n    <tr>\n      <th>0</th>\n      <td>1503</td>\n      <td>32</td>\n      <td>Bethanie_Mattek-Sands</td>\n      <td>2015-07-03</td>\n      <td>0.039125</td>\n      <td>-0.231094</td>\n      <td>0</td>\n      <td>0.298507</td>\n      <td>0.333333</td>\n      <td>0.328947</td>\n    </tr>\n    <tr>\n      <th>1</th>\n      <td>1503</td>\n      <td>32</td>\n      <td>Belinda_Bencic</td>\n      <td>2015-07-03</td>\n      <td>-0.039125</td>\n      <td>0.231094</td>\n      <td>1</td>\n      <td>0.694444</td>\n      <td>0.714286</td>\n      <td>0.729927</td>\n    </tr>\n    <tr>\n      <th>2</th>\n      <td>1504</td>\n      <td>32</td>\n      <td>Coco_Vandeweghe</td>\n      <td>2015-07-03</td>\n      <td>0.022202</td>\n      <td>0.825167</td>\n      <td>1</td>\n      <td>0.571429</td>\n      <td>0.621118</td>\n      <td>0.609756</td>\n    </tr>\n    <tr>\n      <th>3</th>\n      <td>1504</td>\n      <td>32</td>\n      <td>Samantha_Stosur</td>\n      <td>2015-07-03</td>\n      <td>-0.022202</td>\n      <td>-0.825167</td>\n      <td>0</td>\n      <td>0.416667</td>\n      <td>0.434783</td>\n      <td>0.446429</td>\n    </tr>\n    <tr>\n      <th>4</th>\n      <td>1505</td>\n      <td>32</td>\n      <td>Irina-Camelia_Begu</td>\n      <td>2015-07-03</td>\n      <td>0.217742</td>\n      <td>0.241749</td>\n      <td>0</td>\n      <td>0.070175</td>\n      <td>0.090909</td>\n      <td>0.098717</td>\n    </tr>\n    <tr>\n      <th>...</th>\n      <td>...</td>\n      <td>...</td>\n      <td>...</td>\n      <td>...</td>\n      <td>...</td>\n      <td>...</td>\n      <td>...</td>\n      <td>...</td>\n      <td>...</td>\n      <td>...</td>\n    </tr>\n    <tr>\n      <th>35675</th>\n      <td>20334</td>\n      <td>42</td>\n      <td>Anastasia_Pavlyuchenkova</td>\n      <td>2023-08-31</td>\n      <td>0.028257</td>\n      <td>-0.885206</td>\n      <td>0</td>\n      <td>0.301205</td>\n      <td>0.333333</td>\n      <td>0.325733</td>\n    </tr>\n    <tr>\n      <th>35676</th>\n      <td>20335</td>\n      <td>42</td>\n      <td>Madison_Keys</td>\n      <td>2023-08-31</td>\n      <td>-0.047059</td>\n      <td>-0.375772</td>\n      <td>1</td>\n      <td>0.819672</td>\n      <td>0.833333</td>\n      <td>0.840336</td>\n    </tr>\n    <tr>\n      <th>35677</th>\n      <td>20335</td>\n      <td>42</td>\n      <td>Yanina_Wickmayer</td>\n      <td>2023-08-31</td>\n      <td>0.047059</td>\n      <td>0.375772</td>\n      <td>0</td>\n      <td>0.193424</td>\n      <td>0.222222</td>\n      <td>0.212766</td>\n    </tr>\n    <tr>\n      <th>35678</th>\n      <td>20336</td>\n      <td>42</td>\n      <td>Martina_Trevisan</td>\n      <td>2023-08-31</td>\n      <td>0.093870</td>\n      <td>0.764221</td>\n      <td>0</td>\n      <td>0.100000</td>\n      <td>0.125000</td>\n      <td>0.121507</td>\n    </tr>\n    <tr>\n      <th>35679</th>\n      <td>20336</td>\n      <td>42</td>\n      <td>Marketa_Vondrousova</td>\n      <td>2023-08-31</td>\n      <td>-0.093870</td>\n      <td>-0.764221</td>\n      <td>1</td>\n      <td>0.909091</td>\n      <td>0.925926</td>\n      <td>0.934579</td>\n    </tr>\n  </tbody>\n</table>\n<p>35274 rows × 10 columns</p>\n</div>"
     },
     "execution_count": 18,
     "metadata": {},
     "output_type": "execute_result"
    }
   ],
   "source": [
    "wta_matches"
   ]
  },
  {
   "cell_type": "code",
   "execution_count": 19,
   "metadata": {
    "collapsed": false,
    "jupyter": {
     "outputs_hidden": false
    },
    "ExecuteTime": {
     "end_time": "2024-07-09T14:04:47.075175600Z",
     "start_time": "2024-07-09T14:04:47.068682400Z"
    }
   },
   "outputs": [
    {
     "name": "stdout",
     "output_type": "stream",
     "text": [
      "Total players: 584\n",
      "Total Rows: 35274\n",
      "Total matches: 17751\n"
     ]
    }
   ],
   "source": [
    "print('Total players: '+str(wta_matches['player'].unique().shape[0]))\n",
    "print('Total Rows: '+str(len(wta_matches)))\n",
    "print('Total matches: '+str(wta_matches['match_id'].unique().shape[0]))"
   ]
  },
  {
   "cell_type": "code",
   "execution_count": 20,
   "metadata": {
    "collapsed": false,
    "jupyter": {
     "outputs_hidden": false
    },
    "ExecuteTime": {
     "end_time": "2024-07-09T14:04:47.462969200Z",
     "start_time": "2024-07-09T14:04:47.076176200Z"
    }
   },
   "outputs": [],
   "source": [
    "wta_matches.to_csv(\"../data/clegg_matches_cleaned.csv\")"
   ]
  }
 ],
 "metadata": {
  "kernelspec": {
   "display_name": "Python 3 (ipykernel)",
   "language": "python",
   "name": "python3"
  },
  "language_info": {
   "codemirror_mode": {
    "name": "ipython",
    "version": 3
   },
   "file_extension": ".py",
   "mimetype": "text/x-python",
   "name": "python",
   "nbconvert_exporter": "python",
   "pygments_lexer": "ipython3",
   "version": "3.12.4"
  }
 },
 "nbformat": 4,
 "nbformat_minor": 4
}
