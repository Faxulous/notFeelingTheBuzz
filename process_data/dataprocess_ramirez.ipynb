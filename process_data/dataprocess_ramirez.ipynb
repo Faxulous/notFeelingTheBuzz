{
 "cells": [
  {
   "cell_type": "markdown",
   "source": [
    "# Data Processing (Ramirez)\n",
    "Covered in this notebook:\n",
    "1. Downloading final.dta from Ramirez's Google Drive.\n",
    "2. Adding columns for all variables described in paper:\n",
    "    a. RankDist.\n",
    "    b. WikiBuzz.\n",
    "    c. Implied Probability / Inverse Odds.\n",
    "3. Produce a cleaned Ramirez_matches_cleaned.csv file ready for further use."
   ],
   "metadata": {
    "collapsed": false
   }
  },
  {
   "cell_type": "code",
   "execution_count": 1,
   "outputs": [],
   "source": [
    "# Imports, Remove Warnings for notebook readability.\n",
    "import pandas as pd\n",
    "import numpy as np\n",
    "\n",
    "import warnings\n",
    "warnings.filterwarnings(\"ignore\", category=UnicodeWarning)\n",
    "warnings.filterwarnings(\"ignore\", category=RuntimeWarning)"
   ],
   "metadata": {
    "collapsed": false,
    "ExecuteTime": {
     "end_time": "2024-07-09T16:30:39.086721800Z",
     "start_time": "2024-07-09T16:30:38.550299300Z"
    }
   }
  },
  {
   "cell_type": "code",
   "execution_count": 2,
   "outputs": [],
   "source": [
    "# Depends on RRS's Google Drive link.\n",
    "url = 'https://drive.google.com/file/d/1ltOks54u7V6tvK22EmT5n_XL8D2V4o8R/view?usp=share_link'\n",
    "path = 'https://drive.google.com/uc?export=download&id='+url.split('/')[-2]\n",
    "\n",
    "df = pd.read_stata(path)"
   ],
   "metadata": {
    "collapsed": false,
    "ExecuteTime": {
     "end_time": "2024-07-09T16:30:48.399294300Z",
     "start_time": "2024-07-09T16:30:39.088723500Z"
    }
   }
  },
  {
   "cell_type": "code",
   "execution_count": 3,
   "outputs": [
    {
     "data": {
      "text/plain": "                        hot_raw    year  hotness_l    lastname_l  hotness_w  \\\n0             41- Jarmila Groth  2011.0        NaN      Santonja       41.0   \n1           88- Arina Rodionova  2011.0       88.0     Rodionova       69.0   \n2  72- Anastasia Pavlyuchenkova  2011.0        NaN  Kudryavtseva       72.0   \n3                                2011.0        NaN    Kleybanova        NaN   \n4           66- Johanna Larsson  2011.0       66.0       Larsson       91.0   \n\n       lastname_w  wta  location              tournament           tier  ...  \\\n0           Groth  2.0  Brisbane  Brisbane International  International  ...   \n1      Jovanovski  2.0  Brisbane  Brisbane International  International  ...   \n2  Pavlyuchenkova  2.0  Brisbane  Brisbane International  International  ...   \n3           Peers  2.0  Brisbane  Brisbane International  International  ...   \n4            Peng  1.0  Auckland             ASB Classic  International  ...   \n\n  wiki_min7_l wiki_mean_player_l wiki_med_player_l  wiki_yesterday_l  \\\n0         NaN                NaN               NaN               NaN   \n1         NaN                NaN               NaN               NaN   \n2         NaN                NaN               NaN               NaN   \n3         NaN                NaN               NaN               NaN   \n4         NaN                NaN               NaN               NaN   \n\n  wiki_twodays_l            timezone  utc_offset  elopredict  elo_pi_hat  \\\n0            NaN  Australia/Brisbane        10.0    0.637051         NaN   \n1            NaN  Australia/Brisbane        10.0    0.524215         NaN   \n2            NaN  Australia/Brisbane        10.0    0.710430         NaN   \n3            NaN  Australia/Brisbane        10.0    0.179002         NaN   \n4            NaN    Pacific/Auckland        13.0    0.689614         NaN   \n\n   welo_pi_hat  \n0          NaN  \n1          NaN  \n2          NaN  \n3          NaN  \n4          NaN  \n\n[5 rows x 82 columns]",
      "text/html": "<div>\n<style scoped>\n    .dataframe tbody tr th:only-of-type {\n        vertical-align: middle;\n    }\n\n    .dataframe tbody tr th {\n        vertical-align: top;\n    }\n\n    .dataframe thead th {\n        text-align: right;\n    }\n</style>\n<table border=\"1\" class=\"dataframe\">\n  <thead>\n    <tr style=\"text-align: right;\">\n      <th></th>\n      <th>hot_raw</th>\n      <th>year</th>\n      <th>hotness_l</th>\n      <th>lastname_l</th>\n      <th>hotness_w</th>\n      <th>lastname_w</th>\n      <th>wta</th>\n      <th>location</th>\n      <th>tournament</th>\n      <th>tier</th>\n      <th>...</th>\n      <th>wiki_min7_l</th>\n      <th>wiki_mean_player_l</th>\n      <th>wiki_med_player_l</th>\n      <th>wiki_yesterday_l</th>\n      <th>wiki_twodays_l</th>\n      <th>timezone</th>\n      <th>utc_offset</th>\n      <th>elopredict</th>\n      <th>elo_pi_hat</th>\n      <th>welo_pi_hat</th>\n    </tr>\n  </thead>\n  <tbody>\n    <tr>\n      <th>0</th>\n      <td>41- Jarmila Groth</td>\n      <td>2011.0</td>\n      <td>NaN</td>\n      <td>Santonja</td>\n      <td>41.0</td>\n      <td>Groth</td>\n      <td>2.0</td>\n      <td>Brisbane</td>\n      <td>Brisbane International</td>\n      <td>International</td>\n      <td>...</td>\n      <td>NaN</td>\n      <td>NaN</td>\n      <td>NaN</td>\n      <td>NaN</td>\n      <td>NaN</td>\n      <td>Australia/Brisbane</td>\n      <td>10.0</td>\n      <td>0.637051</td>\n      <td>NaN</td>\n      <td>NaN</td>\n    </tr>\n    <tr>\n      <th>1</th>\n      <td>88- Arina Rodionova</td>\n      <td>2011.0</td>\n      <td>88.0</td>\n      <td>Rodionova</td>\n      <td>69.0</td>\n      <td>Jovanovski</td>\n      <td>2.0</td>\n      <td>Brisbane</td>\n      <td>Brisbane International</td>\n      <td>International</td>\n      <td>...</td>\n      <td>NaN</td>\n      <td>NaN</td>\n      <td>NaN</td>\n      <td>NaN</td>\n      <td>NaN</td>\n      <td>Australia/Brisbane</td>\n      <td>10.0</td>\n      <td>0.524215</td>\n      <td>NaN</td>\n      <td>NaN</td>\n    </tr>\n    <tr>\n      <th>2</th>\n      <td>72- Anastasia Pavlyuchenkova</td>\n      <td>2011.0</td>\n      <td>NaN</td>\n      <td>Kudryavtseva</td>\n      <td>72.0</td>\n      <td>Pavlyuchenkova</td>\n      <td>2.0</td>\n      <td>Brisbane</td>\n      <td>Brisbane International</td>\n      <td>International</td>\n      <td>...</td>\n      <td>NaN</td>\n      <td>NaN</td>\n      <td>NaN</td>\n      <td>NaN</td>\n      <td>NaN</td>\n      <td>Australia/Brisbane</td>\n      <td>10.0</td>\n      <td>0.710430</td>\n      <td>NaN</td>\n      <td>NaN</td>\n    </tr>\n    <tr>\n      <th>3</th>\n      <td></td>\n      <td>2011.0</td>\n      <td>NaN</td>\n      <td>Kleybanova</td>\n      <td>NaN</td>\n      <td>Peers</td>\n      <td>2.0</td>\n      <td>Brisbane</td>\n      <td>Brisbane International</td>\n      <td>International</td>\n      <td>...</td>\n      <td>NaN</td>\n      <td>NaN</td>\n      <td>NaN</td>\n      <td>NaN</td>\n      <td>NaN</td>\n      <td>Australia/Brisbane</td>\n      <td>10.0</td>\n      <td>0.179002</td>\n      <td>NaN</td>\n      <td>NaN</td>\n    </tr>\n    <tr>\n      <th>4</th>\n      <td>66- Johanna Larsson</td>\n      <td>2011.0</td>\n      <td>66.0</td>\n      <td>Larsson</td>\n      <td>91.0</td>\n      <td>Peng</td>\n      <td>1.0</td>\n      <td>Auckland</td>\n      <td>ASB Classic</td>\n      <td>International</td>\n      <td>...</td>\n      <td>NaN</td>\n      <td>NaN</td>\n      <td>NaN</td>\n      <td>NaN</td>\n      <td>NaN</td>\n      <td>Pacific/Auckland</td>\n      <td>13.0</td>\n      <td>0.689614</td>\n      <td>NaN</td>\n      <td>NaN</td>\n    </tr>\n  </tbody>\n</table>\n<p>5 rows × 82 columns</p>\n</div>"
     },
     "execution_count": 3,
     "metadata": {},
     "output_type": "execute_result"
    }
   ],
   "source": [
    "df.head()"
   ],
   "metadata": {
    "collapsed": false,
    "ExecuteTime": {
     "end_time": "2024-07-09T16:30:48.423812600Z",
     "start_time": "2024-07-09T16:30:48.399294300Z"
    }
   }
  },
  {
   "cell_type": "markdown",
   "source": [
    "## RankDist Variable"
   ],
   "metadata": {
    "collapsed": false
   }
  },
  {
   "cell_type": "code",
   "execution_count": 4,
   "outputs": [],
   "source": [
    "def get_rankdist(winner_rank: int = 0, loser_rank: int = 0) -> float:\n",
    "    if np.isnan(winner_rank):\n",
    "        inverse_wr = 0\n",
    "    else:\n",
    "        inverse_wr = 1 / winner_rank\n",
    "\n",
    "    if np.isnan(loser_rank):\n",
    "        inverse_lr = 0\n",
    "    else:\n",
    "        inverse_lr = 1 / loser_rank\n",
    "    rankdist = -(inverse_wr - inverse_lr)\n",
    "    return rankdist\n",
    "\n",
    "df['WRankDist'] = [get_rankdist(x,y) for x,y in zip(df['wrank'], df['lrank'])]\n",
    "df['LRankDist'] = [get_rankdist(y, x) for x, y in zip(df['wrank'], df['lrank'])]"
   ],
   "metadata": {
    "collapsed": false,
    "ExecuteTime": {
     "end_time": "2024-07-09T16:30:48.540975800Z",
     "start_time": "2024-07-09T16:30:48.421810700Z"
    }
   }
  },
  {
   "cell_type": "markdown",
   "source": [
    "## WikiBuzz Variable"
   ],
   "metadata": {
    "collapsed": false
   }
  },
  {
   "cell_type": "code",
   "execution_count": 5,
   "outputs": [],
   "source": [
    "def get_wikibuzz(winner_pageviews, winner_median, loser_pageviews, loser_median):\n",
    "    try:\n",
    "        buzz = np.log(winner_pageviews / winner_median) - np.log(loser_pageviews / loser_median)\n",
    "    except ZeroDivisionError:\n",
    "        buzz = 'ZeroDivisionError'\n",
    "    return buzz\n",
    "\n",
    "df['W_WikiBuzz'] = [get_wikibuzz(row[0], row[1], row[2], row[3]) for row in zip(df['wiki_yesterday_w'], df['wiki_med365_w'],\n",
    "                                                                                df['wiki_yesterday_l'], df['wiki_med365_l'])]\n",
    "df['L_WikiBuzz'] = [get_wikibuzz(row[0], row[1], row[2], row[3]) for row in zip(df['wiki_yesterday_l'], df['wiki_med365_l'],\n",
    "                                                                                df['wiki_yesterday_w'], df['wiki_med365_w'])]"
   ],
   "metadata": {
    "collapsed": false,
    "ExecuteTime": {
     "end_time": "2024-07-09T16:30:48.672083700Z",
     "start_time": "2024-07-09T16:30:48.544981400Z"
    }
   }
  },
  {
   "cell_type": "markdown",
   "source": [
    "## Inverse Odds"
   ],
   "metadata": {
    "collapsed": false
   }
  },
  {
   "cell_type": "code",
   "execution_count": 6,
   "outputs": [],
   "source": [
    "def impliedprob(player_odds):\n",
    "    return 1/player_odds\n",
    "\n",
    "df['W_inverse_bestodds'] = [impliedprob(x) for x in df['maxw']]\n",
    "df['L_inverse_bestodds'] = [impliedprob(x) for x in df['maxl']]\n",
    "df['W_inverse_avgodds'] = [impliedprob(x) for x in df['avgw']]\n",
    "df['L_inverse_avgodds'] = [impliedprob(x) for x in df['avgl']]\n",
    "df['W_inverse_B365'] = [impliedprob(x) for x in df['b365w']]\n",
    "df['L_inverse_B365'] = [impliedprob(x) for x in df['b365l']]"
   ],
   "metadata": {
    "collapsed": false,
    "ExecuteTime": {
     "end_time": "2024-07-09T16:30:48.717497500Z",
     "start_time": "2024-07-09T16:30:48.672083700Z"
    }
   }
  },
  {
   "cell_type": "code",
   "execution_count": 7,
   "outputs": [],
   "source": [
    "# Date Column\n",
    "df['date'] = pd.to_datetime(df[['year', 'month', 'day']])\n",
    "# Match index column\n",
    "df['match_id'] = df.index"
   ],
   "metadata": {
    "collapsed": false,
    "ExecuteTime": {
     "end_time": "2024-07-09T16:30:48.725322800Z",
     "start_time": "2024-07-09T16:30:48.716496900Z"
    }
   }
  },
  {
   "cell_type": "code",
   "execution_count": 8,
   "outputs": [],
   "source": [
    "# Convert each row into 2 rows (1 for winner, 1 for loser) sharing a match_id.\n",
    "df_winners = df[['match_id', 'tournament', 'winner', 'date', 'year', 'WRankDist', 'W_WikiBuzz', 'W_inverse_B365', 'W_inverse_avgodds', 'W_inverse_bestodds']].copy()\n",
    "df_winners['outcome'] = 1\n",
    "df_losers = df[['match_id', 'tournament', 'loser', 'date', 'year', 'LRankDist', 'L_WikiBuzz', 'L_inverse_B365', 'L_inverse_avgodds', 'L_inverse_bestodds']].copy()\n",
    "df_losers['outcome'] = 0\n",
    "\n",
    "df_winners.rename({'winner': 'player', 'WRankDist': 'rankdist', 'W_WikiBuzz': 'wikibuzz',\n",
    "                   'W_inverse_B365': 'inverse_b365', 'W_inverse_avgodds': 'inverse_avg', 'W_inverse_bestodds': 'inverse_best'}, axis=1, inplace=True)\n",
    "df_losers.rename({'loser': 'player', 'LRankDist': 'rankdist', 'L_WikiBuzz': 'wikibuzz',\n",
    "                  'L_inverse_B365': 'inverse_b365', 'L_inverse_avgodds': 'inverse_avg', 'L_inverse_bestodds': 'inverse_best'}, axis=1, inplace=True)\n",
    "df = pd.concat([df_winners, df_losers], axis=0)"
   ],
   "metadata": {
    "collapsed": false,
    "ExecuteTime": {
     "end_time": "2024-07-09T16:30:48.746908900Z",
     "start_time": "2024-07-09T16:30:48.729325300Z"
    }
   }
  },
  {
   "cell_type": "code",
   "execution_count": 9,
   "outputs": [],
   "source": [
    "# Remove bad rows.\n",
    "df = df.loc[df[\"wikibuzz\"] != np.inf]\n",
    "df = df.loc[df[\"wikibuzz\"] != -np.inf]\n",
    "df = df.loc[df[\"wikibuzz\"] != 'ZeroDivisionError']\n",
    "\n",
    "df = df[df['wikibuzz'].notna()]\n",
    "df = df[df['rankdist'].notna()]\n",
    "df = df[df['inverse_avg'].notna()]\n",
    "\n",
    "df.sort_values(by='date', inplace=True)"
   ],
   "metadata": {
    "collapsed": false,
    "ExecuteTime": {
     "end_time": "2024-07-09T16:30:48.845146100Z",
     "start_time": "2024-07-09T16:30:48.748911200Z"
    }
   }
  },
  {
   "cell_type": "code",
   "execution_count": 10,
   "outputs": [],
   "source": [
    "# Link players to their Wikipedia pages.\n",
    "url = \"https://drive.google.com/file/d/1PP6qoLuh43Fdkj5oVfqTKN4TWe6dcwfd/view?usp=share_link\"\n",
    "path = 'https://drive.google.com/uc?export=download&id='+url.split('/')[-2]\n",
    "players = pd.read_csv(path)\n",
    "\n",
    "player_dict = dict(zip(players.odds_player, players.player))\n",
    "new_player_dict = {\n",
    "    'Pliskova_Ka.':'Karolína_Plíšková',\n",
    "    'Williams_S.':'Serena_Williams',\n",
    "    'Pliskova_Kr.':'Kristýna_Plíšková',\n",
    "    'Alexandra_Krunic':'Aleksandra_Krunić',\n",
    "    'Yingying_Duan':'Duan_Yingying',\n",
    "    'Lin_Zhu':'Zhu_Lin_(tennis)',\n",
    "    'Rodionova_Ar.':'Arina_Rodionova',\n",
    "    'Carina_Witthoeft':'Carina_Witthöft',\n",
    "    'Stefanie_Voegele':'Stefanie_Vögele',\n",
    "    'Sílvia_Soler-Espinosa':'Sílvia_Soler_Espinosa',\n",
    "    'Xinyun_Han':'Han_Xinyun',\n",
    "    'Yafan_Wang':'Wang_Yafan',\n",
    "    'Jana_Cepelova':'Jana_Čepelová',\n",
    "    'Zhang_Shuai':'Zhang_Shuai',\n",
    "    'Catherine_McNally':'Caty_McNally',\n",
    "    'Viktoria_Kuzmova':'Viktória_Kužmová',\n",
    "    'Barbora_Krejcikova':'Barbora_Krejčíková',\n",
    "    'En-Shuo_Liang':'Liang_En-shuo',\n",
    "    'Chloe_Paquet':'Chloé_Paquet',\n",
    "    'Su-Wei_Hsieh':'Hsieh_Su-wei',\n",
    "    'Saisai_Zheng':'Zheng_Saisai',\n",
    "    'Marketa_Vondrousova':'Markéta_Vondroušová',\n",
    "    'Fangzhou_Liu':'Liu_Fangzhou',\n",
    "    'Patricia_Maria_Tig':'Patricia_Maria_Țig',\n",
    "    'Julia_Goerges':'Julia_Görges',\n",
    "    'Lesley_Pattinama_Kerkhove':'Lesley_Pattinama_Kerkhove',\n",
    "    'Tamara_Zidansek':'Tamara_Zidanšek',\n",
    "    'Iga_Swiatek':'Iga_Świątek',\n",
    "    'Anna_Karolina_Schmiedlova':'Anna_Karolína_Schmiedlová',\n",
    "    'Shuai_Peng':'Peng_Shuai',\n",
    "    'Leonie_Kung':'Leonie_Küng',\n",
    "    'Radwanska_U.':'Agnieszka_Radwańska',\n",
    "    'Barbora_Strycova':'Barbora_Strýcová',\n",
    "    'Cagla_Buyukakcay':'Çağla_Büyükakçay',\n",
    "    'Rodionova_An.':'Arina_Rodionova',\n",
    "    'Alexandra_Cadantu':'Alexandra_Cadanțu-Ignatik',\n",
    "    'Marie_Bouzkova':'Marie_Bouzková',\n",
    "    'Denisa_Allertova':'Denisa_Šátralová',\n",
    "    'Lucie_Hradecka':'Lucie_Hradecká',\n",
    "    'Ivana_Jorovic':'Ivana_Jorović',\n",
    "    'Maia_Lumsden':'Maia_Lumsden',\n",
    "    'Mirjana_Lucic':'Mirjana_Lučić-Baroni',\n",
    "    'Hailey_Baptiste':'Hailey_Baptiste',\n",
    "    'Katerina_Siniakova':'Kateřina_Siniaková',\n",
    "    'Mihaela_Buzarnescu':'Mihaela_Buzărnescu',\n",
    "    'Qiang_Wang':'Wang_Qiang_(tennis)',\n",
    "    'Xiaodi_You':'You_Xiaodi',\n",
    "    'Paula_Cristina_Goncalves':'Paula_Cristina_Gonçalves',\n",
    "    'Aliona_Bolsova':'Aliona_Bolsova',\n",
    "    'Tereza_Smitkova':'Tereza_Smitková',\n",
    "    'Xinyu_Wang':'Wang_Xinyu',\n",
    "    'Leylah_Fernandez':'Leylah_Fernandez',\n",
    "    'Magdalena_Rybarikova':'Magdaléna_Rybáriková',\n",
    "    'Johanna_Larsson':'Johanna_Larsson',\n",
    "    'Mirjana_Lucic-Baroni':'Mirjana_Lučić-Baroni',\n",
    "    'Danka_Kovinic':'Danka_Kovinić',\n",
    "    'Tereza_Martincova':'Tereza_Martincová',\n",
    "    'Montserrat_Gonzalez':'Montserrat_González',\n",
    "    'Maria_Herazo_Gonzalez':'María_Herazo_González',\n",
    "    'Ipek_Soylu':'İpek_Soylu',\n",
    "    'Petra_Martic':'Petra_Martić',\n",
    "    'Timea_Babos':'Tímea_Babos',\n",
    "    'Nina_Stojanovic':'Nina_Stojanović',\n",
    "    'Na-Lae_Han':'Han_Na-lae',\n",
    "    'Jia-Jing_Lu':'Lu_Jiajing', #From 2nd iteration, losers column...\n",
    "    'Lesley_Pattinama_Kerkhove':'Lesley_Pattinama_Kerkhove',\n",
    "    'Ya-Hsuan_Lee':'Lee_Ya-hsuan',\n",
    "    'Alexandra_Cadanțu-Ignatik':'Alexandra_Cadanțu-Ignatik',\n",
    "    'Maria_Mateas':'Maria_Mateas',\n",
    "    'Selena_Janicijevic':'Séléna_Janicijevic',\n",
    "    'Jessica_Pieri':'Jessica_Pieri',\n",
    "    'Denisa_Šátralová':'Denisa_Šátralová',\n",
    "    'Kamilla_Rakhimova':'Kamilla_Rakhimova',\n",
    "    'Tess_Sugnaux':'Tess_Sugnaux',\n",
    "    'Maia_Lumsden':'Maia_Lumsden',\n",
    "    'Mirjam_Bjorklund':'Mirjam_Björklund',\n",
    "    'Alyssa_Mayo':'Alyssa_Mayo',\n",
    "    'Komola_Umarova':'Komola_Umarova',\n",
    "    'Ng_Kwan-yau':'Ng_Kwan-yau',\n",
    "    'Cristiana_Ferrando':'Cristiana_Ferrando',\n",
    "    'Martina_Capurro_Taborda':'Martina_Capurro_Taborda',\n",
    "    'Elena-Gabriela_Ruse':'Elena-Gabriela_Ruse',\n",
    "    'Freya_Christie':'Freya_Christie',\n",
    "    'Jovana_Jovic':'Jovana_Jović',\n",
    "    'Mira_Antonitsch':'Mira_Antonitsch',\n",
    "    'Dayana_Yastremska':'Dayana_Yastremska',\n",
    "    'Emiliana_Arango':'Emiliana_Arango',\n",
    "    'Nadia_Echeverria_Alam':'Nadia_Echeverría_Alam',\n",
    "    'Frances_Altick':'Frances_Altick',\n",
    "    'Ayaka_Okuno':'Ayaka_Okuno',\n",
    "    'Anastasiya_Shoshyna':'Anastasiya_Shoshyna',\n",
    "    'Jesika_Maleckova':'Jesika_Malečková',\n",
    "    'Wushuang_Zheng':'Zheng_Wushuang',\n",
    "    'Karolina_Muchova':'Karolína_Muchová',\n",
    "    'Varvara_Gracheva':'Varvara_Gracheva',\n",
    "    'Baindl_K.':'Kateryna_Baindl', # third iteration here\n",
    "    'Uchijima_M.':'Moyuka_Uchijima',\n",
    "    'Kalieva_E.':'Elvina_Kalieva',\n",
    "    'Osorio_M.':'Camila_Osorio',\n",
    "    'Naito_Y.':'Yuki_Naito',\n",
    "    'Lazaro_A.':'Andrea_Lázaro_García',\n",
    "    'Alves_C.':'Carolina_Alves_(tennis)',\n",
    "    'Schunk_N.':'Nastasja_Schunk',\n",
    "    'Saigo_R.':'Rina_Saigo',\n",
    "    'Ioana_Minca':'Ioana_Mincă',\n",
    "    'Zheng_Q.':'Zheng_Qinwen',\n",
    "    'Guth_M.':'Mara_Guth',\n",
    "    'Palicova_B.':'Barbora_Palicová',\n",
    "    'Shibahara_E.':'Ena_Shibahara',\n",
    "    'Pliskova_Ka.':'Karolína_Plíšková',\n",
    "    'Reyngold_E.':'Ekaterina_Reyngold',\n",
    "    'Middendorf_J.':'Julia_Middendorf',\n",
    "    'Cengiz_B.':'Berfu_Cengiz',\n",
    "    'Jeong_B.':'Jeong_Bo-young',\n",
    "    'Szabanin_N.':'Natália_Szabanin',\n",
    "    'Stakusic_M.':'Marina_Stakusic',\n",
    "    'Mandlik_E.':'Elizabeth_Mandlik',\n",
    "    'Contreras_Gomez_F.':'Fernanda_Contreras_Gómez',\n",
    "    'Paoletti_M.':'Matilde_Paoletti',\n",
    "    'Lamens_S.':'Suzan_Lamens',\n",
    "    'Sherif_M.':'Mayar_Sherif',\n",
    "    'Alexandra_Krunic':'Aleksandra_Krunić',\n",
    "    'Bartunkova_N.':'Nikola_Bartůňková',\n",
    "    'Jones_F.':'Francesca_Jones_(tennis)',\n",
    "    'Yashina_E.':'Ekaterina_Yashina',\n",
    "    'Mariana_Duque-Mariño':'Mariana_Duque_Mariño',\n",
    "    'Bassols_Ribera_M.':'Marina_Bassols_Ribera',\n",
    "    'Fruhvirtova_L.':'Linda_Fruhvirtová',\n",
    "    'Laura_Pous-Tio':'Laura_Pous_Tió',\n",
    "    'Williams_S.':'Serena_Williams',\n",
    "    'Serban_R.':'Raluca_Șerban',\n",
    "    'Caregaro_M.':'Martina_Caregaro',\n",
    "    'Gabueva_A.':'Angelina_Gabueva',\n",
    "    'Stearns_P.':'Peyton_Stearns',\n",
    "    'Na-Lae_Han':'Han_Na-lae',\n",
    "    'Scott_K.':'Katrina_Scott',\n",
    "    'Lovric_P.':'Pia_Lovrič',\n",
    "    'Bandecchi_S.':'Susan_Bandecchi',\n",
    "    'Preston_T.':'Taylah_Preston',\n",
    "    'Bronzetti_L.':'Lucia_Bronzetti',\n",
    "    'Berberovic_N.':'Nefisa_Berberović',\n",
    "    'Herazo_M.':'María_Herazo_González',\n",
    "    'Montgomery_R.':'Robin_Montgomery',\n",
    "    'Turati_B.':'Bianca_Turati',\n",
    "    'Hewitt_D.':'Dalayna_Hewitt',\n",
    "    'Hanatani_N.':'Nagi_Hanatani',\n",
    "    'Zueger_J.':'Joanne_Züger',\n",
    "    'Noskova_L.':'Linda_Nosková',\n",
    "    'Marcinko_P.':'Petra_Marčinko',\n",
    "    'Kraus_S.':'Sinja_Kraus',\n",
    "    'Chang_S.':'Sophie_Chang',\n",
    "    'Yu_E.':'Eleana_Yu',\n",
    "    'Krawczyk_D.':'Desirae_Krawczyk',\n",
    "    'Krueger_A.':'Ashlyn_Krueger',\n",
    "    'Prisacariu_A.':'Andreea_Prisăcariu',\n",
    "    'Jimenez_V.':'Victoria_Jiménez_Kasintseva',\n",
    "    'En-Shuo_Liang':'Liang_En-shuo',\n",
    "    'Monnet_C.':'Carole_Monnet',\n",
    "    'Radivojevic_L.':'Lola_Radivojević',\n",
    "    'Ruse_E-G.':'Elena-Gabriela_Ruse',\n",
    "    'Morderger_Y.':'Yana_Morderger',\n",
    "    'Burillo_I.':'Irene_Burillo_Escorihuela',\n",
    "    'Sebov_K.':'Katherine_Sebov',\n",
    "    'Mansouri_Y.':'Yasmine_Mansouri',\n",
    "    'Bejlek_S.':'Sára_Bejlek',\n",
    "    'Jang_S.':'Jang_Su-jeong',\n",
    "    'Wurth_T.':'Tara_Würth',\n",
    "    'Yingying_Duan':'Duan_Yingying',\n",
    "    'Pigato_L.':'Lisa_Pigato',\n",
    "    'Back_D.':'Back_Da-yeon',\n",
    "    'Glushko_L.':'Lina_Glushko',\n",
    "    'Kartal_S.':'Sonay_Kartal',\n",
    "    'Andreeva_E.':'Erika_Andreeva',\n",
    "    'Ignatik_A.':'Alexandra_Cadanțu-Ignatik',\n",
    "    'Bassols_M.':'Marina_Bassols_Ribera',\n",
    "    'Cross_K.':'Kayla_Cross',\n",
    "    'Yifan_Xu':'Xu_Yifan',\n",
    "    'Maria_Camila_Osorio_Serrano':'Camila_Osorio',\n",
    "    'Anderson_R.':'Robin_Anderson_(tennis)',\n",
    "    'Radisic_N.':'Nika_Radišić',\n",
    "    'Parrizas_Diaz_N.':'Nuria_Párrizas_Díaz',\n",
    "    'Sun_L.':'Lulu_Sun',\n",
    "    'Sakatsume_H.':'Himeno_Sakatsume',\n",
    "    'Bucsa_C.':'Cristina_Bucșa',\n",
    "    'Jacquemot_E.':'Elsa_Jacquemot',\n",
    "    'Bektas_E.':'Emina_Bektas',\n",
    "    'María-Teresa_Torró-Flor':'María_Teresa_Torró_Flor',\n",
    "    'Yang_Zha.':'Yang_Zhaoxuan',\n",
    "    'Nuudi_M.':'Maileen_Nuudi',\n",
    "    'Okamura_K.':'Kyōka_Okamura',\n",
    "    'Falkowska_W.':'Weronika_Falkowska',\n",
    "    'Talaba_G.':'Gabriela_Lee',\n",
    "    'Kulambayeva_Z.':'Zhibek_Kulambayeva',\n",
    "    'Fruhvirtova_B.':'Linda_Fruhvirtová',\n",
    "    'Falkner_Z.':'Živa_Falkner',\n",
    "    'Harrison_Ca.':'Catherine_Harrison_(tennis)',\n",
    "    'Brace_C.':'Cadence_Brace',\n",
    "    'Radwanska_U.':'Agnieszka_Radwańska',\n",
    "    'Eala_A.':'Alex_Eala',\n",
    "    'Plazas_J.':'Jessica_Plazas',\n",
    "    'Grey_S.':'Sarah_Beth_Grey',\n",
    "    'Gervais_J.':'Julie_Gervais',\n",
    "    'Raducanu_E.':'Emma_Raducanu',\n",
    "    'Carle_M.':'María_Carlé',\n",
    "    'Tjandramulia_O.':'Olivia_Tjandramulia',\n",
    "    'Di_Sarra_F.':'Federica_Di_Sarra',\n",
    "    'Olyanovskaya_V.':'Valeriia_Olianovskaia',\n",
    "    'Kubka_M.':'Martyna_Kubka',\n",
    "    'McNally_C.':'Caty_McNally',\n",
    "    'Natalija_Kostic':'Natalija_Stevanović',\n",
    "    'Baszak_W.':'Weronika_Baszak',\n",
    "    'Papamichail_D.':'Despina_Papamichail',\n",
    "    'Bhatia_R.':'Riya_Bhatia',\n",
    "    'Chwalinska_M.':'Maja_Chwalińska',\n",
    "    'Havlickova_L.':'Lucie_Havlíčková',\n",
    "    'Hartono_A.':'Arianne_Hartono',\n",
    "    'Hontama_M.':'Mai_Hontama',\n",
    "    'Gleason_Q.':'Quinn_Gleason',\n",
    "    'Burrage_J.':'Jodie_Burrage',\n",
    "    'Hatouka_Y.':'Yuliya_Hatouka',\n",
    "    'Pliskova_Kr.':'Kristýna_Plíšková',\n",
    "    'Lys_E.':'Eva_Lys',\n",
    "    'Gadecki_O.':'Olivia_Gadecki',\n",
    "    'Rodionova_Ar.':'Arina_Rodionova',\n",
    "    'Lee_G.':'Gabriela_Lee',\n",
    "    'Malygina_E.':'Elena_Malõgina',\n",
    "    'Stefanini_L.':'Lucrezia_Stefanini',\n",
    "    'Sutjiadi_A.':'Aldila_Sutjiadi',\n",
    "    'Jeanjean_L.':'Léolia_Jeanjean',\n",
    "    'Miyazaki_Y.':'Yuriko_Miyazaki',\n",
    "    'Maria_Herazo_Gonzalez':'María_Herazo_González',\n",
    "    'Tkacheva_M.':'Mariia_Tkacheva',\n",
    "    'Mendez_S.':'Seone_Mendez',\n",
    "    'Rodionova_An.':'Arina_Rodionova',\n",
    "    'Saville_D.':'Daria_Saville',\n",
    "    'Mishina_D.':'Daria_Mishina',\n",
    "    'Andreea_Rosca':'Andreea_Roșca',\n",
    "    'Babel_O.':'Océane_Babel',\n",
    "    'Ji-Hee_Choi':'Choi_Ji-hee',\n",
    "    'Anshba_A.':'Amina_Anshba',\n",
    "    'Brancaccio_N.':'Nuria_Brancaccio',\n",
    "    'Shymanovich_I.':'Iryna_Shymanovich',\n",
    "    'Mboko_V.':'Victoria_Mboko',\n",
    "    'Zakharova_A.':'Maria_Zakharova',\n",
    "    'Riske-Amritraj_A.':'Alison_Riske-Amritraj',\n",
    "    'Gasanova_A.':'Anastasia_Gasanova',\n",
    "    'Selekhmeteva_O.':'Oksana_Selekhmeteva',\n",
    "    'Wagner_S.':'Stephanie_Wagner',\n",
    "    'Tikhonova_A.':'Anastasia_Tikhonova_(tennis)',\n",
    "    'Da_Silva_Fick_G.':'Gabriella_Da_Silva-Fick',\n",
    "    'Jani_R-L.':'Réka_Luca_Jani',\n",
    "    'Avanesyan_E.':'Elina_Avanesyan',\n",
    "    'Silva_E.':'Eden_Silva',\n",
    "    'Monroy_Y.':'Yuliana_Monroy',\n",
    "    'Raducànu_E.':'Emma_Raducanu',\n",
    "    'Zuger_J.':'Joanne_Züger',\n",
    "    'Andreeva_M.':'Erika_Andreeva',\n",
    "    'Salkova_D.':'Dominika_Šalková',\n",
    "    'Parks_A.':'Alycia_Parks',\n",
    "    'Snigur_D.':'Daria_Snigur'\n",
    "} # Introduce new player:wikipedia_page dictionary.\n",
    "player_dict = player_dict | new_player_dict\n",
    "\n",
    "df.replace({'player': player_dict}, inplace=True)"
   ],
   "metadata": {
    "collapsed": false,
    "ExecuteTime": {
     "end_time": "2024-07-09T16:30:49.880747600Z",
     "start_time": "2024-07-09T16:30:48.859158500Z"
    }
   }
  },
  {
   "cell_type": "code",
   "execution_count": 11,
   "outputs": [
    {
     "data": {
      "text/plain": "       match_id     tournament                 player       date    year  \\\n12776     12776      Wimbledon        Evgeniya Rodina 2015-07-02  2015.0   \n12785     12785      Wimbledon       Ajla Tomljanovic 2015-07-02  2015.0   \n12784     12784      Wimbledon    Svetlana Kuznetsova 2015-07-02  2015.0   \n12783     12783      Wimbledon          Jana Cepelova 2015-07-02  2015.0   \n12782     12782      Wimbledon          Mirjana Lucic 2015-07-02  2015.0   \n...         ...            ...                    ...        ...     ...   \n4139       4139  Ladies Trophy  Ekaterina Alexandrova 2020-02-15  2020.0   \n4139       4139  Ladies Trophy           Kiki Bertens 2020-02-15  2020.0   \n4142       4142  Ladies Trophy          Maria Sakkari 2020-02-15  2020.0   \n4143       4143  Ladies Trophy           Kiki Bertens 2020-02-16  2020.0   \n4143       4143  Ladies Trophy         Elena Rybakina 2020-02-16  2020.0   \n\n       rankdist  wikibuzz  inverse_b365  inverse_avg  inverse_best  outcome  \n12776  0.023432       0.0      0.250000     0.246914      0.222222        0  \n12785  0.064577       0.0      0.166667     0.181818      0.164474        0  \n12784 -0.032537       0.0      0.819672     0.813008      0.800000        0  \n12783  0.011399       0.0      0.285714     0.288184      0.266667        0  \n12782  0.031481       0.0      0.381679     0.355872      0.327869        0  \n...         ...       ...           ...          ...           ...      ...  \n4139   0.089286  1.323982      0.500000     0.483092      0.454545        0  \n4139  -0.089286 -1.323982      0.555556     0.571429      0.526316        1  \n4142  -0.007619 -1.612937      0.421941     0.431034      0.408163        0  \n4143  -0.085000 -2.935837      0.636943     0.641026      0.621118        1  \n4143   0.085000  2.935837      0.421941     0.414938      0.386100        0  \n\n[21044 rows x 11 columns]",
      "text/html": "<div>\n<style scoped>\n    .dataframe tbody tr th:only-of-type {\n        vertical-align: middle;\n    }\n\n    .dataframe tbody tr th {\n        vertical-align: top;\n    }\n\n    .dataframe thead th {\n        text-align: right;\n    }\n</style>\n<table border=\"1\" class=\"dataframe\">\n  <thead>\n    <tr style=\"text-align: right;\">\n      <th></th>\n      <th>match_id</th>\n      <th>tournament</th>\n      <th>player</th>\n      <th>date</th>\n      <th>year</th>\n      <th>rankdist</th>\n      <th>wikibuzz</th>\n      <th>inverse_b365</th>\n      <th>inverse_avg</th>\n      <th>inverse_best</th>\n      <th>outcome</th>\n    </tr>\n  </thead>\n  <tbody>\n    <tr>\n      <th>12776</th>\n      <td>12776</td>\n      <td>Wimbledon</td>\n      <td>Evgeniya Rodina</td>\n      <td>2015-07-02</td>\n      <td>2015.0</td>\n      <td>0.023432</td>\n      <td>0.0</td>\n      <td>0.250000</td>\n      <td>0.246914</td>\n      <td>0.222222</td>\n      <td>0</td>\n    </tr>\n    <tr>\n      <th>12785</th>\n      <td>12785</td>\n      <td>Wimbledon</td>\n      <td>Ajla Tomljanovic</td>\n      <td>2015-07-02</td>\n      <td>2015.0</td>\n      <td>0.064577</td>\n      <td>0.0</td>\n      <td>0.166667</td>\n      <td>0.181818</td>\n      <td>0.164474</td>\n      <td>0</td>\n    </tr>\n    <tr>\n      <th>12784</th>\n      <td>12784</td>\n      <td>Wimbledon</td>\n      <td>Svetlana Kuznetsova</td>\n      <td>2015-07-02</td>\n      <td>2015.0</td>\n      <td>-0.032537</td>\n      <td>0.0</td>\n      <td>0.819672</td>\n      <td>0.813008</td>\n      <td>0.800000</td>\n      <td>0</td>\n    </tr>\n    <tr>\n      <th>12783</th>\n      <td>12783</td>\n      <td>Wimbledon</td>\n      <td>Jana Cepelova</td>\n      <td>2015-07-02</td>\n      <td>2015.0</td>\n      <td>0.011399</td>\n      <td>0.0</td>\n      <td>0.285714</td>\n      <td>0.288184</td>\n      <td>0.266667</td>\n      <td>0</td>\n    </tr>\n    <tr>\n      <th>12782</th>\n      <td>12782</td>\n      <td>Wimbledon</td>\n      <td>Mirjana Lucic</td>\n      <td>2015-07-02</td>\n      <td>2015.0</td>\n      <td>0.031481</td>\n      <td>0.0</td>\n      <td>0.381679</td>\n      <td>0.355872</td>\n      <td>0.327869</td>\n      <td>0</td>\n    </tr>\n    <tr>\n      <th>...</th>\n      <td>...</td>\n      <td>...</td>\n      <td>...</td>\n      <td>...</td>\n      <td>...</td>\n      <td>...</td>\n      <td>...</td>\n      <td>...</td>\n      <td>...</td>\n      <td>...</td>\n      <td>...</td>\n    </tr>\n    <tr>\n      <th>4139</th>\n      <td>4139</td>\n      <td>Ladies Trophy</td>\n      <td>Ekaterina Alexandrova</td>\n      <td>2020-02-15</td>\n      <td>2020.0</td>\n      <td>0.089286</td>\n      <td>1.323982</td>\n      <td>0.500000</td>\n      <td>0.483092</td>\n      <td>0.454545</td>\n      <td>0</td>\n    </tr>\n    <tr>\n      <th>4139</th>\n      <td>4139</td>\n      <td>Ladies Trophy</td>\n      <td>Kiki Bertens</td>\n      <td>2020-02-15</td>\n      <td>2020.0</td>\n      <td>-0.089286</td>\n      <td>-1.323982</td>\n      <td>0.555556</td>\n      <td>0.571429</td>\n      <td>0.526316</td>\n      <td>1</td>\n    </tr>\n    <tr>\n      <th>4142</th>\n      <td>4142</td>\n      <td>Ladies Trophy</td>\n      <td>Maria Sakkari</td>\n      <td>2020-02-15</td>\n      <td>2020.0</td>\n      <td>-0.007619</td>\n      <td>-1.612937</td>\n      <td>0.421941</td>\n      <td>0.431034</td>\n      <td>0.408163</td>\n      <td>0</td>\n    </tr>\n    <tr>\n      <th>4143</th>\n      <td>4143</td>\n      <td>Ladies Trophy</td>\n      <td>Kiki Bertens</td>\n      <td>2020-02-16</td>\n      <td>2020.0</td>\n      <td>-0.085000</td>\n      <td>-2.935837</td>\n      <td>0.636943</td>\n      <td>0.641026</td>\n      <td>0.621118</td>\n      <td>1</td>\n    </tr>\n    <tr>\n      <th>4143</th>\n      <td>4143</td>\n      <td>Ladies Trophy</td>\n      <td>Elena Rybakina</td>\n      <td>2020-02-16</td>\n      <td>2020.0</td>\n      <td>0.085000</td>\n      <td>2.935837</td>\n      <td>0.421941</td>\n      <td>0.414938</td>\n      <td>0.386100</td>\n      <td>0</td>\n    </tr>\n  </tbody>\n</table>\n<p>21044 rows × 11 columns</p>\n</div>"
     },
     "execution_count": 11,
     "metadata": {},
     "output_type": "execute_result"
    }
   ],
   "source": [
    "df"
   ],
   "metadata": {
    "collapsed": false,
    "ExecuteTime": {
     "end_time": "2024-07-09T16:30:49.894495900Z",
     "start_time": "2024-07-09T16:30:49.880747600Z"
    }
   }
  },
  {
   "cell_type": "code",
   "execution_count": 12,
   "outputs": [],
   "source": [
    "df.to_csv(\"../data/ramirez_matches_cleaned.csv\")"
   ],
   "metadata": {
    "collapsed": false,
    "ExecuteTime": {
     "end_time": "2024-07-09T16:30:50.131728100Z",
     "start_time": "2024-07-09T16:30:49.894495900Z"
    }
   }
  }
 ],
 "metadata": {
  "kernelspec": {
   "display_name": "Python 3",
   "language": "python",
   "name": "python3"
  },
  "language_info": {
   "codemirror_mode": {
    "name": "ipython",
    "version": 2
   },
   "file_extension": ".py",
   "mimetype": "text/x-python",
   "name": "python",
   "nbconvert_exporter": "python",
   "pygments_lexer": "ipython2",
   "version": "2.7.6"
  }
 },
 "nbformat": 4,
 "nbformat_minor": 0
}
