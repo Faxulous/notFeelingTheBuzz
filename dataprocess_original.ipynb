{
 "cells": [
  {
   "cell_type": "code",
   "execution_count": 1,
   "outputs": [],
   "source": [
    "import pandas as pd\n",
    "import numpy as np\n",
    "\n",
    "import warnings\n",
    "warnings.filterwarnings(\"ignore\", category=UnicodeWarning)\n",
    "warnings.filterwarnings(\"ignore\", category=RuntimeWarning)"
   ],
   "metadata": {
    "collapsed": false
   }
  },
  {
   "cell_type": "code",
   "execution_count": 2,
   "outputs": [],
   "source": [
    "url = 'https://drive.google.com/file/d/1ltOks54u7V6tvK22EmT5n_XL8D2V4o8R/view?usp=share_link'\n",
    "path = 'https://drive.google.com/uc?export=download&id='+url.split('/')[-2]\n",
    "\n",
    "df = pd.read_stata(path)"
   ],
   "metadata": {
    "collapsed": false
   }
  },
  {
   "cell_type": "markdown",
   "source": [
    "## RankDist Variable"
   ],
   "metadata": {
    "collapsed": false
   }
  },
  {
   "cell_type": "code",
   "execution_count": 3,
   "outputs": [],
   "source": [
    "def get_rankdist(winner_rank: int = 0, loser_rank: int = 0) -> float:\n",
    "    if np.isnan(winner_rank):\n",
    "        inverse_wr = 0\n",
    "    else:\n",
    "        inverse_wr = 1 / winner_rank\n",
    "\n",
    "    if np.isnan(loser_rank):\n",
    "        inverse_lr = 0\n",
    "    else:\n",
    "        inverse_lr = 1 / loser_rank\n",
    "    rankdist = -(inverse_wr - inverse_lr)\n",
    "    return rankdist\n",
    "\n",
    "df['WRankDist'] = [get_rankdist(x,y) for x,y in zip(df['wrank'], df['lrank'])]\n",
    "df['LRankDist'] = [get_rankdist(y, x) for x, y in zip(df['wrank'], df['lrank'])]"
   ],
   "metadata": {
    "collapsed": false
   }
  },
  {
   "cell_type": "markdown",
   "source": [
    "## WikiBuzz Variable"
   ],
   "metadata": {
    "collapsed": false
   }
  },
  {
   "cell_type": "code",
   "execution_count": 4,
   "outputs": [],
   "source": [
    "def get_wikibuzz(winner_pageviews, winner_median, loser_pageviews, loser_median):\n",
    "    try:\n",
    "        buzz = np.log(winner_pageviews / winner_median) - np.log(loser_pageviews / loser_median)\n",
    "    except ZeroDivisionError:\n",
    "        buzz = 'ZeroDivisionError'\n",
    "    return buzz\n",
    "\n",
    "df['W_WikiBuzz'] = [get_wikibuzz(row[0], row[1], row[2], row[3]) for row in zip(df['wiki_yesterday_w'], df['wiki_med365_w'],\n",
    "                                                                                df['wiki_yesterday_l'], df['wiki_med365_l'])]\n",
    "df['L_WikiBuzz'] = [get_wikibuzz(row[0], row[1], row[2], row[3]) for row in zip(df['wiki_yesterday_l'], df['wiki_med365_l'],\n",
    "                                                                                df['wiki_yesterday_w'], df['wiki_med365_w'])]"
   ],
   "metadata": {
    "collapsed": false
   }
  },
  {
   "cell_type": "markdown",
   "source": [
    "## Inverse Odds"
   ],
   "metadata": {
    "collapsed": false
   }
  },
  {
   "cell_type": "code",
   "execution_count": 5,
   "outputs": [],
   "source": [
    "def impliedprob(player_odds):\n",
    "    return 1/player_odds\n",
    "\n",
    "df['W_inverse_bestodds'] = [impliedprob(x) for x in df['maxw']]\n",
    "df['L_inverse_bestodds'] = [impliedprob(x) for x in df['maxl']]\n",
    "df['W_inverse_avgodds'] = [impliedprob(x) for x in df['avgw']]\n",
    "df['L_inverse_avgodds'] = [impliedprob(x) for x in df['avgl']]\n",
    "df['W_inverse_B365'] = [impliedprob(x) for x in df['b365w']]\n",
    "df['L_inverse_B365'] = [impliedprob(x) for x in df['b365l']]"
   ],
   "metadata": {
    "collapsed": false
   }
  },
  {
   "cell_type": "code",
   "execution_count": 6,
   "outputs": [],
   "source": [
    "# Date Column\n",
    "df['date'] = pd.to_datetime(df[['year', 'month', 'day']])\n",
    "# Match index column\n",
    "df['match_id'] = df.index"
   ],
   "metadata": {
    "collapsed": false
   }
  },
  {
   "cell_type": "code",
   "execution_count": 7,
   "outputs": [],
   "source": [
    "# Convert each row into 2 rows (1 for winner, 1 for loser) sharing a match_id.\n",
    "df_winners = df[['match_id', 'winner', 'date', 'year', 'WRankDist', 'W_WikiBuzz', 'W_inverse_B365', 'W_inverse_avgodds', 'W_inverse_bestodds']].copy()\n",
    "df_winners['outcome'] = 1\n",
    "df_losers = df[['match_id', 'loser', 'date', 'year', 'LRankDist', 'L_WikiBuzz', 'L_inverse_B365', 'L_inverse_avgodds', 'L_inverse_bestodds']].copy()\n",
    "df_losers['outcome'] = 0\n",
    "\n",
    "df_winners.rename({'winner': 'player', 'WRankDist': 'rankdist', 'W_WikiBuzz': 'wikibuzz',\n",
    "                   'W_inverse_B365': 'inverse_b365', 'W_inverse_avgodds': 'inverse_avg', 'W_inverse_bestodds': 'inverse_best'}, axis=1, inplace=True)\n",
    "df_losers.rename({'loser': 'player', 'LRankDist': 'rankdist', 'L_WikiBuzz': 'wikibuzz',\n",
    "                  'L_inverse_B365': 'inverse_b365', 'L_inverse_avgodds': 'inverse_avg', 'L_inverse_bestodds': 'inverse_best'}, axis=1, inplace=True)\n",
    "df = pd.concat([df_winners, df_losers], axis=0)"
   ],
   "metadata": {
    "collapsed": false
   }
  },
  {
   "cell_type": "code",
   "execution_count": 8,
   "outputs": [],
   "source": [
    "# Remove bad rows.\n",
    "df = df.loc[df[\"wikibuzz\"] != np.inf]\n",
    "df = df.loc[df[\"wikibuzz\"] != -np.inf]\n",
    "df = df.loc[df[\"wikibuzz\"] != 'ZeroDivisionError']\n",
    "\n",
    "df = df[df['wikibuzz'].notna()]\n",
    "df = df[df['rankdist'].notna()]\n",
    "df = df[df['inverse_avg'].notna()]\n",
    "\n",
    "df.sort_values(by='date', inplace=True)"
   ],
   "metadata": {
    "collapsed": false
   }
  },
  {
   "cell_type": "code",
   "execution_count": 9,
   "outputs": [
    {
     "data": {
      "text/plain": "       match_id          player       date    year  rankdist  wikibuzz  \\\n12776     12776       Rodina E. 2015-07-02  2015.0  0.023432       0.0   \n12785     12785  Tomljanovic A. 2015-07-02  2015.0  0.064577       0.0   \n12784     12784   Kuznetsova S. 2015-07-02  2015.0 -0.032537       0.0   \n12783     12783     Cepelova J. 2015-07-02  2015.0  0.011399       0.0   \n12782     12782        Lucic M. 2015-07-02  2015.0  0.031481       0.0   \n...         ...             ...        ...     ...       ...       ...   \n4139       4139  Alexandrova E. 2020-02-15  2020.0  0.089286  1.323982   \n4139       4139      Bertens K. 2020-02-15  2020.0 -0.089286 -1.323982   \n4142       4142      Sakkari M. 2020-02-15  2020.0 -0.007619 -1.612937   \n4143       4143      Bertens K. 2020-02-16  2020.0 -0.085000 -2.935837   \n4143       4143     Rybakina E. 2020-02-16  2020.0  0.085000  2.935837   \n\n       inverse_b365  inverse_avg  inverse_best  outcome  \n12776      0.250000     0.246914      0.222222        0  \n12785      0.166667     0.181818      0.164474        0  \n12784      0.819672     0.813008      0.800000        0  \n12783      0.285714     0.288184      0.266667        0  \n12782      0.381679     0.355872      0.327869        0  \n...             ...          ...           ...      ...  \n4139       0.500000     0.483092      0.454545        0  \n4139       0.555556     0.571429      0.526316        1  \n4142       0.421941     0.431034      0.408163        0  \n4143       0.636943     0.641026      0.621118        1  \n4143       0.421941     0.414938      0.386100        0  \n\n[21044 rows x 10 columns]",
      "text/html": "<div>\n<style scoped>\n    .dataframe tbody tr th:only-of-type {\n        vertical-align: middle;\n    }\n\n    .dataframe tbody tr th {\n        vertical-align: top;\n    }\n\n    .dataframe thead th {\n        text-align: right;\n    }\n</style>\n<table border=\"1\" class=\"dataframe\">\n  <thead>\n    <tr style=\"text-align: right;\">\n      <th></th>\n      <th>match_id</th>\n      <th>player</th>\n      <th>date</th>\n      <th>year</th>\n      <th>rankdist</th>\n      <th>wikibuzz</th>\n      <th>inverse_b365</th>\n      <th>inverse_avg</th>\n      <th>inverse_best</th>\n      <th>outcome</th>\n    </tr>\n  </thead>\n  <tbody>\n    <tr>\n      <th>12776</th>\n      <td>12776</td>\n      <td>Rodina E.</td>\n      <td>2015-07-02</td>\n      <td>2015.0</td>\n      <td>0.023432</td>\n      <td>0.0</td>\n      <td>0.250000</td>\n      <td>0.246914</td>\n      <td>0.222222</td>\n      <td>0</td>\n    </tr>\n    <tr>\n      <th>12785</th>\n      <td>12785</td>\n      <td>Tomljanovic A.</td>\n      <td>2015-07-02</td>\n      <td>2015.0</td>\n      <td>0.064577</td>\n      <td>0.0</td>\n      <td>0.166667</td>\n      <td>0.181818</td>\n      <td>0.164474</td>\n      <td>0</td>\n    </tr>\n    <tr>\n      <th>12784</th>\n      <td>12784</td>\n      <td>Kuznetsova S.</td>\n      <td>2015-07-02</td>\n      <td>2015.0</td>\n      <td>-0.032537</td>\n      <td>0.0</td>\n      <td>0.819672</td>\n      <td>0.813008</td>\n      <td>0.800000</td>\n      <td>0</td>\n    </tr>\n    <tr>\n      <th>12783</th>\n      <td>12783</td>\n      <td>Cepelova J.</td>\n      <td>2015-07-02</td>\n      <td>2015.0</td>\n      <td>0.011399</td>\n      <td>0.0</td>\n      <td>0.285714</td>\n      <td>0.288184</td>\n      <td>0.266667</td>\n      <td>0</td>\n    </tr>\n    <tr>\n      <th>12782</th>\n      <td>12782</td>\n      <td>Lucic M.</td>\n      <td>2015-07-02</td>\n      <td>2015.0</td>\n      <td>0.031481</td>\n      <td>0.0</td>\n      <td>0.381679</td>\n      <td>0.355872</td>\n      <td>0.327869</td>\n      <td>0</td>\n    </tr>\n    <tr>\n      <th>...</th>\n      <td>...</td>\n      <td>...</td>\n      <td>...</td>\n      <td>...</td>\n      <td>...</td>\n      <td>...</td>\n      <td>...</td>\n      <td>...</td>\n      <td>...</td>\n      <td>...</td>\n    </tr>\n    <tr>\n      <th>4139</th>\n      <td>4139</td>\n      <td>Alexandrova E.</td>\n      <td>2020-02-15</td>\n      <td>2020.0</td>\n      <td>0.089286</td>\n      <td>1.323982</td>\n      <td>0.500000</td>\n      <td>0.483092</td>\n      <td>0.454545</td>\n      <td>0</td>\n    </tr>\n    <tr>\n      <th>4139</th>\n      <td>4139</td>\n      <td>Bertens K.</td>\n      <td>2020-02-15</td>\n      <td>2020.0</td>\n      <td>-0.089286</td>\n      <td>-1.323982</td>\n      <td>0.555556</td>\n      <td>0.571429</td>\n      <td>0.526316</td>\n      <td>1</td>\n    </tr>\n    <tr>\n      <th>4142</th>\n      <td>4142</td>\n      <td>Sakkari M.</td>\n      <td>2020-02-15</td>\n      <td>2020.0</td>\n      <td>-0.007619</td>\n      <td>-1.612937</td>\n      <td>0.421941</td>\n      <td>0.431034</td>\n      <td>0.408163</td>\n      <td>0</td>\n    </tr>\n    <tr>\n      <th>4143</th>\n      <td>4143</td>\n      <td>Bertens K.</td>\n      <td>2020-02-16</td>\n      <td>2020.0</td>\n      <td>-0.085000</td>\n      <td>-2.935837</td>\n      <td>0.636943</td>\n      <td>0.641026</td>\n      <td>0.621118</td>\n      <td>1</td>\n    </tr>\n    <tr>\n      <th>4143</th>\n      <td>4143</td>\n      <td>Rybakina E.</td>\n      <td>2020-02-16</td>\n      <td>2020.0</td>\n      <td>0.085000</td>\n      <td>2.935837</td>\n      <td>0.421941</td>\n      <td>0.414938</td>\n      <td>0.386100</td>\n      <td>0</td>\n    </tr>\n  </tbody>\n</table>\n<p>21044 rows × 10 columns</p>\n</div>"
     },
     "execution_count": 9,
     "metadata": {},
     "output_type": "execute_result"
    }
   ],
   "source": [
    "df"
   ],
   "metadata": {
    "collapsed": false
   }
  },
  {
   "cell_type": "code",
   "execution_count": 9,
   "outputs": [],
   "source": [],
   "metadata": {
    "collapsed": false
   }
  }
 ],
 "metadata": {
  "kernelspec": {
   "display_name": "Python 3",
   "language": "python",
   "name": "python3"
  },
  "language_info": {
   "codemirror_mode": {
    "name": "ipython",
    "version": 2
   },
   "file_extension": ".py",
   "mimetype": "text/x-python",
   "name": "python",
   "nbconvert_exporter": "python",
   "pygments_lexer": "ipython2",
   "version": "2.7.6"
  }
 },
 "nbformat": 4,
 "nbformat_minor": 0
}
