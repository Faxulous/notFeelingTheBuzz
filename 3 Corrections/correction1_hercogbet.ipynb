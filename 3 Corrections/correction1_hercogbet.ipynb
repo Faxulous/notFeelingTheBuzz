{
 "cells": [
  {
   "cell_type": "markdown",
   "source": [
    "# 3.1. Correction I: A Problematic Bet for the Bet365 Strategy\n",
    "\n",
    "1. Import libraries and loads ramirez dataset.\n",
    "2. Define result functions.\n",
    "3. Remove Hercog bet.\n",
    "4. New Results."
   ],
   "metadata": {
    "collapsed": false
   }
  },
  {
   "cell_type": "code",
   "execution_count": 5,
   "metadata": {
    "collapsed": true,
    "ExecuteTime": {
     "end_time": "2023-05-10T06:30:39.966702300Z",
     "start_time": "2023-05-10T06:30:39.961696600Z"
    }
   },
   "outputs": [],
   "source": [
    "import pandas as pd\n",
    "import seaborn as sns\n",
    "import statsmodels.formula.api as sm\n",
    "import matplotlib.pyplot as plt\n",
    "import econtools.metrics as mt\n",
    "import numpy as np\n",
    "from econtools import read, outreg, table_statrow, write_notes\n",
    "import matplotlib.ticker as mtick\n",
    "import matplotlib.dates as mdates\n",
    "plt.style.use('seaborn-v0_8-deep')"
   ]
  },
  {
   "cell_type": "code",
   "execution_count": 6,
   "outputs": [
    {
     "name": "stdout",
     "output_type": "stream",
     "text": [
      "Fit set rows: 15854\n",
      "Test set rows: 5190\n"
     ]
    }
   ],
   "source": [
    "# Test and training sets\n",
    "original_df = pd.read_csv(r'https://raw.githubusercontent.com/Faxulous/notFeelingTheBuzz/main/DataFiles/ramirez_matches_cleaned.csv', index_col=0)\n",
    "fitset = original_df[~(original_df['date'] > '2019-01-00')].copy()\n",
    "testset = original_df[(original_df['date'] > '2019-01-00')].copy()\n",
    "\n",
    "testset.reset_index(inplace=True)\n",
    "print('Fit set rows: '+str(len(fitset)))\n",
    "print('Test set rows: '+str(len(testset)))"
   ],
   "metadata": {
    "collapsed": false,
    "ExecuteTime": {
     "end_time": "2023-05-10T06:30:40.739550Z",
     "start_time": "2023-05-10T06:30:40.396002300Z"
    }
   }
  },
  {
   "cell_type": "code",
   "execution_count": 7,
   "outputs": [],
   "source": [
    "# All functions used for results\n",
    "\n",
    "# Select regression by setting rankdist and wikibuzz True or False.\n",
    "# For models PM, PM w/o RD (aka. WB), RD, MO.\n",
    "def fit_regression(rankdist: bool = True, wikibuzz: bool = True):\n",
    "    if wikibuzz and rankdist:\n",
    "        results = mt.reg(fitset,'outcome',\n",
    "        ['inverse_avg', 'rankdist', 'wikibuzz'],\n",
    "        #fe_name= \"year\",\n",
    "        cluster='match_id',\n",
    "        addcons=True)\n",
    "        params = [results.beta[-1], results.beta[0], results.beta[1], results.beta[2]]\n",
    "        #params= [constant        , inverse_avg    , rankdist       , wikibuzz       ]\n",
    "    elif wikibuzz and not rankdist:\n",
    "        results = mt.reg(fitset,'outcome',\n",
    "        ['inverse_avg', 'wikibuzz'],\n",
    "        #fe_name= \"year\",\n",
    "        cluster='match_id',addcons=True)\n",
    "        params = [results.beta[-1], results.beta[0], results.beta[1]]\n",
    "        #params= [constant        , inverse_avg    , wikibuzz       ]\n",
    "    elif rankdist and not wikibuzz:\n",
    "        results = mt.reg(fitset,'outcome',\n",
    "        ['inverse_avg', 'rankdist'],\n",
    "        #fe_name= \"year\",\n",
    "        cluster='match_id',addcons=True)\n",
    "        params = [results.beta[-1], results.beta[0], results.beta[1]]\n",
    "        #params= [constant        , inverse_avg    , rankdist       ]\n",
    "    elif not rankdist and not wikibuzz:\n",
    "        results = mt.reg(fitset,'outcome',\n",
    "        ['inverse_avg'],\n",
    "        #fe_name= \"year\",\n",
    "        cluster='match_id',addcons=True)\n",
    "        params = [results.beta[-1], results.beta[0]]\n",
    "        #params= [constant        , inverse_avg    ]\n",
    "    print(results)\n",
    "    return params\n",
    "\n",
    "# Returns model's estimated probability.\n",
    "def estimate_probability(params: pd.Series,\n",
    "                         inverse_odds: float,\n",
    "                         rankdist: float = None,\n",
    "                         wikibuzz: float = None) -> float:\n",
    "    if (rankdist is not None) & (wikibuzz is not None):\n",
    "        y_hat = params[0] + params[-3]*inverse_odds + params[-2]*rankdist + params[-1]*wikibuzz\n",
    "    if (rankdist is not None) & (wikibuzz is None):\n",
    "        y_hat = params[0] + params[-2] * inverse_odds + params[-1] * rankdist\n",
    "    if (wikibuzz is not None) & (rankdist is None):\n",
    "        y_hat = params[0] + params[-2]*inverse_odds + params[-1]*wikibuzz\n",
    "    if (rankdist is None) and (wikibuzz is None):\n",
    "        y_hat = params[0] + params[1]*inverse_odds\n",
    "    print(params[0])\n",
    "    return y_hat\n",
    "\n",
    "def kelly_criterion(odds_implied_prob, y_hat):\n",
    "    odds = 1/odds_implied_prob\n",
    "    k = max(y_hat - ((1 - y_hat)/(odds - 1)), 0)\n",
    "    return k\n",
    "\n",
    "# Calculates Profit/Loss.\n",
    "def profit_loss(kelly, odds_implied_prob, outcome):\n",
    "    odds = 1 / odds_implied_prob\n",
    "    if outcome == 1:\n",
    "        PnL = kelly*odds - kelly\n",
    "    if outcome == 0:\n",
    "        PnL = -kelly\n",
    "    return PnL\n",
    "\n",
    "# Estimates probability according to model selection, creates new columns, and prints results\n",
    "def show_results(testset, params, odds, rankdist: bool = True, wikibuzz: bool = True): # Odds = \"avg\", \"best\", \"b365\"\n",
    "\n",
    "    # Estimate Probability.\n",
    "    if rankdist and wikibuzz:\n",
    "        testset['model_est_prob'] = [estimate_probability(params, row[0], row[1], row[2]) for row in zip(testset['inverse_avg'],\n",
    "                                                                                                         testset['rankdist'],\n",
    "                                                                                                         testset['wikibuzz'])]\n",
    "    elif wikibuzz and not rankdist:\n",
    "        testset['model_est_prob'] = [estimate_probability(params, inverse_odds=row[0], wikibuzz=row[1]) for row in zip(testset['inverse_avg'],\n",
    "                                                                                                                       testset['wikibuzz'])]\n",
    "    elif rankdist and not wikibuzz:\n",
    "        testset['model_est_prob'] = [estimate_probability(params, inverse_odds=row[0], rankdist=row[1]) for row in zip(testset['inverse_avg'],\n",
    "                                                                                                                       testset['rankdist'])]\n",
    "    elif not rankdist and not wikibuzz:\n",
    "        testset['model_est_prob'] = [simple_probability(params, inverse_odds=x) for x in testset['inverse_avg']]\n",
    "    # Determine kelly bet size.\n",
    "    testset['kelly_betsize'] = [kelly_criterion(row[0], row[1]) for row in zip(testset['inverse_{}'.format(odds)],\n",
    "                                                                               testset['model_est_prob'])]\n",
    "    # Calculate return for the bet.\n",
    "    testset['PnL'] = [profit_loss(row[0], row[1], row[2]) for row in zip(testset['kelly_betsize'],testset['inverse_{}'.format(odds)],\n",
    "                                                                         testset['outcome'])]\n",
    "\n",
    "    print('Bets considered (2 * Matches): '+str(len(testset[testset['inverse_{}'.format(odds)].notna()])))\n",
    "    print('Number of bets placed: '+str(len(testset.loc[(testset[\"PnL\"].notna()) & testset[\"PnL\"] != 0])))\n",
    "    print(\"Mean overround (%): \"+str((testset.sort_values(by=\"match_id\")[\"inverse_{}\".format(odds)].rolling(2).sum()[1::2].mean()-1)*100))\n",
    "    print('Absolute amount bet: '+str(testset['kelly_betsize'].sum()))\n",
    "    print('Absolute return: '+str(testset['PnL'].sum()))\n",
    "    print('ROI (%): '+str((((testset['PnL'].sum() + testset['kelly_betsize'].sum())/testset['kelly_betsize'].sum())-1)*100))\n",
    "\n",
    "# PnL plot\n",
    "def plot_results():\n",
    "    testset['Cum_PnL'] = testset['PnL'].cumsum() * 100\n",
    "    plt.rcParams.update({'font.size': 8}) # 16\n",
    "    fig, ax = plt.subplots(1, 1, figsize=(3, 3)) # 6, 6\n",
    "    testset.plot('date', 'Cum_PnL', ax=ax, linewidth=1.25) # 2.5\n",
    "\n",
    "    ax.set_ylabel('Absolute Return (%)')\n",
    "    ax.set_xlabel('Date')\n",
    "    ax.get_legend().remove()\n",
    "    fig.autofmt_xdate()\n",
    "\n",
    "    ax.set_ylim(-100, 360)\n",
    "    plt.axhline(y=0, color='grey').set_linewidth(2.5)\n",
    "\n",
    "    plt.show()\n",
    "\n",
    "\n",
    "# Estimates probability according to model selection, creates new columns, and prints results - WITH CONVENTIONAL KELLY\n",
    "def correct_kelly_results(odds, rankdist: bool = True, wikibuzz: bool = True): # Odds = \"avg\", \"best\", \"b365\"\n",
    "\n",
    "    params = fit_regression(rankdist=rankdist,wikibuzz=wikibuzz)\n",
    "    show_results(testset, params, odds, rankdist=rankdist, wikibuzz=wikibuzz)\n",
    "\n",
    "    testset['bankroll_after'] = testset['PnL'] + 1\n",
    "    testset['bankroll_after'] = testset['bankroll_after'].cumprod()\n",
    "    testset['bankroll_before'] = testset.bankroll_after.shift(1)\n",
    "    testset['betsize_of_inital_bankroll'] = testset['kelly_betsize'] * testset['bankroll_before']\n",
    "    testset['pnl_of_initial_bankroll'] = testset['PnL'] * testset['bankroll_before']\n",
    "    print(\"---------------\")\n",
    "    print(\"*Correct Kelly*\")\n",
    "    print('Bets considered (2 * Matches): '+str(len(testset[testset['inverse_{}'.format(odds)].notna()])))\n",
    "    print('Number of bets placed: '+str(len(testset.loc[(testset[\"PnL\"].notna()) & testset[\"PnL\"] != 0])))\n",
    "    print(\"Mean overround (%): \"+str((testset.sort_values(by=\"match_id\")[\"inverse_{}\".format(odds)].rolling(2).sum()[1::2].mean()-1)*100))\n",
    "    print('Absolute amount bet: ' + str(testset['betsize_of_inital_bankroll'].sum()))\n",
    "    print('Absolute return: ' + str(testset['pnl_of_initial_bankroll'].sum()))\n",
    "    print('ROI (%): ' + str((((testset['pnl_of_initial_bankroll'].sum() + testset['betsize_of_inital_bankroll'].sum()) / testset[\n",
    "    'betsize_of_inital_bankroll'].sum()) - 1)*100))\n",
    "\n",
    "# PnL plot - WITH CONVENTIONAL KELLY\n",
    "def correct_kelly_plot_results():\n",
    "    testset[\"Cum_PnL\"] = (testset[\"bankroll_after\"] -1) * 100\n",
    "    plt.rcParams.update({'font.size': 8}) # 16\n",
    "    fig, ax = plt.subplots(1, 1, figsize=(3, 3)) # 6, 6\n",
    "    testset.plot('date', 'Cum_PnL', ax=ax, linewidth=1.25) # 2.5\n",
    "    ax.set_ylabel('Absolute Return (%)')\n",
    "    ax.set_xlabel('Date')\n",
    "    ax.get_legend().remove()\n",
    "    fig.autofmt_xdate()\n",
    "    ax.set_ylim(-100, 200)\n",
    "    plt.axhline(y=0, color='grey').set_linewidth(2.5)\n",
    "\n",
    "    plt.show()"
   ],
   "metadata": {
    "collapsed": false,
    "ExecuteTime": {
     "end_time": "2023-05-10T06:30:41.694200200Z",
     "start_time": "2023-05-10T06:30:41.680529600Z"
    }
   }
  },
  {
   "cell_type": "code",
   "execution_count": 8,
   "outputs": [
    {
     "name": "stdout",
     "output_type": "stream",
     "text": [
      "=======================================================\n",
      "Dependent variable:\toutcome\n",
      "N:\t\t\t15854\n",
      "R-squared:\t\t0.1589\n",
      "Estimation method:\tOLS\n",
      "VCE method:\t\tCluster\n",
      "  Cluster variable:\t  match_id\n",
      "  No. of clusters:\t  7927\n",
      "=======================================================\n",
      "             coeff    se      t   p>t CI_low CI_high\n",
      "inverse_avg  1.025 0.028 36.945 0.000  0.971   1.080\n",
      "rankdist     0.055 0.031  1.787 0.074 -0.005   0.115\n",
      "wikibuzz     0.009 0.004  2.117 0.034  0.001   0.017\n",
      "_cons       -0.041 0.015 -2.831 0.005 -0.070  -0.013\n",
      "=======================================================\n",
      "\n",
      "Bets considered (2 * Matches): 5156\n",
      "Number of bets placed: 312\n",
      "Mean overround (%): 6.456499124919013\n",
      "Absolute amount bet: 7.151004389181408\n",
      "Absolute return: 1.2360930817839966\n",
      "ROI (%): 17.28558695410749\n"
     ]
    },
    {
     "data": {
      "text/plain": "      index  match_id                player        date    year  rankdist  \\\n1135   5883      5883         Polona Hercog  2019-03-23  2019.0 -0.001824   \n4439  20000     20000  Veronika Kudermetova  2019-10-17  2019.0  0.226190   \n2482  12033     12033      Yulia Putintseva  2019-06-20  2019.0  0.976744   \n5104   2540      2540           Sofia Kenin  2020-01-30  2020.0  0.933333   \n3209  15953     15953           Sofia Kenin  2019-08-06  2019.0  0.965517   \n\n      wikibuzz  inverse_b365  inverse_avg  inverse_best  outcome  \\\n1135 -1.707411      0.181818     0.540541      0.476190        1   \n4439  1.707976      0.307692     0.364964      0.307692        1   \n2482  1.032863      0.266667     0.279330      0.250000        1   \n5104  1.061726      0.266667     0.277778      0.248139        1   \n3209  0.797335      0.230947     0.238663      0.217391        1   \n\n      model_est_prob  kelly_betsize       PnL  \n1135        0.497091       0.385334  1.734001  \n4439        0.360454       0.076212  0.171476  \n2482        0.307616       0.055840  0.153559  \n5104        0.303912       0.050789  0.139668  \n3209        0.263184       0.041918  0.139587  ",
      "text/html": "<div>\n<style scoped>\n    .dataframe tbody tr th:only-of-type {\n        vertical-align: middle;\n    }\n\n    .dataframe tbody tr th {\n        vertical-align: top;\n    }\n\n    .dataframe thead th {\n        text-align: right;\n    }\n</style>\n<table border=\"1\" class=\"dataframe\">\n  <thead>\n    <tr style=\"text-align: right;\">\n      <th></th>\n      <th>index</th>\n      <th>match_id</th>\n      <th>player</th>\n      <th>date</th>\n      <th>year</th>\n      <th>rankdist</th>\n      <th>wikibuzz</th>\n      <th>inverse_b365</th>\n      <th>inverse_avg</th>\n      <th>inverse_best</th>\n      <th>outcome</th>\n      <th>model_est_prob</th>\n      <th>kelly_betsize</th>\n      <th>PnL</th>\n    </tr>\n  </thead>\n  <tbody>\n    <tr>\n      <th>1135</th>\n      <td>5883</td>\n      <td>5883</td>\n      <td>Polona Hercog</td>\n      <td>2019-03-23</td>\n      <td>2019.0</td>\n      <td>-0.001824</td>\n      <td>-1.707411</td>\n      <td>0.181818</td>\n      <td>0.540541</td>\n      <td>0.476190</td>\n      <td>1</td>\n      <td>0.497091</td>\n      <td>0.385334</td>\n      <td>1.734001</td>\n    </tr>\n    <tr>\n      <th>4439</th>\n      <td>20000</td>\n      <td>20000</td>\n      <td>Veronika Kudermetova</td>\n      <td>2019-10-17</td>\n      <td>2019.0</td>\n      <td>0.226190</td>\n      <td>1.707976</td>\n      <td>0.307692</td>\n      <td>0.364964</td>\n      <td>0.307692</td>\n      <td>1</td>\n      <td>0.360454</td>\n      <td>0.076212</td>\n      <td>0.171476</td>\n    </tr>\n    <tr>\n      <th>2482</th>\n      <td>12033</td>\n      <td>12033</td>\n      <td>Yulia Putintseva</td>\n      <td>2019-06-20</td>\n      <td>2019.0</td>\n      <td>0.976744</td>\n      <td>1.032863</td>\n      <td>0.266667</td>\n      <td>0.279330</td>\n      <td>0.250000</td>\n      <td>1</td>\n      <td>0.307616</td>\n      <td>0.055840</td>\n      <td>0.153559</td>\n    </tr>\n    <tr>\n      <th>5104</th>\n      <td>2540</td>\n      <td>2540</td>\n      <td>Sofia Kenin</td>\n      <td>2020-01-30</td>\n      <td>2020.0</td>\n      <td>0.933333</td>\n      <td>1.061726</td>\n      <td>0.266667</td>\n      <td>0.277778</td>\n      <td>0.248139</td>\n      <td>1</td>\n      <td>0.303912</td>\n      <td>0.050789</td>\n      <td>0.139668</td>\n    </tr>\n    <tr>\n      <th>3209</th>\n      <td>15953</td>\n      <td>15953</td>\n      <td>Sofia Kenin</td>\n      <td>2019-08-06</td>\n      <td>2019.0</td>\n      <td>0.965517</td>\n      <td>0.797335</td>\n      <td>0.230947</td>\n      <td>0.238663</td>\n      <td>0.217391</td>\n      <td>1</td>\n      <td>0.263184</td>\n      <td>0.041918</td>\n      <td>0.139587</td>\n    </tr>\n  </tbody>\n</table>\n</div>"
     },
     "execution_count": 8,
     "metadata": {},
     "output_type": "execute_result"
    }
   ],
   "source": [
    "# Sort table by PnL size showing Hercog bet\n",
    "params = fit_regression()\n",
    "show_results(testset, params=params, odds=\"b365\")\n",
    "testset.sort_values(by=[\"PnL\"], ascending=False).head()"
   ],
   "metadata": {
    "collapsed": false,
    "ExecuteTime": {
     "end_time": "2023-05-10T06:31:13.068346400Z",
     "start_time": "2023-05-10T06:31:13.012296400Z"
    }
   }
  },
  {
   "cell_type": "code",
   "execution_count": 9,
   "outputs": [],
   "source": [
    "# Remove Hercog bet\n",
    "testset.drop(index=1135, inplace=True)"
   ],
   "metadata": {
    "collapsed": false,
    "ExecuteTime": {
     "end_time": "2023-05-10T06:32:18.663060300Z",
     "start_time": "2023-05-10T06:32:18.639039300Z"
    }
   }
  },
  {
   "cell_type": "code",
   "execution_count": 10,
   "outputs": [
    {
     "name": "stdout",
     "output_type": "stream",
     "text": [
      "=======================================================\n",
      "Dependent variable:\toutcome\n",
      "N:\t\t\t15854\n",
      "R-squared:\t\t0.1589\n",
      "Estimation method:\tOLS\n",
      "VCE method:\t\tCluster\n",
      "  Cluster variable:\t  match_id\n",
      "  No. of clusters:\t  7927\n",
      "=======================================================\n",
      "             coeff    se      t   p>t CI_low CI_high\n",
      "inverse_avg  1.025 0.028 36.945 0.000  0.971   1.080\n",
      "rankdist     0.055 0.031  1.787 0.074 -0.005   0.115\n",
      "wikibuzz     0.009 0.004  2.117 0.034  0.001   0.017\n",
      "_cons       -0.041 0.015 -2.831 0.005 -0.070  -0.013\n",
      "=======================================================\n",
      "\n",
      "Bets considered (2 * Matches): 5155\n",
      "Number of bets placed: 311\n",
      "Mean overround (%): 6.466222358689877\n",
      "Absolute amount bet: 6.765670747988662\n",
      "Absolute return: -0.4979083035833616\n",
      "ROI (%): -7.359333939378931\n"
     ]
    },
    {
     "data": {
      "text/plain": "<Figure size 300x300 with 1 Axes>",
      "image/png": "[encoded data removed]"
     },
     "metadata": {},
     "output_type": "display_data"
    }
   ],
   "source": [
    "# Table 3 PM results and Figure 1c plot\n",
    "params = fit_regression(rankdist=True)\n",
    "show_results(testset, params=params, odds=\"b365\", rankdist=True)\n",
    "plot_results()"
   ],
   "metadata": {
    "collapsed": false,
    "ExecuteTime": {
     "end_time": "2023-05-10T06:32:23.335773100Z",
     "start_time": "2023-05-10T06:32:23.112772600Z"
    }
   }
  },
  {
   "cell_type": "code",
   "execution_count": 11,
   "outputs": [
    {
     "name": "stdout",
     "output_type": "stream",
     "text": [
      "=======================================================\n",
      "Dependent variable:\toutcome\n",
      "N:\t\t\t15854\n",
      "R-squared:\t\t0.1586\n",
      "Estimation method:\tOLS\n",
      "VCE method:\t\tCluster\n",
      "  Cluster variable:\t  match_id\n",
      "  No. of clusters:\t  7927\n",
      "=======================================================\n",
      "             coeff    se      t   p>t CI_low CI_high\n",
      "inverse_avg  1.005 0.025 39.826 0.000  0.956   1.055\n",
      "wikibuzz     0.010 0.004  2.265 0.024  0.001   0.018\n",
      "_cons       -0.031 0.013 -2.323 0.020 -0.057  -0.005\n",
      "=======================================================\n",
      "\n",
      "Bets considered (2 * Matches): 5155\n",
      "Number of bets placed: 275\n",
      "Mean overround (%): 6.466222358689877\n",
      "Absolute amount bet: 4.6039147201459425\n",
      "Absolute return: -0.2903874179608172\n",
      "ROI (%): -6.307402191663791\n"
     ]
    },
    {
     "data": {
      "text/plain": "<Figure size 300x300 with 1 Axes>",
      "image/png": "[encoded data removed]"
     },
     "metadata": {},
     "output_type": "display_data"
    }
   ],
   "source": [
    "# Table 3 PM w/o RD results and Figure 1d plot\n",
    "params = fit_regression(rankdist=False)\n",
    "show_results(testset, params=params, odds=\"b365\", rankdist=False)\n",
    "plot_results()"
   ],
   "metadata": {
    "collapsed": false,
    "ExecuteTime": {
     "end_time": "2023-05-10T06:33:55.173590800Z",
     "start_time": "2023-05-10T06:33:54.986421100Z"
    }
   }
  }
 ],
 "metadata": {
  "kernelspec": {
   "display_name": "Python 3",
   "language": "python",
   "name": "python3"
  },
  "language_info": {
   "codemirror_mode": {
    "name": "ipython",
    "version": 2
   },
   "file_extension": ".py",
   "mimetype": "text/x-python",
   "name": "python",
   "nbconvert_exporter": "python",
   "pygments_lexer": "ipython2",
   "version": "2.7.6"
  }
 },
 "nbformat": 4,
 "nbformat_minor": 0
}
