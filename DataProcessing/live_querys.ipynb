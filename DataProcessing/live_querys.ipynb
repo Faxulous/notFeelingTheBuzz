{
 "cells": [
  {
   "cell_type": "code",
   "execution_count": null,
   "outputs": [],
   "source": [
    "# original dataprocess_clegg way."
   ],
   "metadata": {
    "collapsed": false
   }
  },
  {
   "cell_type": "code",
   "execution_count": null,
   "metadata": {
    "collapsed": true
   },
   "outputs": [],
   "source": [
    "session = requests.Session()\n",
    "def get_yday_views(player, date) -> int:\n",
    "    \"\"\"\n",
    "    Pageviews for player from yesterday.\n",
    "    :param player: Two formats, either betfair in or the other historical tennis files in.\n",
    "    :param date: potentially two formats again. but easy to deal with.\n",
    "    \"\"\"\n",
    "    match_date = date.date()\n",
    "    prev_day_date = (match_date - timedelta(days=1)).strftime('%Y%m%d')\n",
    "    try:\n",
    "        prev_day_request = session.get(request_url +\n",
    "                                        f'{player}/daily/{prev_day_date}/{prev_day_date}',\n",
    "                                        headers=headers).json()\n",
    "        prev_day_views = prev_day_request['items'][0]['views']\n",
    "    except KeyError:\n",
    "        prev_day_views = 'KeyError'\n",
    "    return prev_day_views\n",
    "\n",
    "def get_median_views(player, date) -> float:\n",
    "    \"\"\"\n",
    "    Median pageviews for player over past year.\n",
    "    :param player: Two formats, either betfair in or the other historical tennis files in.\n",
    "    :param date: potentially two formats again. but easy to deal with.\n",
    "    \"\"\"\n",
    "    match_date = date.date()\n",
    "    end_of_year = (match_date - timedelta(days=2)).strftime('%Y%m%d')\n",
    "    start_of_year = (match_date - timedelta(days=365)).strftime('%Y%m%d')\n",
    "    try:\n",
    "        past_year_request = session.get(request_url +\n",
    "                                         f'{player}/daily/{start_of_year}/{end_of_year}',\n",
    "                                         headers=headers).json()\n",
    "        view_list = []\n",
    "        for n in range(0, len(past_year_request['items'])):\n",
    "            views = past_year_request['items'][n]['views']\n",
    "            view_list.append(views)\n",
    "        past_year_median = median(view_list)\n",
    "    except KeyError:\n",
    "        past_year_median = 'KeyError'\n",
    "    return past_year_median"
   ]
  },
  {
   "cell_type": "code",
   "execution_count": null,
   "outputs": [],
   "source": [
    "\n",
    "def get_yday_views(player, date) -> int:\n",
    "    \"\"\"\n",
    "    Pageviews for player from yesterday.\n",
    "    :param player: Two formats, either betfair in or the other historical tennis files in.\n",
    "    :param date: potentially two formats again. but easy to deal with.\n",
    "    \"\"\"\n",
    "    match_date = date.date()\n",
    "    prev_day_date = (match_date - timedelta(days=1)).strftime('%Y%m%d')\n",
    "    try:\n",
    "        prev_day_request = requests.get(request_url +\n",
    "                                        f'{player}/daily/{prev_day_date}/{prev_day_date}',\n",
    "                                        headers=headers).json()\n",
    "        prev_day_views = prev_day_request['items'][0]['views']\n",
    "    except KeyError:\n",
    "        prev_day_views = 'KeyError'\n",
    "    print(date)\n",
    "    return prev_day_views\n",
    "\n",
    "def get_median_views(player, date) -> float:\n",
    "    \"\"\"\n",
    "    Median pageviews for player over past year.\n",
    "    :param player: Two formats, either betfair in or the other historical tennis files in.\n",
    "    :param date: potentially two formats again. but easy to deal with.\n",
    "    \"\"\"\n",
    "    match_date = date.date()\n",
    "    end_of_year = (match_date - timedelta(days=2)).strftime('%Y%m%d')\n",
    "    start_of_year = (match_date - timedelta(days=365)).strftime('%Y%m%d')\n",
    "    try:\n",
    "        past_year_request = requests.get(request_url +\n",
    "                                         f'{player}/daily/{start_of_year}/{end_of_year}',\n",
    "                                         headers=headers).json()\n",
    "        view_list = []\n",
    "        for n in range(0, len(past_year_request['items'])):\n",
    "            views = past_year_request['items'][n]['views']\n",
    "            view_list.append(views)\n",
    "        past_year_median = median(view_list)\n",
    "    except KeyError:\n",
    "        past_year_median = 'KeyError'\n",
    "    return past_year_median"
   ],
   "metadata": {
    "collapsed": false
   }
  }
 ],
 "metadata": {
  "kernelspec": {
   "display_name": "Python 3",
   "language": "python",
   "name": "python3"
  },
  "language_info": {
   "codemirror_mode": {
    "name": "ipython",
    "version": 2
   },
   "file_extension": ".py",
   "mimetype": "text/x-python",
   "name": "python",
   "nbconvert_exporter": "python",
   "pygments_lexer": "ipython2",
   "version": "2.7.6"
  }
 },
 "nbformat": 4,
 "nbformat_minor": 0
}
