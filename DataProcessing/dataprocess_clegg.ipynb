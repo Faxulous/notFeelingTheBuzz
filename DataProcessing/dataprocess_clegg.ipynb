{
 "cells": [
  {
   "cell_type": "markdown",
   "source": [
    "# Data Processing (Clegg)\n",
    "Covered in this notebook:\n",
    "1. Downloading match data from tennis-data.co.uk\n",
    "2. Obtain pageview counts for each player.\n",
    "2. Adding columns for all variables described in paper:\n",
    "    a. RankDist.\n",
    "    b. WikiBuzz.\n",
    "    c. Implied Probability / Inverse Odds.\n",
    "3. Produce a cleaned wta_matches_cleaned.csv file ready for further use."
   ],
   "metadata": {
    "collapsed": false
   }
  },
  {
   "cell_type": "code",
   "execution_count": 38,
   "outputs": [],
   "source": [
    "# Imports, Remove Warnings for notebook readability.\n",
    "import pandas as pd\n",
    "from datetime import datetime, timedelta\n",
    "import warnings\n",
    "import requests\n",
    "from statistics import median\n",
    "import numpy as np\n",
    "import json\n",
    "import pandas as pd\n",
    "warnings.filterwarnings(\"ignore\", category=UserWarning)"
   ],
   "metadata": {
    "collapsed": false
   }
  },
  {
   "cell_type": "code",
   "execution_count": 39,
   "metadata": {
    "collapsed": true
   },
   "outputs": [],
   "source": [
    "# Load dataframe.\n",
    "url = 'http://www.tennis-data.co.uk/{year}w/{year}.xlsx'\n",
    "wta_matchess = [(pd.read_excel(url.format(year=str(x)), sheet_name=str(x))) for x in range(2016, 2022 + 1)]\n",
    "wta_matches = pd.concat(wta_matchess, axis=0, ignore_index=True)\n",
    "wta_matches['Date'] = pd.to_datetime(wta_matches['Date'])\n",
    "wta_matches = wta_matches[wta_matches[\"Date\"] > '2016-07-01']\n",
    "wta_matches['match_id'] = wta_matches.index # Index column.\n",
    "wta_matches['Winner'] = wta_matches['Winner'].str.replace(' ', '_')\n",
    "wta_matches['Loser'] = wta_matches['Loser'].str.replace(' ', '_')"
   ]
  },
  {
   "cell_type": "code",
   "execution_count": 40,
   "outputs": [],
   "source": [
    "# Link players to their Wikipedia pages.\n",
    "url = \"https://drive.google.com/file/d/1PP6qoLuh43Fdkj5oVfqTKN4TWe6dcwfd/view?usp=share_link\"\n",
    "path = 'https://drive.google.com/uc?export=download&id='+url.split('/')[-2]\n",
    "players = pd.read_csv(path)\n",
    "\n",
    "player_dict = dict(zip(players.odds_player, players.player))\n",
    "player_dict = {k.replace(' ', '_'): v.replace(' ', '_') for k, v in player_dict.items() if not isinstance(v, float)}\n",
    "new_player_dict = {\n",
    "    'Wang_X.':'Wang_Xiyu',\n",
    "    'Wang_Xiy.':'Wang_Xiyu',\n",
    "    'Stephens_S.':'Sloane_Stephens',\n",
    "    'Pliskova_Ka.':'Karolína_Plíšková',\n",
    "    'Williams_S.':'Serena_Williams',\n",
    "    'Pliskova_Kr.':'Kristýna_Plíšková',\n",
    "    'Alexandra_Krunic':'Aleksandra_Krunić',\n",
    "    'Yingying_Duan':'Duan_Yingying',\n",
    "    'Lin_Zhu':'Zhu_Lin_(tennis)',\n",
    "    'Rodionova_Ar.':'Arina_Rodionova',\n",
    "    'Carina_Witthoeft':'Carina_Witthöft',\n",
    "    'Stefanie_Voegele':'Stefanie_Vögele',\n",
    "    'Sílvia_Soler-Espinosa':'Sílvia_Soler_Espinosa',\n",
    "    'Xinyun_Han':'Han_Xinyun',\n",
    "    'Yafan_Wang':'Wang_Yafan',\n",
    "    'Jana_Cepelova':'Jana_Čepelová',\n",
    "    'Zhang_Shuai':'Zhang_Shuai',\n",
    "    'Catherine_McNally':'Caty_McNally',\n",
    "    'Viktoria_Kuzmova':'Viktória_Kužmová',\n",
    "    'Barbora_Krejcikova':'Barbora_Krejčíková',\n",
    "    'En-Shuo_Liang':'Liang_En-shuo',\n",
    "    'Chloe_Paquet':'Chloé_Paquet',\n",
    "    'Su-Wei_Hsieh':'Hsieh_Su-wei',\n",
    "    'Saisai_Zheng':'Zheng_Saisai',\n",
    "    'Marketa_Vondrousova':'Markéta_Vondroušová',\n",
    "    'Fangzhou_Liu':'Liu_Fangzhou',\n",
    "    'Patricia_Maria_Tig':'Patricia_Maria_Țig',\n",
    "    'Julia_Goerges':'Julia_Görges',\n",
    "    'Lesley_Pattinama_Kerkhove':'Lesley_Pattinama_Kerkhove',\n",
    "    'Tamara_Zidansek':'Tamara_Zidanšek',\n",
    "    'Iga_Swiatek':'Iga_Świątek',\n",
    "    'Anna_Karolina_Schmiedlova':'Anna_Karolína_Schmiedlová',\n",
    "    'Shuai_Peng':'Peng_Shuai',\n",
    "    'Leonie_Kung':'Leonie_Küng',\n",
    "    'Radwanska_U.':'Agnieszka_Radwańska',\n",
    "    'Barbora_Strycova':'Barbora_Strýcová',\n",
    "    'Cagla_Buyukakcay':'Çağla_Büyükakçay',\n",
    "    'Rodionova_An.':'Arina_Rodionova',\n",
    "    'Alexandra_Cadantu':'Alexandra_Cadanțu-Ignatik',\n",
    "    'Marie_Bouzkova':'Marie_Bouzková',\n",
    "    'Denisa_Allertova':'Denisa_Šátralová',\n",
    "    'Lucie_Hradecka':'Lucie_Hradecká',\n",
    "    'Ivana_Jorovic':'Ivana_Jorović',\n",
    "    'Maia_Lumsden':'Maia_Lumsden',\n",
    "    'Mirjana_Lucic':'Mirjana_Lučić-Baroni',\n",
    "    'Hailey_Baptiste':'Hailey_Baptiste',\n",
    "    'Katerina_Siniakova':'Kateřina_Siniaková',\n",
    "    'Mihaela_Buzarnescu':'Mihaela_Buzărnescu',\n",
    "    'Qiang_Wang':'Wang_Qiang_(tennis)',\n",
    "    'Xiaodi_You':'You_Xiaodi',\n",
    "    'Paula_Cristina_Goncalves':'Paula_Cristina_Gonçalves',\n",
    "    'Aliona_Bolsova':'Aliona_Bolsova',\n",
    "    'Tereza_Smitkova':'Tereza_Smitková',\n",
    "    'Xinyu_Wang':'Wang_Xinyu',\n",
    "    'Leylah_Fernandez':'Leylah_Fernandez',\n",
    "    'Magdalena_Rybarikova':'Magdaléna_Rybáriková',\n",
    "    'Johanna_Larsson':'Johanna_Larsson',\n",
    "    'Mirjana_Lucic-Baroni':'Mirjana_Lučić-Baroni',\n",
    "    'Danka_Kovinic':'Danka_Kovinić',\n",
    "    'Tereza_Martincova':'Tereza_Martincová',\n",
    "    'Montserrat_Gonzalez':'Montserrat_González',\n",
    "    'Maria_Herazo_Gonzalez':'María_Herazo_González',\n",
    "    'Ipek_Soylu':'İpek_Soylu',\n",
    "    'Petra_Martic':'Petra_Martić',\n",
    "    'Timea_Babos':'Tímea_Babos',\n",
    "    'Nina_Stojanovic':'Nina_Stojanović',\n",
    "    'Na-Lae_Han':'Han_Na-lae',\n",
    "    'Jia-Jing_Lu':'Lu_Jiajing', #From 2nd iteration, losers column...\n",
    "    'Lesley_Pattinama_Kerkhove':'Lesley_Pattinama_Kerkhove',\n",
    "    'Ya-Hsuan_Lee':'Lee_Ya-hsuan',\n",
    "    'Alexandra_Cadanțu-Ignatik':'Alexandra_Cadanțu-Ignatik',\n",
    "    'Maria_Mateas':'Maria_Mateas',\n",
    "    'Selena_Janicijevic':'Séléna_Janicijevic',\n",
    "    'Jessica_Pieri':'Jessica_Pieri',\n",
    "    'Denisa_Šátralová':'Denisa_Šátralová',\n",
    "    'Kamilla_Rakhimova':'Kamilla_Rakhimova',\n",
    "    'Tess_Sugnaux':'Tess_Sugnaux',\n",
    "    'Maia_Lumsden':'Maia_Lumsden',\n",
    "    'Mirjam_Bjorklund':'Mirjam_Björklund',\n",
    "    'Alyssa_Mayo':'Alyssa_Mayo',\n",
    "    'Komola_Umarova':'Komola_Umarova',\n",
    "    'Ng_Kwan-yau':'Ng_Kwan-yau',\n",
    "    'Cristiana_Ferrando':'Cristiana_Ferrando',\n",
    "    'Martina_Capurro_Taborda':'Martina_Capurro_Taborda',\n",
    "    'Elena-Gabriela_Ruse':'Elena-Gabriela_Ruse',\n",
    "    'Freya_Christie':'Freya_Christie',\n",
    "    'Jovana_Jovic':'Jovana_Jović',\n",
    "    'Mira_Antonitsch':'Mira_Antonitsch',\n",
    "    'Dayana_Yastremska':'Dayana_Yastremska',\n",
    "    'Emiliana_Arango':'Emiliana_Arango',\n",
    "    'Nadia_Echeverria_Alam':'Nadia_Echeverría_Alam',\n",
    "    'Frances_Altick':'Frances_Altick',\n",
    "    'Ayaka_Okuno':'Ayaka_Okuno',\n",
    "    'Anastasiya_Shoshyna':'Anastasiya_Shoshyna',\n",
    "    'Jesika_Maleckova':'Jesika_Malečková',\n",
    "    'Wushuang_Zheng':'Zheng_Wushuang',\n",
    "    'Karolina_Muchova':'Karolína_Muchová',\n",
    "    'Varvara_Gracheva':'Varvara_Gracheva',\n",
    "    'Baindl_K.':'Kateryna_Baindl', # third iteration here\n",
    "    'Uchijima_M.':'Moyuka_Uchijima',\n",
    "    'Kalieva_E.':'Elvina_Kalieva',\n",
    "    'Osorio_M.':'Camila_Osorio',\n",
    "    'Naito_Y.':'Yuki_Naito',\n",
    "    'Lazaro_A.':'Andrea_Lázaro_García',\n",
    "    'Alves_C.':'Carolina_Alves_(tennis)',\n",
    "    'Schunk_N.':'Nastasja_Schunk',\n",
    "    'Saigo_R.':'Rina_Saigo',\n",
    "    'Ioana_Minca':'Ioana_Mincă',\n",
    "    'Zheng_Q.':'Zheng_Qinwen',\n",
    "    'Guth_M.':'Mara_Guth',\n",
    "    'Palicova_B.':'Barbora_Palicová',\n",
    "    'Shibahara_E.':'Ena_Shibahara',\n",
    "    'Pliskova_Ka.':'Karolína_Plíšková',\n",
    "    'Reyngold_E.':'Ekaterina_Reyngold',\n",
    "    'Middendorf_J.':'Julia_Middendorf',\n",
    "    'Cengiz_B.':'Berfu_Cengiz',\n",
    "    'Jeong_B.':'Jeong_Bo-young',\n",
    "    'Szabanin_N.':'Natália_Szabanin',\n",
    "    'Stakusic_M.':'Marina_Stakusic',\n",
    "    'Mandlik_E.':'Elizabeth_Mandlik',\n",
    "    'Contreras_Gomez_F.':'Fernanda_Contreras_Gómez',\n",
    "    'Paoletti_M.':'Matilde_Paoletti',\n",
    "    'Lamens_S.':'Suzan_Lamens',\n",
    "    'Sherif_M.':'Mayar_Sherif',\n",
    "    'Alexandra_Krunic':'Aleksandra_Krunić',\n",
    "    'Bartunkova_N.':'Nikola_Bartůňková',\n",
    "    'Jones_F.':'Francesca_Jones_(tennis)',\n",
    "    'Yashina_E.':'Ekaterina_Yashina',\n",
    "    'Mariana_Duque-Mariño':'Mariana_Duque_Mariño',\n",
    "    'Bassols_Ribera_M.':'Marina_Bassols_Ribera',\n",
    "    'Fruhvirtova_L.':'Linda_Fruhvirtová',\n",
    "    'Laura_Pous-Tio':'Laura_Pous_Tió',\n",
    "    'Williams_S.':'Serena_Williams',\n",
    "    'Serban_R.':'Raluca_Șerban',\n",
    "    'Caregaro_M.':'Martina_Caregaro',\n",
    "    'Gabueva_A.':'Angelina_Gabueva',\n",
    "    'Stearns_P.':'Peyton_Stearns',\n",
    "    'Na-Lae_Han':'Han_Na-lae',\n",
    "    'Scott_K.':'Katrina_Scott',\n",
    "    'Lovric_P.':'Pia_Lovrič',\n",
    "    'Bandecchi_S.':'Susan_Bandecchi',\n",
    "    'Preston_T.':'Taylah_Preston',\n",
    "    'Bronzetti_L.':'Lucia_Bronzetti',\n",
    "    'Berberovic_N.':'Nefisa_Berberović',\n",
    "    'Herazo_M.':'María_Herazo_González',\n",
    "    'Montgomery_R.':'Robin_Montgomery',\n",
    "    'Turati_B.':'Bianca_Turati',\n",
    "    'Hewitt_D.':'Dalayna_Hewitt',\n",
    "    'Hanatani_N.':'Nagi_Hanatani',\n",
    "    'Zueger_J.':'Joanne_Züger',\n",
    "    'Noskova_L.':'Linda_Nosková',\n",
    "    'Marcinko_P.':'Petra_Marčinko',\n",
    "    'Kraus_S.':'Sinja_Kraus',\n",
    "    'Chang_S.':'Sophie_Chang',\n",
    "    'Yu_E.':'Eleana_Yu',\n",
    "    'Krawczyk_D.':'Desirae_Krawczyk',\n",
    "    'Krueger_A.':'Ashlyn_Krueger',\n",
    "    'Prisacariu_A.':'Andreea_Prisăcariu',\n",
    "    'Jimenez_V.':'Victoria_Jiménez_Kasintseva',\n",
    "    'En-Shuo_Liang':'Liang_En-shuo',\n",
    "    'Monnet_C.':'Carole_Monnet',\n",
    "    'Radivojevic_L.':'Lola_Radivojević',\n",
    "    'Ruse_E-G.':'Elena-Gabriela_Ruse',\n",
    "    'Morderger_Y.':'Yana_Morderger',\n",
    "    'Burillo_I.':'Irene_Burillo_Escorihuela',\n",
    "    'Sebov_K.':'Katherine_Sebov',\n",
    "    'Mansouri_Y.':'Yasmine_Mansouri',\n",
    "    'Bejlek_S.':'Sára_Bejlek',\n",
    "    'Jang_S.':'Jang_Su-jeong',\n",
    "    'Wurth_T.':'Tara_Würth',\n",
    "    'Yingying_Duan':'Duan_Yingying',\n",
    "    'Pigato_L.':'Lisa_Pigato',\n",
    "    'Back_D.':'Back_Da-yeon',\n",
    "    'Glushko_L.':'Lina_Glushko',\n",
    "    'Kartal_S.':'Sonay_Kartal',\n",
    "    'Andreeva_E.':'Erika_Andreeva',\n",
    "    'Ignatik_A.':'Alexandra_Cadanțu-Ignatik',\n",
    "    'Bassols_M.':'Marina_Bassols_Ribera',\n",
    "    'Cross_K.':'Kayla_Cross',\n",
    "    'Yifan_Xu':'Xu_Yifan',\n",
    "    'Maria_Camila_Osorio_Serrano':'Camila_Osorio',\n",
    "    'Anderson_R.':'Robin_Anderson_(tennis)',\n",
    "    'Radisic_N.':'Nika_Radišić',\n",
    "    'Parrizas_Diaz_N.':'Nuria_Párrizas_Díaz',\n",
    "    'Sun_L.':'Lulu_Sun',\n",
    "    'Sakatsume_H.':'Himeno_Sakatsume',\n",
    "    'Bucsa_C.':'Cristina_Bucșa',\n",
    "    'Jacquemot_E.':'Elsa_Jacquemot',\n",
    "    'Bektas_E.':'Emina_Bektas',\n",
    "    'María-Teresa_Torró-Flor':'María_Teresa_Torró_Flor',\n",
    "    'Yang_Zha.':'Yang_Zhaoxuan',\n",
    "    'Nuudi_M.':'Maileen_Nuudi',\n",
    "    'Okamura_K.':'Kyōka_Okamura',\n",
    "    'Falkowska_W.':'Weronika_Falkowska',\n",
    "    'Talaba_G.':'Gabriela_Lee',\n",
    "    'Kulambayeva_Z.':'Zhibek_Kulambayeva',\n",
    "    'Fruhvirtova_B.':'Linda_Fruhvirtová',\n",
    "    'Falkner_Z.':'Živa_Falkner',\n",
    "    'Harrison_Ca.':'Catherine_Harrison_(tennis)',\n",
    "    'Brace_C.':'Cadence_Brace',\n",
    "    'Radwanska_U.':'Agnieszka_Radwańska',\n",
    "    'Eala_A.':'Alex_Eala',\n",
    "    'Plazas_J.':'Jessica_Plazas',\n",
    "    'Grey_S.':'Sarah_Beth_Grey',\n",
    "    'Gervais_J.':'Julie_Gervais',\n",
    "    'Raducanu_E.':'Emma_Raducanu',\n",
    "    'Carle_M.':'María_Carlé',\n",
    "    'Tjandramulia_O.':'Olivia_Tjandramulia',\n",
    "    'Di_Sarra_F.':'Federica_Di_Sarra',\n",
    "    'Olyanovskaya_V.':'Valeriia_Olianovskaia',\n",
    "    'Kubka_M.':'Martyna_Kubka',\n",
    "    'McNally_C.':'Caty_McNally',\n",
    "    'Natalija_Kostic':'Natalija_Stevanović',\n",
    "    'Baszak_W.':'Weronika_Baszak',\n",
    "    'Papamichail_D.':'Despina_Papamichail',\n",
    "    'Bhatia_R.':'Riya_Bhatia',\n",
    "    'Chwalinska_M.':'Maja_Chwalińska',\n",
    "    'Havlickova_L.':'Lucie_Havlíčková',\n",
    "    'Hartono_A.':'Arianne_Hartono',\n",
    "    'Hontama_M.':'Mai_Hontama',\n",
    "    'Gleason_Q.':'Quinn_Gleason',\n",
    "    'Burrage_J.':'Jodie_Burrage',\n",
    "    'Hatouka_Y.':'Yuliya_Hatouka',\n",
    "    'Pliskova_Kr.':'Kristýna_Plíšková',\n",
    "    'Lys_E.':'Eva_Lys',\n",
    "    'Gadecki_O.':'Olivia_Gadecki',\n",
    "    'Rodionova_Ar.':'Arina_Rodionova',\n",
    "    'Lee_G.':'Gabriela_Lee',\n",
    "    'Malygina_E.':'Elena_Malõgina',\n",
    "    'Stefanini_L.':'Lucrezia_Stefanini',\n",
    "    'Sutjiadi_A.':'Aldila_Sutjiadi',\n",
    "    'Jeanjean_L.':'Léolia_Jeanjean',\n",
    "    'Miyazaki_Y.':'Yuriko_Miyazaki',\n",
    "    'Maria_Herazo_Gonzalez':'María_Herazo_González',\n",
    "    'Tkacheva_M.':'Mariia_Tkacheva',\n",
    "    'Mendez_S.':'Seone_Mendez',\n",
    "    'Rodionova_An.':'Arina_Rodionova',\n",
    "    'Saville_D.':'Daria_Saville',\n",
    "    'Mishina_D.':'Daria_Mishina',\n",
    "    'Andreea_Rosca':'Andreea_Roșca',\n",
    "    'Babel_O.':'Océane_Babel',\n",
    "    'Ji-Hee_Choi':'Choi_Ji-hee',\n",
    "    'Anshba_A.':'Amina_Anshba',\n",
    "    'Brancaccio_N.':'Nuria_Brancaccio',\n",
    "    'Shymanovich_I.':'Iryna_Shymanovich',\n",
    "    'Mboko_V.':'Victoria_Mboko',\n",
    "    'Zakharova_A.':'Maria_Zakharova',\n",
    "    'Riske-Amritraj_A.':'Alison_Riske-Amritraj',\n",
    "    'Gasanova_A.':'Anastasia_Gasanova',\n",
    "    'Selekhmeteva_O.':'Oksana_Selekhmeteva',\n",
    "    'Wagner_S.':'Stephanie_Wagner',\n",
    "    'Tikhonova_A.':'Anastasia_Tikhonova_(tennis)',\n",
    "    'Da_Silva_Fick_G.':'Gabriella_Da_Silva-Fick',\n",
    "    'Jani_R-L.':'Réka_Luca_Jani',\n",
    "    'Avanesyan_E.':'Elina_Avanesyan',\n",
    "    'Silva_E.':'Eden_Silva',\n",
    "    'Monroy_Y.':'Yuliana_Monroy',\n",
    "    'Raducànu_E.':'Emma_Raducanu',\n",
    "    'Zuger_J.':'Joanne_Züger',\n",
    "    'Andreeva_M.':'Erika_Andreeva',\n",
    "    'Salkova_D.':'Dominika_Šalková',\n",
    "    'Parks_A.':'Alycia_Parks',\n",
    "    'Snigur_D.':'Daria_Snigur',\n",
    "    'Davis_L.':'Lauren_Davis',\n",
    "} # Introduce new player:wikipedia_page dictionary.\n",
    "player_dict = player_dict | new_player_dict\n",
    "\n",
    "wta_matches.replace({'Winner': player_dict}, inplace=True)\n",
    "wta_matches.replace({'Loser': player_dict}, inplace=True)"
   ],
   "metadata": {
    "collapsed": false
   }
  },
  {
   "cell_type": "markdown",
   "source": [
    "## 2. Page view counts."
   ],
   "metadata": {
    "collapsed": false
   }
  },
  {
   "cell_type": "code",
   "execution_count": 41,
   "outputs": [],
   "source": [
    "request_url = 'https://wikimedia.org/api/rest_v1/metrics/pageviews/'\\\n",
    "              'per-article/en.wikipedia.org/all-access/all-agents/'\n",
    "headers = {'User-Agent': 'Mozilla/5.0 (Windows NT 10.0; Win64; x64) AppleWebKit/537.36'\n",
    "                         '(KHTML, like Gecko) Chrome/105.0.0.0 Safari/537.36',\n",
    "           'From': 'faxulous@gmail.com'}\n",
    "all_p_requests = []\n",
    "for player in list(player_dict.values()):\n",
    "    try:\n",
    "        p_request = requests.get(request_url + f'{player}/daily/20150101/20230505', headers=headers).json()[\"items\"]\n",
    "    except:\n",
    "        pass\n",
    "    all_p_requests.extend(p_request)\n",
    "\n",
    "# Convert combined JSON data to a pandas dataframe\n",
    "df = pd.DataFrame(all_p_requests)\n",
    "\n",
    "# Convert 'timestamp' to datetime format and set it as the index\n",
    "df['timestamp'] = pd.to_datetime(df['timestamp'], format='%Y%m%d00')\n",
    "df.set_index('timestamp', inplace=True)\n",
    "# Pivot the dataframe to have 'article' names as columns\n",
    "pivot_df = df.pivot_table(values='views', columns='article', index=df.index)"
   ],
   "metadata": {
    "collapsed": false
   }
  },
  {
   "cell_type": "code",
   "execution_count": 42,
   "outputs": [],
   "source": [
    "for col in pivot_df.columns:\n",
    "    pivot_df[col] = pivot_df[col].mask(pivot_df[col].notna().cummax().shift(fill_value=False), pivot_df[col].fillna(0))"
   ],
   "metadata": {
    "collapsed": false
   }
  },
  {
   "cell_type": "code",
   "execution_count": 43,
   "outputs": [
    {
     "name": "stdout",
     "output_type": "stream",
     "text": [
      "Failed articles: {'Zhang_Yi.'}\n"
     ]
    }
   ],
   "source": [
    "# Function to get the day before value and median value\n",
    "def get_values(article, date):\n",
    "    start_date = date - timedelta(days=366)\n",
    "    end_date = date - timedelta(days=1)\n",
    "\n",
    "    try:\n",
    "        past_year_data = pivot_df.loc[start_date:end_date, article]\n",
    "    except KeyError:\n",
    "        failed_articles.append(article)\n",
    "        return (float('nan'), float('nan'))\n",
    "    #print(past_year_data.isna().sum())\n",
    "    if past_year_data.isna().sum() > 0:\n",
    "        return (float('nan'), float('nan'))\n",
    "    \n",
    "    day_before_value = past_year_data.iloc[-1]\n",
    "    median_value = past_year_data.iloc[:-1].median()\n",
    "    return (day_before_value, median_value)\n",
    "\n",
    "failed_articles = []\n",
    "wta_matches['Date'] = pd.to_datetime(wta_matches['Date'])\n",
    "# Apply the get_values function to the winner and loser columns\n",
    "wta_matches['winner_previous_day_views'], wta_matches['winner_median_views'] = zip(*wta_matches.apply(lambda row: get_values(row['Winner'], row['Date']), axis=1))\n",
    "wta_matches['loser_previous_day_views'], wta_matches['loser_median_views'] = zip(*wta_matches.apply(lambda row: get_values(row['Loser'], row['Date']), axis=1))\n",
    "print(\"Failed articles:\", set(failed_articles))"
   ],
   "metadata": {
    "collapsed": false
   }
  },
  {
   "cell_type": "code",
   "execution_count": 44,
   "outputs": [
    {
     "name": "stdout",
     "output_type": "stream",
     "text": [
      "Total Rows: 14292\n",
      "Total (Usable) Rows: 13613\n"
     ]
    }
   ],
   "source": [
    "wta_matches = wta_matches.copy()\n",
    "print('Total Rows: '+str(len(wta_matches)))\n",
    "wta_matches.dropna(subset=[\"winner_previous_day_views\", 'winner_median_views', \"loser_previous_day_views\", \"loser_median_views\"], inplace=True)\n",
    "print('Total (Usable) Rows: '+str(len(wta_matches)))"
   ],
   "metadata": {
    "collapsed": false
   }
  },
  {
   "cell_type": "markdown",
   "source": [
    "## 3a. RankDist."
   ],
   "metadata": {
    "collapsed": false
   }
  },
  {
   "cell_type": "code",
   "execution_count": 45,
   "outputs": [],
   "source": [
    "def RankDist_ij(winner_rank: int = 0, loser_rank: int = 0) -> float:\n",
    "    \"\"\"\n",
    "    Calculates the RankDist variable.\n",
    "    If no rank available, use 0.\n",
    "    \"\"\"\n",
    "    if np.isnan(winner_rank):\n",
    "        inverse_wr = 0\n",
    "    else:\n",
    "        inverse_wr = 1 / winner_rank\n",
    "\n",
    "    if np.isnan(loser_rank):\n",
    "        inverse_lr = 0\n",
    "    else:\n",
    "        inverse_lr = 1 / loser_rank\n",
    "    rankdist = -(inverse_wr - inverse_lr)\n",
    "    return rankdist"
   ],
   "metadata": {
    "collapsed": false
   }
  },
  {
   "cell_type": "code",
   "execution_count": 46,
   "outputs": [],
   "source": [
    "wta_matches['WRankDist'] = [RankDist_ij(x,y) for x,y in zip(wta_matches['WRank'], wta_matches['LRank'])]\n",
    "wta_matches['LRankDist'] = [RankDist_ij(y, x) for x, y in zip(wta_matches['WRank'], wta_matches['LRank'])]"
   ],
   "metadata": {
    "collapsed": false
   }
  },
  {
   "cell_type": "markdown",
   "source": [
    "## 3b. WikiBuzz."
   ],
   "metadata": {
    "collapsed": false
   }
  },
  {
   "cell_type": "code",
   "execution_count": 47,
   "outputs": [],
   "source": [
    "def WikiBuzz_ij(winner_pageviews, winner_median, loser_pageviews, loser_median) -> float:\n",
    "    \"\"\"\n",
    "    Calculates the WikiBuzz variable.\n",
    "    \"\"\"\n",
    "    w_ij = winner_pageviews\n",
    "    w_dash_ij = loser_pageviews\n",
    "    wcurl_ij = winner_median if winner_median != 0 else 1\n",
    "    wcurl_dash_ij = loser_median if loser_median != 0 else 1\n",
    "    log_ij = np.log(w_ij / wcurl_ij) if w_ij != 0 else 0 \n",
    "    log_dash_ij = np.log(w_dash_ij / wcurl_dash_ij) if w_dash_ij != 0 else 0 \n",
    "    return log_ij - log_dash_ij"
   ],
   "metadata": {
    "collapsed": false
   }
  },
  {
   "cell_type": "code",
   "execution_count": 48,
   "outputs": [],
   "source": [
    "wta_matches['winner_previous_day_views'] = wta_matches['winner_previous_day_views'].astype(str).astype(float)\n",
    "wta_matches['winner_median_views'] = wta_matches['winner_median_views'].astype(str).astype(float)\n",
    "wta_matches['loser_previous_day_views'] = wta_matches['loser_previous_day_views'].astype(str).astype(float)\n",
    "wta_matches['loser_median_views'] = wta_matches['loser_median_views'].astype(str).astype(float)"
   ],
   "metadata": {
    "collapsed": false
   }
  },
  {
   "cell_type": "code",
   "execution_count": 49,
   "outputs": [],
   "source": [
    "# Using the view columns from above.\n",
    "wta_matches['W_WikiBuzz'] = [WikiBuzz_ij(row[0], row[1], row[2], row[3]) for row in\n",
    "                          zip(wta_matches['winner_previous_day_views'], wta_matches['winner_median_views'],\n",
    "                              wta_matches['loser_previous_day_views'], wta_matches['loser_median_views'])]\n",
    "wta_matches['L_WikiBuzz'] = [WikiBuzz_ij(row[0], row[1], row[2], row[3]) for row in\n",
    "                          zip(wta_matches['winner_previous_day_views'], wta_matches['winner_median_views'],\n",
    "                              wta_matches['loser_previous_day_views'], wta_matches['loser_median_views'])]"
   ],
   "metadata": {
    "collapsed": false
   }
  },
  {
   "cell_type": "markdown",
   "source": [
    "## 3. Cleaned CSV File Produced."
   ],
   "metadata": {
    "collapsed": false
   }
  },
  {
   "cell_type": "code",
   "execution_count": 50,
   "outputs": [
    {
     "data": {
      "text/plain": "       WTA    Location  Tournament       Date                Tier    Court  \\\n1540    34      London   Wimbledon 2016-07-02          Grand Slam  Outdoor   \n1541    34      London   Wimbledon 2016-07-02          Grand Slam  Outdoor   \n1542    34      London   Wimbledon 2016-07-02          Grand Slam  Outdoor   \n1545    34      London   Wimbledon 2016-07-02          Grand Slam  Outdoor   \n1546    34      London   Wimbledon 2016-07-02          Grand Slam  Outdoor   \n...    ...         ...         ...        ...                 ...      ...   \n15829   55  Fort Worth  WTA Finals 2022-11-05  Tour Championships   Indoor   \n15830   55  Fort Worth  WTA Finals 2022-11-06  Tour Championships   Indoor   \n15831   55  Fort Worth  WTA Finals 2022-11-06  Tour Championships   Indoor   \n15832   55  Fort Worth  WTA Finals 2022-11-07  Tour Championships   Indoor   \n15833   55  Fort Worth  WTA Finals 2022-11-08  Tour Championships   Indoor   \n\n      Surface        Round  Best of              Winner  ...  AvgL  match_id  \\\n1540    Grass    2nd Round        3     Sloane_Stephens  ...  4.95      1540   \n1541    Grass    2nd Round        3    Timea_Bacsinszky  ...  3.53      1541   \n1542    Grass    2nd Round        3  Ekaterina_Makarova  ...  1.40      1542   \n1545    Grass    3rd Round        3          Misaki_Doi  ...  2.24      1545   \n1546    Grass    3rd Round        3    Angelique_Kerber  ...  6.77      1546   \n...       ...          ...      ...                 ...  ...   ...       ...   \n15829    Hard  Round Robin        3     Caroline_Garcia  ...  2.28     15829   \n15830    Hard  Round Robin        3         Iga_Swiatek  ...  5.61     15830   \n15831    Hard   Semifinals        3     Caroline_Garcia  ...  1.61     15831   \n15832    Hard   Semifinals        3     Aryna_Sabalenka  ...  1.16     15832   \n15833    Hard    The Final        3     Caroline_Garcia  ...  1.83     15833   \n\n       winner_previous_day_views  winner_median_views  \\\n1540                      1206.0                220.0   \n1541                       642.0                161.0   \n1542                       792.0                172.0   \n1545                       587.0                 53.0   \n1546                      1615.0                566.0   \n...                          ...                  ...   \n15829                     1476.0                232.0   \n15830                       47.0                 23.0   \n15831                     5478.0                233.0   \n15832                     1754.0                740.0   \n15833                     5591.0                236.0   \n\n       loser_previous_day_views  loser_median_views  WRankDist  LRankDist  \\\n1540                     1101.0                40.0  -0.037518   0.037518   \n1541                      334.0                70.0  -0.069632   0.069632   \n1542                       17.0                11.0   0.071429  -0.071429   \n1545                      363.0                38.0  -0.002864   0.002864   \n1546                        6.0                 2.0  -0.240826   0.240826   \n...                         ...                 ...        ...        ...   \n15829                    4232.0               286.0  -0.041667   0.041667   \n15830                       6.0                11.0  -0.750000   0.750000   \n15831                    4687.0               716.0   0.033333  -0.033333   \n15832                      33.0                23.0   0.857143  -0.857143   \n15833                   13777.0               746.0  -0.023810   0.023810   \n\n       W_WikiBuzz  L_WikiBuzz  \n1540    -1.613658   -1.613658  \n1541    -0.179462   -0.179462  \n1542     1.091749    1.091749  \n1545     0.147916    0.147916  \n1546    -0.050116   -0.050116  \n...           ...         ...  \n15829   -0.844085   -0.844085  \n15830    1.320789    1.320789  \n15831    1.278589    1.278589  \n15832    0.501991    0.501991  \n15833    0.249051    0.249051  \n\n[13613 rows x 45 columns]",
      "text/html": "<div>\n<style scoped>\n    .dataframe tbody tr th:only-of-type {\n        vertical-align: middle;\n    }\n\n    .dataframe tbody tr th {\n        vertical-align: top;\n    }\n\n    .dataframe thead th {\n        text-align: right;\n    }\n</style>\n<table border=\"1\" class=\"dataframe\">\n  <thead>\n    <tr style=\"text-align: right;\">\n      <th></th>\n      <th>WTA</th>\n      <th>Location</th>\n      <th>Tournament</th>\n      <th>Date</th>\n      <th>Tier</th>\n      <th>Court</th>\n      <th>Surface</th>\n      <th>Round</th>\n      <th>Best of</th>\n      <th>Winner</th>\n      <th>...</th>\n      <th>AvgL</th>\n      <th>match_id</th>\n      <th>winner_previous_day_views</th>\n      <th>winner_median_views</th>\n      <th>loser_previous_day_views</th>\n      <th>loser_median_views</th>\n      <th>WRankDist</th>\n      <th>LRankDist</th>\n      <th>W_WikiBuzz</th>\n      <th>L_WikiBuzz</th>\n    </tr>\n  </thead>\n  <tbody>\n    <tr>\n      <th>1540</th>\n      <td>34</td>\n      <td>London</td>\n      <td>Wimbledon</td>\n      <td>2016-07-02</td>\n      <td>Grand Slam</td>\n      <td>Outdoor</td>\n      <td>Grass</td>\n      <td>2nd Round</td>\n      <td>3</td>\n      <td>Sloane_Stephens</td>\n      <td>...</td>\n      <td>4.95</td>\n      <td>1540</td>\n      <td>1206.0</td>\n      <td>220.0</td>\n      <td>1101.0</td>\n      <td>40.0</td>\n      <td>-0.037518</td>\n      <td>0.037518</td>\n      <td>-1.613658</td>\n      <td>-1.613658</td>\n    </tr>\n    <tr>\n      <th>1541</th>\n      <td>34</td>\n      <td>London</td>\n      <td>Wimbledon</td>\n      <td>2016-07-02</td>\n      <td>Grand Slam</td>\n      <td>Outdoor</td>\n      <td>Grass</td>\n      <td>2nd Round</td>\n      <td>3</td>\n      <td>Timea_Bacsinszky</td>\n      <td>...</td>\n      <td>3.53</td>\n      <td>1541</td>\n      <td>642.0</td>\n      <td>161.0</td>\n      <td>334.0</td>\n      <td>70.0</td>\n      <td>-0.069632</td>\n      <td>0.069632</td>\n      <td>-0.179462</td>\n      <td>-0.179462</td>\n    </tr>\n    <tr>\n      <th>1542</th>\n      <td>34</td>\n      <td>London</td>\n      <td>Wimbledon</td>\n      <td>2016-07-02</td>\n      <td>Grand Slam</td>\n      <td>Outdoor</td>\n      <td>Grass</td>\n      <td>2nd Round</td>\n      <td>3</td>\n      <td>Ekaterina_Makarova</td>\n      <td>...</td>\n      <td>1.40</td>\n      <td>1542</td>\n      <td>792.0</td>\n      <td>172.0</td>\n      <td>17.0</td>\n      <td>11.0</td>\n      <td>0.071429</td>\n      <td>-0.071429</td>\n      <td>1.091749</td>\n      <td>1.091749</td>\n    </tr>\n    <tr>\n      <th>1545</th>\n      <td>34</td>\n      <td>London</td>\n      <td>Wimbledon</td>\n      <td>2016-07-02</td>\n      <td>Grand Slam</td>\n      <td>Outdoor</td>\n      <td>Grass</td>\n      <td>3rd Round</td>\n      <td>3</td>\n      <td>Misaki_Doi</td>\n      <td>...</td>\n      <td>2.24</td>\n      <td>1545</td>\n      <td>587.0</td>\n      <td>53.0</td>\n      <td>363.0</td>\n      <td>38.0</td>\n      <td>-0.002864</td>\n      <td>0.002864</td>\n      <td>0.147916</td>\n      <td>0.147916</td>\n    </tr>\n    <tr>\n      <th>1546</th>\n      <td>34</td>\n      <td>London</td>\n      <td>Wimbledon</td>\n      <td>2016-07-02</td>\n      <td>Grand Slam</td>\n      <td>Outdoor</td>\n      <td>Grass</td>\n      <td>3rd Round</td>\n      <td>3</td>\n      <td>Angelique_Kerber</td>\n      <td>...</td>\n      <td>6.77</td>\n      <td>1546</td>\n      <td>1615.0</td>\n      <td>566.0</td>\n      <td>6.0</td>\n      <td>2.0</td>\n      <td>-0.240826</td>\n      <td>0.240826</td>\n      <td>-0.050116</td>\n      <td>-0.050116</td>\n    </tr>\n    <tr>\n      <th>...</th>\n      <td>...</td>\n      <td>...</td>\n      <td>...</td>\n      <td>...</td>\n      <td>...</td>\n      <td>...</td>\n      <td>...</td>\n      <td>...</td>\n      <td>...</td>\n      <td>...</td>\n      <td>...</td>\n      <td>...</td>\n      <td>...</td>\n      <td>...</td>\n      <td>...</td>\n      <td>...</td>\n      <td>...</td>\n      <td>...</td>\n      <td>...</td>\n      <td>...</td>\n      <td>...</td>\n    </tr>\n    <tr>\n      <th>15829</th>\n      <td>55</td>\n      <td>Fort Worth</td>\n      <td>WTA Finals</td>\n      <td>2022-11-05</td>\n      <td>Tour Championships</td>\n      <td>Indoor</td>\n      <td>Hard</td>\n      <td>Round Robin</td>\n      <td>3</td>\n      <td>Caroline_Garcia</td>\n      <td>...</td>\n      <td>2.28</td>\n      <td>15829</td>\n      <td>1476.0</td>\n      <td>232.0</td>\n      <td>4232.0</td>\n      <td>286.0</td>\n      <td>-0.041667</td>\n      <td>0.041667</td>\n      <td>-0.844085</td>\n      <td>-0.844085</td>\n    </tr>\n    <tr>\n      <th>15830</th>\n      <td>55</td>\n      <td>Fort Worth</td>\n      <td>WTA Finals</td>\n      <td>2022-11-06</td>\n      <td>Tour Championships</td>\n      <td>Indoor</td>\n      <td>Hard</td>\n      <td>Round Robin</td>\n      <td>3</td>\n      <td>Iga_Swiatek</td>\n      <td>...</td>\n      <td>5.61</td>\n      <td>15830</td>\n      <td>47.0</td>\n      <td>23.0</td>\n      <td>6.0</td>\n      <td>11.0</td>\n      <td>-0.750000</td>\n      <td>0.750000</td>\n      <td>1.320789</td>\n      <td>1.320789</td>\n    </tr>\n    <tr>\n      <th>15831</th>\n      <td>55</td>\n      <td>Fort Worth</td>\n      <td>WTA Finals</td>\n      <td>2022-11-06</td>\n      <td>Tour Championships</td>\n      <td>Indoor</td>\n      <td>Hard</td>\n      <td>Semifinals</td>\n      <td>3</td>\n      <td>Caroline_Garcia</td>\n      <td>...</td>\n      <td>1.61</td>\n      <td>15831</td>\n      <td>5478.0</td>\n      <td>233.0</td>\n      <td>4687.0</td>\n      <td>716.0</td>\n      <td>0.033333</td>\n      <td>-0.033333</td>\n      <td>1.278589</td>\n      <td>1.278589</td>\n    </tr>\n    <tr>\n      <th>15832</th>\n      <td>55</td>\n      <td>Fort Worth</td>\n      <td>WTA Finals</td>\n      <td>2022-11-07</td>\n      <td>Tour Championships</td>\n      <td>Indoor</td>\n      <td>Hard</td>\n      <td>Semifinals</td>\n      <td>3</td>\n      <td>Aryna_Sabalenka</td>\n      <td>...</td>\n      <td>1.16</td>\n      <td>15832</td>\n      <td>1754.0</td>\n      <td>740.0</td>\n      <td>33.0</td>\n      <td>23.0</td>\n      <td>0.857143</td>\n      <td>-0.857143</td>\n      <td>0.501991</td>\n      <td>0.501991</td>\n    </tr>\n    <tr>\n      <th>15833</th>\n      <td>55</td>\n      <td>Fort Worth</td>\n      <td>WTA Finals</td>\n      <td>2022-11-08</td>\n      <td>Tour Championships</td>\n      <td>Indoor</td>\n      <td>Hard</td>\n      <td>The Final</td>\n      <td>3</td>\n      <td>Caroline_Garcia</td>\n      <td>...</td>\n      <td>1.83</td>\n      <td>15833</td>\n      <td>5591.0</td>\n      <td>236.0</td>\n      <td>13777.0</td>\n      <td>746.0</td>\n      <td>-0.023810</td>\n      <td>0.023810</td>\n      <td>0.249051</td>\n      <td>0.249051</td>\n    </tr>\n  </tbody>\n</table>\n<p>13613 rows × 45 columns</p>\n</div>"
     },
     "execution_count": 50,
     "metadata": {},
     "output_type": "execute_result"
    }
   ],
   "source": [
    "wta_matches"
   ],
   "metadata": {
    "collapsed": false
   }
  },
  {
   "cell_type": "code",
   "execution_count": 51,
   "outputs": [],
   "source": [
    "wta_matches_winners = wta_matches[['match_id', 'WTA', 'Winner', 'Date', 'WRankDist', 'W_WikiBuzz',\n",
    "                       'B365W', 'MaxW', 'AvgW']].copy()\n",
    "wta_matches_winners['outcome'] = 1\n",
    "wta_matches_losers = wta_matches[['match_id', 'WTA', 'Loser', 'Date', 'LRankDist', 'L_WikiBuzz',\n",
    "                      'B365L', 'MaxL', 'AvgL']].copy()\n",
    "wta_matches_losers['outcome'] = 0\n",
    "wta_matches_winners.rename({'Winner': 'player', 'Date': 'date', 'WRankDist': 'rankdist', 'W_WikiBuzz': 'wikibuzz',\n",
    "                            'B365W':'B365_Odds', 'MaxW':'Max_Odds', 'AvgW':'Avg_Odds'}, axis=1, inplace=True)\n",
    "wta_matches_losers.rename({'Loser': 'player', 'Date': 'date', 'LRankDist': 'rankdist', 'L_WikiBuzz': 'wikibuzz',\n",
    "                           'B365L':'B365_Odds', 'MaxL':'Max_Odds', 'AvgL':'Avg_Odds'}, axis=1, inplace=True)\n",
    "wta_matches = pd.concat([wta_matches_winners, wta_matches_losers], axis=0)"
   ],
   "metadata": {
    "collapsed": false
   }
  },
  {
   "cell_type": "code",
   "execution_count": 53,
   "outputs": [
    {
     "data": {
      "text/plain": "       match_id  WTA              player       date  rankdist  wikibuzz  \\\n1540       1540   34     Sloane_Stephens 2016-07-02 -0.037518 -1.613658   \n1541       1541   34    Timea_Bacsinszky 2016-07-02 -0.069632 -0.179462   \n1542       1542   34  Ekaterina_Makarova 2016-07-02  0.071429  1.091749   \n1545       1545   34          Misaki_Doi 2016-07-02 -0.002864  0.147916   \n1546       1546   34    Angelique_Kerber 2016-07-02 -0.240826 -0.050116   \n...         ...  ...                 ...        ...       ...       ...   \n15829     15829   55     Daria_Kasatkina 2022-11-05  0.041667 -0.844085   \n15830     15830   55          Cori_Gauff 2022-11-06  0.750000  1.320789   \n15831     15831   55       Maria_Sakkari 2022-11-06 -0.033333  1.278589   \n15832     15832   55         Iga_Swiatek 2022-11-07 -0.857143  0.501991   \n15833     15833   55     Aryna_Sabalenka 2022-11-08  0.023810  0.249051   \n\n       B365_Odds  Max_Odds  Avg_Odds  outcome  \n1540        1.16      1.21      1.17        1  \n1541        1.28      1.34      1.29        1  \n1542        2.75      3.13      2.88        1  \n1545        1.61      1.71      1.64        1  \n1546        1.10      1.14      1.10        1  \n...          ...       ...       ...      ...  \n15829       2.30      2.48      2.28        0  \n15830       6.00      6.55      5.61        0  \n15831       1.61      1.66      1.61        0  \n15832       1.16      1.20      1.16        0  \n15833       1.80      1.91      1.83        0  \n\n[27226 rows x 10 columns]",
      "text/html": "<div>\n<style scoped>\n    .dataframe tbody tr th:only-of-type {\n        vertical-align: middle;\n    }\n\n    .dataframe tbody tr th {\n        vertical-align: top;\n    }\n\n    .dataframe thead th {\n        text-align: right;\n    }\n</style>\n<table border=\"1\" class=\"dataframe\">\n  <thead>\n    <tr style=\"text-align: right;\">\n      <th></th>\n      <th>match_id</th>\n      <th>WTA</th>\n      <th>player</th>\n      <th>date</th>\n      <th>rankdist</th>\n      <th>wikibuzz</th>\n      <th>B365_Odds</th>\n      <th>Max_Odds</th>\n      <th>Avg_Odds</th>\n      <th>outcome</th>\n    </tr>\n  </thead>\n  <tbody>\n    <tr>\n      <th>1540</th>\n      <td>1540</td>\n      <td>34</td>\n      <td>Sloane_Stephens</td>\n      <td>2016-07-02</td>\n      <td>-0.037518</td>\n      <td>-1.613658</td>\n      <td>1.16</td>\n      <td>1.21</td>\n      <td>1.17</td>\n      <td>1</td>\n    </tr>\n    <tr>\n      <th>1541</th>\n      <td>1541</td>\n      <td>34</td>\n      <td>Timea_Bacsinszky</td>\n      <td>2016-07-02</td>\n      <td>-0.069632</td>\n      <td>-0.179462</td>\n      <td>1.28</td>\n      <td>1.34</td>\n      <td>1.29</td>\n      <td>1</td>\n    </tr>\n    <tr>\n      <th>1542</th>\n      <td>1542</td>\n      <td>34</td>\n      <td>Ekaterina_Makarova</td>\n      <td>2016-07-02</td>\n      <td>0.071429</td>\n      <td>1.091749</td>\n      <td>2.75</td>\n      <td>3.13</td>\n      <td>2.88</td>\n      <td>1</td>\n    </tr>\n    <tr>\n      <th>1545</th>\n      <td>1545</td>\n      <td>34</td>\n      <td>Misaki_Doi</td>\n      <td>2016-07-02</td>\n      <td>-0.002864</td>\n      <td>0.147916</td>\n      <td>1.61</td>\n      <td>1.71</td>\n      <td>1.64</td>\n      <td>1</td>\n    </tr>\n    <tr>\n      <th>1546</th>\n      <td>1546</td>\n      <td>34</td>\n      <td>Angelique_Kerber</td>\n      <td>2016-07-02</td>\n      <td>-0.240826</td>\n      <td>-0.050116</td>\n      <td>1.10</td>\n      <td>1.14</td>\n      <td>1.10</td>\n      <td>1</td>\n    </tr>\n    <tr>\n      <th>...</th>\n      <td>...</td>\n      <td>...</td>\n      <td>...</td>\n      <td>...</td>\n      <td>...</td>\n      <td>...</td>\n      <td>...</td>\n      <td>...</td>\n      <td>...</td>\n      <td>...</td>\n    </tr>\n    <tr>\n      <th>15829</th>\n      <td>15829</td>\n      <td>55</td>\n      <td>Daria_Kasatkina</td>\n      <td>2022-11-05</td>\n      <td>0.041667</td>\n      <td>-0.844085</td>\n      <td>2.30</td>\n      <td>2.48</td>\n      <td>2.28</td>\n      <td>0</td>\n    </tr>\n    <tr>\n      <th>15830</th>\n      <td>15830</td>\n      <td>55</td>\n      <td>Cori_Gauff</td>\n      <td>2022-11-06</td>\n      <td>0.750000</td>\n      <td>1.320789</td>\n      <td>6.00</td>\n      <td>6.55</td>\n      <td>5.61</td>\n      <td>0</td>\n    </tr>\n    <tr>\n      <th>15831</th>\n      <td>15831</td>\n      <td>55</td>\n      <td>Maria_Sakkari</td>\n      <td>2022-11-06</td>\n      <td>-0.033333</td>\n      <td>1.278589</td>\n      <td>1.61</td>\n      <td>1.66</td>\n      <td>1.61</td>\n      <td>0</td>\n    </tr>\n    <tr>\n      <th>15832</th>\n      <td>15832</td>\n      <td>55</td>\n      <td>Iga_Swiatek</td>\n      <td>2022-11-07</td>\n      <td>-0.857143</td>\n      <td>0.501991</td>\n      <td>1.16</td>\n      <td>1.20</td>\n      <td>1.16</td>\n      <td>0</td>\n    </tr>\n    <tr>\n      <th>15833</th>\n      <td>15833</td>\n      <td>55</td>\n      <td>Aryna_Sabalenka</td>\n      <td>2022-11-08</td>\n      <td>0.023810</td>\n      <td>0.249051</td>\n      <td>1.80</td>\n      <td>1.91</td>\n      <td>1.83</td>\n      <td>0</td>\n    </tr>\n  </tbody>\n</table>\n<p>27226 rows × 10 columns</p>\n</div>"
     },
     "execution_count": 53,
     "metadata": {},
     "output_type": "execute_result"
    }
   ],
   "source": [
    "wta_matches"
   ],
   "metadata": {
    "collapsed": false
   }
  },
  {
   "cell_type": "code",
   "execution_count": 56,
   "outputs": [],
   "source": [
    "# Reset the index and keep the old one\n",
    "wta_matches = wta_matches.sort_index().reset_index(drop=True).rename(columns={'index': 'old_index'})"
   ],
   "metadata": {
    "collapsed": false
   }
  },
  {
   "cell_type": "code",
   "execution_count": 57,
   "outputs": [],
   "source": [
    "# Get the indexes of rows where B365_Odds is greater than Max_Odds\n",
    "indexes_to_remove = wta_matches[wta_matches['B365_Odds'] > wta_matches['Max_Odds']].index\n",
    "# Remove the rows using the drop method\n",
    "wta_matches.drop(indexes_to_remove, inplace=True)"
   ],
   "metadata": {
    "collapsed": false
   }
  },
  {
   "cell_type": "markdown",
   "source": [
    "## 4. Implied Probability / Inverse Odds."
   ],
   "metadata": {
    "collapsed": false
   }
  },
  {
   "cell_type": "code",
   "execution_count": 58,
   "outputs": [],
   "source": [
    "def implied_probability(player_odds) -> float:\n",
    "    return 1 / player_odds\n",
    "\n",
    "wta_matches['inverse_best'] = [implied_probability(x) for x in wta_matches['Max_Odds']]\n",
    "wta_matches['inverse_b365'] = [implied_probability(x) for x in wta_matches['B365_Odds']]\n",
    "wta_matches['inverse_avg'] = [implied_probability(x) for x in wta_matches['Avg_Odds']]\n",
    "\n",
    "wta_matches.drop(columns=['B365_Odds', 'Max_Odds', 'Avg_Odds'], inplace=True)"
   ],
   "metadata": {
    "collapsed": false
   }
  },
  {
   "cell_type": "code",
   "execution_count": 59,
   "outputs": [],
   "source": [
    "wta_matches.to_csv(\"clegg_matches_cleaned.csv\")"
   ],
   "metadata": {
    "collapsed": false
   }
  },
  {
   "cell_type": "code",
   "execution_count": null,
   "outputs": [],
   "source": [],
   "metadata": {
    "collapsed": false
   }
  }
 ],
 "metadata": {
  "kernelspec": {
   "display_name": "Python 3",
   "language": "python",
   "name": "python3"
  },
  "language_info": {
   "codemirror_mode": {
    "name": "ipython",
    "version": 2
   },
   "file_extension": ".py",
   "mimetype": "text/x-python",
   "name": "python",
   "nbconvert_exporter": "python",
   "pygments_lexer": "ipython2",
   "version": "2.7.6"
  }
 },
 "nbformat": 4,
 "nbformat_minor": 0
}
