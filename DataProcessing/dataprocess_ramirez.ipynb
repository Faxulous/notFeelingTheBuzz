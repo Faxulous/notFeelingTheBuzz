{
 "cells": [
  {
   "cell_type": "markdown",
   "source": [
    "# Data Processing (Ramirez)\n",
    "Covered in this notebook:\n",
    "1. Downloading final.dta from Ramirez's Google Drive.\n",
    "2. Adding columns for all variables described in paper:\n",
    "    a. RankDist.\n",
    "    b. WikiBuzz.\n",
    "    c. Implied Probability / Inverse Odds.\n",
    "3. Produce a cleaned Ramirez_matches_cleaned.csv file ready for further use."
   ],
   "metadata": {
    "collapsed": false
   }
  },
  {
   "cell_type": "code",
   "execution_count": 1,
   "outputs": [],
   "source": [
    "# Imports, Remove Warnings for notebook readability.\n",
    "import pandas as pd\n",
    "import numpy as np\n",
    "\n",
    "import warnings\n",
    "warnings.filterwarnings(\"ignore\", category=UnicodeWarning)\n",
    "warnings.filterwarnings(\"ignore\", category=RuntimeWarning)"
   ],
   "metadata": {
    "collapsed": false
   }
  },
  {
   "cell_type": "code",
   "execution_count": 2,
   "outputs": [],
   "source": [
    "url = 'https://drive.google.com/file/d/1ltOks54u7V6tvK22EmT5n_XL8D2V4o8R/view?usp=share_link'\n",
    "path = 'https://drive.google.com/uc?export=download&id='+url.split('/')[-2]\n",
    "\n",
    "df = pd.read_stata(path)"
   ],
   "metadata": {
    "collapsed": false
   }
  },
  {
   "cell_type": "markdown",
   "source": [
    "## RankDist Variable"
   ],
   "metadata": {
    "collapsed": false
   }
  },
  {
   "cell_type": "code",
   "execution_count": 3,
   "outputs": [],
   "source": [
    "def get_rankdist(winner_rank: int = 0, loser_rank: int = 0) -> float:\n",
    "    if np.isnan(winner_rank):\n",
    "        inverse_wr = 0\n",
    "    else:\n",
    "        inverse_wr = 1 / winner_rank\n",
    "\n",
    "    if np.isnan(loser_rank):\n",
    "        inverse_lr = 0\n",
    "    else:\n",
    "        inverse_lr = 1 / loser_rank\n",
    "    rankdist = -(inverse_wr - inverse_lr)\n",
    "    return rankdist\n",
    "\n",
    "df['WRankDist'] = [get_rankdist(x,y) for x,y in zip(df['wrank'], df['lrank'])]\n",
    "df['LRankDist'] = [get_rankdist(y, x) for x, y in zip(df['wrank'], df['lrank'])]"
   ],
   "metadata": {
    "collapsed": false
   }
  },
  {
   "cell_type": "markdown",
   "source": [
    "## WikiBuzz Variable"
   ],
   "metadata": {
    "collapsed": false
   }
  },
  {
   "cell_type": "code",
   "execution_count": 4,
   "outputs": [],
   "source": [
    "def get_wikibuzz(winner_pageviews, winner_median, loser_pageviews, loser_median):\n",
    "    try:\n",
    "        buzz = np.log(winner_pageviews / winner_median) - np.log(loser_pageviews / loser_median)\n",
    "    except ZeroDivisionError:\n",
    "        buzz = 'ZeroDivisionError'\n",
    "    return buzz\n",
    "\n",
    "df['W_WikiBuzz'] = [get_wikibuzz(row[0], row[1], row[2], row[3]) for row in zip(df['wiki_yesterday_w'], df['wiki_med365_w'],\n",
    "                                                                                df['wiki_yesterday_l'], df['wiki_med365_l'])]\n",
    "df['L_WikiBuzz'] = [get_wikibuzz(row[0], row[1], row[2], row[3]) for row in zip(df['wiki_yesterday_l'], df['wiki_med365_l'],\n",
    "                                                                                df['wiki_yesterday_w'], df['wiki_med365_w'])]"
   ],
   "metadata": {
    "collapsed": false
   }
  },
  {
   "cell_type": "markdown",
   "source": [
    "## Inverse Odds"
   ],
   "metadata": {
    "collapsed": false
   }
  },
  {
   "cell_type": "code",
   "execution_count": 5,
   "outputs": [],
   "source": [
    "def impliedprob(player_odds):\n",
    "    return 1/player_odds\n",
    "\n",
    "df['W_inverse_bestodds'] = [impliedprob(x) for x in df['maxw']]\n",
    "df['L_inverse_bestodds'] = [impliedprob(x) for x in df['maxl']]\n",
    "df['W_inverse_avgodds'] = [impliedprob(x) for x in df['avgw']]\n",
    "df['L_inverse_avgodds'] = [impliedprob(x) for x in df['avgl']]\n",
    "df['W_inverse_B365'] = [impliedprob(x) for x in df['b365w']]\n",
    "df['L_inverse_B365'] = [impliedprob(x) for x in df['b365l']]"
   ],
   "metadata": {
    "collapsed": false
   }
  },
  {
   "cell_type": "code",
   "execution_count": 6,
   "outputs": [],
   "source": [
    "# Date Column\n",
    "df['date'] = pd.to_datetime(df[['year', 'month', 'day']])\n",
    "# Match index column\n",
    "df['match_id'] = df.index"
   ],
   "metadata": {
    "collapsed": false
   }
  },
  {
   "cell_type": "code",
   "execution_count": 7,
   "outputs": [],
   "source": [
    "# Convert each row into 2 rows (1 for winner, 1 for loser) sharing a match_id.\n",
    "df_winners = df[['match_id', 'winner', 'date', 'year', 'WRankDist', 'W_WikiBuzz', 'W_inverse_B365', 'W_inverse_avgodds', 'W_inverse_bestodds']].copy()\n",
    "df_winners['outcome'] = 1\n",
    "df_losers = df[['match_id', 'loser', 'date', 'year', 'LRankDist', 'L_WikiBuzz', 'L_inverse_B365', 'L_inverse_avgodds', 'L_inverse_bestodds']].copy()\n",
    "df_losers['outcome'] = 0\n",
    "\n",
    "df_winners.rename({'winner': 'player', 'WRankDist': 'rankdist', 'W_WikiBuzz': 'wikibuzz',\n",
    "                   'W_inverse_B365': 'inverse_b365', 'W_inverse_avgodds': 'inverse_avg', 'W_inverse_bestodds': 'inverse_best'}, axis=1, inplace=True)\n",
    "df_losers.rename({'loser': 'player', 'LRankDist': 'rankdist', 'L_WikiBuzz': 'wikibuzz',\n",
    "                  'L_inverse_B365': 'inverse_b365', 'L_inverse_avgodds': 'inverse_avg', 'L_inverse_bestodds': 'inverse_best'}, axis=1, inplace=True)\n",
    "df = pd.concat([df_winners, df_losers], axis=0)"
   ],
   "metadata": {
    "collapsed": false
   }
  },
  {
   "cell_type": "code",
   "execution_count": 8,
   "outputs": [],
   "source": [
    "# Remove bad rows.\n",
    "df = df.loc[df[\"wikibuzz\"] != np.inf]\n",
    "df = df.loc[df[\"wikibuzz\"] != -np.inf]\n",
    "df = df.loc[df[\"wikibuzz\"] != 'ZeroDivisionError']\n",
    "\n",
    "df = df[df['wikibuzz'].notna()]\n",
    "df = df[df['rankdist'].notna()]\n",
    "df = df[df['inverse_avg'].notna()]\n",
    "\n",
    "df.sort_values(by='date', inplace=True)"
   ],
   "metadata": {
    "collapsed": false
   }
  },
  {
   "cell_type": "code",
   "execution_count": 9,
   "outputs": [],
   "source": [
    "df.to_csv(\"Ramirez_matches_cleaned.csv\")"
   ],
   "metadata": {
    "collapsed": false
   }
  }
 ],
 "metadata": {
  "kernelspec": {
   "display_name": "Python 3",
   "language": "python",
   "name": "python3"
  },
  "language_info": {
   "codemirror_mode": {
    "name": "ipython",
    "version": 2
   },
   "file_extension": ".py",
   "mimetype": "text/x-python",
   "name": "python",
   "nbconvert_exporter": "python",
   "pygments_lexer": "ipython2",
   "version": "2.7.6"
  }
 },
 "nbformat": 4,
 "nbformat_minor": 0
}
