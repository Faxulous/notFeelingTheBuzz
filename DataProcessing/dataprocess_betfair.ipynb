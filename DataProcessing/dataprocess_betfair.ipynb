{
 "cells": [
  {
   "cell_type": "markdown",
   "source": [
    "# Data Processing (Betfair)\n",
    "Covered in this notebook:\n",
    "1. Process pre-downloaded free Betfair Historical Data (BASIC tier).\n",
    "2. Produce a cleaned betfair_matches.csv file."
   ],
   "metadata": {
    "collapsed": false
   }
  },
  {
   "cell_type": "code",
   "execution_count": null,
   "metadata": {
    "collapsed": true
   },
   "outputs": [],
   "source": [
    "import os\n",
    "import betfairutil\n",
    "import pandas as pd\n",
    "from string_grouper import match_strings, match_most_similar, \\\n",
    "\tgroup_similar_strings, compute_pairwise_similarities, \\\n",
    "\tStringGrouper\n",
    "from unidecode import unidecode"
   ]
  },
  {
   "cell_type": "code",
   "execution_count": null,
   "outputs": [],
   "source": [
    "%%time\n",
    "path_to_input_directory = '/Users/tb21144/Library/CloudStorage/OneDrive-UniversityofBristol/SUMMER PROJECT/THESIS/data/BASIC/'\n",
    "data_in_dict = {'index':['player1','player2','timezone','start_time_utc', 'end_time_utc']}\n",
    "row_no = 0\n",
    "for root, dirs, files in os.walk(os.path.abspath(path_to_input_directory)):\n",
    "    for file in files:\n",
    "        if not file.startswith('.'):\n",
    "            #print(os.path.join(root, file))\n",
    "            pricefile_dict = betfairutil.read_prices_file(os.path.join(root, file),lightweight=True)\n",
    "            # Go backwards through pricefile market definitionss.\n",
    "            for n in range(len(pricefile_dict)-1,0,-1):\n",
    "                if pricefile_dict[n]['marketDefinition']['marketType'] == 'MATCH_ODDS':\n",
    "                    # Get player names. This can be furthered to get winner/loser.\n",
    "                    player1 = pricefile_dict[n]['marketDefinition']['runners'][0]['name']\n",
    "                    player2 = pricefile_dict[n]['marketDefinition']['runners'][1]['name']\n",
    "                    timezone = pricefile_dict[n]['marketDefinition']['timezone']\n",
    "                    start_time_utc = pricefile_dict[n]['marketDefinition']['openDate']\n",
    "                    end_time_utc = pricefile_dict[n]['marketDefinition']['settledTime']\n",
    "                    row = [player1, player2, timezone, start_time_utc, end_time_utc]\n",
    "                    row_no += 1\n",
    "                    data_in_dict[row_no] = row\n",
    "                    break"
   ],
   "metadata": {
    "collapsed": false
   }
  },
  {
   "cell_type": "code",
   "execution_count": null,
   "outputs": [],
   "source": [
    "df=pd.DataFrame.from_dict(data_in_dict,orient='index')"
   ],
   "metadata": {
    "collapsed": false
   }
  },
  {
   "cell_type": "code",
   "execution_count": null,
   "outputs": [],
   "source": [
    "df.columns = df.iloc[0]\n",
    "df.drop(df.index[0], inplace=True)\n",
    "\n",
    "df['start_date'] = df['start_time_utc'].str[:10]\n",
    "df['start_time'] = df['start_time_utc'].str[11:16]\n",
    "df['end_date'] = df['end_time_utc'].str[:10]\n",
    "df['end_time'] = df['end_time_utc'].str[11:16]\n",
    "df.drop(['start_time_utc'], axis=1, inplace=True)\n",
    "df.drop(['end_time_utc'], axis=1, inplace=True)\n",
    "\n",
    "df['start_date'] = pd.to_datetime(df['start_date'])\n",
    "df.sort_values(by='start_date',inplace=True)\n",
    "df.reset_index(drop=True, inplace=True)\n",
    "df.fillna('not_available', inplace=True)"
   ],
   "metadata": {
    "collapsed": false
   }
  },
  {
   "cell_type": "code",
   "execution_count": null,
   "outputs": [],
   "source": [
    "df.to_csv('betfair_matches.csv')"
   ],
   "metadata": {
    "collapsed": false
   }
  }
 ],
 "metadata": {
  "kernelspec": {
   "display_name": "Python 3",
   "language": "python",
   "name": "python3"
  },
  "language_info": {
   "codemirror_mode": {
    "name": "ipython",
    "version": 2
   },
   "file_extension": ".py",
   "mimetype": "text/x-python",
   "name": "python",
   "nbconvert_exporter": "python",
   "pygments_lexer": "ipython2",
   "version": "2.7.6"
  }
 },
 "nbformat": 4,
 "nbformat_minor": 0
}
