{
 "cells": [
  {
   "cell_type": "code",
   "execution_count": 5,
   "metadata": {
    "collapsed": true
   },
   "outputs": [],
   "source": [
    "import os\n",
    "import betfairutil\n",
    "import pandas as pd\n",
    "import numpy as np\n",
    "from string_grouper import match_strings, match_most_similar, \\\n",
    "\tgroup_similar_strings, compute_pairwise_similarities, \\\n",
    "\tStringGrouper\n",
    "from unidecode import unidecode\n",
    "from datetime import datetime"
   ]
  },
  {
   "cell_type": "code",
   "execution_count": 16,
   "outputs": [],
   "source": [
    "betfair_matches = pd.read_csv(\"DataFiles/betfair_matches.csv\")\n",
    "clegg_matches = pd.read_csv(\"DataFiles/clegg_matches_cleaned.csv\").drop(columns=[\"WTA\", \"Unnamed: 0\"])\n",
    "ramirez_matches = pd.read_csv(\"DataFiles/ramirez_matches_cleaned.csv\").drop(columns=[\"Unnamed: 0\"])"
   ],
   "metadata": {
    "collapsed": false
   }
  },
  {
   "cell_type": "code",
   "execution_count": 49,
   "outputs": [],
   "source": [
    "ramirez_matches = ramirez_matches[ramirez_matches[\"date\"] > \"2016-07-01\"].sort_values(by=[\"date\", \"player\"]).reset_index(drop=True).sort_index(axis=1)\n",
    "clegg_matches = clegg_matches[clegg_matches[\"date\"] < \"2020-02-17\"].sort_values(by=[\"date\", \"player\"]).reset_index(drop=True).sort_index(axis=1)"
   ],
   "metadata": {
    "collapsed": false
   }
  },
  {
   "cell_type": "code",
   "execution_count": 51,
   "outputs": [
    {
     "data": {
      "text/plain": "             date  inverse_avg  inverse_b365  inverse_best  match_id  outcome  \\\n0      2016-07-02     0.862069      0.862069      0.833333     13015        1   \n1      2016-07-02     0.190476      0.181818      0.173913     13013        0   \n2      2016-07-02     0.909091      0.909091      0.877193     13012        1   \n3      2016-07-02     0.446429      0.434783      0.416667     13010        0   \n4      2016-07-02     0.147710      0.142857      0.129534     13012        0   \n...           ...          ...           ...           ...       ...      ...   \n16161  2020-02-15     0.657895      0.666667      0.628931      4141        1   \n16162  2020-02-15     0.431034      0.421941      0.408163      4142        0   \n16163  2020-02-15     0.396825      0.381679      0.378788      4141        0   \n16164  2020-02-16     0.414938      0.421941      0.386100      4143        0   \n16165  2020-02-16     0.641026      0.636943      0.621118      4143        1   \n\n                    player  rankdist  wikibuzz    year  \n0      Agnieszka Radwanska -0.324561 -2.170413  2016.0  \n1             Alize Cornet  0.094718 -1.841631  2016.0  \n2         Angelique Kerber -0.240826 -0.050116  2016.0  \n3       Anna-Lena Friedsam  0.002864 -0.147916  2016.0  \n4         Carina Witthoeft  0.240826  0.050116  2016.0  \n...                    ...       ...       ...     ...  \n16161        Magda Linette -0.014286  0.517943  2020.0  \n16162        Maria Sakkari -0.007619 -1.612937  2020.0  \n16163   Patricia Maria Tig  0.014286 -0.517943  2020.0  \n16164       Elena Rybakina  0.085000  2.935837  2020.0  \n16165         Kiki Bertens -0.085000 -2.935837  2020.0  \n\n[16166 rows x 10 columns]",
      "text/html": "<div>\n<style scoped>\n    .dataframe tbody tr th:only-of-type {\n        vertical-align: middle;\n    }\n\n    .dataframe tbody tr th {\n        vertical-align: top;\n    }\n\n    .dataframe thead th {\n        text-align: right;\n    }\n</style>\n<table border=\"1\" class=\"dataframe\">\n  <thead>\n    <tr style=\"text-align: right;\">\n      <th></th>\n      <th>date</th>\n      <th>inverse_avg</th>\n      <th>inverse_b365</th>\n      <th>inverse_best</th>\n      <th>match_id</th>\n      <th>outcome</th>\n      <th>player</th>\n      <th>rankdist</th>\n      <th>wikibuzz</th>\n      <th>year</th>\n    </tr>\n  </thead>\n  <tbody>\n    <tr>\n      <th>0</th>\n      <td>2016-07-02</td>\n      <td>0.862069</td>\n      <td>0.862069</td>\n      <td>0.833333</td>\n      <td>13015</td>\n      <td>1</td>\n      <td>Agnieszka Radwanska</td>\n      <td>-0.324561</td>\n      <td>-2.170413</td>\n      <td>2016.0</td>\n    </tr>\n    <tr>\n      <th>1</th>\n      <td>2016-07-02</td>\n      <td>0.190476</td>\n      <td>0.181818</td>\n      <td>0.173913</td>\n      <td>13013</td>\n      <td>0</td>\n      <td>Alize Cornet</td>\n      <td>0.094718</td>\n      <td>-1.841631</td>\n      <td>2016.0</td>\n    </tr>\n    <tr>\n      <th>2</th>\n      <td>2016-07-02</td>\n      <td>0.909091</td>\n      <td>0.909091</td>\n      <td>0.877193</td>\n      <td>13012</td>\n      <td>1</td>\n      <td>Angelique Kerber</td>\n      <td>-0.240826</td>\n      <td>-0.050116</td>\n      <td>2016.0</td>\n    </tr>\n    <tr>\n      <th>3</th>\n      <td>2016-07-02</td>\n      <td>0.446429</td>\n      <td>0.434783</td>\n      <td>0.416667</td>\n      <td>13010</td>\n      <td>0</td>\n      <td>Anna-Lena Friedsam</td>\n      <td>0.002864</td>\n      <td>-0.147916</td>\n      <td>2016.0</td>\n    </tr>\n    <tr>\n      <th>4</th>\n      <td>2016-07-02</td>\n      <td>0.147710</td>\n      <td>0.142857</td>\n      <td>0.129534</td>\n      <td>13012</td>\n      <td>0</td>\n      <td>Carina Witthoeft</td>\n      <td>0.240826</td>\n      <td>0.050116</td>\n      <td>2016.0</td>\n    </tr>\n    <tr>\n      <th>...</th>\n      <td>...</td>\n      <td>...</td>\n      <td>...</td>\n      <td>...</td>\n      <td>...</td>\n      <td>...</td>\n      <td>...</td>\n      <td>...</td>\n      <td>...</td>\n      <td>...</td>\n    </tr>\n    <tr>\n      <th>16161</th>\n      <td>2020-02-15</td>\n      <td>0.657895</td>\n      <td>0.666667</td>\n      <td>0.628931</td>\n      <td>4141</td>\n      <td>1</td>\n      <td>Magda Linette</td>\n      <td>-0.014286</td>\n      <td>0.517943</td>\n      <td>2020.0</td>\n    </tr>\n    <tr>\n      <th>16162</th>\n      <td>2020-02-15</td>\n      <td>0.431034</td>\n      <td>0.421941</td>\n      <td>0.408163</td>\n      <td>4142</td>\n      <td>0</td>\n      <td>Maria Sakkari</td>\n      <td>-0.007619</td>\n      <td>-1.612937</td>\n      <td>2020.0</td>\n    </tr>\n    <tr>\n      <th>16163</th>\n      <td>2020-02-15</td>\n      <td>0.396825</td>\n      <td>0.381679</td>\n      <td>0.378788</td>\n      <td>4141</td>\n      <td>0</td>\n      <td>Patricia Maria Tig</td>\n      <td>0.014286</td>\n      <td>-0.517943</td>\n      <td>2020.0</td>\n    </tr>\n    <tr>\n      <th>16164</th>\n      <td>2020-02-16</td>\n      <td>0.414938</td>\n      <td>0.421941</td>\n      <td>0.386100</td>\n      <td>4143</td>\n      <td>0</td>\n      <td>Elena Rybakina</td>\n      <td>0.085000</td>\n      <td>2.935837</td>\n      <td>2020.0</td>\n    </tr>\n    <tr>\n      <th>16165</th>\n      <td>2020-02-16</td>\n      <td>0.641026</td>\n      <td>0.636943</td>\n      <td>0.621118</td>\n      <td>4143</td>\n      <td>1</td>\n      <td>Kiki Bertens</td>\n      <td>-0.085000</td>\n      <td>-2.935837</td>\n      <td>2020.0</td>\n    </tr>\n  </tbody>\n</table>\n<p>16166 rows × 10 columns</p>\n</div>"
     },
     "execution_count": 51,
     "metadata": {},
     "output_type": "execute_result"
    }
   ],
   "source": [
    "ramirez_matches"
   ],
   "metadata": {
    "collapsed": false
   }
  },
  {
   "cell_type": "code",
   "execution_count": 50,
   "outputs": [
    {
     "data": {
      "text/plain": "             date  inverse_avg  inverse_b365  inverse_best  match_id  outcome  \\\n0      2016-07-02     0.862069      0.862069      0.833333      1552        1   \n1      2016-07-02     0.190476      0.181818      0.173913      1550        0   \n2      2016-07-02     0.909091      0.909091      0.877193      1546        1   \n3      2016-07-02     0.446429      0.434783      0.416667      1545        0   \n4      2016-07-02     0.147710      0.142857      0.129534      1546        0   \n...           ...          ...           ...           ...       ...      ...   \n15797  2020-02-15     0.396825      0.381679      0.378788     10269        0   \n15798  2020-02-16     0.414938      0.421941      0.386100     10298        0   \n15799  2020-02-16     0.641026      0.636943      0.621118     10298        1   \n15800  2020-02-16     0.282486      0.285714      0.244499     10271        0   \n15801  2020-02-16     0.775194      0.769231      0.746269     10271        1   \n\n                    player  rankdist  wikibuzz  year  \n0      Agnieszka Radwanska -0.324561 -1.764948  2016  \n1             Alize Cornet  0.094718 -1.782315  2016  \n2         Angelique Kerber -0.240826 -0.047462  2016  \n3       Anna-Lena Friedsam  0.002864 -0.157395  2016  \n4         Carina Witthoeft  0.240826  0.047462  2016  \n...                    ...       ...       ...   ...  \n15797   Patricia Maria Tig  0.014286 -1.220059  2020  \n15798       Elena Rybakina  0.085000  2.931204  2020  \n15799         Kiki Bertens -0.085000 -2.931204  2020  \n15800          Leonie Kung  0.020276 -0.866364  2020  \n15801        Magda Linette -0.020276  0.866364  2020  \n\n[15802 rows x 10 columns]",
      "text/html": "<div>\n<style scoped>\n    .dataframe tbody tr th:only-of-type {\n        vertical-align: middle;\n    }\n\n    .dataframe tbody tr th {\n        vertical-align: top;\n    }\n\n    .dataframe thead th {\n        text-align: right;\n    }\n</style>\n<table border=\"1\" class=\"dataframe\">\n  <thead>\n    <tr style=\"text-align: right;\">\n      <th></th>\n      <th>date</th>\n      <th>inverse_avg</th>\n      <th>inverse_b365</th>\n      <th>inverse_best</th>\n      <th>match_id</th>\n      <th>outcome</th>\n      <th>player</th>\n      <th>rankdist</th>\n      <th>wikibuzz</th>\n      <th>year</th>\n    </tr>\n  </thead>\n  <tbody>\n    <tr>\n      <th>0</th>\n      <td>2016-07-02</td>\n      <td>0.862069</td>\n      <td>0.862069</td>\n      <td>0.833333</td>\n      <td>1552</td>\n      <td>1</td>\n      <td>Agnieszka Radwanska</td>\n      <td>-0.324561</td>\n      <td>-1.764948</td>\n      <td>2016</td>\n    </tr>\n    <tr>\n      <th>1</th>\n      <td>2016-07-02</td>\n      <td>0.190476</td>\n      <td>0.181818</td>\n      <td>0.173913</td>\n      <td>1550</td>\n      <td>0</td>\n      <td>Alize Cornet</td>\n      <td>0.094718</td>\n      <td>-1.782315</td>\n      <td>2016</td>\n    </tr>\n    <tr>\n      <th>2</th>\n      <td>2016-07-02</td>\n      <td>0.909091</td>\n      <td>0.909091</td>\n      <td>0.877193</td>\n      <td>1546</td>\n      <td>1</td>\n      <td>Angelique Kerber</td>\n      <td>-0.240826</td>\n      <td>-0.047462</td>\n      <td>2016</td>\n    </tr>\n    <tr>\n      <th>3</th>\n      <td>2016-07-02</td>\n      <td>0.446429</td>\n      <td>0.434783</td>\n      <td>0.416667</td>\n      <td>1545</td>\n      <td>0</td>\n      <td>Anna-Lena Friedsam</td>\n      <td>0.002864</td>\n      <td>-0.157395</td>\n      <td>2016</td>\n    </tr>\n    <tr>\n      <th>4</th>\n      <td>2016-07-02</td>\n      <td>0.147710</td>\n      <td>0.142857</td>\n      <td>0.129534</td>\n      <td>1546</td>\n      <td>0</td>\n      <td>Carina Witthoeft</td>\n      <td>0.240826</td>\n      <td>0.047462</td>\n      <td>2016</td>\n    </tr>\n    <tr>\n      <th>...</th>\n      <td>...</td>\n      <td>...</td>\n      <td>...</td>\n      <td>...</td>\n      <td>...</td>\n      <td>...</td>\n      <td>...</td>\n      <td>...</td>\n      <td>...</td>\n      <td>...</td>\n    </tr>\n    <tr>\n      <th>15797</th>\n      <td>2020-02-15</td>\n      <td>0.396825</td>\n      <td>0.381679</td>\n      <td>0.378788</td>\n      <td>10269</td>\n      <td>0</td>\n      <td>Patricia Maria Tig</td>\n      <td>0.014286</td>\n      <td>-1.220059</td>\n      <td>2020</td>\n    </tr>\n    <tr>\n      <th>15798</th>\n      <td>2020-02-16</td>\n      <td>0.414938</td>\n      <td>0.421941</td>\n      <td>0.386100</td>\n      <td>10298</td>\n      <td>0</td>\n      <td>Elena Rybakina</td>\n      <td>0.085000</td>\n      <td>2.931204</td>\n      <td>2020</td>\n    </tr>\n    <tr>\n      <th>15799</th>\n      <td>2020-02-16</td>\n      <td>0.641026</td>\n      <td>0.636943</td>\n      <td>0.621118</td>\n      <td>10298</td>\n      <td>1</td>\n      <td>Kiki Bertens</td>\n      <td>-0.085000</td>\n      <td>-2.931204</td>\n      <td>2020</td>\n    </tr>\n    <tr>\n      <th>15800</th>\n      <td>2020-02-16</td>\n      <td>0.282486</td>\n      <td>0.285714</td>\n      <td>0.244499</td>\n      <td>10271</td>\n      <td>0</td>\n      <td>Leonie Kung</td>\n      <td>0.020276</td>\n      <td>-0.866364</td>\n      <td>2020</td>\n    </tr>\n    <tr>\n      <th>15801</th>\n      <td>2020-02-16</td>\n      <td>0.775194</td>\n      <td>0.769231</td>\n      <td>0.746269</td>\n      <td>10271</td>\n      <td>1</td>\n      <td>Magda Linette</td>\n      <td>-0.020276</td>\n      <td>0.866364</td>\n      <td>2020</td>\n    </tr>\n  </tbody>\n</table>\n<p>15802 rows × 10 columns</p>\n</div>"
     },
     "execution_count": 50,
     "metadata": {},
     "output_type": "execute_result"
    }
   ],
   "source": [
    "clegg_matches"
   ],
   "metadata": {
    "collapsed": false
   }
  },
  {
   "cell_type": "code",
   "execution_count": 61,
   "outputs": [],
   "source": [
    "df_all = clegg_matches.merge(ramirez_matches.drop_duplicates(), on=[\"date\", \"player\"],\n",
    "                   how='left', indicator=True)"
   ],
   "metadata": {
    "collapsed": false
   }
  },
  {
   "cell_type": "code",
   "execution_count": 62,
   "outputs": [
    {
     "data": {
      "text/plain": "             date              player     _merge\n76     2016-07-12         Ioana Minca  left_only\n85     2016-07-12  Patricia Maria Tig  left_only\n87     2016-07-12      Polina Leykina  left_only\n91     2016-07-12           Shilin Xu  left_only\n106    2016-07-14       Danka Kovinic  left_only\n...           ...                 ...        ...\n16163  2020-02-14                 NaN  left_only\n16167  2020-02-15         Leonie Kung  left_only\n16170  2020-02-15          Nao Hibino  left_only\n16174  2020-02-16         Leonie Kung  left_only\n16175  2020-02-16       Magda Linette  left_only\n\n[623 rows x 3 columns]",
      "text/html": "<div>\n<style scoped>\n    .dataframe tbody tr th:only-of-type {\n        vertical-align: middle;\n    }\n\n    .dataframe tbody tr th {\n        vertical-align: top;\n    }\n\n    .dataframe thead th {\n        text-align: right;\n    }\n</style>\n<table border=\"1\" class=\"dataframe\">\n  <thead>\n    <tr style=\"text-align: right;\">\n      <th></th>\n      <th>date</th>\n      <th>player</th>\n      <th>_merge</th>\n    </tr>\n  </thead>\n  <tbody>\n    <tr>\n      <th>76</th>\n      <td>2016-07-12</td>\n      <td>Ioana Minca</td>\n      <td>left_only</td>\n    </tr>\n    <tr>\n      <th>85</th>\n      <td>2016-07-12</td>\n      <td>Patricia Maria Tig</td>\n      <td>left_only</td>\n    </tr>\n    <tr>\n      <th>87</th>\n      <td>2016-07-12</td>\n      <td>Polina Leykina</td>\n      <td>left_only</td>\n    </tr>\n    <tr>\n      <th>91</th>\n      <td>2016-07-12</td>\n      <td>Shilin Xu</td>\n      <td>left_only</td>\n    </tr>\n    <tr>\n      <th>106</th>\n      <td>2016-07-14</td>\n      <td>Danka Kovinic</td>\n      <td>left_only</td>\n    </tr>\n    <tr>\n      <th>...</th>\n      <td>...</td>\n      <td>...</td>\n      <td>...</td>\n    </tr>\n    <tr>\n      <th>16163</th>\n      <td>2020-02-14</td>\n      <td>NaN</td>\n      <td>left_only</td>\n    </tr>\n    <tr>\n      <th>16167</th>\n      <td>2020-02-15</td>\n      <td>Leonie Kung</td>\n      <td>left_only</td>\n    </tr>\n    <tr>\n      <th>16170</th>\n      <td>2020-02-15</td>\n      <td>Nao Hibino</td>\n      <td>left_only</td>\n    </tr>\n    <tr>\n      <th>16174</th>\n      <td>2020-02-16</td>\n      <td>Leonie Kung</td>\n      <td>left_only</td>\n    </tr>\n    <tr>\n      <th>16175</th>\n      <td>2020-02-16</td>\n      <td>Magda Linette</td>\n      <td>left_only</td>\n    </tr>\n  </tbody>\n</table>\n<p>623 rows × 3 columns</p>\n</div>"
     },
     "execution_count": 62,
     "metadata": {},
     "output_type": "execute_result"
    }
   ],
   "source": [
    "df_all[df_all[\"_merge\"] == \"left_only\"][[\"date\", \"player\", \"_merge\"]]"
   ],
   "metadata": {
    "collapsed": false
   }
  },
  {
   "cell_type": "code",
   "execution_count": null,
   "outputs": [],
   "source": [],
   "metadata": {
    "collapsed": false
   }
  }
 ],
 "metadata": {
  "kernelspec": {
   "display_name": "Python 3",
   "language": "python",
   "name": "python3"
  },
  "language_info": {
   "codemirror_mode": {
    "name": "ipython",
    "version": 2
   },
   "file_extension": ".py",
   "mimetype": "text/x-python",
   "name": "python",
   "nbconvert_exporter": "python",
   "pygments_lexer": "ipython2",
   "version": "2.7.6"
  }
 },
 "nbformat": 4,
 "nbformat_minor": 0
}
