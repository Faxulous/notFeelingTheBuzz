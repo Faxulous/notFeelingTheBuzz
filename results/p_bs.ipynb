{
 "cells": [
  {
   "cell_type": "markdown",
   "metadata": {},
   "source": [
    "# P_bs Calculation\n",
    "Here a simulation of random betting strategies is ran to show likelihood of profitable strategies coming from randomness"
   ]
  },
  {
   "cell_type": "code",
   "execution_count": 1,
   "metadata": {
    "collapsed": false,
    "jupyter": {
     "outputs_hidden": false
    },
    "ExecuteTime": {
     "end_time": "2024-07-07T20:25:18.989004500Z",
     "start_time": "2024-07-07T20:25:18.440728900Z"
    }
   },
   "outputs": [],
   "source": [
    "import pandas as pd\n",
    "import os\n",
    "import sys\n",
    "from tqdm.auto import tqdm"
   ]
  },
  {
   "cell_type": "code",
   "execution_count": 2,
   "metadata": {
    "collapsed": false,
    "jupyter": {
     "outputs_hidden": false
    },
    "ExecuteTime": {
     "end_time": "2024-07-07T20:25:19.046055400Z",
     "start_time": "2024-07-07T20:25:18.990004900Z"
    }
   },
   "outputs": [],
   "source": [
    "dataset = pd.read_csv(\"../data/ramirez_matches_cleaned.csv\")\n",
    "dataset['b365'] = 1/dataset['inverse_b365']"
   ]
  },
  {
   "cell_type": "code",
   "execution_count": 3,
   "metadata": {
    "ExecuteTime": {
     "end_time": "2024-07-07T20:51:05.863509900Z",
     "start_time": "2024-07-07T20:25:19.046055400Z"
    }
   },
   "outputs": [
    {
     "data": {
      "text/plain": "Simulating:   0%|          | 0/100000 [00:00<?, ?sim/s]",
      "application/vnd.jupyter.widget-view+json": {
       "version_major": 2,
       "version_minor": 0,
       "model_id": "eabbfb4181714c3dbd1c7829697b9492"
      }
     },
     "metadata": {},
     "output_type": "display_data"
    },
    {
     "name": "stdout",
     "output_type": "stream",
     "text": [
      "pbs for PM w/o RD: p ∈ (0, 0.4)U(0.6, 1)$: 0.2182\n"
     ]
    },
    {
     "data": {
      "text/plain": "Simulating:   0%|          | 0/100000 [00:00<?, ?sim/s]",
      "application/vnd.jupyter.widget-view+json": {
       "version_major": 2,
       "version_minor": 0,
       "model_id": "57e892cef57044209b05beb98e04a6c3"
      }
     },
     "metadata": {},
     "output_type": "display_data"
    },
    {
     "name": "stdout",
     "output_type": "stream",
     "text": [
      "pbs for PM w/o RD: p ∈ [0.4, 0.6]$: 0.00213\n"
     ]
    }
   ],
   "source": [
    "def simulate_random_betting(dataset, nbets):\n",
    "    chosen_bets = dataset.sample(n=nbets)\n",
    "    bankroll = nbets\n",
    "    for _, bet in chosen_bets.iterrows():\n",
    "        if bet['outcome'] == 1:\n",
    "            # Win: Add profit (odds - 1)\n",
    "            bankroll += bet['b365'] - 1\n",
    "        else:\n",
    "            # Loss: Subtract the stake (1 unit)\n",
    "            bankroll -= 1\n",
    "    return bankroll / nbets\n",
    "\n",
    "def calculate_pbs(dataset, original_return, nbets, num_simulations=100000):\n",
    "    greater_or_equal_returns = sum(\n",
    "        simulate_random_betting(dataset, nbets) >= original_return \n",
    "        for _ in tqdm(range(num_simulations), desc=\"Simulating\", unit=\"sim\")\n",
    "    )\n",
    "    return greater_or_equal_returns / num_simulations\n",
    "\n",
    "pbs = calculate_pbs(dataset, 1.0081, 87)\n",
    "print(f\"pbs for PM w/o RD: p ∈ (0, 0.4)U(0.6, 1)$: {pbs}\")\n",
    "pbs = calculate_pbs(dataset, 1.1244, 262)\n",
    "print(f\"pbs for PM w/o RD: p ∈ [0.4, 0.6]$: {pbs}\")\n",
    "# run time using  Ryzen 5 3600, NVIDIA 3070S, 64GB RAM: 25 mins 46 secs"
   ]
  }
 ],
 "metadata": {
  "kernelspec": {
   "display_name": "Python 3 (ipykernel)",
   "language": "python",
   "name": "python3"
  },
  "language_info": {
   "codemirror_mode": {
    "name": "ipython",
    "version": 3
   },
   "file_extension": ".py",
   "mimetype": "text/x-python",
   "name": "python",
   "nbconvert_exporter": "python",
   "pygments_lexer": "ipython3",
   "version": "3.12.4"
  }
 },
 "nbformat": 4,
 "nbformat_minor": 4
}
