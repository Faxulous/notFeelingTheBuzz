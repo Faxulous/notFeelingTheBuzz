{
 "cells": [
  {
   "cell_type": "code",
   "execution_count": 1,
   "id": "initial_id",
   "metadata": {
    "collapsed": true,
    "ExecuteTime": {
     "end_time": "2024-07-04T08:14:25.141038300Z",
     "start_time": "2024-07-04T08:14:24.677712700Z"
    }
   },
   "outputs": [],
   "source": [
    "import pandas as pd\n",
    "import statsmodels.formula.api as smf\n",
    "import matplotlib.pyplot as plt\n",
    "import numpy as np\n",
    "import warnings\n",
    "from matplotlib.ticker import FuncFormatter\n",
    "from matplotlib.dates import DateFormatter\n",
    "import matplotlib.dates as mdates\n",
    "from linearmodels import IV2SLS\n",
    "from sklearn.model_selection import train_test_split\n",
    "plt.style.use('default')\n",
    "warnings.filterwarnings('ignore', category=FutureWarning)\n",
    "warnings.filterwarnings('ignore', 'SettingWithCopyWarning')"
   ]
  },
  {
   "cell_type": "code",
   "execution_count": 10,
   "outputs": [
    {
     "name": "stderr",
     "output_type": "stream",
     "text": [
      "C:\\Users\\Lawrence\\AppData\\Local\\Temp\\ipykernel_32052\\4027315105.py:10: SettingWithCopyWarning: \n",
      "A value is trying to be set on a copy of a slice from a DataFrame.\n",
      "Try using .loc[row_indexer,col_indexer] = value instead\n",
      "\n",
      "See the caveats in the documentation: https://pandas.pydata.org/pandas-docs/stable/user_guide/indexing.html#returning-a-view-versus-a-copy\n",
      "  r_data_filtered['match_id'] = r_data_filtered['match_id'] + 100000000 # ensure there aren't overlapping match ids\n"
     ]
    }
   ],
   "source": [
    "c_data = pd.read_csv(\"../2 Data/clegg_matches_cleaned.csv\", index_col=0)\n",
    "r_data = pd.read_csv(\"../2 Data/ramirez_matches_cleaned.csv\", index_col=0)\n",
    "\n",
    "# Merge the two frames DataFrames\n",
    "r_data['date'] = pd.to_datetime(r_data['date'])\n",
    "c_data['date'] = pd.to_datetime(c_data['date'])\n",
    "r_data_filtered = r_data[r_data['date'] <= '2020-02-16']\n",
    "r_data_filtered = r_data[r_data['date'] >= '2016-06-02']\n",
    "c_data_filtered = c_data[c_data['date'] > '2020-02-16']\n",
    "r_data_filtered['match_id'] = r_data_filtered['match_id'] + 100000000 # ensure there aren't overlapping match ids\n",
    "merged_df = pd.concat([r_data_filtered, c_data_filtered])\n",
    "\n",
    "# merged_df, c_data, or r_data\n",
    "data = merged_df\n",
    "data.reset_index(inplace=True,drop=True)\n",
    "\n",
    "data['error'] = 0\n",
    "data.loc[data['outcome'] == 1, 'error'] = 1 - data['inverse_avg']\n",
    "data.loc[data['outcome'] != 1, 'error'] = 0 - data['inverse_avg']\n",
    "\n",
    "data['date'] = pd.to_datetime(data['date'])\n",
    "data['year'] = data['date'].dt.year\n",
    "\n",
    "# Filter out columns with invalid values and NaN values in specified columns\n",
    "invalid_wikibuzz_values = [np.inf, -np.inf, 'ZeroDivisionError']\n",
    "cols_to_check = ['wikibuzz', 'rankdist', 'inverse_avg']\n",
    "data = data[~data['wikibuzz'].isin(invalid_wikibuzz_values) & data[cols_to_check].notna().all(axis=1)]\n",
    "\n",
    "# Compute overround values\n",
    "data['overround_b365'] = data.groupby('match_id')['inverse_b365'].transform(lambda x: x.sum(min_count=1) - 1)\n",
    "data['overround_avg'] = data.groupby('match_id')['inverse_avg'].transform(lambda x: x.sum(min_count=1) - 1)\n",
    "data['overround_best'] = data.groupby('match_id')['inverse_best'].transform(lambda x: x.sum(min_count=1) - 1)\n",
    "\n",
    "data.sort_values(by='date', inplace=True)\n",
    "# Consistent end date\n",
    "data = data[data['date'] <= '2023-08-31']\n",
    "\n",
    "# Remove Hercog\n",
    "data_with_hercog = data.copy()\n",
    "data = data[~((data['player'] == 'Polona Hercog') & (data['date'] == '2019-03-23'))]"
   ],
   "metadata": {
    "collapsed": false,
    "ExecuteTime": {
     "end_time": "2024-07-04T14:31:04.909690700Z",
     "start_time": "2024-07-04T14:31:00.369528100Z"
    }
   },
   "id": "acfbb5dad8aeecd5"
  },
  {
   "cell_type": "code",
   "execution_count": 5,
   "outputs": [],
   "source": [
    "# All functions used for results\n",
    "\n",
    "# Select regression by setting rankdist and wikibuzz True or False.\n",
    "# For models PM, PM w/o RD (aka. WB), RD, MO.\n",
    "def fit_regression(train_set, rankdist: bool = True):\n",
    "    if rankdist:\n",
    "        formula = 'outcome ~ inverse_avg + rankdist + wikibuzz'\n",
    "        results = smf.ols(formula, data=train_set).fit(cov_type='cluster', cov_kwds={'groups': train_set['match_id']})\n",
    "        params = results.params\n",
    "        #params= [constant        , inverse_avg    , rankdist       , wikibuzz       ]\n",
    "    else:\n",
    "        formula = 'outcome ~ inverse_avg + wikibuzz'\n",
    "        results = smf.ols(formula, data=train_set).fit(cov_type='cluster', cov_kwds={'groups': train_set['match_id']})\n",
    "        params = results.params\n",
    "        #params= [constant        , inverse_avg    , wikibuzz       ]\n",
    "    return params\n",
    "\n",
    "def simple_probability(params: pd.Series,\n",
    "                         inverse_odds: float):\n",
    "    y_hat = params[0] + params[1]*inverse_odds\n",
    "    return y_hat\n",
    "\n",
    "# Returns model's estimated probability.\n",
    "def estimate_probability(params: pd.Series,\n",
    "                         inverse_odds: float,\n",
    "                         rankdist: float = None,\n",
    "                         wikibuzz: float = None) -> float:\n",
    "    if rankdist is not None:\n",
    "        y_hat = params[0] + params[-3]*inverse_odds + params[-2]*rankdist + params[-1]*wikibuzz\n",
    "    if rankdist is None:\n",
    "        y_hat = params[0] + params[-2]*inverse_odds + params[-1]*wikibuzz\n",
    "    return y_hat\n",
    "\n",
    "def kelly_criterion(odds_implied_prob, y_hat):\n",
    "    odds = 1/odds_implied_prob\n",
    "    k = max(y_hat - ((1 - y_hat)/(odds - 1)), 0)\n",
    "    return k\n",
    "\n",
    "# Calculates Profit/Loss.\n",
    "def profit_loss(kelly, odds_implied_prob, outcome):\n",
    "    odds = 1 / odds_implied_prob\n",
    "    if outcome == 1:\n",
    "        PnL = kelly*odds - kelly\n",
    "    if outcome == 0:\n",
    "        PnL = -kelly\n",
    "    return PnL\n",
    "\n",
    "# Estimates probability according to model selection, creates new columns, and prints results\n",
    "def show_results(data, odds, estimated_probabilities, rankdist: bool = True): # Odds = \"avg\", \"best\", \"b365\"\n",
    "    # data = data[data['date'] <= '2020-02-16'].copy()\n",
    "    #data.dropna(subset=[f'inverse_{odds}'], inplace=True)\n",
    "    \n",
    "    lower_bound, upper_bound = 0.4, 0.6\n",
    "    trainset = data[((data['inverse_avg'] >= lower_bound) & (data['inverse_avg'] <= upper_bound)) & (data['date'] < '2019-01-01')].copy()\n",
    "    testset = data[((data['inverse_avg'] >= lower_bound) & (data['inverse_avg'] <= upper_bound)) & (data['date'] >= '2019-01-01')].copy()\n",
    "    \n",
    "    # testset = data[(data['date'] > '2019-01-01') & (data['date'] < '2023-05-05')].copy()\n",
    "    \n",
    "    params = fit_regression(trainset, rankdist=rankdist)\n",
    "    # Estimate Probability.\n",
    "    if rankdist:\n",
    "        testset.loc[:, estimated_probabilities] = [estimate_probability(params, row[0], row[1], row[2]) for row in zip(testset['inverse_avg'],\n",
    "                                                                                                         testset['rankdist'],\n",
    "                                                                                                         testset['wikibuzz'])]\n",
    "    else:\n",
    "        testset.loc[:, estimated_probabilities] = [estimate_probability(params, inverse_odds=row[0], wikibuzz=row[1]) for row in zip(testset['inverse_avg'],\n",
    "                                                                                                                       testset['wikibuzz'])]       \n",
    "    # Determine kelly bet size.\n",
    "    testset.loc[:, 'kelly_betsize'] = [kelly_criterion(row[0], row[1]) for row in zip(testset['inverse_{}'.format(odds)],\n",
    "                                                                               testset[estimated_probabilities])]\n",
    "    # Calculate return for the bet.\n",
    "    testset.loc[:, 'PnL'] = [profit_loss(row[0], row[1], row[2]) for row in zip(testset['kelly_betsize'],testset['inverse_{}'.format(odds)],\n",
    "                                                                         testset['outcome'])]\n",
    "\n",
    "    print('Bets considered (2 * Matches): '+str(len(testset[testset['inverse_{}'.format(odds)].notna()])))\n",
    "    print('Number of bets placed: '+str(len(testset.loc[(testset[\"PnL\"].notna()) & testset[\"PnL\"] != 0])))\n",
    "    #print(\"Mean overround (%): \"+str((testset.sort_values(by=\"match_id\")[\"inverse_{}\".format(odds)].rolling(2).sum()[1::2].mean()-1)*100))\n",
    "    print(\"Mean overround (%): \"+str(testset[testset['overround_{}'.format(odds)] != 0]['overround_{}'.format(odds)].mean()*100)) \n",
    "    print('Absolute amount bet: '+str(testset['kelly_betsize'].sum()))\n",
    "    print('Absolute return: '+str(testset['PnL'].sum()))\n",
    "    print('ROI (%): '+str((((testset['PnL'].sum() + testset['kelly_betsize'].sum())/testset['kelly_betsize'].sum())-1)*100))\n",
    "    return testset\n",
    "\n",
    "# PnL plot\n",
    "# Modify the plot to display months on the x-axis and highlight a specific date\n",
    "def plot_results(testset, compare_data=None, show_quarters=None):\n",
    "    fig, ax = plt.subplots(1, 1, figsize=(6, 6))\n",
    "    plt.rcParams.update({'font.size': 14})\n",
    "    plt.axhline(y=0, color='grey', linewidth=2.5)\n",
    "    # Plot end of RRS data\n",
    "    plt.axvline(x=pd.Timestamp('2020-02-16'), color='orange', linestyle=':', linewidth=2)\n",
    "\n",
    "    if compare_data is not None:\n",
    "        compare_data['date'] = pd.to_datetime(compare_data['date'])\n",
    "        compare_data['Cum_PnL'] = compare_data['PnL'].cumsum() * 100\n",
    "        compare_data.plot('date', 'Cum_PnL', ax=ax, linewidth=2.5, linestyle='--', label='With Hercog bet', color='black')\n",
    "\n",
    "    testset['date'] = pd.to_datetime(testset['date'])\n",
    "    testset['Cumulative_PnL'] = testset['PnL'].cumsum() * 100\n",
    "    testset.plot('date', 'Cumulative_PnL', ax=ax, linewidth=2.5, label='Without Hercog Bet')\n",
    "\n",
    "    if show_quarters:\n",
    "        # Quarterly x-axis\n",
    "        ax.xaxis.set_major_locator(mdates.MonthLocator(bymonth=(1, 4, 7, 10)))\n",
    "\n",
    "        def custom_formatter(x, pos):\n",
    "            month = mdates.num2date(x).month\n",
    "            quarter = (month-1)//3 + 1\n",
    "            year = mdates.num2date(x).year\n",
    "            return f\"Q{quarter} {year}\"\n",
    "\n",
    "        ax.xaxis.set_major_formatter(FuncFormatter(custom_formatter))\n",
    "        ax.xaxis.set_major_locator(mdates.YearLocator())\n",
    "        ax.xaxis.set_major_formatter(DateFormatter('%Y'))\n",
    "\n",
    "    else: # Years as specified\n",
    "        ax.xaxis.set_major_locator(mdates.YearLocator())\n",
    "        ax.xaxis.set_major_formatter(DateFormatter('%Y'))\n",
    "        ax.set_xlim(testset['date'].min(), pd.Timestamp(f'2024-01-01')) # Ensure 2023 is shown on x-axis\n",
    "    fig.autofmt_xdate()\n",
    "\n",
    "    ax.set_facecolor('white')\n",
    "    fig.patch.set_facecolor('white') \n",
    "    \n",
    "    ax.grid(True, which='both', color='grey', linestyle='-', linewidth=0.5)\n",
    "    ax.legend(fancybox=False, shadow=False, frameon=True, facecolor='white', framealpha=1)\n",
    "    ax.get_legend().remove()\n",
    "    ax.set_ylabel('Absolute Return (%)')\n",
    "    ax.set_xlabel('Date')\n",
    "\n",
    "    ax.set_ylim(-50, 400)\n",
    "\n",
    "    plt.show()"
   ],
   "metadata": {
    "collapsed": false,
    "ExecuteTime": {
     "end_time": "2024-07-04T08:15:53.603662400Z",
     "start_time": "2024-07-04T08:15:53.597203Z"
    }
   },
   "id": "5965182347b7770f"
  },
  {
   "cell_type": "code",
   "execution_count": 6,
   "outputs": [
    {
     "name": "stdout",
     "output_type": "stream",
     "text": [
      "Bets considered (2 * Matches): 5896\n",
      "Number of bets placed: 747\n",
      "Mean overround (%): 5.58835944624488\n",
      "Absolute amount bet: 21.932919268526646\n",
      "Absolute return: 0.5769562342805172\n",
      "ROI (%): 2.630549208779698\n",
      "Bets considered (2 * Matches): 5897\n",
      "Number of bets placed: 748\n",
      "Mean overround (%): 5.5884124830571436\n",
      "Absolute amount bet: 22.290998803872277\n",
      "Absolute return: 2.188314143335848\n",
      "ROI (%): 9.817030464133826\n"
     ]
    }
   ],
   "source": [
    "testset = show_results(data, odds='b365', estimated_probabilities='model_prob', rankdist=False)\n",
    "testset_with_hercog = show_results(data_with_hercog, odds='b365', estimated_probabilities='model_prob', rankdist=False)"
   ],
   "metadata": {
    "collapsed": false,
    "ExecuteTime": {
     "end_time": "2024-07-04T08:15:54.855017700Z",
     "start_time": "2024-07-04T08:15:54.299228100Z"
    }
   },
   "id": "f14b2ef00d92ab51"
  },
  {
   "cell_type": "code",
   "execution_count": 7,
   "outputs": [
    {
     "data": {
      "text/plain": "<Figure size 600x600 with 1 Axes>",
      "image/png": "[encoded data removed]"
     },
     "metadata": {},
     "output_type": "display_data"
    }
   ],
   "source": [
    "plot_results(testset,show_quarters=False)"
   ],
   "metadata": {
    "collapsed": false,
    "ExecuteTime": {
     "end_time": "2024-07-04T08:15:59.254345100Z",
     "start_time": "2024-07-04T08:15:59.053479Z"
    }
   },
   "id": "19619f820f899410"
  },
  {
   "cell_type": "code",
   "execution_count": 8,
   "outputs": [
    {
     "name": "stdout",
     "output_type": "stream",
     "text": [
      "                            OLS Estimation Summary                            \n",
      "==============================================================================\n",
      "Dep. Variable:                  error   R-squared:                      0.0003\n",
      "Estimator:                        OLS   Adj. R-squared:                -0.0002\n",
      "No. Observations:               13913   F-statistic:                    9.2159\n",
      "Date:                Thu, Jul 04 2024   P-value (F-stat)                0.1618\n",
      "Time:                        09:16:04   Distribution:                  chi2(6)\n",
      "Cov. Estimator:             clustered                                         \n",
      "                                                                              \n",
      "                                Parameter Estimates                                \n",
      "===================================================================================\n",
      "                 Parameter  Std. Err.     T-stat    P-value    Lower CI    Upper CI\n",
      "-----------------------------------------------------------------------------------\n",
      "Intercept          -0.0459     0.0144    -3.1894     0.0014     -0.0741     -0.0177\n",
      "inverse_avg         0.0391     0.0270     1.4472     0.1478     -0.0139      0.0922\n",
      "wikibuzz            0.0008     0.0041     0.2060     0.8368     -0.0071      0.0088\n",
      "rankdist            0.0213     0.0295     0.7203     0.4713     -0.0366      0.0791\n",
      "C(year)[T.2021]    -0.0008     0.0019    -0.3994     0.6896     -0.0045      0.0030\n",
      "C(year)[T.2022]    -0.0012     0.0019    -0.6264     0.5311     -0.0049      0.0025\n",
      "C(year)[T.2023]    -0.0027     0.0018    -1.4946     0.1350     -0.0063      0.0008\n",
      "===================================================================================\n"
     ]
    }
   ],
   "source": [
    "from linearmodels import IV2SLS\n",
    "data2 = data[data['date'] > '2020-02-16'].copy()\n",
    "# Table 1 Fixed results\n",
    "# PM\n",
    "mod = IV2SLS.from_formula('error ~ inverse_avg + wikibuzz + rankdist + C(year)', data2) # Can include RankDist\n",
    "resid = mod.fit(cov_type='clustered', clusters=data2[['match_id']])\n",
    "print(resid)"
   ],
   "metadata": {
    "collapsed": false,
    "ExecuteTime": {
     "end_time": "2024-07-04T08:16:04.910602700Z",
     "start_time": "2024-07-04T08:16:04.802911300Z"
    }
   },
   "id": "cd8474295d38f57a"
  },
  {
   "cell_type": "code",
   "execution_count": null,
   "outputs": [],
   "source": [],
   "metadata": {
    "collapsed": false
   },
   "id": "3f6d01fed9acebee"
  }
 ],
 "metadata": {
  "kernelspec": {
   "name": "python3",
   "language": "python",
   "display_name": "Python 3 (ipykernel)"
  },
  "language_info": {
   "codemirror_mode": {
    "name": "ipython",
    "version": 2
   },
   "file_extension": ".py",
   "mimetype": "text/x-python",
   "name": "python",
   "nbconvert_exporter": "python",
   "pygments_lexer": "ipython2",
   "version": "2.7.6"
  }
 },
 "nbformat": 4,
 "nbformat_minor": 5
}
