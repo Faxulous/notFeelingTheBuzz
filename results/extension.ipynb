{
 "cells": [
  {
   "cell_type": "markdown",
   "id": "8fe740e2-a53b-4cd2-9a8d-29cac120f9b3",
   "metadata": {},
   "source": [
    "# Extension\n",
    "In this notebook, a new mispricing and inefficiency test are conducted with an extended dataset. "
   ]
  },
  {
   "cell_type": "code",
   "execution_count": 1,
   "id": "initial_id",
   "metadata": {
    "ExecuteTime": {
     "end_time": "2024-07-09T14:54:52.288764Z",
     "start_time": "2024-07-09T14:54:50.428948200Z"
    }
   },
   "outputs": [],
   "source": [
    "import pandas as pd\n",
    "import statsmodels.formula.api as smf\n",
    "import matplotlib.pyplot as plt\n",
    "import numpy as np\n",
    "import warnings\n",
    "from matplotlib.ticker import FuncFormatter\n",
    "from matplotlib.dates import DateFormatter\n",
    "import matplotlib.dates as mdates\n",
    "from linearmodels import IV2SLS\n",
    "from sklearn.model_selection import train_test_split\n",
    "plt.style.use('default')\n",
    "warnings.filterwarnings('ignore', category=FutureWarning)"
   ]
  },
  {
   "cell_type": "markdown",
   "id": "1adba4ec-624e-44bb-bba2-da3455c7f3f6",
   "metadata": {},
   "source": [
    "### Preprocess data"
   ]
  },
  {
   "cell_type": "code",
   "execution_count": 2,
   "id": "acfbb5dad8aeecd5",
   "metadata": {
    "collapsed": false,
    "jupyter": {
     "outputs_hidden": false
    },
    "ExecuteTime": {
     "end_time": "2024-07-09T14:54:56.922834100Z",
     "start_time": "2024-07-09T14:54:52.286762900Z"
    }
   },
   "outputs": [],
   "source": [
    "c_data = pd.read_csv(r\"../data/clegg_matches_cleaned.csv\", index_col=0)\n",
    "r_data = pd.read_csv(\"../data/ramirez_matches_cleaned.csv\", index_col=0)\n",
    "\n",
    "# Merge the two frames DataFrames\n",
    "r_data['date'] = pd.to_datetime(r_data['date'])\n",
    "c_data['date'] = pd.to_datetime(c_data['date'])\n",
    "r_data_filtered = r_data[r_data['date'] <= '2020-02-16']\n",
    "r_data_filtered = r_data[r_data['date'] >= '2016-06-02']\n",
    "c_data_filtered = c_data[c_data['date'] > '2020-02-16']\n",
    "r_data_filtered.loc[:, 'match_id'] = r_data_filtered['match_id'] + 100000000\n",
    "merged_df = pd.concat([r_data_filtered, c_data_filtered])\n",
    "\n",
    "# merged_df, c_data, or r_data\n",
    "data = merged_df\n",
    "data.reset_index(inplace=True,drop=True)\n",
    "\n",
    "data['error'] = 0\n",
    "data.loc[data['outcome'] == 1, 'error'] = 1 - data['inverse_avg']\n",
    "data.loc[data['outcome'] != 1, 'error'] = 0 - data['inverse_avg']\n",
    "\n",
    "data['date'] = pd.to_datetime(data['date'])\n",
    "data['year'] = data['date'].dt.year\n",
    "\n",
    "# Filter out columns with invalid values and NaN values in specified columns\n",
    "invalid_wikibuzz_values = [np.inf, -np.inf, 'ZeroDivisionError']\n",
    "cols_to_check = ['wikibuzz', 'rankdist', 'inverse_avg']\n",
    "data = data[~data['wikibuzz'].isin(invalid_wikibuzz_values) & data[cols_to_check].notna().all(axis=1)]\n",
    "\n",
    "# Compute overround values\n",
    "data['overround_b365'] = data.groupby('match_id')['inverse_b365'].transform(lambda x: x.sum(min_count=1) - 1)\n",
    "data['overround_avg'] = data.groupby('match_id')['inverse_avg'].transform(lambda x: x.sum(min_count=1) - 1)\n",
    "data['overround_best'] = data.groupby('match_id')['inverse_best'].transform(lambda x: x.sum(min_count=1) - 1)\n",
    "\n",
    "data.sort_values(by='date', inplace=True)\n",
    "# Consistent end date\n",
    "data = data[data['date'] <= '2023-08-31']\n",
    "\n",
    "# Remove Hercog\n",
    "data_with_hercog = data.copy()\n",
    "data = data[~((data['player'] == 'Polona Hercog') & (data['date'] == '2019-03-23'))]"
   ]
  },
  {
   "cell_type": "markdown",
   "id": "a9897cf3-11dc-4d2f-8a91-41dfb06b6d08",
   "metadata": {},
   "source": [
    "### Declare all functions used for results"
   ]
  },
  {
   "cell_type": "code",
   "execution_count": 3,
   "id": "5965182347b7770f",
   "metadata": {
    "collapsed": false,
    "jupyter": {
     "outputs_hidden": false
    },
    "ExecuteTime": {
     "end_time": "2024-07-09T14:54:56.935926600Z",
     "start_time": "2024-07-09T14:54:56.929840900Z"
    }
   },
   "outputs": [],
   "source": [
    "# Select regression by setting rankdist and wikibuzz True or False.\n",
    "# For models PM, PM w/o RD (aka. WB), RD, MO.\n",
    "def fit_regression(train_set, rankdist: bool = True):\n",
    "    if rankdist:\n",
    "        formula = 'outcome ~ inverse_avg + rankdist + wikibuzz'\n",
    "        results = smf.ols(formula, data=train_set).fit(cov_type='cluster', cov_kwds={'groups': train_set['match_id']})\n",
    "        params = results.params\n",
    "        #params= [constant        , inverse_avg    , rankdist       , wikibuzz       ]\n",
    "    else:\n",
    "        formula = 'outcome ~ inverse_avg + wikibuzz'\n",
    "        results = smf.ols(formula, data=train_set).fit(cov_type='cluster', cov_kwds={'groups': train_set['match_id']})\n",
    "        params = results.params\n",
    "        #params= [constant        , inverse_avg    , wikibuzz       ]\n",
    "    return params\n",
    "\n",
    "def simple_probability(params: pd.Series,\n",
    "                         inverse_odds: float):\n",
    "    y_hat = params[0] + params[1]*inverse_odds\n",
    "    return y_hat\n",
    "\n",
    "# Returns model's estimated probability.\n",
    "def estimate_probability(params: pd.Series,\n",
    "                         inverse_odds: float,\n",
    "                         rankdist: float = None,\n",
    "                         wikibuzz: float = None) -> float:\n",
    "    if rankdist is not None:\n",
    "        y_hat = params[0] + params[-3]*inverse_odds + params[-2]*rankdist + params[-1]*wikibuzz\n",
    "    if rankdist is None:\n",
    "        y_hat = params[0] + params[-2]*inverse_odds + params[-1]*wikibuzz\n",
    "    return y_hat\n",
    "\n",
    "def kelly_criterion(odds_implied_prob, y_hat):\n",
    "    odds = 1/odds_implied_prob\n",
    "    k = max(y_hat - ((1 - y_hat)/(odds - 1)), 0)\n",
    "    return k\n",
    "\n",
    "# Calculates Profit/Loss.\n",
    "def profit_loss(kelly, odds_implied_prob, outcome):\n",
    "    odds = 1 / odds_implied_prob\n",
    "    if outcome == 1:\n",
    "        PnL = kelly*odds - kelly\n",
    "    if outcome == 0:\n",
    "        PnL = -kelly\n",
    "    return PnL\n",
    "\n",
    "# Estimates probability according to model selection, creates new columns, and prints results\n",
    "def show_results(data, odds, estimated_probabilities, rankdist: bool = True): # Odds = \"avg\", \"best\", \"b365\"\n",
    "    # data = data[data['date'] <= '2020-02-16'].copy()\n",
    "    #data.dropna(subset=[f'inverse_{odds}'], inplace=True)\n",
    "    \n",
    "    lower_bound, upper_bound = 0.4, 0.6\n",
    "    trainset = data[((data['inverse_avg'] >= lower_bound) & (data['inverse_avg'] <= upper_bound)) & (data['date'] < '2019-01-01')].copy()\n",
    "    testset = data[((data['inverse_avg'] >= lower_bound) & (data['inverse_avg'] <= upper_bound)) & (data['date'] >= '2019-01-01')].copy()\n",
    "    \n",
    "    # testset = data[(data['date'] > '2019-01-01') & (data['date'] < '2023-05-05')].copy()\n",
    "    \n",
    "    params = fit_regression(trainset, rankdist=rankdist)\n",
    "    # Estimate Probability.\n",
    "    if rankdist:\n",
    "        testset.loc[:, estimated_probabilities] = [estimate_probability(params, row[0], row[1], row[2]) for row in zip(testset['inverse_avg'],\n",
    "                                                                                                         testset['rankdist'],\n",
    "                                                                                                         testset['wikibuzz'])]\n",
    "    else:\n",
    "        testset.loc[:, estimated_probabilities] = [estimate_probability(params, inverse_odds=row[0], wikibuzz=row[1]) for row in zip(testset['inverse_avg'],\n",
    "                                                                                                                       testset['wikibuzz'])]       \n",
    "    # Determine kelly bet size.\n",
    "    testset.loc[:, 'kelly_betsize'] = [kelly_criterion(row[0], row[1]) for row in zip(testset['inverse_{}'.format(odds)],\n",
    "                                                                               testset[estimated_probabilities])]\n",
    "    # Calculate return for the bet.\n",
    "    testset.loc[:, 'PnL'] = [profit_loss(row[0], row[1], row[2]) for row in zip(testset['kelly_betsize'],testset['inverse_{}'.format(odds)],\n",
    "                                                                         testset['outcome'])]\n",
    "\n",
    "    print('Bets considered (2 * Matches): '+str(len(testset[testset['inverse_{}'.format(odds)].notna()])))\n",
    "    print('Number of bets placed: '+str(len(testset.loc[(testset[\"PnL\"].notna()) & testset[\"PnL\"] != 0])))\n",
    "    #print(\"Mean overround (%): \"+str((testset.sort_values(by=\"match_id\")[\"inverse_{}\".format(odds)].rolling(2).sum()[1::2].mean()-1)*100))\n",
    "    print(\"Mean overround (%): \"+str(testset[testset['overround_{}'.format(odds)] != 0]['overround_{}'.format(odds)].mean()*100)) \n",
    "    print('Absolute amount bet: '+str(testset['kelly_betsize'].sum()))\n",
    "    print('Absolute return: '+str(testset['PnL'].sum()))\n",
    "    print('ROI (%): '+str((((testset['PnL'].sum() + testset['kelly_betsize'].sum())/testset['kelly_betsize'].sum())-1)*100))\n",
    "    return testset\n",
    "\n",
    "# PnL plot\n",
    "# Modify the plot to display months on the x-axis and highlight a specific date\n",
    "def plot_results(testset, compare_data=None, show_quarters=None):\n",
    "    fig, ax = plt.subplots(1, 1, figsize=(6, 6))\n",
    "    plt.rcParams.update({'font.size': 14})\n",
    "    plt.axhline(y=0, color='grey', linewidth=2.5)\n",
    "    # Plot end of RRS data\n",
    "    plt.axvline(x=pd.Timestamp('2020-02-16'), color='orange', linestyle=':', linewidth=2)\n",
    "\n",
    "    if compare_data is not None:\n",
    "        compare_data['date'] = pd.to_datetime(compare_data['date'])\n",
    "        compare_data['Cum_PnL'] = compare_data['PnL'].cumsum() * 100\n",
    "        compare_data.plot('date', 'Cum_PnL', ax=ax, linewidth=2.5, linestyle='--', label='With Hercog bet', color='black')\n",
    "\n",
    "    testset['date'] = pd.to_datetime(testset['date'])\n",
    "    testset['Cumulative_PnL'] = testset['PnL'].cumsum() * 100\n",
    "    testset.plot('date', 'Cumulative_PnL', ax=ax, linewidth=2.5, label='Without Hercog Bet')\n",
    "\n",
    "    if show_quarters:\n",
    "        # Quarterly x-axis\n",
    "        ax.xaxis.set_major_locator(mdates.MonthLocator(bymonth=(1, 4, 7, 10)))\n",
    "\n",
    "        def custom_formatter(x, pos):\n",
    "            month = mdates.num2date(x).month\n",
    "            quarter = (month-1)//3 + 1\n",
    "            year = mdates.num2date(x).year\n",
    "            return f\"Q{quarter} {year}\"\n",
    "\n",
    "        ax.xaxis.set_major_formatter(FuncFormatter(custom_formatter))\n",
    "        ax.xaxis.set_major_locator(mdates.YearLocator())\n",
    "        ax.xaxis.set_major_formatter(DateFormatter('%Y'))\n",
    "\n",
    "    else: # Years as specified\n",
    "        ax.xaxis.set_major_locator(mdates.YearLocator())\n",
    "        ax.xaxis.set_major_formatter(DateFormatter('%Y'))\n",
    "        ax.set_xlim(testset['date'].min(), pd.Timestamp(f'2024-01-01')) # Ensure 2023 is shown on x-axis\n",
    "    fig.autofmt_xdate()\n",
    "\n",
    "    ax.set_facecolor('white')\n",
    "    fig.patch.set_facecolor('white') \n",
    "    \n",
    "    ax.grid(True, which='both', color='grey', linestyle='-', linewidth=0.5)\n",
    "    ax.legend(fancybox=False, shadow=False, frameon=True, facecolor='white', framealpha=1)\n",
    "    ax.get_legend().remove()\n",
    "    ax.set_ylabel('Absolute Return (%)')\n",
    "    ax.set_xlabel('Date')\n",
    "\n",
    "    ax.set_ylim(-50, 400)\n",
    "\n",
    "    plt.show()"
   ]
  },
  {
   "cell_type": "markdown",
   "id": "60fb3a5b-4556-44a0-90d7-d7fc84417101",
   "metadata": {},
   "source": [
    "### Results "
   ]
  },
  {
   "cell_type": "code",
   "execution_count": 4,
   "id": "f14b2ef00d92ab51",
   "metadata": {
    "collapsed": false,
    "jupyter": {
     "outputs_hidden": false
    },
    "ExecuteTime": {
     "end_time": "2024-07-09T14:54:57.425271900Z",
     "start_time": "2024-07-09T14:54:56.935926600Z"
    }
   },
   "outputs": [
    {
     "name": "stdout",
     "output_type": "stream",
     "text": [
      "Results without Hercog bet used:\n",
      "\n",
      "Bets considered (2 * Matches): 5896\n",
      "Number of bets placed: 747\n",
      "Mean overround (%): 5.58835944624488\n",
      "Absolute amount bet: 21.932919268526646\n",
      "Absolute return: 0.5769562342805172\n",
      "ROI (%): 2.630549208779698\n",
      "\n",
      "Results with Hercog bet used:\n",
      "\n",
      "Bets considered (2 * Matches): 5897\n",
      "Number of bets placed: 748\n",
      "Mean overround (%): 5.5884124830571436\n",
      "Absolute amount bet: 22.290998803872277\n",
      "Absolute return: 2.1883141433358477\n",
      "ROI (%): 9.817030464133826\n"
     ]
    }
   ],
   "source": [
    "print(\"Results without Hercog bet used:\\n\")\n",
    "testset = show_results(data, odds='b365', estimated_probabilities='model_prob', rankdist=False)\n",
    "print(\"\\nResults with Hercog bet used:\\n\")\n",
    "testset_with_hercog = show_results(data_with_hercog, odds='b365', estimated_probabilities='model_prob', rankdist=False)"
   ]
  },
  {
   "cell_type": "code",
   "execution_count": 5,
   "id": "19619f820f899410",
   "metadata": {
    "collapsed": false,
    "jupyter": {
     "outputs_hidden": false
    },
    "ExecuteTime": {
     "end_time": "2024-07-09T14:54:57.594883100Z",
     "start_time": "2024-07-09T14:54:57.426271800Z"
    }
   },
   "outputs": [
    {
     "data": {
      "text/plain": "<Figure size 600x600 with 1 Axes>",
      "image/png": "[encoded data removed]"
     },
     "metadata": {},
     "output_type": "display_data"
    }
   ],
   "source": [
    "# Figure 2b from the long paper\n",
    "plot_results(testset,show_quarters=False)"
   ]
  },
  {
   "cell_type": "code",
   "execution_count": 6,
   "id": "cd8474295d38f57a",
   "metadata": {
    "collapsed": false,
    "jupyter": {
     "outputs_hidden": false
    },
    "ExecuteTime": {
     "end_time": "2024-07-09T14:54:57.700917200Z",
     "start_time": "2024-07-09T14:54:57.593882400Z"
    }
   },
   "outputs": [
    {
     "name": "stdout",
     "output_type": "stream",
     "text": [
      "                            OLS Estimation Summary                            \n",
      "==============================================================================\n",
      "Dep. Variable:                  error   R-squared:                      0.0003\n",
      "Estimator:                        OLS   Adj. R-squared:                -0.0002\n",
      "No. Observations:               13913   F-statistic:                    9.2159\n",
      "Date:                Tue, Jul 09 2024   P-value (F-stat)                0.1618\n",
      "Time:                        15:54:57   Distribution:                  chi2(6)\n",
      "Cov. Estimator:             clustered                                         \n",
      "                                                                              \n",
      "                                Parameter Estimates                                \n",
      "===================================================================================\n",
      "                 Parameter  Std. Err.     T-stat    P-value    Lower CI    Upper CI\n",
      "-----------------------------------------------------------------------------------\n",
      "Intercept          -0.0459     0.0144    -3.1894     0.0014     -0.0741     -0.0177\n",
      "inverse_avg         0.0391     0.0270     1.4472     0.1478     -0.0139      0.0922\n",
      "wikibuzz            0.0008     0.0041     0.2060     0.8368     -0.0071      0.0088\n",
      "rankdist            0.0213     0.0295     0.7203     0.4713     -0.0366      0.0791\n",
      "C(year)[T.2021]    -0.0008     0.0019    -0.3994     0.6896     -0.0045      0.0030\n",
      "C(year)[T.2022]    -0.0012     0.0019    -0.6264     0.5311     -0.0049      0.0025\n",
      "C(year)[T.2023]    -0.0027     0.0018    -1.4946     0.1350     -0.0063      0.0008\n",
      "===================================================================================\n"
     ]
    }
   ],
   "source": [
    "new_data = data[data['date'] > '2020-02-16'].copy()\n",
    "# Table 4 from long paper: New model estimates\n",
    "# PM\n",
    "mod = IV2SLS.from_formula('error ~ inverse_avg + wikibuzz + rankdist + C(year)', new_data) # Can include RankDist\n",
    "resid = mod.fit(cov_type='clustered', clusters=new_data[['match_id']])\n",
    "print(resid)"
   ]
  }
 ],
 "metadata": {
  "kernelspec": {
   "display_name": "Python 3 (ipykernel)",
   "language": "python",
   "name": "python3"
  },
  "language_info": {
   "codemirror_mode": {
    "name": "ipython",
    "version": 3
   },
   "file_extension": ".py",
   "mimetype": "text/x-python",
   "name": "python",
   "nbconvert_exporter": "python",
   "pygments_lexer": "ipython3",
   "version": "3.12.4"
  }
 },
 "nbformat": 4,
 "nbformat_minor": 5
}
