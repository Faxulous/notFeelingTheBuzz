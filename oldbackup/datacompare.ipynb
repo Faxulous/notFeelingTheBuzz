{
 "cells": [
  {
   "cell_type": "code",
   "execution_count": 2,
   "outputs": [],
   "source": [
    "import pandas as pd"
   ],
   "metadata": {
    "collapsed": false
   }
  },
  {
   "cell_type": "code",
   "execution_count": 14,
   "metadata": {
    "collapsed": true
   },
   "outputs": [],
   "source": [
    "clegg_df = pd.read_csv(\n",
    "    r'C:\\Users\\faxul\\Google Drive\\RamirezRepStudy\\thesisminusdata\\TradeCode\\paper_repstudy\\notFeelingTheBuzz\\Datafiles\\clegg_matches_cleaned.csv')\n",
    "clegg_fitset = clegg_df[~(clegg_df['date'] > '2019-01-00')].copy()\n",
    "\n",
    "r_df = pd.read_csv(\n",
    "    r'C:\\Users\\faxul\\Google Drive\\RamirezRepStudy\\thesisminusdata\\TradeCode\\paper_repstudy\\notFeelingTheBuzz\\Datafiles\\ramirez_matches_cleaned.csv')\n",
    "r_fitset = r_df[~(r_df['date'] > '2019-01-00')].copy()\n",
    "r_fitset = r_fitset[~(r_fitset['date'] < '2016-07-02')].copy()"
   ]
  },
  {
   "cell_type": "code",
   "execution_count": 15,
   "outputs": [
    {
     "data": {
      "text/plain": "       Unnamed: 0  match_id                player        date    year  \\\n4878        13016     13016         Jana Cepelova  2016-07-02  2016.0   \n4879        13015     13015    Katerina Siniakova  2016-07-02  2016.0   \n4880        13014     13014         Petra Kvitova  2016-07-02  2016.0   \n4881        13013     13013          Alize Cornet  2016-07-02  2016.0   \n4882        13012     13012      Carina Witthoeft  2016-07-02  2016.0   \n...           ...       ...                   ...         ...     ...   \n15849       20232     20232          Alison Riske  2018-12-31  2018.0   \n15850       20230     20230  Mirjana Lucic-Baroni  2018-12-31  2018.0   \n15851       20229     20229         Magda Linette  2018-12-31  2018.0   \n15852       20226     20226          Su-Wei Hsieh  2018-12-31  2018.0   \n15853       20224     20224          Alize Cornet  2018-12-31  2018.0   \n\n       rankdist  wikibuzz  inverse_b365  inverse_avg  inverse_best  outcome  \n4878   0.026418  3.829547      0.333333     0.330033      0.303030        0  \n4879   0.324561  2.170413      0.200000     0.195313      0.173913        0  \n4880  -0.071429 -1.091749      0.694444     0.714286      0.684931        0  \n4881   0.094718 -1.841631      0.181818     0.190476      0.173913        0  \n4882   0.240826  0.050116      0.142857     0.147710      0.129534        0  \n...         ...       ...           ...          ...           ...      ...  \n15849  0.007937  1.057593      0.400000     0.392157      0.344828        1  \n15850 -0.009511 -0.693147      0.636943     0.621118      0.591716        1  \n15851 -0.004715 -0.534426      0.621118     0.598802      0.568182        1  \n15852  0.000601 -0.510826      0.526316     0.520833      0.500000        1  \n15853  0.098684  1.058990      0.333333     0.326797      0.287356        1  \n\n[10976 rows x 11 columns]",
      "text/html": "<div>\n<style scoped>\n    .dataframe tbody tr th:only-of-type {\n        vertical-align: middle;\n    }\n\n    .dataframe tbody tr th {\n        vertical-align: top;\n    }\n\n    .dataframe thead th {\n        text-align: right;\n    }\n</style>\n<table border=\"1\" class=\"dataframe\">\n  <thead>\n    <tr style=\"text-align: right;\">\n      <th></th>\n      <th>Unnamed: 0</th>\n      <th>match_id</th>\n      <th>player</th>\n      <th>date</th>\n      <th>year</th>\n      <th>rankdist</th>\n      <th>wikibuzz</th>\n      <th>inverse_b365</th>\n      <th>inverse_avg</th>\n      <th>inverse_best</th>\n      <th>outcome</th>\n    </tr>\n  </thead>\n  <tbody>\n    <tr>\n      <th>4878</th>\n      <td>13016</td>\n      <td>13016</td>\n      <td>Jana Cepelova</td>\n      <td>2016-07-02</td>\n      <td>2016.0</td>\n      <td>0.026418</td>\n      <td>3.829547</td>\n      <td>0.333333</td>\n      <td>0.330033</td>\n      <td>0.303030</td>\n      <td>0</td>\n    </tr>\n    <tr>\n      <th>4879</th>\n      <td>13015</td>\n      <td>13015</td>\n      <td>Katerina Siniakova</td>\n      <td>2016-07-02</td>\n      <td>2016.0</td>\n      <td>0.324561</td>\n      <td>2.170413</td>\n      <td>0.200000</td>\n      <td>0.195313</td>\n      <td>0.173913</td>\n      <td>0</td>\n    </tr>\n    <tr>\n      <th>4880</th>\n      <td>13014</td>\n      <td>13014</td>\n      <td>Petra Kvitova</td>\n      <td>2016-07-02</td>\n      <td>2016.0</td>\n      <td>-0.071429</td>\n      <td>-1.091749</td>\n      <td>0.694444</td>\n      <td>0.714286</td>\n      <td>0.684931</td>\n      <td>0</td>\n    </tr>\n    <tr>\n      <th>4881</th>\n      <td>13013</td>\n      <td>13013</td>\n      <td>Alize Cornet</td>\n      <td>2016-07-02</td>\n      <td>2016.0</td>\n      <td>0.094718</td>\n      <td>-1.841631</td>\n      <td>0.181818</td>\n      <td>0.190476</td>\n      <td>0.173913</td>\n      <td>0</td>\n    </tr>\n    <tr>\n      <th>4882</th>\n      <td>13012</td>\n      <td>13012</td>\n      <td>Carina Witthoeft</td>\n      <td>2016-07-02</td>\n      <td>2016.0</td>\n      <td>0.240826</td>\n      <td>0.050116</td>\n      <td>0.142857</td>\n      <td>0.147710</td>\n      <td>0.129534</td>\n      <td>0</td>\n    </tr>\n    <tr>\n      <th>...</th>\n      <td>...</td>\n      <td>...</td>\n      <td>...</td>\n      <td>...</td>\n      <td>...</td>\n      <td>...</td>\n      <td>...</td>\n      <td>...</td>\n      <td>...</td>\n      <td>...</td>\n      <td>...</td>\n    </tr>\n    <tr>\n      <th>15849</th>\n      <td>20232</td>\n      <td>20232</td>\n      <td>Alison Riske</td>\n      <td>2018-12-31</td>\n      <td>2018.0</td>\n      <td>0.007937</td>\n      <td>1.057593</td>\n      <td>0.400000</td>\n      <td>0.392157</td>\n      <td>0.344828</td>\n      <td>1</td>\n    </tr>\n    <tr>\n      <th>15850</th>\n      <td>20230</td>\n      <td>20230</td>\n      <td>Mirjana Lucic-Baroni</td>\n      <td>2018-12-31</td>\n      <td>2018.0</td>\n      <td>-0.009511</td>\n      <td>-0.693147</td>\n      <td>0.636943</td>\n      <td>0.621118</td>\n      <td>0.591716</td>\n      <td>1</td>\n    </tr>\n    <tr>\n      <th>15851</th>\n      <td>20229</td>\n      <td>20229</td>\n      <td>Magda Linette</td>\n      <td>2018-12-31</td>\n      <td>2018.0</td>\n      <td>-0.004715</td>\n      <td>-0.534426</td>\n      <td>0.621118</td>\n      <td>0.598802</td>\n      <td>0.568182</td>\n      <td>1</td>\n    </tr>\n    <tr>\n      <th>15852</th>\n      <td>20226</td>\n      <td>20226</td>\n      <td>Su-Wei Hsieh</td>\n      <td>2018-12-31</td>\n      <td>2018.0</td>\n      <td>0.000601</td>\n      <td>-0.510826</td>\n      <td>0.526316</td>\n      <td>0.520833</td>\n      <td>0.500000</td>\n      <td>1</td>\n    </tr>\n    <tr>\n      <th>15853</th>\n      <td>20224</td>\n      <td>20224</td>\n      <td>Alize Cornet</td>\n      <td>2018-12-31</td>\n      <td>2018.0</td>\n      <td>0.098684</td>\n      <td>1.058990</td>\n      <td>0.333333</td>\n      <td>0.326797</td>\n      <td>0.287356</td>\n      <td>1</td>\n    </tr>\n  </tbody>\n</table>\n<p>10976 rows × 11 columns</p>\n</div>"
     },
     "execution_count": 15,
     "metadata": {},
     "output_type": "execute_result"
    }
   ],
   "source": [
    "r_fitset"
   ],
   "metadata": {
    "collapsed": false
   }
  },
  {
   "cell_type": "code",
   "execution_count": 16,
   "outputs": [
    {
     "data": {
      "text/plain": "       Unnamed: 0  match_id  WTA                 player        date  rankdist  \\\n0               0      1540   34        Sloane Stephens  2016-07-02 -0.037518   \n1               2      1542   34          Petra Kvitova  2016-07-02 -0.071429   \n2               3      1545   34     Anna-Lena Friedsam  2016-07-02  0.002864   \n3               4      1546   34       Carina Witthoeft  2016-07-02  0.240826   \n4               5      1547   34          Jana Cepelova  2016-07-02  0.026418   \n...           ...       ...  ...                    ...         ...       ...   \n10821        6019      7561    3        Caroline Garcia  2018-12-31 -0.044998   \n10822        6021      7563    3       Timea Bacsinszky  2018-12-31  0.029247   \n10823        5949      7491    1  Bethanie Mattek-Sands  2018-12-31  0.016011   \n10824        5950      7492    1      Lara Arruabarrena  2018-12-31 -0.006415   \n10825        6017      7559    3           Alison Riske  2018-12-31  0.031490   \n\n       wikibuzz  inverse_b365  inverse_best  inverse_avg  outcome  year  \n0     -1.611383      0.862069      0.826446     0.854701        1  2016  \n1     -1.094660      0.694444      0.684932     0.714286        0  2016  \n2     -0.157395      0.434783      0.416667     0.446429        0  2016  \n3      0.047462      0.142857      0.129534     0.147710        0  2016  \n4      3.424082      0.333333      0.303030     0.330033        0  2016  \n...         ...           ...           ...          ...      ...   ...  \n10821 -1.356242      0.800000      0.769231     0.781250        0  2018  \n10822  0.647253      0.307692      0.294118     0.314465        0  2018  \n10823  0.572767      0.333333      0.303951     0.323625        0  2018  \n10824 -0.111059      0.381679      0.347222     0.386100        0  2018  \n10825  1.057593      0.294118      0.253165     0.284091        1  2018  \n\n[10826 rows x 12 columns]",
      "text/html": "<div>\n<style scoped>\n    .dataframe tbody tr th:only-of-type {\n        vertical-align: middle;\n    }\n\n    .dataframe tbody tr th {\n        vertical-align: top;\n    }\n\n    .dataframe thead th {\n        text-align: right;\n    }\n</style>\n<table border=\"1\" class=\"dataframe\">\n  <thead>\n    <tr style=\"text-align: right;\">\n      <th></th>\n      <th>Unnamed: 0</th>\n      <th>match_id</th>\n      <th>WTA</th>\n      <th>player</th>\n      <th>date</th>\n      <th>rankdist</th>\n      <th>wikibuzz</th>\n      <th>inverse_b365</th>\n      <th>inverse_best</th>\n      <th>inverse_avg</th>\n      <th>outcome</th>\n      <th>year</th>\n    </tr>\n  </thead>\n  <tbody>\n    <tr>\n      <th>0</th>\n      <td>0</td>\n      <td>1540</td>\n      <td>34</td>\n      <td>Sloane Stephens</td>\n      <td>2016-07-02</td>\n      <td>-0.037518</td>\n      <td>-1.611383</td>\n      <td>0.862069</td>\n      <td>0.826446</td>\n      <td>0.854701</td>\n      <td>1</td>\n      <td>2016</td>\n    </tr>\n    <tr>\n      <th>1</th>\n      <td>2</td>\n      <td>1542</td>\n      <td>34</td>\n      <td>Petra Kvitova</td>\n      <td>2016-07-02</td>\n      <td>-0.071429</td>\n      <td>-1.094660</td>\n      <td>0.694444</td>\n      <td>0.684932</td>\n      <td>0.714286</td>\n      <td>0</td>\n      <td>2016</td>\n    </tr>\n    <tr>\n      <th>2</th>\n      <td>3</td>\n      <td>1545</td>\n      <td>34</td>\n      <td>Anna-Lena Friedsam</td>\n      <td>2016-07-02</td>\n      <td>0.002864</td>\n      <td>-0.157395</td>\n      <td>0.434783</td>\n      <td>0.416667</td>\n      <td>0.446429</td>\n      <td>0</td>\n      <td>2016</td>\n    </tr>\n    <tr>\n      <th>3</th>\n      <td>4</td>\n      <td>1546</td>\n      <td>34</td>\n      <td>Carina Witthoeft</td>\n      <td>2016-07-02</td>\n      <td>0.240826</td>\n      <td>0.047462</td>\n      <td>0.142857</td>\n      <td>0.129534</td>\n      <td>0.147710</td>\n      <td>0</td>\n      <td>2016</td>\n    </tr>\n    <tr>\n      <th>4</th>\n      <td>5</td>\n      <td>1547</td>\n      <td>34</td>\n      <td>Jana Cepelova</td>\n      <td>2016-07-02</td>\n      <td>0.026418</td>\n      <td>3.424082</td>\n      <td>0.333333</td>\n      <td>0.303030</td>\n      <td>0.330033</td>\n      <td>0</td>\n      <td>2016</td>\n    </tr>\n    <tr>\n      <th>...</th>\n      <td>...</td>\n      <td>...</td>\n      <td>...</td>\n      <td>...</td>\n      <td>...</td>\n      <td>...</td>\n      <td>...</td>\n      <td>...</td>\n      <td>...</td>\n      <td>...</td>\n      <td>...</td>\n      <td>...</td>\n    </tr>\n    <tr>\n      <th>10821</th>\n      <td>6019</td>\n      <td>7561</td>\n      <td>3</td>\n      <td>Caroline Garcia</td>\n      <td>2018-12-31</td>\n      <td>-0.044998</td>\n      <td>-1.356242</td>\n      <td>0.800000</td>\n      <td>0.769231</td>\n      <td>0.781250</td>\n      <td>0</td>\n      <td>2018</td>\n    </tr>\n    <tr>\n      <th>10822</th>\n      <td>6021</td>\n      <td>7563</td>\n      <td>3</td>\n      <td>Timea Bacsinszky</td>\n      <td>2018-12-31</td>\n      <td>0.029247</td>\n      <td>0.647253</td>\n      <td>0.307692</td>\n      <td>0.294118</td>\n      <td>0.314465</td>\n      <td>0</td>\n      <td>2018</td>\n    </tr>\n    <tr>\n      <th>10823</th>\n      <td>5949</td>\n      <td>7491</td>\n      <td>1</td>\n      <td>Bethanie Mattek-Sands</td>\n      <td>2018-12-31</td>\n      <td>0.016011</td>\n      <td>0.572767</td>\n      <td>0.333333</td>\n      <td>0.303951</td>\n      <td>0.323625</td>\n      <td>0</td>\n      <td>2018</td>\n    </tr>\n    <tr>\n      <th>10824</th>\n      <td>5950</td>\n      <td>7492</td>\n      <td>1</td>\n      <td>Lara Arruabarrena</td>\n      <td>2018-12-31</td>\n      <td>-0.006415</td>\n      <td>-0.111059</td>\n      <td>0.381679</td>\n      <td>0.347222</td>\n      <td>0.386100</td>\n      <td>0</td>\n      <td>2018</td>\n    </tr>\n    <tr>\n      <th>10825</th>\n      <td>6017</td>\n      <td>7559</td>\n      <td>3</td>\n      <td>Alison Riske</td>\n      <td>2018-12-31</td>\n      <td>0.031490</td>\n      <td>1.057593</td>\n      <td>0.294118</td>\n      <td>0.253165</td>\n      <td>0.284091</td>\n      <td>1</td>\n      <td>2018</td>\n    </tr>\n  </tbody>\n</table>\n<p>10826 rows × 12 columns</p>\n</div>"
     },
     "execution_count": 16,
     "metadata": {},
     "output_type": "execute_result"
    }
   ],
   "source": [
    "clegg_fitset"
   ],
   "metadata": {
    "collapsed": false
   }
  },
  {
   "cell_type": "code",
   "execution_count": null,
   "outputs": [],
   "source": [],
   "metadata": {
    "collapsed": false
   }
  }
 ],
 "metadata": {
  "kernelspec": {
   "display_name": "Python 3",
   "language": "python",
   "name": "python3"
  },
  "language_info": {
   "codemirror_mode": {
    "name": "ipython",
    "version": 2
   },
   "file_extension": ".py",
   "mimetype": "text/x-python",
   "name": "python",
   "nbconvert_exporter": "python",
   "pygments_lexer": "ipython2",
   "version": "2.7.6"
  }
 },
 "nbformat": 4,
 "nbformat_minor": 0
}
