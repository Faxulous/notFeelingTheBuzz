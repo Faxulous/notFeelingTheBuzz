{
 "cells": [
  {
   "cell_type": "markdown",
   "source": [
    "## 4. Best odds profit is nothing special.\n",
    "Below is the results from implementing no model at all and simply using the inverse average odds as the estimated probability and the best odds as the odds for returns."
   ],
   "metadata": {
    "collapsed": false
   }
  },
  {
   "cell_type": "code",
   "execution_count": 1,
   "outputs": [],
   "source": [
    "import pandas as pd\n",
    "import seaborn as sns\n",
    "import statsmodels.formula.api as sm\n",
    "import matplotlib.pyplot as plt\n",
    "import econtools.metrics as mt\n",
    "import numpy as np\n",
    "from econtools import read, outreg, table_statrow, write_notes\n",
    "import matplotlib.ticker as mtick\n",
    "import matplotlib.dates as mdates\n",
    "plt.style.use('seaborn-v0_8-deep')"
   ],
   "metadata": {
    "collapsed": false
   }
  },
  {
   "cell_type": "code",
   "execution_count": 2,
   "outputs": [
    {
     "name": "stdout",
     "output_type": "stream",
     "text": [
      "Fit set rows: 15854\n",
      "Test set rows: 5190\n"
     ]
    }
   ],
   "source": [
    "original_df = pd.read_csv(r'C:\\Users\\faxul\\Google Drive\\RamirezRepStudy\\thesisminusdata\\TradeCode\\paper_repstudy\\notFeelingTheBuzz\\Datafiles\\Ramirez_matches_cleaned.csv')\n",
    "fitset = original_df[~(original_df['date'] > '2019-01-00')].copy()\n",
    "testset = original_df[(original_df['date'] > '2019-01-00')].copy()\n",
    "\n",
    "testset.reset_index(inplace=True)\n",
    "print('Fit set rows: '+str(len(fitset)))\n",
    "print('Test set rows: '+str(len(testset)))"
   ],
   "metadata": {
    "collapsed": false
   }
  },
  {
   "cell_type": "code",
   "execution_count": 3,
   "outputs": [],
   "source": [
    "def kelly_criterion(odds_implied_prob, y_hat):\n",
    "    odds = 1/odds_implied_prob\n",
    "    k = max(y_hat - ((1 - y_hat)/(odds - 1)), 0)\n",
    "    return k\n",
    "\n",
    "def profit_loss(kelly, odds_implied_prob, outcome):\n",
    "    odds = 1 / odds_implied_prob\n",
    "    if outcome == 1:\n",
    "        PnL = kelly*odds - kelly\n",
    "    if outcome == 0:\n",
    "        PnL = -kelly\n",
    "    return PnL\n",
    "\n",
    "def simple_results(testset, odds):\n",
    "\n",
    "    # Determine kelly bet size.\n",
    "    testset['kelly_betsize'] = [kelly_criterion(row[0], row[1]) for row in zip(testset['inverse_{}'.format(odds)],\n",
    "                                                                               testset['inverse_avg'])]\n",
    "    # Calculate return for the bet.\n",
    "    testset['PnL'] = [profit_loss(row[0], row[1], row[2]) for row in zip(testset['kelly_betsize'],\n",
    "                                                                         testset['inverse_{}'.format(odds)],\n",
    "                                                                         testset['outcome'])]\n",
    "    testset['bankroll_after'] = testset['PnL'] + 1\n",
    "    testset['bankroll_after'] = testset['bankroll_after'].cumprod()\n",
    "    testset['bankroll_before'] = testset.bankroll_after.shift(1)\n",
    "    testset['betsize_of_inital_bankroll'] = testset['kelly_betsize'] * testset['bankroll_before']\n",
    "    testset['pnl_of_initial_bankroll'] = testset['PnL'] * testset['bankroll_before']\n",
    "\n",
    "    print('Bets considered (2 * Matches): '+str(len(testset[testset['inverse_{}'.format(odds)].notna()])))\n",
    "    print('Number of bets placed: '+str(len(testset.loc[(testset[\"PnL\"].notna()) & testset[\"PnL\"] != 0])))\n",
    "    print(\"Mean overround (%): \"+str((testset.sort_values(by=\"match_id\")[\"inverse_{}\".format(odds)].rolling(2).sum()[1::2].mean()-1)*100))\n",
    "    print('Absolute return: ' + str(testset['pnl_of_initial_bankroll'].sum()))\n",
    "    print('Absolute amount bet: ' + str(testset['betsize_of_inital_bankroll'].sum()))\n",
    "    print('ROI (%): ' + str((((testset['pnl_of_initial_bankroll'].sum() + testset['betsize_of_inital_bankroll'].sum()) / testset[\n",
    "    'betsize_of_inital_bankroll'].sum()) - 1)*100))\n",
    "\n",
    "def simple_plot_results():\n",
    "    testset['Cum_PnL'] = testset['PnL'].cumsum() * 100\n",
    "    plt.rcParams.update({'font.size': 11})\n",
    "    fig, ax = plt.subplots(1, 1, figsize=(6, 6))\n",
    "    testset.plot('date', 'Cum_PnL', ax=ax, linewidth=1.5)\n",
    "    ax.set_ylabel('Cumulative Profit (%)')\n",
    "    ax.set_xlabel('Date')\n",
    "    ax.set_title(\"\")\n",
    "    # ax.set_title('Best Odds')\n",
    "    ax.get_legend().remove()\n",
    "    fig.autofmt_xdate()\n",
    "    plt.show()"
   ],
   "metadata": {
    "collapsed": false
   }
  },
  {
   "cell_type": "code",
   "execution_count": 4,
   "outputs": [
    {
     "name": "stdout",
     "output_type": "stream",
     "text": [
      "Bets considered (2 * Matches): 5189\n",
      "Number of bets placed: 5184\n",
      "Mean overround (%): -0.22770090708685853\n",
      "Absolute return: -1.0319957950974301\n",
      "Absolute amount bet: 38.617336651595586\n",
      "ROI (%): -2.6723639809965727\n"
     ]
    }
   ],
   "source": [
    "simple_results(testset, odds=\"best\")"
   ],
   "metadata": {
    "collapsed": false
   }
  }
 ],
 "metadata": {
  "kernelspec": {
   "display_name": "Python 3",
   "language": "python",
   "name": "python3"
  },
  "language_info": {
   "codemirror_mode": {
    "name": "ipython",
    "version": 2
   },
   "file_extension": ".py",
   "mimetype": "text/x-python",
   "name": "python",
   "nbconvert_exporter": "python",
   "pygments_lexer": "ipython2",
   "version": "2.7.6"
  }
 },
 "nbformat": 4,
 "nbformat_minor": 0
}
