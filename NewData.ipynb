{
 "cells": [
  {
   "cell_type": "code",
   "execution_count": 13,
   "outputs": [],
   "source": [
    "import pandas as pd\n",
    "import seaborn as sns\n",
    "import pickle\n",
    "import statsmodels.formula.api as sm\n",
    "import matplotlib.pyplot as plt\n",
    "import econtools.metrics as mt\n",
    "import numpy as np\n",
    "from econtools import read, outreg, table_statrow, write_notes\n",
    "import matplotlib.ticker as mtick\n",
    "import matplotlib.dates as mdates\n",
    "import statistics as s \n",
    "plt.style.use('seaborn-v0_8-deep')"
   ],
   "metadata": {
    "collapsed": false
   }
  },
  {
   "cell_type": "code",
   "execution_count": 30,
   "metadata": {
    "collapsed": true
   },
   "outputs": [
    {
     "name": "stdout",
     "output_type": "stream",
     "text": [
      "Fit set rows: 11513\n",
      "Test set rows: 15693\n"
     ]
    }
   ],
   "source": [
    "original_df = pd.read_csv(\n",
    "    r'C:\\Users\\faxul\\Google Drive\\RamirezRepStudy\\thesisminusdata\\TradeCode\\paper_repstudy\\notFeelingTheBuzz\\Datafiles\\clegg2_matches_cleaned.csv')\n",
    "fitset = original_df[~(original_df['date'] > '2019-01-00')].copy()\n",
    "testset = original_df[(original_df['date'] > '2019-01-00')].copy()\n",
    "\n",
    "#testset = testset.dropna(subset=[\"inverse_b365\", \"inverse_best\"])\n",
    "#filtered_df = testset[testset['inverse_best'] > testset['inverse_b365']]\n",
    "#testset.drop(filtered_df.index, inplace=True)\n",
    "\n",
    "#testset.reset_index(inplace=True)\n",
    "print('Fit set rows: ' + str(len(fitset)))\n",
    "print('Test set rows: ' + str(len(testset)))"
   ]
  },
  {
   "cell_type": "code",
   "execution_count": 31,
   "outputs": [],
   "source": [
    "def fit_regression(rankdist: bool = True, wikibuzz: bool = True):\n",
    "    if wikibuzz and rankdist:\n",
    "        results = mt.reg(fitset,'outcome',                      \n",
    "        ['inverse_avg', 'rankdist', 'wikibuzz'],\n",
    "        #fe_name= \"year\",\n",
    "        cluster='match_id',addcons=True)\n",
    "        params = [results.beta[-1], results.beta[0], results.beta[1], results.beta[2]]\n",
    "        #params= [constant        , inverse_avg    , rankdist       , wikibuzz       ]\n",
    "    elif wikibuzz and not rankdist:\n",
    "        results = mt.reg(fitset,'outcome',\n",
    "        ['inverse_avg', 'wikibuzz'],\n",
    "        #fe_name= \"year\",\n",
    "        cluster='match_id',addcons=True)\n",
    "        params = [results.beta[-1], results.beta[0], results.beta[1]]\n",
    "        #params= [constant        , inverse_avg    , wikibuzz       ]\n",
    "    elif rankdist and not wikibuzz:\n",
    "        results = mt.reg(fitset,'outcome',\n",
    "        ['inverse_avg', 'rankdist'],\n",
    "        #fe_name= \"year\",\n",
    "        cluster='match_id',addcons=True)\n",
    "        params = [results.beta[-1], results.beta[0], results.beta[1]]\n",
    "        #params= [constant        , inverse_avg    , rankdist       ]\n",
    "    elif not rankdist and not wikibuzz:\n",
    "        results = mt.reg(fitset,'outcome',                      \n",
    "        ['inverse_avg'],\n",
    "        #fe_name= \"year\",\n",
    "        cluster='match_id',addcons=True)\n",
    "        params = [results.beta[-1], results.beta[0]]\n",
    "        #params= [constant        , inverse_avg    ]\n",
    "    print(results)\n",
    "    return params\n",
    "\n",
    "def simple_probability(params: pd.Series,\n",
    "                         inverse_odds: float):\n",
    "    y_hat = params[0] + params[1]*inverse_odds\n",
    "    return y_hat\n",
    "\n",
    "def estimate_probability(params: pd.Series,\n",
    "                         inverse_odds: float,\n",
    "                         rankdist: float = None,\n",
    "                         wikibuzz: float = None) -> float:\n",
    "    if rankdist and wikibuzz:\n",
    "        y_hat = params[0] + params[-3]*inverse_odds + params[-2]*rankdist + params[-1]*wikibuzz\n",
    "    if wikibuzz and not rankdist:\n",
    "        y_hat = params[0] + params[-2]*inverse_odds + params[-1]*wikibuzz\n",
    "    if rankdist and not wikibuzz:\n",
    "        y_hat = params[0] + params[-2] * inverse_odds + params[-1] * rankdist\n",
    "    if not rankdist and not wikibuzz:\n",
    "        y_hat = params[0] + params[1]*inverse_odds\n",
    "    return y_hat\n",
    "\n",
    "def kelly_criterion(odds_implied_prob, y_hat):\n",
    "    odds = 1/odds_implied_prob\n",
    "    k = max(y_hat - ((1 - y_hat)/(odds - 1)), 0)\n",
    "    return k\n",
    "\n",
    "def profit_loss(kelly, odds_implied_prob, outcome):\n",
    "    odds = 1 / odds_implied_prob\n",
    "    if outcome == 1:\n",
    "        PnL = kelly*odds - kelly\n",
    "    if outcome == 0:\n",
    "        PnL = -kelly\n",
    "    return PnL\n",
    "\n",
    "def show_results(testset, params, odds, rankdist: bool = True, wikibuzz: bool = True): # Odds = \"avg\", \"best\", \"b365\"\n",
    "\n",
    "    # Estimate Probability.\n",
    "    if rankdist and wikibuzz:\n",
    "        testset['model_est_prob'] = [estimate_probability(params, row[0], row[1], row[2]) for row in zip(testset['inverse_avg'],\n",
    "                                                                                                         testset['rankdist'],\n",
    "                                                                                                         testset['wikibuzz'])]\n",
    "    elif wikibuzz and not rankdist:\n",
    "        testset['model_est_prob'] = [estimate_probability(params, inverse_odds=row[0], wikibuzz=row[1]) for row in zip(testset['inverse_avg'],\n",
    "                                                                                                                       testset['wikibuzz'])]\n",
    "    elif rankdist and not wikibuzz:\n",
    "        testset['model_est_prob'] = [estimate_probability(params, inverse_odds=row[0], rankdist=row[1]) for row in zip(testset['inverse_avg'],\n",
    "                                                                                                                       testset['rankdist'])]\n",
    "    elif not rankdist and not wikibuzz:\n",
    "        testset['model_est_prob'] = [simple_probability(params, inverse_odds=x) for x in testset['inverse_avg']]          \n",
    "    # Determine kelly bet size.\n",
    "    testset['kelly_betsize'] = [kelly_criterion(row[0], row[1]) for row in zip(testset['inverse_{}'.format(odds)],\n",
    "                                                                               testset['model_est_prob'])]\n",
    "    # Calculate return for the bet.\n",
    "    testset['PnL'] = [profit_loss(row[0], row[1], row[2]) for row in zip(testset['kelly_betsize'],testset['inverse_{}'.format(odds)],\n",
    "                                                                         testset['outcome'])]\n",
    "\n",
    "    print('Bets considered (2 * Matches): '+str(len(testset[testset['inverse_{}'.format(odds)].notna()])))\n",
    "    print('Number of bets placed: '+str(len(testset.loc[(testset[\"PnL\"].notna()) & testset[\"PnL\"] != 0])))\n",
    "    print(\"Mean overround (%): \"+str((testset.sort_values(by=\"match_id\")[\"inverse_{}\".format(odds)].rolling(2).sum()[1::2].mean()-1)*100))\n",
    "    print('Absolute amount bet: '+str(testset['kelly_betsize'].sum()))\n",
    "    print('Absolute return: '+str(testset['PnL'].sum()))\n",
    "    print('ROI (%): '+str((((testset['PnL'].sum() + testset['kelly_betsize'].sum())/testset['kelly_betsize'].sum())-1)*100))\n",
    "\n",
    "def plot_results():\n",
    "    testset['Cum_PnL'] = testset['PnL'].cumsum() * 100\n",
    "    plt.rcParams.update({'font.size': 16})\n",
    "    fig, ax = plt.subplots(1, 1, figsize=(6, 6))\n",
    "    testset.plot('date', 'Cum_PnL', ax=ax, linewidth=2.5)\n",
    "    \n",
    "    ax.set_ylabel('Absolute Return (%)')\n",
    "    ax.set_xlabel('Date')\n",
    "    ax.get_legend().remove()\n",
    "    fig.autofmt_xdate()\n",
    "    \n",
    "    ax.set_ylim(-100, 200)\n",
    "    plt.axhline(y=0, color='grey').set_linewidth(2.5)\n",
    "    \n",
    "    plt.show()\n",
    "    \n",
    "def correct_kelly_results(odds, rankdist: bool = True, wikibuzz: bool = True): # Odds = \"avg\", \"best\", \"b365\"\n",
    "    \n",
    "    params = fit_regression(rankdist=rankdist,wikibuzz=wikibuzz)\n",
    "    show_results(testset, params, odds, rankdist=rankdist, wikibuzz=wikibuzz)\n",
    "    \n",
    "    testset['bankroll_after'] = testset['PnL'] + 1\n",
    "    testset['bankroll_after'] = testset['bankroll_after'].cumprod()\n",
    "    testset['bankroll_before'] = testset.bankroll_after.shift(1)\n",
    "    testset['betsize_of_inital_bankroll'] = testset['kelly_betsize'] * testset['bankroll_before']\n",
    "    testset['pnl_of_initial_bankroll'] = testset['PnL'] * testset['bankroll_before']\n",
    "    print(\"---------------\")\n",
    "    print(\"*Correct Kelly*\")\n",
    "    print('Bets considered (2 * Matches): '+str(len(testset[testset['inverse_{}'.format(odds)].notna()])))\n",
    "    print('Number of bets placed: '+str(len(testset.loc[(testset[\"PnL\"].notna()) & testset[\"PnL\"] != 0])))\n",
    "    print(\"Mean overround (%): \"+str((testset.sort_values(by=\"match_id\")[\"inverse_{}\".format(odds)].rolling(2).sum()[1::2].mean()-1)*100))\n",
    "    print('Absolute amount bet: ' + str(testset['betsize_of_inital_bankroll'].sum()))\n",
    "    print('Absolute return: ' + str(testset['pnl_of_initial_bankroll'].sum()))\n",
    "    print('ROI (%): ' + str((((testset['pnl_of_initial_bankroll'].sum() + testset['betsize_of_inital_bankroll'].sum()) / testset[\n",
    "    'betsize_of_inital_bankroll'].sum()) - 1)*100))\n",
    "    \n",
    "    \n",
    "def correct_kelly_plot_results():\n",
    "    testset[\"Cum_PnL\"] = (testset[\"bankroll_after\"] -1) * 100\n",
    "    plt.rcParams.update({'font.size': 16})\n",
    "    fig, ax = plt.subplots(1, 1, figsize=(6, 6))\n",
    "    testset.plot('date', 'Cum_PnL', ax=ax, linewidth=2.5)\n",
    "    ax.set_ylabel('Absolute Return (%)')\n",
    "    ax.set_xlabel('Date')\n",
    "    ax.get_legend().remove()\n",
    "    fig.autofmt_xdate()\n",
    "    ax.set_ylim(-100, 200)\n",
    "    plt.axhline(y=0, color='grey').set_linewidth(2.5)\n",
    "    \n",
    "    plt.show()"
   ],
   "metadata": {
    "collapsed": false
   }
  },
  {
   "cell_type": "code",
   "execution_count": 35,
   "outputs": [
    {
     "name": "stdout",
     "output_type": "stream",
     "text": [
      "=======================================================\n",
      "Dependent variable:\toutcome\n",
      "N:\t\t\t11503\n",
      "R-squared:\t\t0.1590\n",
      "Estimation method:\tOLS\n",
      "VCE method:\t\tCluster\n",
      "  Cluster variable:\t  match_id\n",
      "  No. of clusters:\t  5753\n",
      "=======================================================\n",
      "             coeff    se      t   p>t CI_low CI_high\n",
      "inverse_avg  1.019 0.030 33.586 0.000  0.960   1.078\n",
      "rankdist     0.051 0.036  1.420 0.156 -0.019   0.122\n",
      "wikibuzz    -0.000 0.000 -1.335 0.182 -0.000   0.000\n",
      "_cons       -0.038 0.016 -2.351 0.019 -0.069  -0.006\n",
      "=======================================================\n",
      "\n",
      "Bets considered (2 * Matches): 15577\n",
      "Number of bets placed: 415\n",
      "Mean overround (%): 5.893271577100623\n",
      "Absolute amount bet: 10.128294007972455\n",
      "Absolute return: 0.06706214054945839\n",
      "ROI (%): 0.6621267164704125\n"
     ]
    },
    {
     "data": {
      "text/plain": "<Figure size 432x432 with 1 Axes>",
      "image/png": "[encoded data removed]"
     },
     "metadata": {
      "needs_background": "light"
     },
     "output_type": "display_data"
    }
   ],
   "source": [
    "params = fit_regression(rankdist=True,wikibuzz=True)\n",
    "show_results(testset, params=params, odds=\"b365\", rankdist=True, wikibuzz=True)\n",
    "plot_results()"
   ],
   "metadata": {
    "collapsed": false
   }
  },
  {
   "cell_type": "code",
   "execution_count": 27,
   "outputs": [
    {
     "name": "stdout",
     "output_type": "stream",
     "text": [
      "=======================================================\n",
      "Dependent variable:\toutcome\n",
      "N:\t\t\t10816\n",
      "R-squared:\t\t0.1595\n",
      "Estimation method:\tOLS\n",
      "VCE method:\t\tCluster\n",
      "  Cluster variable:\t  match_id\n",
      "  No. of clusters:\t  5408\n",
      "=======================================================\n",
      "             coeff    se      t   p>t CI_low CI_high\n",
      "inverse_avg  1.043 0.033 31.283 0.000  0.977   1.108\n",
      "rankdist     0.068 0.041  1.675 0.094 -0.012   0.147\n",
      "wikibuzz     0.008 0.005  1.530 0.126 -0.002   0.018\n",
      "_cons       -0.050 0.018 -2.847 0.004 -0.085  -0.016\n",
      "=======================================================\n",
      "\n",
      "Bets considered (2 * Matches): 13885\n",
      "Number of bets placed: 7148\n",
      "Mean overround (%): -0.5122072416349877\n",
      "Absolute return: 8.841301701307243\n",
      "Absolute amount bet: 274.80352210138\n",
      "ROI (%): 3.2173174614718247\n"
     ]
    }
   ],
   "source": [
    "params = fit_regression(rankdist=True)\n",
    "show_results(testset, params=params, odds=\"best\", rankdist=True)\n",
    "# Set initial bankroll\n",
    "initial_bankroll = 1000\n",
    "\n",
    "# Calculate cumulative returns with changing bankroll\n",
    "def calculate_cumulative_returns(data, initial_bankroll):\n",
    "    data['cumulative_pnl'] = 0.0\n",
    "    current_bankroll_wrong = initial_bankroll\n",
    "    current_bankroll_proper = initial_bankroll\n",
    "    \n",
    "    for i, row in data.iterrows():\n",
    "        frac_kelly = row['PnL'] * 0.5\n",
    "        \n",
    "        current_bankroll_wrong += frac_kelly * initial_bankroll\n",
    "        data.at[i, 'cumulative_pnl_wrong'] = current_bankroll_wrong\n",
    "\n",
    "        current_bankroll_proper += frac_kelly * current_bankroll_proper\n",
    "        data.at[i, 'cumulative_pnl_proper'] = current_bankroll_proper\n",
    "\n",
    "    return data\n",
    "\n",
    "cumpnls_wrong = []\n",
    "cumpnls_proper = []\n",
    "strategy_stops_counter = 0\n",
    "\n",
    "for i in range(0, 10000):\n",
    "    \n",
    "    testset_it = testset.sample(frac=0.75).reset_index(drop=True)\n",
    "    # Call the function with your data\n",
    "    result = calculate_cumulative_returns(testset_it, initial_bankroll)\n",
    "    min_index = result[\"cumulative_pnl_wrong\"].idxmin()\n",
    "    if result.loc[min_index, 'cumulative_pnl_wrong'] < 0:\n",
    "        cumpnls_wrong.append(0)\n",
    "    elif (result.loc[min_index, 'cumulative_pnl_wrong'] > 0) & ((result.loc[min_index, 'kelly_betsize'] * 1000 ) > result.loc[min_index, 'cumulative_pnl_wrong']):\n",
    "        cumpnls_wrong.append(result.loc[min_index, 'cumulative_pnl_wrong'])\n",
    "        strategy_stops_counter += 1\n",
    "    else:\n",
    "        cumpnls_wrong.append(result[\"cumulative_pnl_wrong\"].iloc[-1])\n",
    "\n",
    "    cumpnls_proper.append(result[\"cumulative_pnl_proper\"].iloc[-1])\n",
    "    "
   ],
   "metadata": {
    "collapsed": false
   }
  },
  {
   "cell_type": "code",
   "execution_count": 29,
   "outputs": [],
   "source": [
    "# Saving the lists to a file using pickle\n",
    "# with open('half_kelly_lists.pickle', 'wb') as file:\n",
    "#     pickle.dump(cumpnls_wrong, file)\n",
    "#     pickle.dump(cumpnls_proper, file)\n",
    "\n",
    "#Loading the lists from the file using pickle\n",
    "with open('half_kelly_lists.pickle', 'rb') as file:\n",
    "    cumpnls_wrong = pickle.load(file)\n",
    "    cumpnls_proper = pickle.load(file)\n",
    "    \n",
    "cumpnls_wrong_returns = [((x- 1000)) for x in cumpnls_wrong]\n",
    "cumpnls_proper_returns = [((x- 1000)) for x in cumpnls_proper]"
   ],
   "metadata": {
    "collapsed": false
   }
  },
  {
   "cell_type": "code",
   "execution_count": 24,
   "outputs": [
    {
     "name": "stdout",
     "output_type": "stream",
     "text": [
      "3110\n"
     ]
    },
    {
     "ename": "NameError",
     "evalue": "name 'strategy_stops_counter' is not defined",
     "output_type": "error",
     "traceback": [
      "\u001B[1;31m---------------------------------------------------------------------------\u001B[0m",
      "\u001B[1;31mNameError\u001B[0m                                 Traceback (most recent call last)",
      "Cell \u001B[1;32mIn[24], line 4\u001B[0m\n\u001B[0;32m      1\u001B[0m count \u001B[38;5;241m=\u001B[39m \u001B[38;5;28msum\u001B[39m(\u001B[38;5;241m1\u001B[39m \u001B[38;5;28;01mfor\u001B[39;00m x \u001B[38;5;129;01min\u001B[39;00m cumpnls_proper_returns \u001B[38;5;28;01mif\u001B[39;00m x \u001B[38;5;241m<\u001B[39m \u001B[38;5;241m-\u001B[39m\u001B[38;5;241m750\u001B[39m)\n\u001B[0;32m      3\u001B[0m \u001B[38;5;28mprint\u001B[39m(count) \u001B[38;5;66;03m# output: 1\u001B[39;00m\n\u001B[1;32m----> 4\u001B[0m \u001B[38;5;28mprint\u001B[39m(strategy_stops_counter)\n",
      "\u001B[1;31mNameError\u001B[0m: name 'strategy_stops_counter' is not defined"
     ]
    }
   ],
   "source": [
    "count = sum(1 for x in cumpnls_proper_returns if x < -750)\n",
    "\n",
    "print(count) # output: 1\n",
    "print(strategy_stops_counter)"
   ],
   "metadata": {
    "collapsed": false
   }
  },
  {
   "cell_type": "code",
   "execution_count": 33,
   "outputs": [
    {
     "name": "stdout",
     "output_type": "stream",
     "text": [
      "Proper Bust Rate: 0\n",
      "Proper >75% Loss Rate: 15\n",
      "Proper Kelly Mean Returns: 6.026838623887058\n",
      "Proper Standard Deviation: 8.004707463929043\n",
      "Proper Sharpe Ratio: 0.7529117898493239\n",
      "-----\n",
      "Improper Bust Rate: 969\n",
      "Improper >75% Loss Rate: 1118\n",
      "Improper Kelly Mean Returns: 2.889511025975152\n",
      "Improper Standard Deviation: 1.6441616979058615\n",
      "Improper Sharpe Ratio: 1.7574372579384794\n"
     ]
    }
   ],
   "source": [
    "proper_75loss = sum(1 for x in cumpnls_proper_returns if x < -750)\n",
    "improper_75loss = sum(1 for x in cumpnls_wrong_returns if x < -750)\n",
    "proper_bustrate = sum(1 for x in cumpnls_proper_returns if x == -1000)\n",
    "improper_bustrate = sum(1 for x in cumpnls_wrong_returns if x == -1000)\n",
    "\n",
    "print(\"Proper Bust Rate: \"+str(proper_bustrate))\n",
    "print(\"Proper >75% Loss Rate: \"+str(proper_75loss))\n",
    "print(\"Proper Kelly Mean Returns: \"+str(s.mean(cumpnls_proper_returns)/1000))\n",
    "print(\"Proper Standard Deviation: \"+str(np.std(cumpnls_proper_returns)/1000))\n",
    "print(\"Proper Sharpe Ratio: \"+str((s.mean(cumpnls_proper_returns) / np.std(cumpnls_proper_returns))))\n",
    "print(\"-----\")\n",
    "print(\"Improper Bust Rate: \"+str(improper_bustrate))\n",
    "print(\"Improper >75% Loss Rate: \"+str(improper_75loss))\n",
    "print(\"Improper Kelly Mean Returns: \"+str(s.mean(cumpnls_wrong_returns)/1000))\n",
    "print(\"Improper Standard Deviation: \"+str(np.std(cumpnls_wrong_returns)/1000))\n",
    "print(\"Improper Sharpe Ratio: \"+str((s.mean(cumpnls_wrong_returns) / np.std(cumpnls_wrong_returns))))\n",
    "#strategystopscounter = 152"
   ],
   "metadata": {
    "collapsed": false
   }
  },
  {
   "cell_type": "code",
   "execution_count": null,
   "outputs": [],
   "source": [],
   "metadata": {
    "collapsed": false
   }
  }
 ],
 "metadata": {
  "kernelspec": {
   "display_name": "Python 3",
   "language": "python",
   "name": "python3"
  },
  "language_info": {
   "codemirror_mode": {
    "name": "ipython",
    "version": 2
   },
   "file_extension": ".py",
   "mimetype": "text/x-python",
   "name": "python",
   "nbconvert_exporter": "python",
   "pygments_lexer": "ipython2",
   "version": "2.7.6"
  }
 },
 "nbformat": 4,
 "nbformat_minor": 0
}
