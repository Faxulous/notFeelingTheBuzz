{
 "cells": [
  {
   "cell_type": "code",
   "execution_count": 1,
   "outputs": [],
   "source": [
    "import pandas as pd\n",
    "import seaborn as sns\n",
    "import statsmodels.formula.api as sm\n",
    "import matplotlib.pyplot as plt\n",
    "import econtools.metrics as mt\n",
    "import numpy as np\n",
    "from econtools import read, outreg, table_statrow, write_notes\n",
    "import matplotlib.ticker as mtick\n",
    "import matplotlib.dates as mdates\n",
    "plt.style.use('seaborn-v0_8-deep')"
   ],
   "metadata": {
    "collapsed": false
   }
  },
  {
   "cell_type": "code",
   "execution_count": 2,
   "metadata": {
    "collapsed": true
   },
   "outputs": [
    {
     "name": "stdout",
     "output_type": "stream",
     "text": [
      "Fit set rows: 10826\n",
      "Test set rows: 13885\n"
     ]
    }
   ],
   "source": [
    "original_df = pd.read_csv(\n",
    "    r'C:\\Users\\faxul\\Google Drive\\RamirezRepStudy\\thesisminusdata\\TradeCode\\paper_repstudy\\notFeelingTheBuzz\\Datafiles\\clegg_matches_cleaned.csv')\n",
    "fitset = original_df[~(original_df['date'] > '2019-01-00')].copy()\n",
    "testset = original_df[(original_df['date'] > '2019-01-00')].copy()\n",
    "\n",
    "testset = testset.dropna(subset=[\"inverse_b365\", \"inverse_best\"])\n",
    "filtered_df = testset[testset['inverse_best'] > testset['inverse_b365']]\n",
    "filtered_df\n",
    "testset.drop(filtered_df.index, inplace=True)\n",
    "\n",
    "testset.reset_index(inplace=True)\n",
    "print('Fit set rows: ' + str(len(fitset)))\n",
    "print('Test set rows: ' + str(len(testset)))"
   ]
  },
  {
   "cell_type": "code",
   "execution_count": 3,
   "outputs": [],
   "source": [
    "def fit_regression(rankdist: bool = True):\n",
    "    if rankdist:\n",
    "        results = mt.reg(fitset,'outcome',                      \n",
    "        ['inverse_avg', 'rankdist', 'wikibuzz'],\n",
    "        #fe_name= \"year\",\n",
    "        cluster='match_id',addcons=True\n",
    "        )\n",
    "        params = [results.beta[-1], results.beta[0], results.beta[1], results.beta[2]]\n",
    "        #params= [constant        , inverse_avg    , rankdist       , wikibuzz       ]\n",
    "        print(results)\n",
    "    else:\n",
    "        # No RankDist variable\n",
    "        results = mt.reg(fitset,'outcome',\n",
    "        ['inverse_avg', 'wikibuzz'],\n",
    "        #fe_name= \"year\",\n",
    "        cluster='match_id',addcons=True\n",
    "        )\n",
    "        params = [results.beta[-1], results.beta[0], results.beta[1]]\n",
    "        print(results)\n",
    "    return params\n",
    "\n",
    "def estimate_probability(params: pd.Series,\n",
    "                         inverse_odds: float,\n",
    "                         rankdist: float = None,\n",
    "                         wikibuzz: float = None) -> float:\n",
    "    if (rankdist is not None) & (wikibuzz is not None):\n",
    "        y_hat = params[0] + params[-3]*inverse_odds + params[-2]*rankdist + params[-1]*wikibuzz\n",
    "    if (rankdist is not None) & (wikibuzz is None):\n",
    "        y_hat = params[0] + params[-2] * inverse_odds + params[-1] * rankdist\n",
    "    if (wikibuzz is not None) & (rankdist is None):\n",
    "        y_hat = params[0] + params[-2]*inverse_odds + params[-1]*wikibuzz\n",
    "    return y_hat\n",
    "\n",
    "def kelly_criterion(odds_implied_prob, y_hat):\n",
    "    odds = 1/odds_implied_prob\n",
    "    k = max(y_hat - ((1 - y_hat)/(odds - 1)), 0)\n",
    "    return k \n",
    "\n",
    "def profit_loss(kelly, odds_implied_prob, outcome):\n",
    "    odds = 1 / odds_implied_prob\n",
    "    if outcome == 1:\n",
    "        PnL = kelly*odds - kelly\n",
    "    if outcome == 0:\n",
    "        PnL = -kelly\n",
    "    return PnL\n",
    "\n",
    "def show_results(testset, params, odds, rankdist: bool = True): # Odds = \"avg\", \"best\", \"b365\"\n",
    "\n",
    "    # Estimate Probability.\n",
    "    if rankdist:\n",
    "        testset['model_est_prob'] = [estimate_probability(params, row[0], row[1], row[2]) for row in zip(testset['inverse_avg'],\n",
    "                                                                                                         testset['rankdist'],\n",
    "                                                                                                         testset['wikibuzz'])]\n",
    "    else:\n",
    "        testset['model_est_prob'] = [estimate_probability(params, inverse_odds=row[0], wikibuzz=row[1]) for row in zip(testset['inverse_avg'],\n",
    "                                                                                                                       testset['wikibuzz'])]\n",
    "    # Determine kelly bet size.\n",
    "    testset['kelly_betsize'] = [kelly_criterion(row[0], row[1]) for row in zip(testset['inverse_{}'.format(odds)],\n",
    "                                                                               testset['model_est_prob'])]\n",
    "    # Calculate return for the bet.\n",
    "    testset['PnL'] = [profit_loss(row[0], row[1], row[2]) for row in zip(testset['kelly_betsize'],testset['inverse_{}'.format(odds)],\n",
    "                                                                         testset['outcome'])]\n",
    "\n",
    "    print('Bets considered (2 * Matches): '+str(len(testset[testset['inverse_{}'.format(odds)].notna()])))\n",
    "    print('Number of bets placed: '+str(len(testset.loc[(testset[\"PnL\"].notna()) & testset[\"PnL\"] != 0])))\n",
    "    print(\"Mean overround (%): \"+str((testset.sort_values(by=\"match_id\")[\"inverse_{}\".format(odds)].rolling(2).sum()[1::2].mean()-1)*100))\n",
    "    print('Absolute return: '+str(testset['PnL'].sum()))\n",
    "    print('Absolute amount bet: '+str(testset['kelly_betsize'].sum()))\n",
    "    print('ROI (%): '+str((((testset['PnL'].sum() + testset['kelly_betsize'].sum())/testset['kelly_betsize'].sum())-1)*100))\n",
    "\n",
    "def plot_results():\n",
    "    testset['Cum_PnL'] = testset['PnL'].cumsum() * 100\n",
    "    testset[\"bankroll_after\"] += -1 \n",
    "    testset[\"bankroll_after\"] *= 100\n",
    "    \n",
    "    plt.rcParams.update({'font.size': 11})\n",
    "    fig, ax = plt.subplots(1, 1, figsize=(6, 6))\n",
    "    testset.plot('date', ['Cum_PnL', \"bankroll_after\"], ax=ax, linewidth=1.5)\n",
    "    ax.set_ylabel('Cumulative Profit (%)')\n",
    "    ax.set_xlabel('Date')\n",
    "    ax.get_legend().remove()\n",
    "    fig.autofmt_xdate()\n",
    "    plt.show()\n",
    "    \n",
    "def correct_kelly_results(odds, rankdist: bool = True): # Odds = \"avg\", \"best\", \"b365\"\n",
    "    \n",
    "    if rankdist == True:\n",
    "        params = fit_regression(rankdist=True)\n",
    "    else:\n",
    "        params = fit_regression(rankdist=False)\n",
    "    show_results(testset, params, odds, rankdist)\n",
    "    \n",
    "    testset[\"fixed_kelly\"] = testset['kelly_betsize']\n",
    "    \n",
    "    testset['bankroll_after'] = testset['PnL'] + 1\n",
    "    testset['bankroll_after'] = testset['bankroll_after'].cumprod()\n",
    "    testset['bankroll_before'] = testset.bankroll_after.shift(1)\n",
    "    testset['betsize_of_inital_bankroll'] = testset['kelly_betsize'] * testset['bankroll_before'] \n",
    "    testset['pnl_of_initial_bankroll'] = testset['PnL'] * testset['bankroll_before'] \n",
    "    \n",
    "    print(\"---------------\")\n",
    "    print(\"*Correct Kelly*\")\n",
    "    print('Bets considered (2 * Matches): '+str(len(testset[testset['inverse_{}'.format(odds)].notna()])))\n",
    "    print('Number of bets placed: '+str(len(testset.loc[(testset[\"PnL\"].notna()) & testset[\"PnL\"] != 0])))\n",
    "    print(\"Mean overround (%): \"+str((testset.sort_values(by=\"match_id\")[\"inverse_{}\".format(odds)].rolling(2).sum()[1::2].mean()-1)*100))\n",
    "    print('Absolute return: ' + str(testset['pnl_of_initial_bankroll'].sum()))\n",
    "    print('Absolute amount bet: ' + str(testset['betsize_of_inital_bankroll'].sum()))\n",
    "    print('ROI (%): ' + str((((testset['pnl_of_initial_bankroll'].sum() + testset['betsize_of_inital_bankroll'].sum()) / testset[\n",
    "    'betsize_of_inital_bankroll'].sum()) - 1)*100))"
   ],
   "metadata": {
    "collapsed": false
   }
  },
  {
   "cell_type": "code",
   "execution_count": 10,
   "outputs": [
    {
     "name": "stdout",
     "output_type": "stream",
     "text": [
      "=======================================================\n",
      "Dependent variable:\toutcome\n",
      "N:\t\t\t10816\n",
      "R-squared:\t\t0.1595\n",
      "Estimation method:\tOLS\n",
      "VCE method:\t\tCluster\n",
      "  Cluster variable:\t  match_id\n",
      "  No. of clusters:\t  5408\n",
      "=======================================================\n",
      "             coeff    se      t   p>t CI_low CI_high\n",
      "inverse_avg  1.043 0.033 31.283 0.000  0.977   1.108\n",
      "rankdist     0.068 0.041  1.675 0.094 -0.012   0.147\n",
      "wikibuzz     0.008 0.005  1.530 0.126 -0.002   0.018\n",
      "_cons       -0.050 0.018 -2.847 0.004 -0.085  -0.016\n",
      "=======================================================\n",
      "\n",
      "Bets considered (2 * Matches): 13885\n",
      "Number of bets placed: 7148\n",
      "Mean overround (%): -0.5122072416349877\n",
      "Absolute return: 8.841301701307243\n",
      "Absolute amount bet: 274.80352210138\n",
      "ROI (%): 3.2173174614718247\n"
     ]
    }
   ],
   "source": [
    "params = fit_regression(rankdist=True)\n",
    "show_results(testset, params=params, odds=\"best\", rankdist=True)\n",
    "# Set initial bankroll\n",
    "initial_bankroll = 1000\n",
    "\n",
    "# Calculate cumulative returns with changing bankroll\n",
    "def calculate_cumulative_returns(data, initial_bankroll):\n",
    "    data['cumulative_pnl'] = 0.0\n",
    "    current_bankroll_wrong = initial_bankroll\n",
    "    current_bankroll_proper = initial_bankroll\n",
    "    \n",
    "    for i, row in data.iterrows():\n",
    "        current_bankroll_wrong += row['PnL'] * initial_bankroll\n",
    "        data.at[i, 'cumulative_pnl_wrong'] = current_bankroll_wrong\n",
    "        \n",
    "        \n",
    "        frac_kelly = row['PnL'] * 0.3333\n",
    "        current_bankroll_proper += frac_kelly * current_bankroll_proper\n",
    "        data.at[i, 'cumulative_pnl_proper'] = current_bankroll_proper\n",
    "\n",
    "    return data\n",
    "\n",
    "cumpnls_wrong = []\n",
    "cumpnls_proper = []\n",
    "\n",
    "for i in range(0, 10000):\n",
    "    \n",
    "    testset_it = testset.sample(frac=0.75).reset_index(drop=True)\n",
    "    # Call the function with your data\n",
    "    result = calculate_cumulative_returns(testset_it, initial_bankroll)\n",
    "    min_index = result[\"cumulative_pnl_wrong\"].idxmin()\n",
    "    if result.loc[min_index, 'cumulative_pnl_wrong'] < 0:\n",
    "        cumpnls_wrong.append(0)\n",
    "    elif (result.loc[min_index, 'cumulative_pnl_wrong'] > 0) & ((result.loc[min_index, 'kelly_betsize'] * 1000 ) > result.loc[min_index, 'cumulative_pnl_wrong']):\n",
    "        cumpnls_wrong.append(result.loc[min_index, 'cumulative_pnl_wrong'])\n",
    "    else:\n",
    "        cumpnls_wrong.append(result[\"cumulative_pnl_wrong\"].iloc[-1])\n",
    "\n",
    "    cumpnls_proper.append(result[\"cumulative_pnl_proper\"].iloc[-1])\n",
    "    "
   ],
   "metadata": {
    "collapsed": false
   }
  },
  {
   "cell_type": "code",
   "execution_count": 4,
   "outputs": [],
   "source": [
    "import pickle\n",
    "\n",
    "# Saving the lists to a file using pickle\n",
    "# with open('lists.pickle', 'wb') as file:\n",
    "#     pickle.dump(cumpnls_wrong, file)\n",
    "#     pickle.dump(cumpnls_proper, file)\n",
    "\n",
    "#Loading the lists from the file using pickle\n",
    "with open('lists.pickle', 'rb') as file:\n",
    "    cumpnls_wrong = pickle.load(file)\n",
    "    cumpnls_proper = pickle.load(file)"
   ],
   "metadata": {
    "collapsed": false
   }
  },
  {
   "cell_type": "code",
   "execution_count": 7,
   "outputs": [
    {
     "data": {
      "text/plain": "<Figure size 432x288 with 1 Axes>",
      "image/png": "[encoded data removed]"
     },
     "metadata": {
      "needs_background": "light"
     },
     "output_type": "display_data"
    }
   ],
   "source": [
    "import seaborn as sns\n",
    "\n",
    "sns.kdeplot(cumpnls_wrong_returns, label=\"Wrong\")\n",
    "sns.kdeplot(cumpnls_proper_returns, label=\"Proper\")\n",
    "\n",
    "# Set the title and labels\n",
    "plt.title('Profit/Loss')\n",
    "plt.xlabel('Values')\n",
    "plt.ylabel('Density')\n",
    "plt.legend()\n",
    "\n",
    "# Show the plot\n",
    "plt.show()"
   ],
   "metadata": {
    "collapsed": false
   }
  },
  {
   "cell_type": "code",
   "execution_count": 6,
   "outputs": [],
   "source": [
    "cumpnls_wrong_returns = [((x- 1000)) for x in cumpnls_wrong]\n",
    "cumpnls_proper_returns = [((x- 1000)) for x in cumpnls_proper]"
   ],
   "metadata": {
    "collapsed": false
   }
  },
  {
   "cell_type": "code",
   "execution_count": 12,
   "outputs": [
    {
     "name": "stdout",
     "output_type": "stream",
     "text": [
      "3665\n"
     ]
    }
   ],
   "source": [
    "count = sum(1 for x in cumpnls_wrong if x < 1000)\n",
    "\n",
    "print(count) # output: 1"
   ],
   "metadata": {
    "collapsed": false
   }
  },
  {
   "cell_type": "code",
   "execution_count": 10,
   "outputs": [
    {
     "data": {
      "text/plain": "[0,\n 8686.101519265125,\n 9800.42350855441,\n 0,\n 2737.886638711604,\n 5240.277421698322,\n 0,\n 6780.899762121468,\n 9111.005645237232,\n 10199.24101120673,\n 7672.738741199018,\n 0,\n 7569.289330119991,\n 0,\n 2656.744076229791,\n 4287.706511924427,\n 6143.469734564707,\n 7462.878400459249,\n 8007.5438809891675,\n 0,\n 8135.65293977379,\n 7964.674910433527,\n 9813.374384041455,\n 9830.101117237444,\n 8629.786182665643,\n 8970.152131454708,\n 9489.438329304365,\n 0,\n 0,\n 0,\n 0,\n 9313.787007062943,\n 8.958072621469924,\n 0,\n 7493.157010316931,\n 0,\n 0,\n 8871.501982007521,\n 0,\n 0,\n 6727.498781648998,\n 0,\n 47.940580819528805,\n 8544.445652868813,\n 7008.858689102084,\n 0,\n 7844.689695507826,\n 0,\n 6067.910470406889,\n 9273.0465413905,\n 0,\n 0,\n 0,\n 2074.696537966779,\n 0,\n 5789.073455129956,\n 8447.286562318877,\n 10449.402893703602,\n 9603.484333624341,\n 0,\n 0,\n 0,\n 12307.656301938632,\n 0,\n 8779.03747060783,\n 8547.063025377922,\n 6301.720728607566,\n 0,\n 7004.211364345693,\n 7444.77345602522,\n 5653.99717596867,\n 0,\n 8573.648035136648,\n 7352.115461353162,\n 7595.446136086208,\n 0,\n 0,\n 35.55344099431174,\n 67.80248765071931,\n 11088.041490519197,\n 6800.834787004407,\n 7734.984321596344,\n 11211.417399625394,\n 9943.681227202671,\n 5267.895331041555,\n 6697.195959096141,\n 5272.872133543188,\n 8777.746802257929,\n 8162.008983474935,\n 8295.832656355748,\n 0,\n 7896.398818887187,\n 8388.021864370665,\n 6951.818038393251,\n 0,\n 0,\n 11110.447838661541,\n 10745.721946821164,\n 0,\n 0,\n 7409.092169454357,\n 7047.1904585424445,\n 0,\n 9684.944040120117,\n 0,\n 0,\n 0,\n 9267.526357683113,\n 0,\n 0,\n 8591.729297347263,\n 0,\n 9257.144369759244,\n 7752.048615376061,\n 9174.795131045126,\n 7581.312423614232,\n 5490.987088156728,\n 0,\n 8279.47161997733,\n 6517.36691859773,\n 0,\n 6053.61011838148,\n 0,\n 6114.758477311215,\n 0,\n 8737.269435029828,\n 6123.851534977224,\n 5990.876467698174,\n 8930.5372885709,\n 6903.232216729187,\n 5873.895590030306,\n 0,\n 8290.643208581634,\n 6410.253331729711,\n 9719.446907441748,\n 0,\n 8585.961503658365,\n 8958.57552486615,\n 0,\n 10009.725453775358,\n 0,\n 7851.037924969618,\n 0,\n 9208.014883879048,\n 10240.781430162537,\n 5420.1804609279025,\n 0,\n 7807.179284326324,\n 11189.240842378493,\n 0,\n 0,\n 0,\n 10055.597617319521,\n 9436.975186566238,\n 0,\n 8208.141863319232,\n 8201.197358610782,\n 6255.662199519553,\n 7593.938057858263,\n 0,\n 6354.162772693189,\n 0,\n 6135.966830941823,\n 0,\n 5287.972788276839,\n 7900.840943356048,\n 0,\n 12915.928374671541,\n 0,\n 8096.9610116692575,\n 4883.126554394362,\n 6047.499316241998,\n 4361.169383455758,\n 7038.696665917687,\n 7736.99870175357,\n 4706.981818034226,\n 0,\n 0,\n 4795.251454824368,\n 0,\n 10306.225179229483,\n 9109.483625253155,\n 6181.902575157616,\n 7402.641652132456,\n 0,\n 9246.77321037782,\n 4522.745205644911,\n 0,\n 0,\n 6002.785013160471,\n 8998.49566786579,\n 10608.031472962652,\n 9047.792810500601,\n 8475.572867673116,\n 6448.994111127493,\n 11805.804835580047,\n 8594.307137920016,\n 56.97501798386311,\n 0,\n 0,\n 7976.028692585781,\n 6081.235139315343,\n 35.754124435894994,\n 5644.404200479408,\n 6117.2425302681695,\n 3.3669787314393886,\n 8347.028383217812,\n 0,\n 7183.541836859915,\n 7010.872717226124,\n 5309.01852293396,\n 0,\n 9281.037775170107,\n 6597.539206555945,\n 7200.704472755817,\n 6033.020961147948,\n 9019.98599938554,\n 10089.951970381015,\n 0,\n 6764.684633521226,\n 0,\n 8504.648220321973,\n 11871.838025158386,\n 6392.8335622837385,\n 0,\n 7125.533221835391,\n 11170.612672359337,\n 4826.470457512212,\n 8996.313491239254,\n 5639.692178341027,\n 32.65578971265087,\n 8414.78792920647,\n 4220.7518056684185,\n 0,\n 8580.056442773226,\n 8883.609920752067,\n 0,\n 8079.903465890178,\n 8347.343002492255,\n 6913.190653426452,\n 7903.080005062355,\n 7877.151222571149,\n 4327.386025313675,\n 6138.239439734348,\n 6875.895967393983,\n 9350.544798979761,\n 0,\n 9142.67927737995,\n 0,\n 0,\n 8002.852168535567,\n 0,\n 0,\n 8888.381897939269,\n 6423.27491817003,\n 6992.042971254938,\n 0,\n 0,\n 0,\n 6309.847647347881,\n 0,\n 0,\n 11280.102562041746,\n 9458.027445211967,\n 10885.990106275613,\n 0,\n 9917.420295235606,\n 8910.857935187838,\n 7966.779312627412,\n 6181.527584134906,\n 8041.6050955788305,\n 0,\n 9107.59574772712,\n 0,\n 0,\n 48.55562924083377,\n 0,\n 6667.44237637745,\n 0,\n 7302.615941851896,\n 3157.2063834612577,\n 4948.106889559619,\n 7469.217707538243,\n 0,\n 0,\n 6342.896319784317,\n 2479.0215496004826,\n 0,\n 6776.753804826458,\n 8127.074806696249,\n 0,\n 8378.415716611238,\n 7523.781176841143,\n 0,\n 10496.212068363053,\n 6533.787275852161,\n 0,\n 0,\n 0,\n 6339.827552845211,\n 0,\n 0,\n 8993.346181936056,\n 7444.3434810679755,\n 0,\n 10609.202538672007,\n 0,\n 8676.911405035587,\n 0,\n 9335.469055397643,\n 9149.439778293838,\n 11116.931624732304,\n 0,\n 12308.650484257978,\n 0,\n 5996.898994741984,\n 5888.267284735667,\n 11020.40630840617,\n 0,\n 8412.1432215438,\n 6223.1219146596695,\n 9265.37844378549,\n 5546.947672680063,\n 7255.191260362676,\n 9096.472043964326,\n 0,\n 10613.793349781059,\n 0,\n 10.709132095809807,\n 7160.734384880578,\n 0,\n 11995.825149940207,\n 6552.734898814343,\n 7192.466643022721,\n 0,\n 8942.660593690209,\n 5697.367155352098,\n 6099.920587746611,\n 8396.423964742688,\n 8634.817821648765,\n 3210.2430965694193,\n 7485.686109824644,\n 0,\n 0,\n 5817.545246496707,\n 8349.029050065068,\n 6183.1985145943,\n 10850.395851548572,\n 8699.366975605499,\n 8.135039073999017,\n 8549.046274475893,\n 0,\n 10014.35397215711,\n 0,\n 6403.040081015209,\n 6641.722934025204,\n 0,\n 0,\n 7387.135600194307,\n 0,\n 7784.204392667234,\n 9359.909500462012,\n 0,\n 0,\n 0,\n 0,\n 0,\n 0,\n 0,\n 0,\n 9545.341213515956,\n 6310.7391075831565,\n 0,\n 7895.791860052578,\n 10325.413423969785,\n 9849.731123051419,\n 7507.859595428167,\n 0,\n 8343.632897089796,\n 5587.537001448252,\n 6554.023188775064,\n 0,\n 6617.203284049847,\n 6774.3492872838915,\n 0,\n 8080.888426050391,\n 6696.935846225395,\n 8526.729769986847,\n 9336.039060848825,\n 10323.344593749804,\n 5864.712345434843,\n 7296.9132427128925,\n 7946.025257446711,\n 0,\n 12491.324878230831,\n 9822.526080104564,\n 130.31610809661157,\n 0,\n 9738.653698405366,\n 10666.785752363921,\n 0,\n 11267.059914787087,\n 0,\n 0,\n 5260.2769264038,\n 0,\n 10058.367073157746,\n 6966.481242092792,\n 11868.671153536829,\n 9095.169709477894,\n 0,\n 6962.514624738357,\n 5753.85683993846,\n 8528.419843954207,\n 7545.543589734585,\n 8320.174632323478,\n 0,\n 8217.344223458957,\n 9154.897390459057,\n 6347.252490005427,\n 0,\n 7861.704714653135,\n 8616.995552490613,\n 29.64094068943848,\n 7828.529530234631,\n 6355.185848430405,\n 0,\n 0,\n 7927.600914331488,\n 6753.256276736868,\n 8787.173221461126,\n 10051.73802024478,\n 0,\n 0,\n 4796.837824052451,\n 0,\n 5041.368069120682,\n 0,\n 6961.372053735515,\n 6110.640294549926,\n 7987.468197859544,\n 0,\n 0,\n 11054.942226748108,\n 11177.871046005466,\n 0,\n 0,\n 5658.7872024458,\n 9982.296845184885,\n 0,\n 0,\n 0,\n 9290.06989198936,\n 0,\n 7598.856823244471,\n 6443.816347083359,\n 9209.629777576714,\n 0,\n 5896.3759078248195,\n 0,\n 3731.997783552977,\n 6581.639796183084,\n 0,\n 0,\n 4680.867026507919,\n 0,\n 4443.3132688190435,\n 7184.563070414096,\n 7841.932761742177,\n 6136.130028614887,\n 0,\n 8231.23214645378,\n 7710.943906952869,\n 5426.963922087188,\n 0,\n 0,\n 9547.197350507486,\n 8212.512502745156,\n 9698.582637493519,\n 8948.756895906263,\n 4641.041757679254,\n 9841.356898152642,\n 9392.951444112796,\n 4776.711930246801,\n 7760.760792661045,\n 190.95403915971784,\n 0,\n 2842.2631711218005,\n 9570.888564239833,\n 5892.487673077819,\n 10519.593718227166,\n 7739.49671602744,\n 7208.987988929675,\n 15.405212930086947,\n 6377.617984269145,\n 9934.260189769717,\n 8220.557601899785,\n 6452.5295535068835,\n 10150.412007392537,\n 8960.06888511167,\n 8740.117713361433,\n 0,\n 5214.39304930455,\n 10445.429962631006,\n 0,\n 5349.072622532315,\n 0,\n 10088.027404705952,\n 0,\n 0,\n 0,\n 6838.1923407517,\n 0,\n 9002.15898806997,\n 0,\n 5941.661722092712,\n 0,\n 0,\n 8252.447056275734,\n 7081.108716768309,\n 0,\n 7360.631695951354,\n 7547.612716575886,\n 0,\n 10367.769483939528,\n 0,\n 2559.9242412250137,\n 8828.989380619167,\n 0,\n 8027.452831924278,\n 14097.897940857643,\n 5202.216582022194,\n 7787.418536062093,\n 9011.497750684113,\n 5925.086231193941,\n 7899.890218765035,\n 10843.762198151326,\n 7051.708503032025,\n 6334.948840628597,\n 0,\n 0,\n 9116.616691983661,\n 6766.014707358242,\n 10958.633413720725,\n 7007.424192791701,\n 4577.0185483497735,\n 0,\n 9732.674133612632,\n 0,\n 8813.836787308048,\n 0,\n 6747.194693611433,\n 8292.86373745551,\n 0,\n 0,\n 0,\n 9154.6421750454,\n 0,\n 5625.301121588661,\n 5647.448846710066,\n 10995.745291971263,\n 9823.971076780323,\n 0,\n 0,\n 5269.719367279898,\n 0,\n 0,\n 0,\n 5910.224447815764,\n 9817.413150642327,\n 0,\n 0,\n 0,\n 8236.565474051984,\n 7064.566961359069,\n 0,\n 8765.182164512291,\n 0,\n 11442.757455228908,\n 10934.488700949554,\n 8255.444093119406,\n 0,\n 0,\n 3697.7874060401373,\n 9426.487121222866,\n 0,\n 0,\n 7299.225069503012,\n 0,\n 9807.675021389996,\n 0,\n 5046.11780522107,\n 7986.483900452893,\n 7615.690573876895,\n 6029.941988183306,\n 0,\n 0,\n 8727.77251063637,\n 0,\n 6687.742063728672,\n 0,\n 8137.044730727227,\n 6399.206886461194,\n 6826.2342979834175,\n 7671.406770294248,\n 0,\n 10944.573653648742,\n 6857.0761780586045,\n 0,\n 5610.759096380531,\n 7547.716719483745,\n 8186.996046586033,\n 0,\n 6753.3189053046835,\n 0,\n 5512.104927315532,\n 8460.63842949702,\n 5790.102117928539,\n 0,\n 8837.25423144283,\n 4649.9456336084395,\n 6508.027353081017,\n 0,\n 6570.352012837062,\n 0,\n 0,\n 6222.892556104726,\n 0,\n 6786.29147813331,\n 12314.428327622107,\n 0,\n 10033.61294026696,\n 0,\n 8173.775255710597,\n 10356.328796522064,\n 0,\n 5043.508148949122,\n 0,\n 0,\n 0,\n 7332.652699792574,\n 0,\n 0,\n 8621.085516254718,\n 7201.793463633108,\n 0,\n 9334.943503567387,\n 0,\n 198.82771180709167,\n 7749.328685889644,\n 0,\n 9419.14071193897,\n 0,\n 8523.725815769776,\n 7232.420031103266,\n 11447.716845434028,\n 12083.744547553266,\n 8830.80412389065,\n 7649.192270601023,\n 0,\n 0,\n 11400.895958585374,\n 7428.91973053186,\n 6379.882292429394,\n 9309.584649795417,\n 0,\n 11319.353841572212,\n 6173.605576044579,\n 8039.736521963002,\n 7007.377442925587,\n 7611.409771092969,\n 9068.714350899932,\n 7489.050822179887,\n 8546.625565245935,\n 0,\n 6747.517687288097,\n 7626.9990668076425,\n 0,\n 11601.988240418223,\n 6914.033681548166,\n 4485.2680726254985,\n 6708.902718937371,\n 0,\n 0,\n 6668.269607042677,\n 39.94573310966042,\n 0,\n 9520.208483623886,\n 5641.381868522239,\n 6755.536617652246,\n 9350.994163820335,\n 6443.216136865219,\n 0,\n 7851.361673248394,\n 1.4111568574040518,\n 8144.977805188382,\n 8557.668026944384,\n 0,\n 0,\n 9164.15267442228,\n 10.345874858846003,\n 8801.782822635156,\n 0,\n 0,\n 0,\n 10706.713951455187,\n 7295.432513534007,\n 7850.786509740731,\n 7094.635453708641,\n 11211.328663240867,\n 0,\n 0,\n 11112.02195418872,\n 8030.793320340219,\n 10653.717397720191,\n 7178.880444003039,\n 0,\n 10253.691303150896,\n 10247.682401508499,\n 0,\n 6921.909405949077,\n 0,\n 3884.931669294687,\n 0,\n 0,\n 0,\n 0,\n 8492.387285350624,\n 9518.831357029194,\n 6870.086170318026,\n 8098.064715956244,\n 5797.000381118599,\n 0,\n 0,\n 0,\n 10445.838332654754,\n 10625.456093414194,\n 0,\n 9375.56453684528,\n 10468.985146909088,\n 6584.30545729716,\n 10588.303170654928,\n 6239.038114384146,\n 6636.59389786101,\n 6.722053958997954,\n 0,\n 10678.024298000457,\n 8859.283686681318,\n 6834.528219134274,\n 174.02490387973072,\n 8882.030282264774,\n 0,\n 8050.65271977124,\n 28.344232198535224,\n 6597.366335214258,\n 0,\n 11897.16696365487,\n 0,\n 0,\n 10882.428571436272,\n 5229.9061285664275,\n 0,\n 7391.573777855895,\n 0,\n 0,\n 122.97642603927645,\n 8275.131195041524,\n 7351.057887249458,\n 6469.81458935861,\n 10060.212141164258,\n 11218.728007670888,\n 0,\n 6695.418472084544,\n 4987.325455948621,\n 0,\n 0,\n 7954.625408089686,\n 0,\n 0,\n 10158.03291962402,\n 0,\n 0,\n 9417.09961825334,\n 0,\n 7247.369893199745,\n 5878.67008318314,\n 6166.278362628276,\n 6685.579139478914,\n 10969.536559895048,\n 0,\n 5475.628563400337,\n 7881.948065382496,\n 8342.77812731915,\n 11775.036841213474,\n 7381.308429301149,\n 9478.375183581402,\n 6752.016808013786,\n 0,\n 0,\n 7124.0016871175585,\n 0,\n 0,\n 5021.947246264611,\n 0,\n 6692.009720552875,\n 9026.42371460041,\n 5103.339079804919,\n 0,\n 8263.241954271793,\n 8761.791351604137,\n 8586.93311902417,\n 0,\n 7260.507069679917,\n 8263.477815517308,\n 0,\n 6449.020901380197,\n 7678.155979040967,\n 0,\n 0,\n 8229.709170373733,\n 7259.983739761746,\n 9153.567404336782,\n 6665.829822865415,\n 6793.192808409179,\n 8697.151795173098,\n 7931.529570697802,\n 0,\n 4554.934949090348,\n 0,\n 9731.081197723826,\n 6465.542450241456,\n 7249.48546572979,\n 10050.061682290221,\n 0,\n 0,\n 10617.934554565847,\n 0,\n 5459.697641093621,\n 11152.600441465649,\n 8229.271111078706,\n 7350.019914968808,\n 0,\n 7947.3834492054475,\n 10555.204746434356,\n 8696.922050028083,\n 6077.259548877376,\n 8429.810334336544,\n 6587.9659233014645,\n 9204.202186977858,\n 0,\n 8698.386034629239,\n 0,\n 0,\n 10666.041690172102,\n 0,\n 8894.972663162314,\n 5092.9278171185,\n 11719.909529417504,\n 5644.6687114328715,\n 7254.826739651429,\n 11215.339660349857,\n 64.60008530333431,\n 6832.250763133933,\n 6713.18270079785,\n 9440.152586404,\n 10261.6056122669,\n 6675.90355334108,\n 9824.777678811402,\n 7597.873762163773,\n 0,\n 7709.099264519991,\n 6571.310002494198,\n 0,\n 0,\n 0,\n 0,\n 0,\n 6461.461089790593,\n 0,\n 0,\n 8324.880317540536,\n 6607.7982748835175,\n 8651.786438030345,\n 9542.351461729917,\n 9556.78614299882,\n 0,\n 7605.936461050611,\n 0,\n 6096.187037754835,\n 8668.772911365806,\n 7157.783868399154,\n 7294.777416776031,\n 7363.191595889222,\n 9200.141523650722,\n 3955.149557574446,\n 8004.813971271809,\n 0,\n 0,\n 12202.877039948115,\n 6563.559730620635,\n 0,\n 0,\n 5991.391072094414,\n 0,\n 7213.221176390285,\n 0,\n 6133.183890507096,\n 8819.843668138657,\n 9066.993504422482,\n 0,\n 10052.156230303952,\n 0,\n 6890.026706429545,\n 7709.474252370563,\n 0,\n 7818.686892836557,\n 0,\n 10568.897875172901,\n 8151.015047983584,\n 0,\n 0,\n 6748.375751354744,\n 0,\n 7500.746187203137,\n 0,\n 10018.39105453719,\n 0,\n 8053.351566195646,\n 8544.785176288467,\n 7375.2868659674195,\n 4590.911440731309,\n 9200.13412138058,\n 8404.62948740954,\n 7420.82594497668,\n 0,\n 9763.064739155052,\n 8822.191296310251,\n 7365.3711103470805,\n 7.129655674390126,\n 7869.751184147249,\n 7822.892423727355,\n 8371.40451909207,\n 10190.838916862313,\n 8705.001077103678,\n 0,\n 7424.433732445064,\n 9017.831254833623,\n 0,\n 5863.427539199889,\n 0,\n 0,\n 75.39345269208407,\n 0,\n 0,\n 9322.438871474038,\n 4220.769583188229,\n 0,\n 12092.487457200556,\n 8633.476021391412,\n 0,\n 9328.306941514607,\n 7223.803360993591,\n 0,\n 10111.07043080463,\n 9448.122497969833,\n 8636.57165388712,\n 10895.653814879688,\n 0,\n 9771.896697815775,\n 0,\n 6287.861685670276,\n 0,\n 0,\n 9875.50036122565,\n 6559.676412117634,\n 6814.006207977434,\n 0,\n 0,\n 8175.2424559639085,\n 0,\n 10262.6541425623,\n 7272.503608139833,\n 94.45084258349729,\n 7918.709895511834,\n 7573.064219941453,\n 0,\n 3719.5172433295957,\n 7695.789509131558,\n 0,\n 0,\n 9305.35979593015,\n 7797.1612408935725,\n 7036.204038384108,\n 11995.102329057034,\n 8166.552438562078,\n 0,\n 5188.564701627516,\n 0,\n 9690.560571925334,\n 9058.433124489626,\n ...]"
     },
     "execution_count": 10,
     "metadata": {},
     "output_type": "execute_result"
    }
   ],
   "source": [
    "cumpnls_wrong"
   ],
   "metadata": {
    "collapsed": false
   }
  },
  {
   "cell_type": "code",
   "execution_count": 12,
   "outputs": [
    {
     "data": {
      "text/plain": "50277939.37284565"
     },
     "execution_count": 12,
     "metadata": {},
     "output_type": "execute_result"
    }
   ],
   "source": [
    "sum(cumpnls_wrong)"
   ],
   "metadata": {
    "collapsed": false
   }
  },
  {
   "cell_type": "code",
   "execution_count": 9,
   "outputs": [
    {
     "data": {
      "text/plain": "1.4502933806700626"
     },
     "execution_count": 9,
     "metadata": {},
     "output_type": "execute_result"
    }
   ],
   "source": [
    "(sum(cumpnls_proper)/10000) / np.std(cumpnls_proper)"
   ],
   "metadata": {
    "collapsed": false
   }
  },
  {
   "cell_type": "code",
   "execution_count": 11,
   "outputs": [
    {
     "data": {
      "text/plain": "0.22627157749072624"
     },
     "execution_count": 11,
     "metadata": {},
     "output_type": "execute_result"
    }
   ],
   "source": [
    "((sum(cumpnls_proper)/10000) / np.std(cumpnls_proper)) - ((sum(cumpnls_wrong)/10000) / np.std(cumpnls_wrong))"
   ],
   "metadata": {
    "collapsed": false
   }
  },
  {
   "cell_type": "code",
   "execution_count": 133,
   "outputs": [
    {
     "data": {
      "text/plain": "1.4609793836857767"
     },
     "execution_count": 133,
     "metadata": {},
     "output_type": "execute_result"
    }
   ],
   "source": [
    "(sum(cumpnls_proper)/10000) / np.std(cumpnls_proper)"
   ],
   "metadata": {
    "collapsed": false
   }
  },
  {
   "cell_type": "code",
   "execution_count": null,
   "outputs": [],
   "source": [],
   "metadata": {
    "collapsed": false
   }
  }
 ],
 "metadata": {
  "kernelspec": {
   "display_name": "Python 3",
   "language": "python",
   "name": "python3"
  },
  "language_info": {
   "codemirror_mode": {
    "name": "ipython",
    "version": 2
   },
   "file_extension": ".py",
   "mimetype": "text/x-python",
   "name": "python",
   "nbconvert_exporter": "python",
   "pygments_lexer": "ipython2",
   "version": "2.7.6"
  }
 },
 "nbformat": 4,
 "nbformat_minor": 0
}
