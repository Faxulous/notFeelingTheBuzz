{
 "cells": [
  {
   "cell_type": "code",
   "execution_count": 1,
   "outputs": [],
   "source": [
    "import pandas as pd"
   ],
   "metadata": {
    "collapsed": false
   }
  },
  {
   "cell_type": "code",
   "execution_count": 3,
   "metadata": {
    "collapsed": true
   },
   "outputs": [
    {
     "name": "stderr",
     "output_type": "stream",
     "text": [
      "C:\\ProgramData\\Anaconda3\\envs\\everything\\Lib\\site-packages\\openpyxl\\worksheet\\_reader.py:329: UserWarning: Unknown extension is not supported and will be removed\n",
      "  warn(msg)\n"
     ]
    }
   ],
   "source": [
    "url = 'http://www.tennis-data.co.uk/{year}w/{year}.xlsx'\n",
    "\n",
    "dfs = [(pd.read_excel(url.format(year=str(x)), sheet_name=str(x))) for x in range(2016, 2022 + 1)]\n",
    "df = pd.concat(dfs, axis=0, ignore_index=True)\n",
    "df['Date'] = pd.to_datetime(df['Date'])\n",
    "\n",
    "# Select date range.\n",
    "df = df[~(df['Date'] < '2016-07-02')]"
   ]
  },
  {
   "cell_type": "code",
   "execution_count": 4,
   "outputs": [
    {
     "data": {
      "text/plain": "       WTA    Location  Tournament       Date                Tier    Court  \\\n1540    34      London   Wimbledon 2016-07-02          Grand Slam  Outdoor   \n1541    34      London   Wimbledon 2016-07-02          Grand Slam  Outdoor   \n1542    34      London   Wimbledon 2016-07-02          Grand Slam  Outdoor   \n1545    34      London   Wimbledon 2016-07-02          Grand Slam  Outdoor   \n1546    34      London   Wimbledon 2016-07-02          Grand Slam  Outdoor   \n...    ...         ...         ...        ...                 ...      ...   \n15829   55  Fort Worth  WTA Finals 2022-11-05  Tour Championships   Indoor   \n15830   55  Fort Worth  WTA Finals 2022-11-06  Tour Championships   Indoor   \n15831   55  Fort Worth  WTA Finals 2022-11-06  Tour Championships   Indoor   \n15832   55  Fort Worth  WTA Finals 2022-11-07  Tour Championships   Indoor   \n15833   55  Fort Worth  WTA Finals 2022-11-08  Tour Championships   Indoor   \n\n      Surface        Round  Best of         Winner  ...   EXW  EXL   LBW  \\\n1540    Grass    2nd Round        3    Stephens S.  ...  1.16  4.5  1.17   \n1541    Grass    2nd Round        3  Bacsinszky T.  ...  1.25  3.5  1.29   \n1542    Grass    2nd Round        3    Makarova E.  ...  2.75  1.4  3.00   \n1545    Grass    3rd Round        3         Doi M.  ...  1.58  2.2  1.57   \n1546    Grass    3rd Round        3      Kerber A.  ...  1.09  6.0  1.14   \n...       ...          ...      ...            ...  ...   ...  ...   ...   \n15829    Hard  Round Robin        3      Garcia C.  ...   NaN  NaN   NaN   \n15830    Hard  Round Robin        3     Swiatek I.  ...   NaN  NaN   NaN   \n15831    Hard   Semifinals        3      Garcia C.  ...   NaN  NaN   NaN   \n15832    Hard   Semifinals        3   Sabalenka A.  ...   NaN  NaN   NaN   \n15833    Hard    The Final        3      Garcia C.  ...   NaN  NaN   NaN   \n\n        LBL   PSW   PSL  MaxW  MaxL  AvgW  AvgL  \n1540   5.00  1.21  5.00  1.21  5.60  1.17  4.95  \n1541   3.75  1.34  3.56  1.34  3.85  1.29  3.53  \n1542   1.40  1.60  2.42  3.13  1.46  2.88  1.40  \n1545   2.25  1.69  2.34  1.71  2.40  1.64  2.24  \n1546   5.00  1.12  7.72  1.14  7.72  1.10  6.77  \n...     ...   ...   ...   ...   ...   ...   ...  \n15829   NaN  1.61  2.48  1.71  2.48  1.64  2.28  \n15830   NaN  1.16  6.23  1.18  6.55  1.14  5.61  \n15831   NaN  2.40  1.65  2.47  1.66  2.32  1.61  \n15832   NaN  5.68  1.18  5.90  1.20  5.25  1.16  \n15833   NaN  2.02  1.89  2.09  1.91  1.99  1.83  \n\n[14292 rows x 36 columns]",
      "text/html": "<div>\n<style scoped>\n    .dataframe tbody tr th:only-of-type {\n        vertical-align: middle;\n    }\n\n    .dataframe tbody tr th {\n        vertical-align: top;\n    }\n\n    .dataframe thead th {\n        text-align: right;\n    }\n</style>\n<table border=\"1\" class=\"dataframe\">\n  <thead>\n    <tr style=\"text-align: right;\">\n      <th></th>\n      <th>WTA</th>\n      <th>Location</th>\n      <th>Tournament</th>\n      <th>Date</th>\n      <th>Tier</th>\n      <th>Court</th>\n      <th>Surface</th>\n      <th>Round</th>\n      <th>Best of</th>\n      <th>Winner</th>\n      <th>...</th>\n      <th>EXW</th>\n      <th>EXL</th>\n      <th>LBW</th>\n      <th>LBL</th>\n      <th>PSW</th>\n      <th>PSL</th>\n      <th>MaxW</th>\n      <th>MaxL</th>\n      <th>AvgW</th>\n      <th>AvgL</th>\n    </tr>\n  </thead>\n  <tbody>\n    <tr>\n      <th>1540</th>\n      <td>34</td>\n      <td>London</td>\n      <td>Wimbledon</td>\n      <td>2016-07-02</td>\n      <td>Grand Slam</td>\n      <td>Outdoor</td>\n      <td>Grass</td>\n      <td>2nd Round</td>\n      <td>3</td>\n      <td>Stephens S.</td>\n      <td>...</td>\n      <td>1.16</td>\n      <td>4.5</td>\n      <td>1.17</td>\n      <td>5.00</td>\n      <td>1.21</td>\n      <td>5.00</td>\n      <td>1.21</td>\n      <td>5.60</td>\n      <td>1.17</td>\n      <td>4.95</td>\n    </tr>\n    <tr>\n      <th>1541</th>\n      <td>34</td>\n      <td>London</td>\n      <td>Wimbledon</td>\n      <td>2016-07-02</td>\n      <td>Grand Slam</td>\n      <td>Outdoor</td>\n      <td>Grass</td>\n      <td>2nd Round</td>\n      <td>3</td>\n      <td>Bacsinszky T.</td>\n      <td>...</td>\n      <td>1.25</td>\n      <td>3.5</td>\n      <td>1.29</td>\n      <td>3.75</td>\n      <td>1.34</td>\n      <td>3.56</td>\n      <td>1.34</td>\n      <td>3.85</td>\n      <td>1.29</td>\n      <td>3.53</td>\n    </tr>\n    <tr>\n      <th>1542</th>\n      <td>34</td>\n      <td>London</td>\n      <td>Wimbledon</td>\n      <td>2016-07-02</td>\n      <td>Grand Slam</td>\n      <td>Outdoor</td>\n      <td>Grass</td>\n      <td>2nd Round</td>\n      <td>3</td>\n      <td>Makarova E.</td>\n      <td>...</td>\n      <td>2.75</td>\n      <td>1.4</td>\n      <td>3.00</td>\n      <td>1.40</td>\n      <td>1.60</td>\n      <td>2.42</td>\n      <td>3.13</td>\n      <td>1.46</td>\n      <td>2.88</td>\n      <td>1.40</td>\n    </tr>\n    <tr>\n      <th>1545</th>\n      <td>34</td>\n      <td>London</td>\n      <td>Wimbledon</td>\n      <td>2016-07-02</td>\n      <td>Grand Slam</td>\n      <td>Outdoor</td>\n      <td>Grass</td>\n      <td>3rd Round</td>\n      <td>3</td>\n      <td>Doi M.</td>\n      <td>...</td>\n      <td>1.58</td>\n      <td>2.2</td>\n      <td>1.57</td>\n      <td>2.25</td>\n      <td>1.69</td>\n      <td>2.34</td>\n      <td>1.71</td>\n      <td>2.40</td>\n      <td>1.64</td>\n      <td>2.24</td>\n    </tr>\n    <tr>\n      <th>1546</th>\n      <td>34</td>\n      <td>London</td>\n      <td>Wimbledon</td>\n      <td>2016-07-02</td>\n      <td>Grand Slam</td>\n      <td>Outdoor</td>\n      <td>Grass</td>\n      <td>3rd Round</td>\n      <td>3</td>\n      <td>Kerber A.</td>\n      <td>...</td>\n      <td>1.09</td>\n      <td>6.0</td>\n      <td>1.14</td>\n      <td>5.00</td>\n      <td>1.12</td>\n      <td>7.72</td>\n      <td>1.14</td>\n      <td>7.72</td>\n      <td>1.10</td>\n      <td>6.77</td>\n    </tr>\n    <tr>\n      <th>...</th>\n      <td>...</td>\n      <td>...</td>\n      <td>...</td>\n      <td>...</td>\n      <td>...</td>\n      <td>...</td>\n      <td>...</td>\n      <td>...</td>\n      <td>...</td>\n      <td>...</td>\n      <td>...</td>\n      <td>...</td>\n      <td>...</td>\n      <td>...</td>\n      <td>...</td>\n      <td>...</td>\n      <td>...</td>\n      <td>...</td>\n      <td>...</td>\n      <td>...</td>\n      <td>...</td>\n    </tr>\n    <tr>\n      <th>15829</th>\n      <td>55</td>\n      <td>Fort Worth</td>\n      <td>WTA Finals</td>\n      <td>2022-11-05</td>\n      <td>Tour Championships</td>\n      <td>Indoor</td>\n      <td>Hard</td>\n      <td>Round Robin</td>\n      <td>3</td>\n      <td>Garcia C.</td>\n      <td>...</td>\n      <td>NaN</td>\n      <td>NaN</td>\n      <td>NaN</td>\n      <td>NaN</td>\n      <td>1.61</td>\n      <td>2.48</td>\n      <td>1.71</td>\n      <td>2.48</td>\n      <td>1.64</td>\n      <td>2.28</td>\n    </tr>\n    <tr>\n      <th>15830</th>\n      <td>55</td>\n      <td>Fort Worth</td>\n      <td>WTA Finals</td>\n      <td>2022-11-06</td>\n      <td>Tour Championships</td>\n      <td>Indoor</td>\n      <td>Hard</td>\n      <td>Round Robin</td>\n      <td>3</td>\n      <td>Swiatek I.</td>\n      <td>...</td>\n      <td>NaN</td>\n      <td>NaN</td>\n      <td>NaN</td>\n      <td>NaN</td>\n      <td>1.16</td>\n      <td>6.23</td>\n      <td>1.18</td>\n      <td>6.55</td>\n      <td>1.14</td>\n      <td>5.61</td>\n    </tr>\n    <tr>\n      <th>15831</th>\n      <td>55</td>\n      <td>Fort Worth</td>\n      <td>WTA Finals</td>\n      <td>2022-11-06</td>\n      <td>Tour Championships</td>\n      <td>Indoor</td>\n      <td>Hard</td>\n      <td>Semifinals</td>\n      <td>3</td>\n      <td>Garcia C.</td>\n      <td>...</td>\n      <td>NaN</td>\n      <td>NaN</td>\n      <td>NaN</td>\n      <td>NaN</td>\n      <td>2.40</td>\n      <td>1.65</td>\n      <td>2.47</td>\n      <td>1.66</td>\n      <td>2.32</td>\n      <td>1.61</td>\n    </tr>\n    <tr>\n      <th>15832</th>\n      <td>55</td>\n      <td>Fort Worth</td>\n      <td>WTA Finals</td>\n      <td>2022-11-07</td>\n      <td>Tour Championships</td>\n      <td>Indoor</td>\n      <td>Hard</td>\n      <td>Semifinals</td>\n      <td>3</td>\n      <td>Sabalenka A.</td>\n      <td>...</td>\n      <td>NaN</td>\n      <td>NaN</td>\n      <td>NaN</td>\n      <td>NaN</td>\n      <td>5.68</td>\n      <td>1.18</td>\n      <td>5.90</td>\n      <td>1.20</td>\n      <td>5.25</td>\n      <td>1.16</td>\n    </tr>\n    <tr>\n      <th>15833</th>\n      <td>55</td>\n      <td>Fort Worth</td>\n      <td>WTA Finals</td>\n      <td>2022-11-08</td>\n      <td>Tour Championships</td>\n      <td>Indoor</td>\n      <td>Hard</td>\n      <td>The Final</td>\n      <td>3</td>\n      <td>Garcia C.</td>\n      <td>...</td>\n      <td>NaN</td>\n      <td>NaN</td>\n      <td>NaN</td>\n      <td>NaN</td>\n      <td>2.02</td>\n      <td>1.89</td>\n      <td>2.09</td>\n      <td>1.91</td>\n      <td>1.99</td>\n      <td>1.83</td>\n    </tr>\n  </tbody>\n</table>\n<p>14292 rows × 36 columns</p>\n</div>"
     },
     "execution_count": 4,
     "metadata": {},
     "output_type": "execute_result"
    }
   ],
   "source": [
    "df"
   ],
   "metadata": {
    "collapsed": false
   }
  },
  {
   "cell_type": "code",
   "execution_count": null,
   "outputs": [],
   "source": [],
   "metadata": {
    "collapsed": false
   }
  }
 ],
 "metadata": {
  "kernelspec": {
   "display_name": "Python 3",
   "language": "python",
   "name": "python3"
  },
  "language_info": {
   "codemirror_mode": {
    "name": "ipython",
    "version": 2
   },
   "file_extension": ".py",
   "mimetype": "text/x-python",
   "name": "python",
   "nbconvert_exporter": "python",
   "pygments_lexer": "ipython2",
   "version": "2.7.6"
  }
 },
 "nbformat": 4,
 "nbformat_minor": 0
}
