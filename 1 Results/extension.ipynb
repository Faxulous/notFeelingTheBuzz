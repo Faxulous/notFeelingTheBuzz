{
 "cells": [
  {
   "cell_type": "code",
   "execution_count": 1,
   "id": "initial_id",
   "metadata": {
    "collapsed": true,
    "ExecuteTime": {
     "end_time": "2024-01-16T11:51:04.690207100Z",
     "start_time": "2024-01-16T11:51:03.706221Z"
    }
   },
   "outputs": [],
   "source": [
    "import pandas as pd\n",
    "import statsmodels.formula.api as smf\n",
    "import matplotlib.pyplot as plt\n",
    "import numpy as np\n",
    "from matplotlib.ticker import FuncFormatter\n",
    "from matplotlib.dates import DateFormatter\n",
    "import matplotlib.dates as mdates\n",
    "from linearmodels import IV2SLS\n",
    "from sklearn.model_selection import train_test_split\n",
    "plt.style.use('default')"
   ]
  },
  {
   "cell_type": "code",
   "execution_count": 16,
   "outputs": [
    {
     "data": {
      "text/plain": "        match_id               player       date    year tournament  rankdist  \\\n12776  100012776      Evgeniya Rodina 2015-07-02  2015.0  Wimbledon  0.023432   \n12785  100012785     Ajla Tomljanovic 2015-07-02  2015.0  Wimbledon  0.064577   \n12784  100012784  Svetlana Kuznetsova 2015-07-02  2015.0  Wimbledon -0.032537   \n12783  100012783        Jana Cepelova 2015-07-02  2015.0  Wimbledon  0.011399   \n12782  100012782        Mirjana Lucic 2015-07-02  2015.0  Wimbledon  0.031481   \n...          ...                  ...        ...     ...        ...       ...   \n31750      20843       Jessica_Pegula 2023-11-04     NaN        NaN  0.133333   \n31751      20844      Aryna_Sabalenka 2023-11-05     NaN        NaN -0.500000   \n31752      20844          Iga_Swiatek 2023-11-05     NaN        NaN  0.500000   \n31753      20845          Iga_Swiatek 2023-11-06     NaN        NaN -0.300000   \n31754      20845       Jessica_Pegula 2023-11-06     NaN        NaN  0.300000   \n\n       wikibuzz  inverse_b365  inverse_avg  inverse_best  outcome  Unnamed: 0  \\\n12776  0.000000      0.250000     0.246914      0.222222        0         NaN   \n12785  0.000000      0.166667     0.181818      0.164474        0         NaN   \n12784  0.000000      0.819672     0.813008      0.800000        0         NaN   \n12783  0.000000      0.285714     0.288184      0.266667        0         NaN   \n12782  0.000000      0.381679     0.355872      0.327869        0         NaN   \n...         ...           ...          ...           ...      ...         ...   \n31750  0.394847      0.578035     0.568182      0.520833        1     31995.0   \n31751  1.119123      0.307692     0.312500      0.273973        0     31996.0   \n31752 -1.119123      0.751880     0.740741      0.714286        1     31997.0   \n31753  0.061745      0.735294     0.735294      0.709220        1     31998.0   \n31754 -0.061745      0.312500     0.318471      0.294118        0     31999.0   \n\n        WTA  \n12776   NaN  \n12785   NaN  \n12784   NaN  \n12783   NaN  \n12782   NaN  \n...     ...  \n31750  57.0  \n31751  57.0  \n31752  57.0  \n31753  57.0  \n31754  57.0  \n\n[35993 rows x 13 columns]",
      "text/html": "<div>\n<style scoped>\n    .dataframe tbody tr th:only-of-type {\n        vertical-align: middle;\n    }\n\n    .dataframe tbody tr th {\n        vertical-align: top;\n    }\n\n    .dataframe thead th {\n        text-align: right;\n    }\n</style>\n<table border=\"1\" class=\"dataframe\">\n  <thead>\n    <tr style=\"text-align: right;\">\n      <th></th>\n      <th>match_id</th>\n      <th>player</th>\n      <th>date</th>\n      <th>year</th>\n      <th>tournament</th>\n      <th>rankdist</th>\n      <th>wikibuzz</th>\n      <th>inverse_b365</th>\n      <th>inverse_avg</th>\n      <th>inverse_best</th>\n      <th>outcome</th>\n      <th>Unnamed: 0</th>\n      <th>WTA</th>\n    </tr>\n  </thead>\n  <tbody>\n    <tr>\n      <th>12776</th>\n      <td>100012776</td>\n      <td>Evgeniya Rodina</td>\n      <td>2015-07-02</td>\n      <td>2015.0</td>\n      <td>Wimbledon</td>\n      <td>0.023432</td>\n      <td>0.000000</td>\n      <td>0.250000</td>\n      <td>0.246914</td>\n      <td>0.222222</td>\n      <td>0</td>\n      <td>NaN</td>\n      <td>NaN</td>\n    </tr>\n    <tr>\n      <th>12785</th>\n      <td>100012785</td>\n      <td>Ajla Tomljanovic</td>\n      <td>2015-07-02</td>\n      <td>2015.0</td>\n      <td>Wimbledon</td>\n      <td>0.064577</td>\n      <td>0.000000</td>\n      <td>0.166667</td>\n      <td>0.181818</td>\n      <td>0.164474</td>\n      <td>0</td>\n      <td>NaN</td>\n      <td>NaN</td>\n    </tr>\n    <tr>\n      <th>12784</th>\n      <td>100012784</td>\n      <td>Svetlana Kuznetsova</td>\n      <td>2015-07-02</td>\n      <td>2015.0</td>\n      <td>Wimbledon</td>\n      <td>-0.032537</td>\n      <td>0.000000</td>\n      <td>0.819672</td>\n      <td>0.813008</td>\n      <td>0.800000</td>\n      <td>0</td>\n      <td>NaN</td>\n      <td>NaN</td>\n    </tr>\n    <tr>\n      <th>12783</th>\n      <td>100012783</td>\n      <td>Jana Cepelova</td>\n      <td>2015-07-02</td>\n      <td>2015.0</td>\n      <td>Wimbledon</td>\n      <td>0.011399</td>\n      <td>0.000000</td>\n      <td>0.285714</td>\n      <td>0.288184</td>\n      <td>0.266667</td>\n      <td>0</td>\n      <td>NaN</td>\n      <td>NaN</td>\n    </tr>\n    <tr>\n      <th>12782</th>\n      <td>100012782</td>\n      <td>Mirjana Lucic</td>\n      <td>2015-07-02</td>\n      <td>2015.0</td>\n      <td>Wimbledon</td>\n      <td>0.031481</td>\n      <td>0.000000</td>\n      <td>0.381679</td>\n      <td>0.355872</td>\n      <td>0.327869</td>\n      <td>0</td>\n      <td>NaN</td>\n      <td>NaN</td>\n    </tr>\n    <tr>\n      <th>...</th>\n      <td>...</td>\n      <td>...</td>\n      <td>...</td>\n      <td>...</td>\n      <td>...</td>\n      <td>...</td>\n      <td>...</td>\n      <td>...</td>\n      <td>...</td>\n      <td>...</td>\n      <td>...</td>\n      <td>...</td>\n      <td>...</td>\n    </tr>\n    <tr>\n      <th>31750</th>\n      <td>20843</td>\n      <td>Jessica_Pegula</td>\n      <td>2023-11-04</td>\n      <td>NaN</td>\n      <td>NaN</td>\n      <td>0.133333</td>\n      <td>0.394847</td>\n      <td>0.578035</td>\n      <td>0.568182</td>\n      <td>0.520833</td>\n      <td>1</td>\n      <td>31995.0</td>\n      <td>57.0</td>\n    </tr>\n    <tr>\n      <th>31751</th>\n      <td>20844</td>\n      <td>Aryna_Sabalenka</td>\n      <td>2023-11-05</td>\n      <td>NaN</td>\n      <td>NaN</td>\n      <td>-0.500000</td>\n      <td>1.119123</td>\n      <td>0.307692</td>\n      <td>0.312500</td>\n      <td>0.273973</td>\n      <td>0</td>\n      <td>31996.0</td>\n      <td>57.0</td>\n    </tr>\n    <tr>\n      <th>31752</th>\n      <td>20844</td>\n      <td>Iga_Swiatek</td>\n      <td>2023-11-05</td>\n      <td>NaN</td>\n      <td>NaN</td>\n      <td>0.500000</td>\n      <td>-1.119123</td>\n      <td>0.751880</td>\n      <td>0.740741</td>\n      <td>0.714286</td>\n      <td>1</td>\n      <td>31997.0</td>\n      <td>57.0</td>\n    </tr>\n    <tr>\n      <th>31753</th>\n      <td>20845</td>\n      <td>Iga_Swiatek</td>\n      <td>2023-11-06</td>\n      <td>NaN</td>\n      <td>NaN</td>\n      <td>-0.300000</td>\n      <td>0.061745</td>\n      <td>0.735294</td>\n      <td>0.735294</td>\n      <td>0.709220</td>\n      <td>1</td>\n      <td>31998.0</td>\n      <td>57.0</td>\n    </tr>\n    <tr>\n      <th>31754</th>\n      <td>20845</td>\n      <td>Jessica_Pegula</td>\n      <td>2023-11-06</td>\n      <td>NaN</td>\n      <td>NaN</td>\n      <td>0.300000</td>\n      <td>-0.061745</td>\n      <td>0.312500</td>\n      <td>0.318471</td>\n      <td>0.294118</td>\n      <td>0</td>\n      <td>31999.0</td>\n      <td>57.0</td>\n    </tr>\n  </tbody>\n</table>\n<p>35993 rows × 13 columns</p>\n</div>"
     },
     "execution_count": 16,
     "metadata": {},
     "output_type": "execute_result"
    }
   ],
   "source": [
    "c_data = pd.read_csv(r\"G:\\My Drive\\Work\\PhD\\projects\\notFeelingTheBuzz\\DataFiles\\clegg_matches_cleaned_1123.csv\")\n",
    "r_data = pd.read_csv(r'https://raw.githubusercontent.com/Faxulous/notFeelingTheBuzz/main/DataFiles/ramirez_matches_cleaned.csv', index_col=0)\n",
    "\n",
    "# Merge CC and RRS dataframes\n",
    "r_data['date'] = pd.to_datetime(r_data['date'])\n",
    "c_data['date'] = pd.to_datetime(c_data['date'])\n",
    "r_data_filtered = r_data[r_data['date'] <= '2020-02-16']\n",
    "c_data_filtered = c_data[c_data['date'] > '2020-02-16']\n",
    "r_data_filtered['match_id'] = r_data_filtered['match_id'] + 100000000 # ensure there aren't overlapping match ids\n",
    "merged_df = pd.concat([r_data_filtered, c_data_filtered])\n",
    "merged_df"
   ],
   "metadata": {
    "collapsed": false,
    "ExecuteTime": {
     "end_time": "2024-01-16T12:05:08.638358300Z",
     "start_time": "2024-01-16T12:05:05.551450400Z"
    }
   },
   "id": "8804bb3d012cc0e8"
  },
  {
   "cell_type": "code",
   "execution_count": 2,
   "outputs": [
    {
     "name": "stderr",
     "output_type": "stream",
     "text": [
      "C:\\Users\\tb21144\\AppData\\Local\\Temp\\ipykernel_21800\\278286865.py:17: FutureWarning: Setting an item of incompatible dtype is deprecated and will raise in a future error of pandas. Value '[0.4623656  0.53488374 0.18699188 ... 0.43181818 0.25925926 0.26470588]' has dtype incompatible with int64, please explicitly cast to a compatible dtype first.\n",
      "  data.loc[data['outcome'] == 1, 'error'] = 1 - data['inverse_avg']\n"
     ]
    }
   ],
   "source": [
    "c_data = pd.read_csv(r\"G:\\My Drive\\Work\\PhD\\projects\\notFeelingTheBuzz\\DataFiles\\clegg_matches_cleaned_1123.csv\")\n",
    "r_data = pd.read_csv(r'https://raw.githubusercontent.com/Faxulous/notFeelingTheBuzz/main/DataFiles/ramirez_matches_cleaned.csv', index_col=0)\n",
    "\n",
    "# Merge the two frames DataFrames\n",
    "r_data['date'] = pd.to_datetime(r_data['date'])\n",
    "c_data['date'] = pd.to_datetime(c_data['date'])\n",
    "r_data_filtered = r_data[r_data['date'] <= '2020-02-16']\n",
    "c_data_filtered = c_data[c_data['date'] > '2020-02-16']\n",
    "r_data_filtered['match_id'] = r_data_filtered['match_id'] + 100000000 # ensure there aren't overlapping match ids\n",
    "merged_df = pd.concat([r_data_filtered, c_data_filtered])\n",
    "\n",
    "# merged_df, c_data, or r_data\n",
    "data = merged_df\n",
    "data.reset_index(inplace=True,drop=True)\n",
    "\n",
    "data['error'] = 0\n",
    "data.loc[data['outcome'] == 1, 'error'] = 1 - data['inverse_avg']\n",
    "data.loc[data['outcome'] != 1, 'error'] = 0 - data['inverse_avg']\n",
    "\n",
    "data['date'] = pd.to_datetime(data['date'])\n",
    "data['year'] = data['date'].dt.year\n",
    "\n",
    "# Filter out columns with invalid values and NaN values in specified columns\n",
    "invalid_wikibuzz_values = [np.inf, -np.inf, 'ZeroDivisionError']\n",
    "cols_to_check = ['wikibuzz', 'rankdist', 'inverse_avg']\n",
    "data = data[~data['wikibuzz'].isin(invalid_wikibuzz_values) & data[cols_to_check].notna().all(axis=1)]\n",
    "\n",
    "# Compute overround values\n",
    "data['overround_b365'] = data.groupby('match_id')['inverse_b365'].transform(lambda x: x.sum(min_count=1) - 1)\n",
    "data['overround_avg'] = data.groupby('match_id')['inverse_avg'].transform(lambda x: x.sum(min_count=1) - 1)\n",
    "data['overround_best'] = data.groupby('match_id')['inverse_best'].transform(lambda x: x.sum(min_count=1) - 1)\n",
    "\n",
    "data.sort_values(by='date', inplace=True)\n",
    "# Consistent end date\n",
    "data = data[data['date'] <= '2023-08-31']\n",
    "\n",
    "# Remove Hercog\n",
    "data_with_hercog = data.copy()\n",
    "data = data[~((data['player'] == 'Polona Hercog') & (data['date'] == '2019-03-23'))]"
   ],
   "metadata": {
    "collapsed": false,
    "ExecuteTime": {
     "end_time": "2024-01-16T11:51:25.612480100Z",
     "start_time": "2024-01-16T11:51:04.689207100Z"
    }
   },
   "id": "acfbb5dad8aeecd5"
  },
  {
   "cell_type": "code",
   "execution_count": 3,
   "outputs": [],
   "source": [
    "# All functions used for results\n",
    "\n",
    "# Select regression by setting rankdist and wikibuzz True or False.\n",
    "# For models PM, PM w/o RD (aka. WB), RD, MO.\n",
    "def fit_regression(train_set, rankdist: bool = True):\n",
    "    if rankdist:\n",
    "        formula = 'outcome ~ inverse_avg + rankdist + wikibuzz'\n",
    "        results = smf.ols(formula, data=train_set).fit(cov_type='cluster', cov_kwds={'groups': train_set['match_id']})\n",
    "        params = results.params\n",
    "        #params= [constant        , inverse_avg    , rankdist       , wikibuzz       ]\n",
    "    else:\n",
    "        formula = 'outcome ~ inverse_avg + wikibuzz'\n",
    "        results = smf.ols(formula, data=train_set).fit(cov_type='cluster', cov_kwds={'groups': train_set['match_id']})\n",
    "        params = results.params\n",
    "        #params= [constant        , inverse_avg    , wikibuzz       ]\n",
    "    return params\n",
    "\n",
    "def simple_probability(params: pd.Series,\n",
    "                         inverse_odds: float):\n",
    "    y_hat = params[0] + params[1]*inverse_odds\n",
    "    return y_hat\n",
    "\n",
    "# Returns model's estimated probability.\n",
    "def estimate_probability(params: pd.Series,\n",
    "                         inverse_odds: float,\n",
    "                         rankdist: float = None,\n",
    "                         wikibuzz: float = None) -> float:\n",
    "    if rankdist is not None:\n",
    "        y_hat = params[0] + params[-3]*inverse_odds + params[-2]*rankdist + params[-1]*wikibuzz\n",
    "    if rankdist is None:\n",
    "        y_hat = params[0] + params[-2]*inverse_odds + params[-1]*wikibuzz\n",
    "    return y_hat\n",
    "\n",
    "def kelly_criterion(odds_implied_prob, y_hat):\n",
    "    odds = 1/odds_implied_prob\n",
    "    k = max(y_hat - ((1 - y_hat)/(odds - 1)), 0)\n",
    "    return k\n",
    "\n",
    "# Calculates Profit/Loss.\n",
    "def profit_loss(kelly, odds_implied_prob, outcome):\n",
    "    odds = 1 / odds_implied_prob\n",
    "    if outcome == 1:\n",
    "        PnL = kelly*odds - kelly\n",
    "    if outcome == 0:\n",
    "        PnL = -kelly\n",
    "    return PnL\n",
    "\n",
    "# Estimates probability according to model selection, creates new columns, and prints results\n",
    "def show_results(data, odds, estimated_probabilities, rankdist: bool = True): # Odds = \"avg\", \"best\", \"b365\"\n",
    "    # data = data[data['date'] <= '2020-02-16'].copy()\n",
    "    #data.dropna(subset=[f'inverse_{odds}'], inplace=True)\n",
    "    \n",
    "    lower_bound, upper_bound = 0.4, 0.6\n",
    "    trainset = data[((data['inverse_avg'] >= lower_bound) & (data['inverse_avg'] <= upper_bound)) & (data['date'] < '2019-01-01')].copy()\n",
    "    testset = data[((data['inverse_avg'] >= lower_bound) & (data['inverse_avg'] <= upper_bound)) & (data['date'] >= '2019-01-01')].copy()\n",
    "    \n",
    "    # testset = data[(data['date'] > '2019-01-01') & (data['date'] < '2023-05-05')].copy()\n",
    "    \n",
    "    params = fit_regression(trainset, rankdist=rankdist)\n",
    "    # Estimate Probability.\n",
    "    if rankdist:\n",
    "        testset.loc[:, estimated_probabilities] = [estimate_probability(params, row[0], row[1], row[2]) for row in zip(testset['inverse_avg'],\n",
    "                                                                                                         testset['rankdist'],\n",
    "                                                                                                         testset['wikibuzz'])]\n",
    "    else:\n",
    "        testset.loc[:, estimated_probabilities] = [estimate_probability(params, inverse_odds=row[0], wikibuzz=row[1]) for row in zip(testset['inverse_avg'],\n",
    "                                                                                                                       testset['wikibuzz'])]       \n",
    "    # Determine kelly bet size.\n",
    "    testset.loc[:, 'kelly_betsize'] = [kelly_criterion(row[0], row[1]) for row in zip(testset['inverse_{}'.format(odds)],\n",
    "                                                                               testset[estimated_probabilities])]\n",
    "    # Calculate return for the bet.\n",
    "    testset.loc[:, 'PnL'] = [profit_loss(row[0], row[1], row[2]) for row in zip(testset['kelly_betsize'],testset['inverse_{}'.format(odds)],\n",
    "                                                                         testset['outcome'])]\n",
    "\n",
    "    print('Bets considered (2 * Matches): '+str(len(testset[testset['inverse_{}'.format(odds)].notna()])))\n",
    "    print('Number of bets placed: '+str(len(testset.loc[(testset[\"PnL\"].notna()) & testset[\"PnL\"] != 0])))\n",
    "    #print(\"Mean overround (%): \"+str((testset.sort_values(by=\"match_id\")[\"inverse_{}\".format(odds)].rolling(2).sum()[1::2].mean()-1)*100))\n",
    "    print(\"Mean overround (%): \"+str(testset[testset['overround_{}'.format(odds)] != 0]['overround_{}'.format(odds)].mean()*100)) \n",
    "    print('Absolute amount bet: '+str(testset['kelly_betsize'].sum()))\n",
    "    print('Absolute return: '+str(testset['PnL'].sum()))\n",
    "    print('ROI (%): '+str((((testset['PnL'].sum() + testset['kelly_betsize'].sum())/testset['kelly_betsize'].sum())-1)*100))\n",
    "    return testset\n",
    "\n",
    "# PnL plot\n",
    "# Modify the plot to display months on the x-axis and highlight a specific date\n",
    "def plot_results(testset, compare_data=None, show_quarters=None):\n",
    "    fig, ax = plt.subplots(1, 1, figsize=(6, 6))\n",
    "    plt.rcParams.update({'font.size': 14})\n",
    "    plt.axhline(y=0, color='grey', linewidth=2.5)\n",
    "    # Plot end of RRS data\n",
    "    plt.axvline(x=pd.Timestamp('2020-02-16'), color='orange', linestyle=':', linewidth=2)\n",
    "\n",
    "    if compare_data is not None:\n",
    "        compare_data['date'] = pd.to_datetime(compare_data['date'])\n",
    "        compare_data['Cum_PnL'] = compare_data['PnL'].cumsum() * 100\n",
    "        compare_data.plot('date', 'Cum_PnL', ax=ax, linewidth=2.5, linestyle='--', label='With Hercog bet', color='black')\n",
    "\n",
    "    testset['date'] = pd.to_datetime(testset['date'])\n",
    "    testset['Cumulative_PnL'] = testset['PnL'].cumsum() * 100\n",
    "    testset.plot('date', 'Cumulative_PnL', ax=ax, linewidth=2.5, label='Without Hercog Bet')\n",
    "\n",
    "    if show_quarters:\n",
    "        # Quarterly x-axis\n",
    "        ax.xaxis.set_major_locator(mdates.MonthLocator(bymonth=(1, 4, 7, 10)))\n",
    "\n",
    "        def custom_formatter(x, pos):\n",
    "            month = mdates.num2date(x).month\n",
    "            quarter = (month-1)//3 + 1\n",
    "            year = mdates.num2date(x).year\n",
    "            return f\"Q{quarter} {year}\"\n",
    "\n",
    "        ax.xaxis.set_major_formatter(FuncFormatter(custom_formatter))\n",
    "        ax.xaxis.set_major_locator(mdates.YearLocator())\n",
    "        ax.xaxis.set_major_formatter(DateFormatter('%Y'))\n",
    "\n",
    "    else: # Years as specified\n",
    "        ax.xaxis.set_major_locator(mdates.YearLocator())\n",
    "        ax.xaxis.set_major_formatter(DateFormatter('%Y'))\n",
    "        ax.set_xlim(testset['date'].min(), pd.Timestamp(f'2024-01-01')) # Ensure 2023 is shown on x-axis\n",
    "    fig.autofmt_xdate()\n",
    "\n",
    "    ax.set_facecolor('white')\n",
    "    fig.patch.set_facecolor('white') \n",
    "    \n",
    "    ax.grid(True, which='both', color='grey', linestyle='-', linewidth=0.5)\n",
    "    ax.legend(fancybox=False, shadow=False, frameon=True, facecolor='white', framealpha=1)\n",
    "    ax.get_legend().remove()\n",
    "    ax.set_ylabel('Absolute Return (%)')\n",
    "    ax.set_xlabel('Date')\n",
    "\n",
    "    ax.set_ylim(-50, 400)\n",
    "\n",
    "    plt.show()"
   ],
   "metadata": {
    "collapsed": false,
    "ExecuteTime": {
     "end_time": "2024-01-16T11:51:25.656045100Z",
     "start_time": "2024-01-16T11:51:25.613477600Z"
    }
   },
   "id": "5965182347b7770f"
  },
  {
   "cell_type": "code",
   "execution_count": 4,
   "outputs": [
    {
     "name": "stderr",
     "output_type": "stream",
     "text": [
      "C:\\Users\\tb21144\\AppData\\Local\\Temp\\ipykernel_21800\\3145877505.py:31: FutureWarning: Series.__getitem__ treating keys as positions is deprecated. In a future version, integer keys will always be treated as labels (consistent with DataFrame behavior). To access a value by position, use `ser.iloc[pos]`\n",
      "  y_hat = params[0] + params[-2]*inverse_odds + params[-1]*wikibuzz\n",
      "C:\\Users\\tb21144\\AppData\\Local\\Temp\\ipykernel_21800\\3145877505.py:31: FutureWarning: Series.__getitem__ treating keys as positions is deprecated. In a future version, integer keys will always be treated as labels (consistent with DataFrame behavior). To access a value by position, use `ser.iloc[pos]`\n",
      "  y_hat = params[0] + params[-2]*inverse_odds + params[-1]*wikibuzz\n"
     ]
    },
    {
     "name": "stdout",
     "output_type": "stream",
     "text": [
      "Bets considered (2 * Matches): 5896\n",
      "Number of bets placed: 963\n",
      "Mean overround (%): 5.58835944624488\n",
      "Absolute amount bet: 27.44774246351973\n",
      "Absolute return: 0.3960926583147837\n",
      "ROI (%): 1.4430791852598546\n",
      "Bets considered (2 * Matches): 5897\n",
      "Number of bets placed: 964\n",
      "Mean overround (%): 5.5884124830571436\n",
      "Absolute amount bet: 27.806865226831274\n",
      "Absolute return: 2.01214509321671\n",
      "ROI (%): 7.236145019594509\n"
     ]
    }
   ],
   "source": [
    "testset = show_results(data, odds='b365', estimated_probabilities='model_prob', rankdist=False)\n",
    "testset_with_hercog = show_results(data_with_hercog, odds='b365', estimated_probabilities='model_prob', rankdist=False)"
   ],
   "metadata": {
    "collapsed": false,
    "ExecuteTime": {
     "end_time": "2024-01-16T11:52:43.764480300Z",
     "start_time": "2024-01-16T11:52:43.478515900Z"
    }
   },
   "id": "f14b2ef00d92ab51"
  },
  {
   "cell_type": "code",
   "execution_count": 5,
   "outputs": [
    {
     "data": {
      "text/plain": "<Figure size 600x600 with 1 Axes>",
      "image/png": "[encoded data removed]"
     },
     "metadata": {},
     "output_type": "display_data"
    }
   ],
   "source": [
    "plot_results(testset,show_quarters=False)"
   ],
   "metadata": {
    "collapsed": false,
    "ExecuteTime": {
     "end_time": "2024-01-16T11:52:46.205218200Z",
     "start_time": "2024-01-16T11:52:46.015884300Z"
    }
   },
   "id": "19619f820f899410"
  },
  {
   "cell_type": "code",
   "execution_count": 22,
   "outputs": [
    {
     "name": "stdout",
     "output_type": "stream",
     "text": [
      "                            OLS Estimation Summary                            \n",
      "==============================================================================\n",
      "Dep. Variable:                  error   R-squared:                      0.0002\n",
      "Estimator:                        OLS   Adj. R-squared:                -0.0002\n",
      "No. Observations:               14949   F-statistic:                    9.8207\n",
      "Date:                Thu, Dec 07 2023   P-value (F-stat)                0.1324\n",
      "Time:                        08:53:10   Distribution:                  chi2(6)\n",
      "Cov. Estimator:             clustered                                         \n",
      "                                                                              \n",
      "                                Parameter Estimates                                \n",
      "===================================================================================\n",
      "                 Parameter  Std. Err.     T-stat    P-value    Lower CI    Upper CI\n",
      "-----------------------------------------------------------------------------------\n",
      "Intercept          -0.0425     0.0136    -3.1257     0.0018     -0.0692     -0.0159\n",
      "inverse_avg         0.0337     0.0256     1.3174     0.1877     -0.0164      0.0838\n",
      "wikibuzz            0.0018     0.0040     0.4541     0.6498     -0.0060      0.0096\n",
      "rankdist            0.0179     0.0287     0.6262     0.5312     -0.0382      0.0741\n",
      "C(year)[T.2021]    -0.0012     0.0018    -0.6605     0.5089     -0.0048      0.0024\n",
      "C(year)[T.2022]    -0.0016     0.0018    -0.9007     0.3677     -0.0052      0.0019\n",
      "C(year)[T.2023]    -0.0030     0.0017    -1.7553     0.0792     -0.0064      0.0004\n",
      "===================================================================================\n"
     ]
    }
   ],
   "source": [
    "from linearmodels import IV2SLS\n",
    "data2 = data[data['date'] > '2020-02-16'].copy()\n",
    "# Table 1 Fixed results\n",
    "# PM\n",
    "mod = IV2SLS.from_formula('error ~ inverse_avg + wikibuzz + rankdist + C(year)', data2) # Can include RankDist\n",
    "resid = mod.fit(cov_type='clustered', clusters=data2[['match_id']])\n",
    "print(resid)"
   ],
   "metadata": {
    "collapsed": false,
    "ExecuteTime": {
     "end_time": "2023-12-07T08:53:10.542675Z",
     "start_time": "2023-12-07T08:53:10.468244600Z"
    }
   },
   "id": "cd8474295d38f57a"
  },
  {
   "cell_type": "code",
   "execution_count": null,
   "outputs": [],
   "source": [],
   "metadata": {
    "collapsed": false
   },
   "id": "3f6d01fed9acebee"
  }
 ],
 "metadata": {
  "kernelspec": {
   "name": "envname",
   "language": "python",
   "display_name": "defaultALL"
  },
  "language_info": {
   "codemirror_mode": {
    "name": "ipython",
    "version": 2
   },
   "file_extension": ".py",
   "mimetype": "text/x-python",
   "name": "python",
   "nbconvert_exporter": "python",
   "pygments_lexer": "ipython2",
   "version": "2.7.6"
  }
 },
 "nbformat": 4,
 "nbformat_minor": 5
}
