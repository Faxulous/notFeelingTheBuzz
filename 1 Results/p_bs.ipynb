{
 "cells": [
  {
   "cell_type": "code",
   "source": [
    "import pandas as pd\n",
    "import os\n",
    "import sys\n",
    "current_dir = os.getcwd()\n",
    "parent_dir = os.path.abspath(os.path.join(current_dir, os.pardir))"
   ],
   "metadata": {
    "collapsed": false,
    "ExecuteTime": {
     "end_time": "2024-05-23T14:20:42.853916Z",
     "start_time": "2024-05-23T14:20:41.372609Z"
    }
   },
   "outputs": [],
   "execution_count": 1
  },
  {
   "cell_type": "code",
   "source": "dataset = pd.read_csv(os.path.join(parent_dir, '2 Data', 'ramirez_matches_cleaned.csv'))",
   "metadata": {
    "collapsed": false,
    "ExecuteTime": {
     "end_time": "2024-05-23T14:20:49.222376Z",
     "start_time": "2024-05-23T14:20:49.150527Z"
    }
   },
   "outputs": [],
   "execution_count": 2
  },
  {
   "cell_type": "code",
   "source": [
    "dataset['b365'] = 1/dataset['inverse_b365']"
   ],
   "metadata": {
    "collapsed": false,
    "ExecuteTime": {
     "end_time": "2024-05-23T14:20:49.984795Z",
     "start_time": "2024-05-23T14:20:49.979498Z"
    }
   },
   "outputs": [],
   "execution_count": 3
  },
  {
   "cell_type": "code",
   "metadata": {
    "collapsed": true,
    "ExecuteTime": {
     "end_time": "2024-05-23T14:39:55.000626Z",
     "start_time": "2024-05-23T14:20:50.897321Z"
    }
   },
   "source": [
    "def simulate_random_betting(dataset, nbets):\n",
    "    chosen_bets = dataset.sample(n=nbets)\n",
    "    bankroll = nbets\n",
    "    for _, bet in chosen_bets.iterrows():\n",
    "        if bet['outcome'] == 1:\n",
    "            # Win: Add profit (odds - 1)\n",
    "            bankroll += bet['b365'] - 1\n",
    "        else:\n",
    "            # Loss: Subtract the stake (1 unit)\n",
    "            bankroll -= 1\n",
    "    return bankroll / nbets\n",
    "\n",
    "def calculate_pbs(dataset, original_return, nbets, num_simulations=100000):\n",
    "    greater_or_equal_returns = sum(simulate_random_betting(dataset, nbets) >= original_return for _ in range(num_simulations))\n",
    "    return greater_or_equal_returns / num_simulations\n",
    "\n",
    "pbs = calculate_pbs(dataset, 1.0081, 87)\n",
    "print(f\"pbs for PM w/o RD: p ∈ (0, 0.4)U(0.6, 1)$: {pbs}\")\n",
    "pbs = calculate_pbs(dataset, 1.1244, 262)\n",
    "print(f\"pbs for PM w/o RD: p ∈ [0.4, 0.6]$: {pbs}\")"
   ],
   "outputs": [
    {
     "name": "stdout",
     "output_type": "stream",
     "text": [
      "pbs for PM w/o RD: p ∈ (0, 0.4)U(0.6, 1)$: 0.21766\n",
      "pbs for PM w/o RD: p ∈ [0.4, 0.6]$: 0.00199\n"
     ]
    }
   ],
   "execution_count": 4
  },
  {
   "metadata": {},
   "cell_type": "code",
   "outputs": [],
   "execution_count": null,
   "source": ""
  }
 ],
 "metadata": {
  "kernelspec": {
   "display_name": "Python 3",
   "language": "python",
   "name": "python3"
  },
  "language_info": {
   "codemirror_mode": {
    "name": "ipython",
    "version": 2
   },
   "file_extension": ".py",
   "mimetype": "text/x-python",
   "name": "python",
   "nbconvert_exporter": "python",
   "pygments_lexer": "ipython2",
   "version": "2.7.6"
  }
 },
 "nbformat": 4,
 "nbformat_minor": 0
}
