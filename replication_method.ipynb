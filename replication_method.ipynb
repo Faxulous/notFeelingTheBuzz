{
 "cells": [
  {
   "cell_type": "markdown",
   "source": [
    "# 2b. Replication Method"
   ],
   "metadata": {
    "collapsed": false
   }
  },
  {
   "cell_type": "code",
   "execution_count": 5,
   "outputs": [],
   "source": [
    "import pandas as pd\n",
    "import seaborn as sns\n",
    "import statsmodels.formula.api as sm\n",
    "import matplotlib.pyplot as plt\n",
    "import econtools.metrics as mt\n",
    "import numpy as np\n",
    "from econtools import read, outreg, table_statrow, write_notes\n",
    "import matplotlib.ticker as mtick\n",
    "import matplotlib.dates as mdates\n",
    "plt.style.use('seaborn-v0_8-deep')"
   ],
   "metadata": {
    "collapsed": false,
    "ExecuteTime": {
     "end_time": "2023-05-10T11:53:21.639644900Z",
     "start_time": "2023-05-10T11:53:21.548624200Z"
    }
   }
  },
  {
   "cell_type": "code",
   "execution_count": 6,
   "outputs": [
    {
     "name": "stdout",
     "output_type": "stream",
     "text": [
      "Fit set rows: 15854\n",
      "Test set rows: 5190\n"
     ]
    }
   ],
   "source": [
    "# Test and training sets\n",
    "original_df = pd.read_csv(r'https://raw.githubusercontent.com/Faxulous/notFeelingTheBuzz/main/DataFiles/ramirez_matches_cleaned.csv', index_col=0)\n",
    "fitset = original_df[~(original_df['date'] > '2019-01-00')].copy()\n",
    "testset = original_df[(original_df['date'] > '2019-01-00')].copy()\n",
    "\n",
    "testset.reset_index(inplace=True)\n",
    "print('Fit set rows: '+str(len(fitset)))\n",
    "print('Test set rows: '+str(len(testset)))"
   ],
   "metadata": {
    "collapsed": false,
    "ExecuteTime": {
     "end_time": "2023-05-10T11:53:22.087626600Z",
     "start_time": "2023-05-10T11:53:21.743696700Z"
    }
   }
  },
  {
   "cell_type": "code",
   "execution_count": 11,
   "outputs": [],
   "source": [
    "# All functions used for results\n",
    "\n",
    "# Select regression by setting rankdist and wikibuzz True or False.\n",
    "# For models PM, PM w/o RD (aka. WB), RD, MO.\n",
    "def fit_regression(rankdist: bool = True, wikibuzz: bool = True):\n",
    "    if wikibuzz and rankdist:\n",
    "        results = mt.reg(fitset,'outcome',                      \n",
    "        ['inverse_avg', 'rankdist', 'wikibuzz'],\n",
    "        #fe_name= \"year\",\n",
    "        cluster='match_id',addcons=True)\n",
    "        params = [results.beta[-1], results.beta[0], results.beta[1], results.beta[2]]\n",
    "        #params= [constant        , inverse_avg    , rankdist       , wikibuzz       ]\n",
    "    elif wikibuzz and not rankdist:\n",
    "        results = mt.reg(fitset,'outcome',\n",
    "        ['inverse_avg', 'wikibuzz'],\n",
    "        #fe_name= \"year\",\n",
    "        cluster='match_id',addcons=True)\n",
    "        params = [results.beta[-1], results.beta[0], results.beta[1]]\n",
    "        #params= [constant        , inverse_avg    , wikibuzz       ]\n",
    "    elif rankdist and not wikibuzz:\n",
    "        results = mt.reg(fitset,'outcome',\n",
    "        ['inverse_avg', 'rankdist'],\n",
    "        #fe_name= \"year\",\n",
    "        cluster='match_id',addcons=True)\n",
    "        params = [results.beta[-1], results.beta[0], results.beta[1]]\n",
    "        #params= [constant        , inverse_avg    , rankdist       ]\n",
    "    elif not rankdist and not wikibuzz:\n",
    "        results = mt.reg(fitset,'outcome',                      \n",
    "        ['inverse_avg'],\n",
    "        #fe_name= \"year\",\n",
    "        cluster='match_id',addcons=True)\n",
    "        params = [results.beta[-1], results.beta[0]]\n",
    "        #params= [constant        , inverse_avg    ]\n",
    "    print(results)\n",
    "    return params\n",
    "\n",
    "def simple_probability(params: pd.Series,\n",
    "                         inverse_odds: float):\n",
    "    y_hat = params[0] + params[1]*inverse_odds\n",
    "    return y_hat\n",
    "\n",
    "# Returns model's estimated probability.\n",
    "def estimate_probability(params: pd.Series,\n",
    "                         inverse_odds: float,\n",
    "                         rankdist: float = None,\n",
    "                         wikibuzz: float = None) -> float:\n",
    "    if (rankdist is not None) & (wikibuzz is not None):\n",
    "        y_hat = params[0] + params[-3]*inverse_odds + params[-2]*rankdist + params[-1]*wikibuzz\n",
    "    if (rankdist is not None) & (wikibuzz is None):\n",
    "        y_hat = params[0] + params[-2] * inverse_odds + params[-1] * rankdist\n",
    "    if (wikibuzz is not None) & (rankdist is None):\n",
    "        y_hat = params[0] + params[-2]*inverse_odds + params[-1]*wikibuzz\n",
    "    if (rankdist is None) and (wikibuzz is None):\n",
    "        y_hat = params[0] + params[1]*inverse_odds\n",
    "    return y_hat\n",
    "\n",
    "def kelly_criterion(odds_implied_prob, y_hat):\n",
    "    odds = 1/odds_implied_prob\n",
    "    k = max(y_hat - ((1 - y_hat)/(odds - 1)), 0)\n",
    "    return k\n",
    "\n",
    "# Calculates Profit/Loss.\n",
    "def profit_loss(kelly, odds_implied_prob, outcome):\n",
    "    odds = 1 / odds_implied_prob\n",
    "    if outcome == 1:\n",
    "        PnL = kelly*odds - kelly\n",
    "    if outcome == 0:\n",
    "        PnL = -kelly\n",
    "    return PnL\n",
    "\n",
    "# Estimates probability according to model selection, creates new columns, and prints results\n",
    "def show_results(testset, params, odds, rankdist: bool = True, wikibuzz: bool = True): # Odds = \"avg\", \"best\", \"b365\"\n",
    "\n",
    "    # Estimate Probability.\n",
    "    if rankdist and wikibuzz:\n",
    "        testset['model_est_prob'] = [estimate_probability(params, row[0], row[1], row[2]) for row in zip(testset['inverse_avg'],\n",
    "                                                                                                         testset['rankdist'],\n",
    "                                                                                                         testset['wikibuzz'])]\n",
    "    elif wikibuzz and not rankdist:\n",
    "        testset['model_est_prob'] = [estimate_probability(params, inverse_odds=row[0], wikibuzz=row[1]) for row in zip(testset['inverse_avg'],\n",
    "                                                                                                                       testset['wikibuzz'])]\n",
    "    elif rankdist and not wikibuzz:\n",
    "        testset['model_est_prob'] = [estimate_probability(params, inverse_odds=row[0], rankdist=row[1]) for row in zip(testset['inverse_avg'],\n",
    "                                                                                                                       testset['rankdist'])]\n",
    "    elif not rankdist and not wikibuzz:\n",
    "        testset['model_est_prob'] = [simple_probability(params, inverse_odds=x) for x in testset['inverse_avg']]          \n",
    "    # Determine kelly bet size.\n",
    "    testset['kelly_betsize'] = [kelly_criterion(row[0], row[1]) for row in zip(testset['inverse_{}'.format(odds)],\n",
    "                                                                               testset['model_est_prob'])]\n",
    "    # Calculate return for the bet.\n",
    "    testset['PnL'] = [profit_loss(row[0], row[1], row[2]) for row in zip(testset['kelly_betsize'],testset['inverse_{}'.format(odds)],\n",
    "                                                                         testset['outcome'])]\n",
    "\n",
    "    print('Bets considered (2 * Matches): '+str(len(testset[testset['inverse_{}'.format(odds)].notna()])))\n",
    "    print('Number of bets placed: '+str(len(testset.loc[(testset[\"PnL\"].notna()) & testset[\"PnL\"] != 0])))\n",
    "    print(\"Mean overround (%): \"+str((testset.sort_values(by=\"match_id\")[\"inverse_{}\".format(odds)].rolling(2).sum()[1::2].mean()-1)*100))\n",
    "    print('Absolute amount bet: '+str(testset['kelly_betsize'].sum()))\n",
    "    print('Absolute return: '+str(testset['PnL'].sum()))\n",
    "    print('ROI (%): '+str((((testset['PnL'].sum() + testset['kelly_betsize'].sum())/testset['kelly_betsize'].sum())-1)*100))\n",
    "\n",
    "# PnL plot\n",
    "def plot_results():\n",
    "    testset['Cum_PnL'] = testset['PnL'].cumsum() * 100\n",
    "    plt.rcParams.update({'font.size': 8}) # 16\n",
    "    fig, ax = plt.subplots(1, 1, figsize=(3, 3)) # 6, 6\n",
    "    testset.plot('date', 'Cum_PnL', ax=ax, linewidth=1.25) # 2.5\n",
    "    \n",
    "    ax.set_ylabel('Absolute Return (%)')\n",
    "    ax.set_xlabel('Date')\n",
    "    ax.get_legend().remove()\n",
    "    fig.autofmt_xdate()\n",
    "    \n",
    "    ax.set_ylim(-100, 200)\n",
    "    plt.axhline(y=0, color='grey').set_linewidth(2.5)\n",
    "    \n",
    "    plt.show()\n",
    "\n",
    "\n",
    "# Estimates probability according to model selection, creates new columns, and prints results - WITH CONVENTIONAL KELLY\n",
    "def correct_kelly_results(odds, rankdist: bool = True, wikibuzz: bool = True): # Odds = \"avg\", \"best\", \"b365\"\n",
    "    \n",
    "    params = fit_regression(rankdist=rankdist,wikibuzz=wikibuzz)\n",
    "    show_results(testset, params, odds, rankdist=rankdist, wikibuzz=wikibuzz)\n",
    "    \n",
    "    testset['bankroll_after'] = testset['PnL'] + 1\n",
    "    testset['bankroll_after'] = testset['bankroll_after'].cumprod()\n",
    "    testset['bankroll_before'] = testset.bankroll_after.shift(1)\n",
    "    testset['betsize_of_inital_bankroll'] = testset['kelly_betsize'] * testset['bankroll_before']\n",
    "    testset['pnl_of_initial_bankroll'] = testset['PnL'] * testset['bankroll_before']\n",
    "    print(\"---------------\")\n",
    "    print(\"*Correct Kelly*\")\n",
    "    print('Bets considered (2 * Matches): '+str(len(testset[testset['inverse_{}'.format(odds)].notna()])))\n",
    "    print('Number of bets placed: '+str(len(testset.loc[(testset[\"PnL\"].notna()) & testset[\"PnL\"] != 0])))\n",
    "    print(\"Mean overround (%): \"+str((testset.sort_values(by=\"match_id\")[\"inverse_{}\".format(odds)].rolling(2).sum()[1::2].mean()-1)*100))\n",
    "    print('Absolute amount bet: ' + str(testset['betsize_of_inital_bankroll'].sum()))\n",
    "    print('Absolute return: ' + str(testset['pnl_of_initial_bankroll'].sum()))\n",
    "    print('ROI (%): ' + str((((testset['pnl_of_initial_bankroll'].sum() + testset['betsize_of_inital_bankroll'].sum()) / testset[\n",
    "    'betsize_of_inital_bankroll'].sum()) - 1)*100))\n",
    "    \n",
    "# PnL plot - WITH CONVENTIONAL KELLY\n",
    "def correct_kelly_plot_results():\n",
    "    testset[\"Cum_PnL\"] = (testset[\"bankroll_after\"] -1) * 100\n",
    "    plt.rcParams.update({'font.size': 8}) # 16\n",
    "    fig, ax = plt.subplots(1, 1, figsize=(3, 3)) # 6, 6\n",
    "    testset.plot('date', 'Cum_PnL', ax=ax, linewidth=1.25) # 2.5\n",
    "    ax.set_ylabel('Absolute Return (%)')\n",
    "    ax.set_xlabel('Date')\n",
    "    ax.get_legend().remove()\n",
    "    fig.autofmt_xdate()\n",
    "    ax.set_ylim(-100, 200)\n",
    "    plt.axhline(y=0, color='grey').set_linewidth(2.5)\n",
    "    \n",
    "    plt.show()"
   ],
   "metadata": {
    "collapsed": false,
    "ExecuteTime": {
     "end_time": "2023-05-10T11:53:33.330014Z",
     "start_time": "2023-05-10T11:53:33.305425600Z"
    }
   }
  },
  {
   "cell_type": "markdown",
   "source": [
    "## Results"
   ],
   "metadata": {
    "collapsed": false
   }
  },
  {
   "cell_type": "code",
   "execution_count": 12,
   "outputs": [
    {
     "name": "stdout",
     "output_type": "stream",
     "text": [
      "=======================================================\n",
      "Dependent variable:\toutcome\n",
      "N:\t\t\t15854\n",
      "R-squared:\t\t0.1589\n",
      "Estimation method:\tOLS\n",
      "VCE method:\t\tCluster\n",
      "  Cluster variable:\t  match_id\n",
      "  No. of clusters:\t  7927\n",
      "=======================================================\n",
      "             coeff    se      t   p>t CI_low CI_high\n",
      "inverse_avg  1.025 0.028 36.945 0.000  0.971   1.080\n",
      "rankdist     0.055 0.031  1.787 0.074 -0.005   0.115\n",
      "wikibuzz     0.009 0.004  2.117 0.034  0.001   0.017\n",
      "_cons       -0.041 0.015 -2.831 0.005 -0.070  -0.013\n",
      "=======================================================\n",
      "\n",
      "Bets considered (2 * Matches): 5156\n",
      "Number of bets placed: 312\n",
      "Mean overround (%): 6.456499124919013\n",
      "Absolute amount bet: 7.151004389181408\n",
      "Absolute return: 1.2360930817839966\n",
      "ROI (%): 17.28558695410749\n"
     ]
    },
    {
     "data": {
      "text/plain": "<Figure size 300x300 with 1 Axes>",
      "image/png": "[encoded data removed]"
     },
     "metadata": {},
     "output_type": "display_data"
    }
   ],
   "source": [
    "# Table 1/2 PM results and Figure 1a plot\n",
    "params = fit_regression(rankdist=True)\n",
    "show_results(testset, params=params, odds=\"b365\", rankdist=True)\n",
    "plot_results()"
   ],
   "metadata": {
    "collapsed": false,
    "ExecuteTime": {
     "end_time": "2023-05-10T11:53:33.800103500Z",
     "start_time": "2023-05-10T11:53:33.551879900Z"
    }
   }
  },
  {
   "cell_type": "code",
   "execution_count": 13,
   "outputs": [
    {
     "name": "stdout",
     "output_type": "stream",
     "text": [
      "=======================================================\n",
      "Dependent variable:\toutcome\n",
      "N:\t\t\t15854\n",
      "R-squared:\t\t0.1586\n",
      "Estimation method:\tOLS\n",
      "VCE method:\t\tCluster\n",
      "  Cluster variable:\t  match_id\n",
      "  No. of clusters:\t  7927\n",
      "=======================================================\n",
      "             coeff    se      t   p>t CI_low CI_high\n",
      "inverse_avg  1.005 0.025 39.826 0.000  0.956   1.055\n",
      "wikibuzz     0.010 0.004  2.265 0.024  0.001   0.018\n",
      "_cons       -0.031 0.013 -2.323 0.020 -0.057  -0.005\n",
      "=======================================================\n",
      "\n",
      "Bets considered (2 * Matches): 5156\n",
      "Number of bets placed: 276\n",
      "Mean overround (%): 6.456499124919013\n",
      "Absolute amount bet: 4.987843280942048\n",
      "Absolute return: 1.4372911056216515\n",
      "ROI (%): 28.815883432291646\n"
     ]
    },
    {
     "data": {
      "text/plain": "<Figure size 300x300 with 1 Axes>",
      "image/png": "[encoded data removed]"
     },
     "metadata": {},
     "output_type": "display_data"
    }
   ],
   "source": [
    "# Table 1/2 PM w/o RD results and Figure 1b plot\n",
    "params = fit_regression(rankdist=False)\n",
    "show_results(testset, params=params, odds=\"b365\", rankdist=False)\n",
    "plot_results()"
   ],
   "metadata": {
    "collapsed": false,
    "ExecuteTime": {
     "end_time": "2023-05-10T11:53:34.005289700Z",
     "start_time": "2023-05-10T11:53:33.800103500Z"
    }
   }
  },
  {
   "cell_type": "code",
   "execution_count": 14,
   "outputs": [
    {
     "name": "stdout",
     "output_type": "stream",
     "text": [
      "=======================================================\n",
      "Dependent variable:\toutcome\n",
      "N:\t\t\t15854\n",
      "R-squared:\t\t0.1589\n",
      "Estimation method:\tOLS\n",
      "VCE method:\t\tCluster\n",
      "  Cluster variable:\t  match_id\n",
      "  No. of clusters:\t  7927\n",
      "=======================================================\n",
      "             coeff    se      t   p>t CI_low CI_high\n",
      "inverse_avg  1.025 0.028 36.945 0.000  0.971   1.080\n",
      "rankdist     0.055 0.031  1.787 0.074 -0.005   0.115\n",
      "wikibuzz     0.009 0.004  2.117 0.034  0.001   0.017\n",
      "_cons       -0.041 0.015 -2.831 0.005 -0.070  -0.013\n",
      "=======================================================\n",
      "\n",
      "Bets considered (2 * Matches): 5189\n",
      "Number of bets placed: 2350\n",
      "Mean overround (%): -0.22770090708685853\n",
      "Absolute amount bet: 76.62824688929206\n",
      "Absolute return: 2.3407165178908826\n",
      "ROI (%): 3.0546392654299037\n"
     ]
    },
    {
     "data": {
      "text/plain": "<Figure size 300x300 with 1 Axes>",
      "image/png": "[encoded data removed]"
     },
     "metadata": {},
     "output_type": "display_data"
    }
   ],
   "source": [
    "# Table 2 PM Best Odds results and Figure 2a plot\n",
    "params = fit_regression(rankdist=True)\n",
    "show_results(testset, params=params, odds=\"best\")\n",
    "plot_results()"
   ],
   "metadata": {
    "collapsed": false,
    "ExecuteTime": {
     "end_time": "2023-05-10T11:53:34.203469900Z",
     "start_time": "2023-05-10T11:53:34.004288500Z"
    }
   }
  },
  {
   "cell_type": "markdown",
   "source": [
    "## 4. Best odds compared to simple strategy.\n",
    "Below is the results from implementing no model at all and simply using the inverse average odds as the estimated probability and the best odds as the odds for returns."
   ],
   "metadata": {
    "collapsed": false
   }
  },
  {
   "cell_type": "code",
   "execution_count": 30,
   "outputs": [
    {
     "name": "stdout",
     "output_type": "stream",
     "text": [
      "=======================================================\n",
      "Dependent variable:\toutcome\n",
      "N:\t\t\t15854\n",
      "R-squared:\t\t0.1584\n",
      "Estimation method:\tOLS\n",
      "VCE method:\t\tCluster\n",
      "  Cluster variable:\t  match_id\n",
      "  No. of clusters:\t  7927\n",
      "=======================================================\n",
      "             coeff    se      t   p>t CI_low CI_high\n",
      "inverse_avg  1.002 0.025 39.310 0.000  0.952   1.052\n",
      "rankdist     0.061 0.030  2.003 0.045  0.001   0.121\n",
      "_cons       -0.029 0.013 -2.172 0.030 -0.056  -0.003\n",
      "=======================================================\n",
      "\n",
      "Bets considered (2 * Matches): 5189\n",
      "Number of bets placed: 2009\n",
      "Mean overround (%): -0.22770090708685853\n",
      "Absolute amount bet: 49.284454976892555\n",
      "Absolute return: 1.2533214039239167\n",
      "ROI (%): 2.5430359420867132\n",
      "---------------\n",
      "*Correct Kelly*\n",
      "Bets considered (2 * Matches): 5189\n",
      "Number of bets placed: 2009\n",
      "Mean overround (%): -0.22770090708685853\n",
      "Absolute amount bet: 40.273460742179054\n",
      "Absolute return: -0.4919672371851379\n",
      "ROI (%): -1.2215668286730819\n"
     ]
    }
   ],
   "source": [
    "correct_kelly_results(\"best\", rankdist=True, wikibuzz=False)"
   ],
   "metadata": {
    "collapsed": false
   }
  },
  {
   "cell_type": "code",
   "execution_count": null,
   "outputs": [],
   "source": [],
   "metadata": {
    "collapsed": false
   }
  }
 ],
 "metadata": {
  "kernelspec": {
   "display_name": "Python 3",
   "language": "python",
   "name": "python3"
  },
  "language_info": {
   "codemirror_mode": {
    "name": "ipython",
    "version": 2
   },
   "file_extension": ".py",
   "mimetype": "text/x-python",
   "name": "python",
   "nbconvert_exporter": "python",
   "pygments_lexer": "ipython2",
   "version": "2.7.6"
  }
 },
 "nbformat": 4,
 "nbformat_minor": 0
}
